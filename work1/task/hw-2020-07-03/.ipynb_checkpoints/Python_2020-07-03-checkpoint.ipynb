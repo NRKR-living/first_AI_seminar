{
 "cells": [
  {
   "cell_type": "markdown",
   "metadata": {
    "colab_type": "text",
    "id": "f4cs8FSSYKDT"
   },
   "source": [
    "## はじめに\n",
    "\n",
    "このノートブックはcolabではなくlocalのjupyter labかjupyter notebookで実行してください。\n",
    "\n",
    "今回の課題はPythonの復習が目的です。内容はPythonによる機械学習向けの計算の実装と、クラスによる見通しの良い設計ができることを目的にしています。"
   ]
  },
  {
   "cell_type": "markdown",
   "metadata": {
    "colab_type": "text",
    "id": "WMK5pyLoZnQF"
   },
   "source": [
    "## ① Pythonの基本型\n",
    "\n",
    "### 1. リスト型と辞書型\n",
    "問題の前にちょっと解説。\n",
    "\n",
    "* リスト型とは…　Pythonのオブジェクトを複数個まとめた型。要素としてはどんな型でも扱える。それぞれの要素が別々の型でもOK。リストの中にリストが入っていてもOK。np.arrayとは別物。\n",
    "* 辞書型とは…　リストがindexとvalueの組み合わせだとすると、indexがkeyに変わったもの。indexは0,1,2,3,...と整数のみだが、keyは文字列でもOK.一意に定まる値であれば何でもkeyにできる。\n",
    "\n",
    "問題1：  \n",
    "このファイルがおいてあるdir（ディレクトリ）にvocab.kos.txtというテキストファイルがある。\n",
    "（ちなみにこのファイルは自然言語処理という研究分野で利用されるデータセットの一部で、単語とその出現頻度が文書ごとにカウントされているだけのデータセットの単語をリストアップしたファイル）\n",
    "\n",
    "このファイルから単語を読み込み、単語ごとにstr型に分割してリストにまとめよう。また、そのリストはkos_vocab_listという変数に代入して、リストの先頭から10個までをsliceしてprintしてみよう。\n",
    "\n",
    "※「\\n」のような文字が単語の最後に入っている可能性がある。これは改行コードというもので、文字通り「改行」を表す文字コードである。これも一文字なので、もしも単語にこれがくっついていた場合はちゃんと削除するコードにすること。\n",
    "\n",
    "問題2:  \n",
    "問題1で作ったkos_vocab_listを元にして、keyがindex（vocab.kos.txtの行番号に対応）, valueが単語になっている辞書を作成してkos_id2wordという変数に代入せよ。\n",
    "\n",
    "問題3:  \n",
    "問題2で作ったkos_id2wordを元にして、今度は逆にkeyが単語、valueがindexになっている辞書kos_word2idを作成せよ。\n",
    "\n",
    "問題4:\n",
    "これまでの問題で作ったkos_id2word. kos_word2idをクラスで管理したい。インスタンス変数としてid2word, word2idをもったクラスVocabを作成せよ。このクラスは以下の仕様を満たすものとする。\n",
    "\n",
    "- コンストラクタ：id2wordを受け取ってword2idをメソッド内部で作成し、それぞれをself.id2word, self.word2id属性として持つ。\n",
    "- \\__len__メソッド: id2wordの要素数を返す。"
   ]
  },
  {
   "cell_type": "code",
   "execution_count": 1,
   "metadata": {
    "collapsed": true,
    "jupyter": {
     "outputs_hidden": true
    }
   },
   "outputs": [
    {
     "name": "stdout",
     "output_type": "stream",
     "text": [
      "['aarp', 'abandon', 'abandoned', 'abandoning', 'abb', 'abc', 'abcs', 'abdullah', 'ability', 'aboard', 'abortion', 'abortions', 'abraham', 'abrams', 'abroad', 'absence', 'absent', 'absentee', 'absolute', 'absolutely', 'abstain', 'absurd', 'abu', 'abuse', 'abuses', 'academy', 'accent', 'accept', 'acceptable', 'acceptance', 'accepted', 'accepting', 'access', 'accident', 'accidentally', 'accidents', 'accomplish', 'accomplished', 'accomplishment', 'account', 'accountability', 'accountable', 'accounting', 'accounts', 'accuracy', 'accurate', 'accurately', 'accusations', 'accused', 'accusing', 'achieve', 'achieved', 'achievements', 'acknowledge', 'acknowledged', 'aclu', 'act', 'actblue', 'acted', 'acting', 'action', 'actions', 'active', 'actively', 'activism', 'activist', 'activists', 'activities', 'activity', 'actor', 'acts', 'actual', 'adam', 'adams', 'add', 'added', 'adding', 'addition', 'additional', 'address', 'addressed', 'addresses', 'addressing', 'adds', 'adjust', 'adjusted', 'adjustments', 'admin', 'administration', 'administrations', 'administrative', 'administrator', 'admire', 'admission', 'admit', 'admits', 'admitted', 'admitting', 'ado', 'adopt', 'adopted', 'adopting', 'ads', 'adult', 'adults', 'advance', 'advanced', 'advantage', 'advantages', 'adventure', 'advertise', 'advertisement', 'advertisements', 'advertiser', 'advertisers', 'advertising', 'advice', 'advised', 'adviser', 'advisers', 'advisor', 'advisory', 'advocacy', 'advocate', 'advocates', 'affair', 'affairs', 'affect', 'affected', 'affiliate', 'affiliated', 'affiliates', 'affiliation', 'afford', 'afghan', 'afghanistan', 'aflcio', 'afraid', 'africa', 'african', 'africanamerican', 'afscme', 'aft', 'aftermath', 'afternoon', 'afterward', 'age', 'aged', 'agencies', 'agency', 'agenda', 'agent', 'agents', 'ages', 'aggressive', 'aggressively', 'agree', 'agreed', 'agreement', 'agreements', 'agrees', 'agriculture', 'ahead', 'ahmad', 'ahmed', 'ahnold', 'aid', 'aide', 'aided', 'aides', 'aim', 'aimed', 'aims', 'aint', 'air', 'airborne', 'aircraft', 'aired', 'airing', 'airplane', 'airport', 'airwaves', 'akin', 'aksen', 'alabama', 'alan', 'alarm', 'alas', 'alaska', 'albuquerque', 'alert', 'alerts', 'alex', 'alexander', 'alexanders', 'alhusainy', 'ali', 'alice', 'alienated', 'alive', 'allawi', 'allday', 'allegation', 'allegations', 'alleged', 'allegedly', 'allegiance', 'allegory', 'allen', 'alliance', 'alliances', 'allied', 'allies', 'allimportant', 'allowed', 'allowing', 'ally', 'alongside', 'alqaeda', 'alqaida', 'alsadr', 'alternative', 'alternatives', 'altogether', 'altsite', 'alzheimers', 'amazing', 'amazingly', 'amazon', 'ambassador', 'ambitions', 'ambitious', 'ambush', 'amdt', 'amendment', 'amendments', 'america', 'american', 'americanled', 'americans', 'americas', 'amid', 'amidst', 'ammo', 'ammunition', 'amount', 'amounts', 'amp', 'amphibians', 'ample', 'analogy', 'analyses', 'analysis', 'analyst', 'analysts', 'analyze', 'analyzed', 'anchor', 'ancient', 'andor', 'andrea', 'andrew', 'andy', 'anecdotal', 'anemic', 'anew', 'angeles', 'anger', 'angered', 'angry', 'angst', 'ann', 'annenberg', 'anniversary', 'announce', 'announced', 'announcement', 'announces', 'announcing', 'annoying', 'annual', 'anonymity', 'anonymous', 'answer', 'answered', 'answering', 'answers', 'anthony', 'antiabortion', 'antiamerican', 'antibush', 'anticipated', 'antidean', 'antigay', 'antikerry', 'antiwar', 'anxiety', 'anymore', 'anytime', 'apologies', 'apologists', 'apologize', 'apology', 'appalling', 'apparatus', 'apparent', 'apparently', 'appeal', 'appealed', 'appealing', 'appeals', 'appearance', 'appearances', 'appeared', 'appearing', 'appears', 'applause', 'apple', 'apples', 'application', 'applications', 'applied', 'applies', 'apply', 'appointed', 'appointment', 'appreciated', 'appreciation', 'approach', 'approached', 'approaches', 'approaching', 'appropriations', 'approval', 'approve', 'approved', 'approximately', 'apr', 'april', 'aps', 'apt', 'arab', 'arabia', 'arabic', 'arabs', 'arafat', 'architect', 'archives', 'archpundit', 'arctic', 'area', 'areas', 'arena', 'arent', 'arg', 'argue', 'argued', 'argues', 'arguing', 'argument', 'arguments', 'ari', 'aristide', 'arizona', 'arkansas', 'arlen', 'arlington', 'arm', 'armed', 'armitage', 'armor', 'armored', 'arms', 'armstrong', 'army', 'armys', 'arnold', 'arrest', 'arrested', 'arrests', 'arrive', 'arrived', 'arrives', 'arrogance', 'arrogant', 'art', 'article', 'articles', 'articulate', 'artillery', 'asap', 'ashamed', 'ashcroft', 'ashcrofts', 'asia', 'asian', 'asked', 'asks', 'aspect', 'aspects', 'aspirations', 'ass', 'assassination', 'assault', 'assembled', 'assembly', 'asserted', 'assertion', 'assertions', 'asses', 'assess', 'assessment', 'assessments', 'asset', 'assets', 'asshole', 'assholes', 'assigned', 'assignment', 'assist', 'assistance', 'assistant', 'associate', 'associates', 'association', 'assume', 'assumed', 'assumes', 'assuming', 'assumption', 'assumptions', 'assure', 'assured', 'atlanta', 'atlantic', 'atlarge', 'atomic', 'atrios', 'atrocities', 'attached', 'attack', 'attacked', 'attacking', 'attacks', 'attempt', 'attempted', 'attempting', 'attempts', 'attend', 'attendance', 'attended', 'attending', 'attention', 'attitude', 'attitudes', 'attorney', 'attorneys', 'attract', 'attractive', 'attributed', 'audience', 'audio', 'aug', 'august', 'austin', 'australia', 'australian', 'author', 'authorities', 'authority', 'authorization', 'authorize', 'authorized', 'authors', 'automated', 'auxiliary', 'average', 'avoid', 'avoided', 'avoiding', 'await', 'awaiting', 'award', 'awarded', 'awards', 'aware', 'awareness', 'awesome', 'awful', 'awol', 'axelrod', 'ayatollah', 'baathist', 'baby', 'backed', 'backers', 'background', 'backing', 'backs', 'bad', 'badly', 'baer', 'bag', 'baghdad', 'baghdads', 'bags', 'baker', 'balance', 'balanced', 'bald', 'ball', 'ballot', 'ballots', 'ban', 'band', 'bandwagon', 'bang', 'bank', 'banking', 'banks', 'banned', 'banner', 'banning', 'bar', 'barack', 'barbara', 'barbero', 'barbour', 'barely', 'barend', 'bargaining', 'barnes', 'barrage', 'barrel', 'barrels', 'barrier', 'barring', 'barry', 'bars', 'bartlett', 'base', 'baseball', 'based', 'baseline', 'bases', 'bashing', 'basic', 'basically', 'basis', 'basketball', 'basra', 'bastion', 'batch', 'battalion', 'battle', 'battlefield', 'battleground', 'battlegrounds', 'battles', 'bay', 'bayh', 'bbc', 'beach', 'beacon', 'bean', 'bear', 'bears', 'beasley', 'beat', 'beaten', 'beating', 'beats', 'beauprez', 'beautiful', 'beauty', 'bed', 'beef', 'beer', 'beers', 'began', 'begging', 'begin', 'beginning', 'begins', 'begun', 'behalf', 'behavior', 'beheading', 'beings', 'belief', 'beliefs', 'believed', 'believes', 'believing', 'bell', 'belongs', 'belt', 'beltway', 'ben', 'bench', 'beneath', 'beneficiary', 'benefit', 'benefits', 'bennett', 'benson', 'berg', 'berger', 'berkeley', 'bet', 'beth', 'betrayal', 'betrayed', 'betting', 'bias', 'bible', 'bid', 'biden', 'bigger', 'biggest', 'bill', 'billion', 'billions', 'billmon', 'bills', 'bin', 'bio', 'biological', 'bipartisan', 'bird', 'birth', 'birthday', 'bishops', 'bit', 'bitch', 'bite', 'bits', 'bitter', 'bizarre', 'black', 'blacks', 'blackwater', 'blackwell', 'blades', 'blair', 'blame', 'blamed', 'blames', 'blaming', 'blanco', 'blank', 'blast', 'blasted', 'blasting', 'blatant', 'bleak', 'bleeding', 'blessed', 'blew', 'blind', 'blitz', 'blitzer', 'bloc', 'block', 'blocked', 'blocks', 'blog', 'blogads', 'blogged', 'blogger', 'bloggers', 'blogging', 'blogosphere', 'blogpac', 'blogs', 'blood', 'bloody', 'bloomfield', 'blow', 'blowing', 'blown', 'blows', 'blue', 'bluff', 'blunder', 'blunt', 'board', 'boards', 'boat', 'boats', 'bob', 'bobby', 'bode', 'bodies', 'body', 'bogus', 'bold', 'bolster', 'bomb', 'bombing', 'bombings', 'bombs', 'bombshell', 'bona', 'bond', 'bonus', 'book', 'books', 'boost', 'boosted', 'booth', 'boots', 'bop', 'border', 'borders', 'boring', 'born', 'borrow', 'boss', 'boston', 'bother', 'bothered', 'bottom', 'bought', 'boulder', 'bounce', 'bound', 'boundaries', 'bounds', 'bowers', 'bowerss', 'bowl', 'bowles', 'box', 'boxblogroll', 'boxer', 'boxfeed_listing', 'boxrdf_feeds', 'boy', 'boycott', 'boys', 'brad', 'bradley', 'bradnickel', 'brahimi', 'brain', 'branch', 'branches', 'brand', 'braun', 'brave', 'brazil', 'break', 'breakdown', 'breakfast', 'breaking', 'breaks', 'breath', 'breathtaking', 'breaux', 'bremer', 'brian', 'bridge', 'bridges', 'briefed', 'briefing', 'briefly', 'brigade', 'brigades', 'bright', 'brilliant', 'bring', 'bringing', 'brings', 'brit', 'britain', 'british', 'brits', 'broad', 'broadcast', 'broadcasting', 'broader', 'brock', 'broder', 'brokaw', 'broke', 'broken', 'brokered', 'bronze', 'brooks', 'brother', 'brothers', 'brought', 'broward', 'brown', 'brownstein', 'browser', 'bruce', 'brush', 'brutal', 'btw', 'bubble', 'buchanan', 'buck', 'bucks', 'buddy', 'budget', 'budgets', 'bug', 'bugs', 'buh', 'build', 'building', 'buildings', 'built', 'bulb', 'bulk', 'bullet', 'bullets', 'bullshit', 'bully', 'bumblebums', 'bump', 'bumped', 'bumper', 'bumpersticker', 'bunch', 'bunning', 'bunnings', 'burden', 'bureau', 'bureaucratic', 'buried', 'burn', 'burned', 'burning', 'burns', 'burr', 'burt', 'bus', 'bush', 'bushcheney', 'bushes', 'bushies', 'bushkerry', 'bushrove', 'bushs', 'bushsux', 'business', 'businesses', 'businessman', 'bust', 'busy', 'button', 'buy', 'buying', 'buys', 'buzz', 'buzzing', 'bypass', 'cabinet', 'cable', 'caci', 'calculate', 'calculated', 'calculator', 'calendar', 'california', 'calistan', 'call', 'called', 'calling', 'calls', 'calm', 'camejo', 'camera', 'cameras', 'camp', 'campaign', 'campaigned', 'campaigner', 'campaigning', 'campaigns', 'campbell', 'camps', 'campus', 'canada', 'canadian', 'canadians', 'cancelled', 'cancer', 'candidacy', 'candidate', 'candidates', 'canton', 'cap', 'capabilities', 'capability', 'capable', 'capacity', 'capital', 'capitol', 'caps', 'captain', 'capture', 'captured', 'capturing', 'car', 'carbon', 'card', 'cards', 'care', 'career', 'careful', 'carefully', 'cares', 'cargo', 'carl', 'carlos', 'carlson', 'carol', 'carolina', 'carried', 'carrier', 'carries', 'carry', 'carrying', 'cars', 'carson', 'carsons', 'carter', 'carville', 'cases', 'cash', 'cast', 'castor', 'castro', 'casts', 'casualties', 'casualty', 'cat', 'catch', 'catching', 'categories', 'category', 'catholic', 'catholics', 'cato', 'cats', 'cattle', 'caucus', 'caucuses', 'caucusgoers', 'caught', 'caused', 'causing', 'caution', 'cautious', 'caveats', 'cbs', 'cegelis', 'ceiling', 'celebrate', 'celebration', 'celebrity', 'cell', 'cells', 'censure', 'census', 'cent', 'center', 'centers', 'central', 'centrist', 'cents', 'century', 'ceo', 'ceremony', 'cfr', 'chafee', 'chain', 'chair', 'chairman', 'chairs', 'chalabi', 'chalabis', 'challenge', 'challenged', 'challenger', 'challengers', 'challenges', 'challenging', 'chamber', 'chambers', 'chambliss', 'chance', 'chances', 'chandler', 'chandlers', 'change', 'changed', 'changing', 'channel', 'channels', 'chaos', 'chapter', 'character', 'characterized', 'charge', 'charged', 'charges', 'charging', 'charismatic', 'charitable', 'charities', 'charles', 'charlie', 'chart', 'charts', 'chat', 'chatter', 'chavez', 'cheap', 'check', 'checked', 'checking', 'checks', 'chedrcheez', 'cheer', 'chemical', 'cheney', 'cheneys', 'chest', 'chew', 'chicago', 'chicken', 'chickenhawk', 'chief', 'chiefs', 'child', 'childhood', 'children', 'childrens', 'chilling', 'china', 'chinese', 'chip', 'chit', 'cho', 'chocola', 'choice', 'choices', 'choose', 'chooses', 'choosing', 'chose', 'chosen', 'chris', 'christ', 'christian', 'christians', 'christine', 'christmas', 'christopher', 'chronicle', 'chuck', 'chunk', 'church', 'cia', 'cias', 'cincinnati', 'circle', 'circles', 'circuit', 'circulation', 'circumstances', 'citation', 'cited', 'cities', 'citing', 'citizen', 'citizens', 'citizenship', 'city', 'civic', 'civil', 'civilian', 'civilians', 'civilized', 'claim', 'claimed', 'claiming', 'claims', 'claire', 'clarify', 'clark', 'clarke', 'clarkes', 'clarks', 'clashes', 'class', 'classic', 'classified', 'clean', 'cleaned', 'clear', 'cleared', 'clearer', 'clearing', 'cleland', 'cleric', 'clerk', 'clerks', 'cleveland', 'clever', 'click', 'client', 'clients', 'climate', 'clinton', 'clintons', 'clip', 'clock', 'close', 'closed', 'closely', 'closer', 'closest', 'closing', 'clothes', 'cloud', 'clout', 'club', 'clue', 'cnn', 'cnns', 'cnnusa', 'coach', 'coal', 'coalition', 'coast', 'coasters', 'coattails', 'coburn', 'coburns', 'code', 'coffee', 'coffins', 'cognitive', 'cohen', 'coin', 'col', 'cold', 'cole', 'colin', 'collapse', 'collapsed', 'collar', 'collateral', 'colleague', 'colleagues', 'collect', 'collected', 'collecting', 'collection', 'collective', 'collectively', 'college', 'colleges', 'collins', 'colmes', 'color', 'colorado', 'colorados', 'columbia', 'columbus', 'column', 'columnist', 'columns', 'combat', 'combination', 'combined', 'comeback', 'comfort', 'comfortable', 'coming', 'command', 'commander', 'commanderinchief', 'commanders', 'commanding', 'commentary', 'commentator', 'commented', 'commenting', 'commerce', 'commercial', 'commercials', 'commission', 'commissioner', 'commissioners', 'commissions', 'commit', 'commitment', 'committed', 'committee', 'committees', 'common', 'commonwealth', 'communicate', 'communication', 'communications', 'communion', 'communities', 'community', 'companies', 'company', 'compare', 'compared', 'comparing', 'comparison', 'comparisons', 'compassionate', 'compelled', 'compelling', 'compete', 'competence', 'competent', 'competing', 'competition', 'competitive', 'compiled', 'complacent', 'complain', 'complained', 'complaining', 'complaint', 'complaints', 'complete', 'completed', 'completely', 'complex', 'complicated', 'component', 'composite', 'comprehensive', 'compromise', 'computer', 'computers', 'con', 'concede', 'conceded', 'concedes', 'concentrate', 'concentrated', 'concept', 'concern', 'concerned', 'concerns', 'concert', 'concerted', 'concessions', 'conclude', 'concluded', 'concluding', 'conclusion', 'conclusions', 'concord', 'concrete', 'condemned', 'condi', 'condis', 'condition', 'conditions', 'condoleezza', 'conduct', 'conducted', 'conducting', 'confederate', 'conference', 'conferences', 'confidence', 'confident', 'confidential', 'confirm', 'confirmation', 'confirmed', 'confirming', 'confirms', 'conflict', 'conflicted', 'conflicts', 'confused', 'confusion', 'congrats', 'congress', 'congressional', 'congressman', 'congresswoman', 'connect', 'connected', 'connecticut', 'connection', 'connections', 'conscience', 'consensus', 'consequence', 'consequences', 'conservation', 'conservatism', 'conservative', 'conservatives', 'considerable', 'considerably', 'consideration', 'considered', 'consistent', 'consistently', 'conspiracy', 'constant', 'constituencies', 'constituency', 'constituents', 'constitution', 'constitutional', 'construction', 'constructive', 'consultant', 'consultants', 'consulting', 'consumer', 'consumers', 'consumption', 'contact', 'contacted', 'contacts', 'contained', 'contempt', 'contenders', 'content', 'contention', 'contest', 'contested', 'contests', 'context', 'conti', 'contingent', 'continue', 'continued', 'continues', 'continuing', 'contract', 'contractor', 'contractors', 'contracts', 'contradicted', 'contradictory', 'contrary', 'contrast', 'contrasts', 'contribute', 'contributed', 'contributing', 'contribution', 'contributions', 'contributors', 'control', 'controlled', 'controlling', 'controls', 'controversial', 'controversy', 'convenient', 'convention', 'conventional', 'conventions', 'conversation', 'conversations', 'converted', 'convicted', 'conviction', 'convictions', 'convince', 'convinced', 'convincing', 'convoy', 'conway', 'cook', 'cool', 'cooler', 'cooper', 'cooperation', 'coordinated', 'coordination', 'coors', 'cop', 'copies', 'cops', 'copy', 'core', 'corner', 'corp', 'corporate', 'corporation', 'corporations', 'corps', 'correct', 'correctly', 'correlation', 'correspondent', 'corrupt', 'corruption', 'cosen', 'cost', 'costly', 'costs', 'couldnt', 'couldve', 'coulter', 'council', 'counsel', 'count', 'countdown', 'counted', 'counter', 'counterinsurgency', 'counterparts', 'counterterrorism', 'counties', 'counting', 'countless', 'countries', 'country', 'countrys', 'counts', 'county', 'countylevel', 'coup', 'couple', 'coupled', 'couples', 'courage', 'court', 'courtesy', 'courts', 'cover', 'coverage', 'covered', 'covering', 'covers', 'covert', 'coverup', 'cow', 'cowardly', 'cowboy', 'cpa', 'crack', 'craft', 'craig', 'crane', 'crap', 'crash', 'crashed', 'crass', 'crawford', 'crazy', 'create', 'created', 'creates', 'creating', 'creation', 'creative', 'credence', 'credentials', 'credibility', 'credible', 'credit', 'credited', 'crew', 'crime', 'crimes', 'criminal', 'criminals', 'crisis', 'criteria', 'critic', 'critical', 'criticism', 'criticisms', 'criticize', 'criticized', 'criticizing', 'critics', 'critique', 'crooks', 'cross', 'crossed', 'crossfire', 'crossing', 'crow', 'crowd', 'crowded', 'crowds', 'crucial', 'crusade', 'crush', 'crushing', 'cry', 'crying', 'cspan', 'cuba', 'cuban', 'cubanamerican', 'cubs', 'cultural', 'culture', 'curious', 'current', 'custody', 'cut', 'cuts', 'cutter', 'cutting', 'cycle', 'cycles', 'cynical', 'dad', 'dailykos', 'dakota', 'dakotas', 'dallas', 'damage', 'damaged', 'damaging', 'damn', 'damned', 'damning', 'dan', 'dana', 'dance', 'danger', 'dangerous', 'dangers', 'daniel', 'daniels', 'danielua', 'dare', 'dark', 'darn', 'daschle', 'daschles', 'dash', 'data', 'database', 'date', 'dated', 'dates', 'daughter', 'daughters', 'dave', 'davenport', 'david', 'davis', 'daytoday', 'dayton', 'dcalif', 'dccc', 'dconn', 'dday', 'ddel', 'dead', 'deadline', 'deadlines', 'deadly', 'deal', 'dealer', 'dealing', 'deals', 'dealt', 'dean', 'deanclark', 'deans', 'dear', 'dearborn', 'death', 'deaths', 'debate', 'debated', 'debates', 'debating', 'debt', 'debunking', 'dec', 'decade', 'decades', 'deceits', 'december', 'decent', 'decentralized', 'decide', 'decided', 'decidedly', 'decides', 'deciding', 'decision', 'decisions', 'decisive', 'deck', 'declaration', 'declare', 'declared', 'declaring', 'declassified', 'decline', 'declined', 'decorated', 'dedicated', 'deemed', 'deep', 'deeper', 'deeply', 'defeat', 'defeated', 'defeating', 'defection', 'defence', 'defend', 'defended', 'defending', 'defense', 'defensive', 'deficit', 'deficits', 'define', 'defined', 'defining', 'definition', 'definitive', 'degree', 'degrees', 'delaware', 'delay', 'delays', 'delegate', 'delegates', 'delegation', 'deleted', 'deliberate', 'deliberately', 'delicious', 'deliver', 'delivered', 'delivering', 'delong', 'dem', 'demand', 'demanded', 'demanding', 'demands', 'demint', 'demise', 'democracy', 'democrat', 'democratic', 'democraticleaning', 'democrats', 'demographic', 'demographics', 'demonstrate', 'demonstrated', 'demonstrates', 'demonstration', 'demonstrations', 'dems', 'denied', 'denies', 'dennis', 'denver', 'deny', 'denying', 'department', 'departments', 'departure', 'depend', 'dependent', 'depending', 'depends', 'deploy', 'deployed', 'deployment', 'depression', 'dept', 'deputy', 'des', 'describe', 'describes', 'describing', 'description', 'desert', 'deserve', 'deserved', 'deserves', 'design', 'designed', 'desire', 'desk', 'desperate', 'desperately', 'desperation', 'destined', 'destiny', 'destroy', 'destroyed', 'destroying', 'destruction', 'detail', 'detailed', 'detailing', 'details', 'detained', 'detainees', 'detention', 'deteriorating', 'determination', 'determine', 'determined', 'determining', 'detroit', 'devastating', 'develop', 'developed', 'developing', 'development', 'developments', 'device', 'devine', 'devos', 'devoted', 'dfa', 'dhinmi', 'diane', 'diarists', 'dick', 'dictator', 'die', 'diebold', 'died', 'diedrich', 'diedrichs', 'dies', 'differ', 'difference', 'differences', 'differently', 'difficult', 'difficulty', 'dig', 'digging', 'dignity', 'dilemma', 'dime', 'dingell', 'dinner', 'dionne', 'diplomacy', 'diplomatic', 'diplomats', 'dire', 'direct', 'directed', 'directing', 'direction', 'directly', 'director', 'directors', 'direwolf', 'dirt', 'dirty', 'disadvantage', 'disagree', 'disagreement', 'disappear', 'disappeared', 'disappointed', 'disappointing', 'disapprove', 'disaster', 'disastrous', 'discharge', 'discipline', 'disclaimer', 'disclose', 'disclosed', 'disclosure', 'discourse', 'discover', 'discovered', 'discovery', 'discredit', 'discredited', 'discrimination', 'discussed', 'discusses', 'discussing', 'discussion', 'discussions', 'disease', 'disenfranchise', 'disgraced', 'disgruntled', 'disgusting', 'dish', 'dishonest', 'dislike', 'dismiss', 'dismissed', 'dispatch', 'display', 'disproportionate', 'disproportionately', 'dispute', 'disputed', 'disputes', 'disqualify', 'disregard', 'dissent', 'dissonance', 'distance', 'distinct', 'distinction', 'distorted', 'distract', 'distracted', 'distribute', 'distributed', 'distribution', 'district', 'districts', 'disturbing', 'ditka', 'diverse', 'diversity', 'divide', 'divided', 'division', 'divisions', 'divisive', 'divorce', 'dkos', 'dkosopedia', 'dlc', 'dmass', 'dna', 'dnc', 'dncc', 'dncs', 'dny', 'doctor', 'doctors', 'doctrine', 'document', 'documentary', 'documentation', 'documented', 'documents', 'dod', 'dodd', 'dodge', 'dog', 'dogs', 'doj', 'dole', 'dollar', 'dollars', 'domestic', 'dominance', 'dominant', 'dominate', 'dominated', 'don', 'donald', 'donate', 'donated', 'donating', 'donation', 'donations', 'donna', 'donnelly', 'donor', 'donors', 'doom', 'doomed', 'door', 'doors', 'dose', 'double', 'doubledigit', 'doubt', 'doubtful', 'doubts', 'doug', 'dough', 'douglas', 'dowd', 'downer', 'downing', 'download', 'downright', 'downtown', 'downward', 'dozen', 'dozens', 'draft', 'drafted', 'drag', 'dragged', 'drake', 'drama', 'dramatic', 'dramatically', 'draw', 'drawing', 'drawn', 'dream', 'dreaming', 'dreams', 'dreier', 'dress', 'drew', 'drfranklives', 'drilling', 'drills', 'drink', 'drinking', 'drive', 'driven', 'driver', 'drives', 'driving', 'drop', 'dropped', 'dropping', 'drops', 'drove', 'drudge', 'drug', 'drugs', 'drum', 'drunk', 'dry', 'dryfly', 'dscc', 'dtrip', 'dubuque', 'dubya', 'dubyanocchio', 'dude', 'duderino', 'due', 'dug', 'dukakis', 'duke', 'dumb', 'dump', 'dumping', 'dupage', 'duration', 'durbin', 'dust', 'duties', 'duty', 'dying', 'dynamic', 'dynamics', 'eager', 'eagle', 'earle', 'earlier', 'earliest', 'early', 'earn', 'earned', 'earning', 'ears', 'earth', 'ease', 'easier', 'easily', 'easley', 'east', 'eastern', 'easy', 'eat', 'echo', 'echoed', 'economic', 'economics', 'economist', 'economists', 'economy', 'edge', 'edit', 'edited', 'editing', 'edition', 'editor', 'editorial', 'editors', 'edt', 'educated', 'education', 'edward', 'edwards', 'eerily', 'effect', 'effective', 'effectively', 'effectiveness', 'effects', 'efficient', 'effort', 'efforts', 'egon', 'eisenhower', 'elaborate', 'elect', 'electability', 'elected', 'electing', 'election', 'elections', 'electoral', 'electorate', 'electric', 'electricity', 'electronic', 'element', 'elements', 'eligible', 'eliminate', 'eliminated', 'eliminating', 'elite', 'elizabeth', 'elliott', 'email', 'emailed', 'emails', 'embarrassing', 'embarrassment', 'embassy', 'embattled', 'embrace', 'embraced', 'emerge', 'emerged', 'emergency', 'emerges', 'emerging', 'emilys', 'eminem', 'emissions', 'emotional', 'emotions', 'emphasis', 'emphasize', 'empire', 'empirical', 'employ', 'employed', 'employee', 'employees', 'employers', 'employment', 'empty', 'enable', 'enacted', 'encountered', 'encourage', 'encouraged', 'encouraging', 'end', 'endangered', 'ended', 'ending', 'endorse', 'endorsed', 'endorsement', 'endorsements', 'endorses', 'endorsing', 'ends', 'endspan', 'enemies', 'enemy', 'energized', 'energy', 'enforce', 'enforcement', 'engage', 'engaged', 'engagement', 'engaging', 'engineers', 'england', 'english', 'enjoy', 'enjoyed', 'enjoying', 'enjoys', 'enlarge', 'enlisted', 'enormous', 'enron', 'enrons', 'ensure', 'ensuring', 'enter', 'entered', 'entering', 'enterprise', 'enters', 'enthusiasm', 'enthusiastic', 'entire', 'entitled', 'entries', 'entry', 'environment', 'environmental', 'envoy', 'epa', 'epatriots', 'episode', 'equal', 'equality', 'equally', 'equation', 'equipment', 'equivalent', 'era', 'eric', 'erode', 'error', 'errors', 'erupted', 'escape', 'essence', 'essential', 'essentially', 'est', 'establish', 'established', 'establishing', 'establishment', 'estimate', 'estimated', 'estimates', 'ethic', 'ethical', 'ethically', 'ethics', 'ethnic', 'europe', 'european', 'europeans', 'evaluation', 'evaluations', 'evangelical', 'evangelicals', 'evans', 'eve', 'evening', 'evenly', 'event', 'events', 'eventual', 'eventually', 'everyday', 'everyones', 'evidence', 'evident', 'evil', 'evs', 'exact', 'exam', 'examine', 'examples', 'exceed', 'exceeded', 'excellent', 'exception', 'exceptions', 'excerpt', 'excerpts', 'exchange', 'excited', 'excitement', 'exciting', 'exclusive', 'exclusively', 'excuse', 'executed', 'execution', 'executive', 'executives', 'exemplary', 'exercise', 'exhibit', 'exist', 'existed', 'existence', 'existing', 'exists', 'exit', 'expand', 'expanded', 'expect', 'expectations', 'expected', 'expecting', 'expects', 'expenditures', 'expense', 'expenses', 'expensive', 'experience', 'experienced', 'experiences', 'experiment', 'expert', 'experts', 'expire', 'explain', 'explained', 'explaining', 'explains', 'explanation', 'explicitly', 'exploded', 'exploit', 'exploiting', 'exploration', 'explosion', 'explosions', 'explosive', 'explosives', 'expose', 'exposed', 'exposure', 'express', 'expressed', 'expression', 'extend', 'extended', 'extending', 'extension', 'extensive', 'extent', 'extra', 'extraordinary', 'extreme', 'extremely', 'extremist', 'extremists', 'exwife', 'eye', 'eyes', 'face', 'faced', 'faces', 'facilities', 'facility', 'facing', 'fact', 'faction', 'factions', 'factor', 'factors', 'facts', 'fade', 'faded', 'fading', 'fahrenheit', 'fail', 'failed', 'failing', 'fails', 'failure', 'failures', 'fair', 'fairly', 'fairness', 'faith', 'faithbased', 'faithful', 'fake', 'fall', 'fallen', 'falling', 'fallout', 'falls', 'falluja', 'fallujah', 'false', 'falsely', 'familiar', 'families', 'family', 'familys', 'famous', 'fan', 'fanatics', 'fancy', 'fans', 'fantasies', 'fantasy', 'faq', 'fare', 'farm', 'farmer', 'farmers', 'fascinating', 'fashion', 'fast', 'faster', 'fat', 'fatal', 'fatalities', 'fate', 'father', 'fatherinlaw', 'fathers', 'fault', 'favor', 'favorability', 'favorable', 'favorableunfavorable', 'favored', 'favoring', 'favorite', 'favors', 'fax', 'fbi', 'fear', 'feared', 'fears', 'feature', 'featured', 'features', 'featuring', 'feb', 'february', 'fec', 'fed', 'federal', 'federation', 'feed', 'feedback', 'feeding', 'feeds', 'feel', 'feeling', 'feelings', 'feels', 'feet', 'feingold', 'feith', 'fell', 'fellow', 'felon', 'felt', 'female', 'fence', 'fewer', 'fiction', 'fide', 'field', 'fielding', 'fields', 'fierce', 'fiercely', 'fight', 'fighter', 'fighters', 'fighting', 'fights', 'figure', 'figured', 'figures', 'file', 'filed', 'files', 'filibuster', 'filing', 'fill', 'filled', 'filling', 'film', 'filmmaker', 'films', 'filter', 'final', 'finally', 'finance', 'financial', 'financially', 'financing', 'find', 'finding', 'findings', 'finds', 'fine', 'fineman', 'finest', 'finger', 'fingerhut', 'fingers', 'finish', 'finished', 'finishing', 'fire', 'fired', 'firefighters', 'fires', 'firing', 'firm', 'firmly', 'firms', 'firsthand', 'fiscal', 'fishing', 'fit', 'fitting', 'fitzgerald', 'fitzpatrick', 'fix', 'fixed', 'fla', 'flag', 'flame', 'flash', 'flat', 'flavor', 'flaws', 'fled', 'fleet', 'fletcher', 'flexibility', 'flight', 'flip', 'flipflop', 'flipflopper', 'floating', 'flood', 'floor', 'flop', 'flopper', 'flops', 'florida', 'floridas', 'flow', 'flowing', 'flu', 'fluid', 'fly', 'flying', 'flypaper', 'fma', 'focus', 'focused', 'focuses', 'focusing', 'fodder', 'foe', 'foes', 'fold', 'folks', 'follow', 'followers', 'followup', 'folly', 'fond', 'food', 'fool', 'foolish', 'fools', 'foot', 'footage', 'football', 'forbid', 'force', 'forced', 'forces', 'forcing', 'ford', 'forecast', 'foreign', 'foreigners', 'forever', 'forget', 'forgot', 'forgotten', 'form', 'formal', 'formally', 'format', 'formation', 'formed', 'forms', 'formula', 'fort', 'forthcoming', 'fortunately', 'fortune', 'forty', 'forum', 'forward', 'foster', 'fought', 'foul', 'found', 'foundation', 'foundations', 'founded', 'founding', 'fournier', 'fourth', 'fox', 'frame', 'framing', 'france', 'francisco', 'frank', 'franken', 'franklin', 'frankly', 'franks', 'fraud', 'fray', 'freakin', 'fred', 'free', 'freedom', 'freedoms', 'freeper', 'freepers', 'freeway', 'french', 'frequent', 'frequently', 'fresh', 'freshman', 'friday', 'fridays', 'friedman', 'friend', 'friendly', 'friends', 'fringe', 'frist', 'frists', 'front', 'frontrunner', 'frost', 'frozen', 'frustrating', 'frustration', 'fubar', 'fuck', 'fucking', 'fuel', 'fueled', 'fulfill', 'fulfilled', 'full', 'fuller', 'fullfledged', 'fulltime', 'fully', 'fun', 'function', 'functioning', 'fund', 'fundamental', 'fundamentalist', 'fundamentally', 'fundamentals', 'funded', 'funding', 'fundraise', 'fundraiser', 'fundraisers', 'fundraising', 'funds', 'funeral', 'funny', 'furious', 'furiousxgeorge', 'future', 'futures', 'gadflyer', 'gaffe', 'gag', 'gain', 'gained', 'gaining', 'gains', 'gallery', 'gallup', 'gallups', 'gambit', 'gamble', 'game', 'games', 'gang', 'gap', 'garden', 'garner', 'garnered', 'garnering', 'garofalo', 'gary', 'gas', 'gasoline', 'gasp', 'gatana', 'gather', 'gathered', 'gathering', 'gauge', 'gave', 'gay', 'gays', 'gdp', 'gear', 'gehlen', 'gen', 'gene', 'general', 'generally', 'generals', 'generate', 'generated', 'generating', 'generation', 'generations', 'generic', 'generous', 'genetic', 'geneva', 'genuine', 'genuinely', 'george', 'georgia', 'gep', 'gephardt', 'gephardts', 'geps', 'gerlach', 'german', 'germany', 'getoutthevote', 'gharib', 'ghraib', 'giago', 'giant', 'gift', 'gig', 'gillespie', 'gilliard', 'gingrich', 'ginny', 'girl', 'girls', 'girly', 'giuliani', 'giving', 'glad', 'glance', 'glass', 'glenn', 'global', 'globe', 'glory', 'goal', 'goals', 'gobbell', 'god', 'gods', 'gold', 'golden', 'goldwater', 'golf', 'gonna', 'gonzales', 'goodness', 'goods', 'google', 'googlebomb', 'gooper', 'goopers', 'gop', 'gops', 'gordon', 'gore', 'gores', 'goss', 'gotcha', 'gotta', 'gotv', 'gov', 'govern', 'governance', 'governing', 'government', 'governmental', 'governments', 'governor', 'governors', 'governorship', 'grab', 'grabs', 'grade', 'gradually', 'graham', 'grain', 'grand', 'granholm', 'granite', 'grant', 'granted', 'grants', 'graph', 'graphic', 'grasp', 'grass', 'grassroots', 'grave', 'graves', 'gray', 'greater', 'greatest', 'greatly', 'green', 'greenhouse', 'greens', 'greenwood', 'greeted', 'greg', 'grenade', 'grew', 'grief', 'grim', 'gross', 'ground', 'grounds', 'group', 'groups', 'grover', 'grow', 'growing', 'grown', 'growth', 'guantanamo', 'guarantee', 'guaranteed', 'guard', 'guardian', 'guards', 'guardsmen', 'guatemala', 'gubenatorial', 'gubernatorial', 'guerilla', 'guerillas', 'guerrilla', 'guerrillas', 'guess', 'guessed', 'guessing', 'guest', 'guests', 'guide', 'guidelines', 'guild', 'guilty', 'gulf', 'gun', 'gunning', 'guns', 'gut', 'guv', 'guy', 'guys', 'gwb', 'habit', 'habits', 'hack', 'hacks', 'hadnt', 'hagel', 'hail', 'hailed', 'hair', 'half', 'halfway', 'hall', 'halliburton', 'halt', 'hamilton', 'hammer', 'hammered', 'hampshire', 'hand', 'handed', 'handful', 'handily', 'handing', 'handle', 'handled', 'handling', 'handover', 'handpicked', 'hands', 'handy', 'hang', 'hanging', 'hangs', 'hannah', 'hannity', 'happen', 'happened', 'happening', 'happily', 'happy', 'harbor', 'hard', 'hardball', 'hardcore', 'harder', 'hardest', 'hardworking', 'harkin', 'harm', 'harman', 'harold', 'harris', 'harry', 'harsh', 'hart', 'harts', 'harvard', 'hasnt', 'hastert', 'hat', 'hatch', 'hate', 'hated', 'hates', 'hatred', 'hats', 'haul', 'haven', 'havent', 'hawaii', 'hawk', 'head', 'headed', 'heading', 'headline', 'headlines', 'headquarters', 'heads', 'headtohead', 'health', 'healthcare', 'healthy', 'hear', 'heard', 'hearing', 'hearings', 'hears', 'heart', 'heartland', 'hearts', 'heat', 'heather', 'heaven', 'heavily', 'heavy', 'hecht', 'heck', 'hed', 'heels', 'height', 'held', 'helicopter', 'helicopters', 'hell', 'helped', 'helpful', 'helping', 'helps', 'henry', 'herald', 'heres', 'heritage', 'hero', 'heroes', 'heroism', 'herseth', 'herseths', 'hersh', 'hey', 'hidden', 'hide', 'hiding', 'high', 'higher', 'highest', 'highlevel', 'highlight', 'highlighted', 'highlights', 'highly', 'highprofile', 'hijack', 'hijackers', 'hill', 'hillary', 'hint', 'hints', 'hip', 'hire', 'hired', 'hiring', 'hispanic', 'hispanics', 'historic', 'historical', 'historically', 'history', 'hit', 'hitler', 'hits', 'hitting', 'hmm', 'hmmm', 'hoax', 'hoeffel', 'hoeffels', 'hold', 'holden', 'holding', 'holds', 'hole', 'holes', 'holiday', 'holidays', 'hollow', 'hollywood', 'holy', 'homeland', 'homepage', 'homes', 'hometown', 'honest', 'honestly', 'honesty', 'honor', 'honorable', 'honorably', 'honored', 'hoodies', 'hook', 'hoover', 'hope', 'hoped', 'hopeful', 'hopefuls', 'hopeless', 'hopes', 'hoping', 'horrible', 'horrific', 'horse', 'horserace', 'hospital', 'hospitals', 'host', 'hostage', 'hostages', 'hostile', 'hostility', 'hosting', 'hosts', 'hot', 'hotel', 'hotels', 'hotline', 'hotshotxi', 'hour', 'hours', 'house', 'household', 'households', 'houses', 'housing', 'houston', 'howard', 'hstewart', 'html', 'hubris', 'huge', 'hughes', 'huh', 'human', 'humanitarian', 'humans', 'humiliation', 'humphrey', 'humphreys', 'hundred', 'hundreds', 'hung', 'hungry', 'hunt', 'hunting', 'hurry', 'hurt', 'hurting', 'hurts', 'husband', 'husbands', 'hussein', 'husseins', 'hyde', 'hypocrisy', 'hypocrite', 'hypocrites', 'hypocritical', 'iaea', 'ibm', 'ice', 'idaho', 'idea', 'ideal', 'ideals', 'ideas', 'identification', 'identified', 'identify', 'identifying', 'identity', 'ideological', 'ideologically', 'ideologues', 'ideology', 'idetestthispres', 'idiot', 'idiots', 'idle', 'ignorance', 'ignorant', 'ignore', 'ignores', 'ignoring', 'iii', 'ill', 'illegal', 'illegally', 'illinois', 'illness', 'illusion', 'illusions', 'ilsen', 'image', 'images', 'imaginary', 'imagination', 'imagine', 'imam', 'immediately', 'immigrants', 'immigration', 'imminent', 'impact', 'impeachment', 'imperial', 'implement', 'implication', 'implications', 'implied', 'importance', 'important', 'importantly', 'impose', 'imposed', 'impossible', 'impressed', 'impression', 'impressive', 'improbable', 'improperly', 'improve', 'improved', 'improvement', 'improving', 'inability', 'inactive', 'inadequate', 'inappropriate', 'incentive', 'inching', 'incident', 'incidentally', 'incidents', 'inclined', 'include', 'included', 'includes', 'including', 'income', 'incomes', 'incoming', 'incompetence', 'incompetent', 'increase', 'increased', 'increases', 'increasing', 'increasingly', 'incredible', 'incredibly', 'incumbency', 'incumbent', 'incumbents', 'ind', 'independence', 'independent', 'independents', 'index', 'india', 'indian', 'indiana', 'indicating', 'indication', 'indications', 'indicted', 'indictment', 'indictments', 'individual', 'individuals', 'industrial', 'industries', 'industry', 'indymedia', 'ineffective', 'inevitable', 'inevitably', 'inez', 'infamous', 'infantry', 'inflation', 'influence', 'influential', 'info', 'inform', 'information', 'informed', 'infrastructure', 'initial', 'initially', 'initiative', 'initiatives', 'injured', 'injuries', 'injury', 'ink', 'innocent', 'innovation', 'innovative', 'inquirer', 'inquiry', 'insane', 'inside', 'insider', 'insiders', 'insight', 'insist', 'insisted', 'insistence', 'insisting', 'insists', 'inspection', 'inspector', 'inspectors', 'inspire', 'inspired', 'installed', 'instance', 'instances', 'instant', 'institute', 'institution', 'institutional', 'institutions', 'instructions', 'insult', 'insurance', 'insurgency', 'insurgent', 'insurgents', 'intangibles', 'integrity', 'intel', 'intellectual', 'intelligence', 'intelligent', 'intend', 'intended', 'intense', 'intensity', 'intent', 'intention', 'intentions', 'interactive', 'interest', 'interested', 'interesting', 'interestingly', 'interests', 'interim', 'interior', 'internal', 'internals', 'international', 'internet', 'internets', 'interpretation', 'interrogation', 'interview', 'interviewed', 'interviews', 'intimidate', 'intimidated', 'intimidation', 'introduce', 'introduced', 'introducing', 'invade', 'invaded', 'invasion', 'invented', 'invest', 'investigate', 'investigated', 'investigating', 'investigation', 'investigations', 'investigative', 'investigator', 'investigators', 'investment', 'investors', 'invisible', 'invitation', 'invite', 'invited', 'involve', 'involved', 'involvement', 'involves', 'involving', 'iowa', 'iowans', 'iowas', 'iran', 'iranian', 'irans', 'iraq', 'iraqi', 'iraqis', 'iraqs', 'iron', 'ironic', 'ironically', 'irony', 'irrelevant', 'irresponsible', 'islam', 'islamic', 'island', 'isnt', 'isolated', 'israel', 'israeli', 'issue', 'issued', 'issues', 'issuing', 'italian', 'italy', 'itd', 'item', 'items', 'itll', 'ivan', 'ive', 'iyad', 'jabber', 'jack', 'jackson', 'jail', 'james', 'jan', 'jane', 'janeane', 'janklow', 'janklows', 'january', 'japan', 'japanese', 'jay', 'jeb', 'jeff', 'jefferson', 'jenna', 'jennifer', 'jennings', 'jerome', 'jerry', 'jersey', 'jesse', 'jesus', 'jewish', 'jfk', 'jiacinto', 'jibber', 'jim', 'jimmy', 'jindal', 'job', 'jobless', 'jobs', 'jodi', 'joe', 'joel', 'john', 'johnny', 'johns', 'johnson', 'join', 'joined', 'joining', 'joins', 'joint', 'joke', 'jokes', 'jon', 'jones', 'jordan', 'jose', 'joseph', 'josh', 'journal', 'journalism', 'journalist', 'journalists', 'journals', 'journey', 'joy', 'juan', 'judge', 'judged', 'judges', 'judgment', 'judicial', 'judiciary', 'judith', 'judy', 'juicy', 'jul', 'july', 'jump', 'jumped', 'jumping', 'jun', 'june', 'junior', 'junkie', 'junkies', 'juppon', 'jury', 'justice', 'justices', 'justification', 'justified', 'justify', 'kansas', 'karen', 'karl', 'karma', 'katerina', 'katherine', 'kathleen', 'kay', 'kean', 'keeping', 'keever', 'ken', 'kennedy', 'kenneth', 'kenny', 'kentucky', 'kernan', 'kerr', 'kerrey', 'kerry', 'kerryedwards', 'kerrys', 'kevin', 'key', 'keyes', 'keynote', 'keys', 'keystone', 'kick', 'kicked', 'kicking', 'kid', 'kids', 'kill', 'killed', 'killer', 'killing', 'killings', 'kills', 'kim', 'kimmitt', 'kind', 'kinds', 'king', 'kingdom', 'kingelection', 'kitty', 'knew', 'knight', 'knock', 'knocked', 'knowing', 'knowledge', 'knowles', 'konop', 'korea', 'korean', 'kossacks', 'kroll', 'krugman', 'kucinich', 'kudos', 'kufa', 'kuhl', 'kurdish', 'kurds', 'kurtz', 'kuwait', 'kyoto', 'kysen', 'label', 'labor', 'labors', 'lack', 'lacked', 'lacking', 'laden', 'ladens', 'ladies', 'lady', 'lag', 'lai', 'laid', 'lake', 'lakes', 'lakoff', 'lame', 'lament', 'land', 'landed', 'landing', 'landmines', 'landrieu', 'lands', 'landscape', 'landslide', 'language', 'large', 'largely', 'larger', 'largest', 'larouche', 'larry', 'las', 'lastminute', 'late', 'latest', 'latif', 'latin', 'latino', 'latinos', 'laugh', 'laughed', 'laughing', 'laughter', 'launch', 'launched', 'laura', 'law', 'lawmakers', 'lawn', 'lawnorder', 'laws', 'lawsuit', 'lawsuits', 'lawyer', 'lawyers', 'lay', 'laying', 'layoffs', 'lays', 'lazy', 'leach', 'lead', 'leader', 'leaders', 'leadership', 'leading', 'leads', 'league', 'leak', 'leaked', 'leaking', 'leaks', 'lean', 'leaners', 'leaning', 'leans', 'learn', 'learned', 'learning', 'leave', 'leaves', 'leaving', 'lebanon', 'led', 'lee', 'left', 'legacy', 'legal', 'legally', 'legislation', 'legislative', 'legislator', 'legislators', 'legislature', 'legislatures', 'legitimacy', 'legitimate', 'legs', 'lehane', 'lend', 'length', 'lengthy', 'lesbian', 'lesbians', 'lesser', 'lesson', 'lessons', 'lets', 'letter', 'letters', 'letting', 'level', 'levels', 'levin', 'liability', 'liar', 'liars', 'libby', 'liberal', 'liberalism', 'liberalrakkasan', 'liberals', 'liberated', 'liberation', 'libertarian', 'libertarians', 'liberties', 'liberty', 'library', 'libya', 'license', 'licenses', 'lie', 'lieb', 'liebeck', 'lieberman', 'liebermans', 'lied', 'lies', 'lieutenant', 'life', 'lifetime', 'lift', 'light', 'lightbulb', 'likeability', 'likelihood', 'likes', 'likewise', 'limb', 'limbaugh', 'limit', 'limited', 'limits', 'lincoln', 'lindauer', 'lindsey', 'line', 'lined', 'lines', 'lineup', 'linked', 'linking', 'links', 'lisa', 'listed', 'listen', 'listened', 'listeners', 'listening', 'listings', 'lists', 'literally', 'literature', 'litigation', 'litmus', 'live', 'lived', 'lives', 'living', 'load', 'loaded', 'loan', 'loans', 'lobbying', 'lobbyist', 'lobbyists', 'local', 'locally', 'locals', 'located', 'location', 'locations', 'lock', 'locked', 'log', 'logic', 'logical', 'login', 'lois', 'lol', 'london', 'lone', 'long', 'longer', 'longshot', 'longstanding', 'longterm', 'longtime', 'looked', 'loophole', 'loose', 'looting', 'lord', 'los', 'lose', 'loser', 'losers', 'loses', 'losing', 'loss', 'losses', 'lost', 'lot', 'lots', 'lott', 'loud', 'louis', 'louisiana', 'louisville', 'love', 'loved', 'loves', 'loving', 'low', 'lower', 'lowering', 'lowest', 'loyal', 'loyalists', 'loyalty', 'luaptifer', 'luck', 'lucky', 'lud', 'ludicrous', 'lugar', 'luis', 'luntz', 'luxury', 'lvs', 'lying', 'lynch', 'lynne', 'lzmd', 'mac', 'machinations', 'machine', 'machines', 'mad', 'madison', 'madrid', 'magazine', 'magazines', 'magic', 'mahdi', 'mail', 'mailing', 'main', 'maine', 'mainstream', 'maintain', 'maintained', 'maintaining', 'maintains', 'maj', 'majette', 'major', 'majorities', 'majority', 'makes', 'making', 'male', 'mall', 'man', 'manage', 'managed', 'management', 'manager', 'managing', 'manchester', 'mandate', 'manhattan', 'manner', 'mans', 'mansion', 'manslaughter', 'manufacturers', 'manufacturing', 'map', 'maps', 'mar', 'marc', 'march', 'margaret', 'margin', 'marginal', 'margins', 'marilyn', 'marine', 'marines', 'marisacat', 'marist', 'mark', 'marked', 'markedly', 'market', 'marketing', 'markets', 'markos', 'marks', 'marriage', 'marriages', 'married', 'marry', 'mars', 'marshall', 'martin', 'martinez', 'mary', 'maryland', 'mask', 'masondixon', 'mass', 'massachusetts', 'massacre', 'massive', 'master', 'masters', 'match', 'matched', 'matches', 'matching', 'matchup', 'matchups', 'mate', 'material', 'materials', 'materiel', 'math', 'matheson', 'matrix', 'matsunaka', 'matt', 'matter', 'matters', 'matthew', 'matthews', 'max', 'maximum', 'maximumken', 'maya', 'mayor', 'mcauliffe', 'mccain', 'mccainfeingold', 'mccains', 'mccaskill', 'mcclellan', 'mcdonalds', 'mcentee', 'mcgovern', 'mcgreevey', 'mcmahon', 'meaning', 'meaningful', 'means', 'meant', 'meantime', 'measure', 'measured', 'measures', 'meat', 'medal', 'medals', 'media', 'medias', 'medical', 'medicare', 'medicine', 'medium', 'meet', 'meeting', 'meetings', 'meetup', 'mehlman', 'mel', 'melanie', 'melissa', 'meltdown', 'member', 'members', 'membership', 'meme', 'memo', 'memorandum', 'memorial', 'memories', 'memory', 'memos', 'men', 'mental', 'mention', 'mentioned', 'mentioning', 'mentions', 'menu', 'mercenaries', 'mercenary', 'mercs', 'mere', 'merit', 'merits', 'mess', 'message', 'messages', 'messy', 'met', 'metaphor', 'meteor', 'meter', 'method', 'methodology', 'methods', 'metro', 'mexico', 'meyerson', 'miami', 'mice', 'mich', 'michael', 'michigan', 'michigans', 'midday', 'middle', 'middleclass', 'midnight', 'midwest', 'mightve', 'mighty', 'mike', 'milbank', 'miles', 'milestone', 'militant', 'militants', 'military', 'militarys', 'militia', 'militiamen', 'militias', 'miller', 'millers', 'million', 'millionaire', 'millions', 'mind', 'minds', 'mine', 'minimal', 'minimize', 'minimum', 'minions', 'minister', 'ministers', 'ministries', 'ministry', 'minneapolis', 'minnesota', 'minor', 'minority', 'minus', 'minute', 'minutes', 'miracle', 'mirror', 'misconduct', 'miserable', 'misleading', 'misled', 'miss', 'missed', 'missile', 'missiles', 'missing', 'mission', 'missions', 'mississippi', 'missouri', 'missouris', 'mistake', 'mistaken', 'mistakes', 'misterajc', 'mitakides', 'mitch', 'mix', 'mixed', 'mode', 'model', 'models', 'moderate', 'moderates', 'modern', 'modest', 'moines', 'mojo', 'mom', 'moment', 'moments', 'momentum', 'mondale', 'monday', 'mondays', 'monetary', 'money', 'mongiardo', 'monitor', 'monitoring', 'monkeys', 'montana', 'montclair', 'month', 'monthly', 'mood', 'moon', 'moore', 'moores', 'moqtada', 'moral', 'morale', 'morning', 'morris', 'morrison', 'mortar', 'moseley', 'mosen', 'mosh', 'mosque', 'mosul', 'mother', 'mothers', 'motion', 'motivated', 'motivation', 'motivations', 'motives', 'mount', 'mountain', 'mounting', 'mouse', 'mouth', 'move', 'moved', 'movement', 'movements', 'moveon', 'moveonorg', 'moves', 'movie', 'movies', 'moving', 'mps', 'mrliberal', 'mrs', 'msnbc', 'mtp', 'mulling', 'multinational', 'multiple', 'muqtada', 'murder', 'murdoch', 'murkowski', 'murkowskis', 'murphy', 'murphys', 'murray', 'musgrave', 'music', 'muslim', 'muslims', 'muster', 'mustve', 'mustwin', 'mydd', 'myers', 'mystery', 'myth', 'naacp', 'nader', 'naders', 'nag', 'nagging', 'nagourney', 'nail', 'nails', 'najaf', 'naked', 'named', 'names', 'nancy', 'narrative', 'narrow', 'narrowed', 'narrower', 'narrowly', 'nasty', 'nathan', 'nation', 'national', 'nationally', 'nations', 'nationwide', 'native', 'nato', 'natural', 'naturally', 'nature', 'naval', 'navy', 'nazi', 'nazis', 'nbc', 'nbcs', 'nbcwsj', 'ndn', 'ndns', 'ndp', 'nearby', 'nebraska', 'necessarily', 'neck', 'needed', 'negative', 'negatives', 'negotiate', 'negotiating', 'negotiations', 'neighbor', 'neighborhood', 'neighborhoods', 'neighboring', 'neighbors', 'nelson', 'neocon', 'neocons', 'neoconservative', 'nepotism', 'nervous', 'net', 'nethercutt', 'netroots', 'network', 'networks', 'neutral', 'nevada', 'newberry', 'newberrys', 'newly', 'news', 'newsday', 'newspaper', 'newspapers', 'newsweek', 'newt', 'newwindow', 'nice', 'nicely', 'niche', 'nick', 'nickles', 'night', 'nighthorse', 'nightly', 'nightmare', 'nights', 'nixon', 'nixons', 'noble', 'nod', 'noise', 'nominate', 'nominated', 'nominating', 'nomination', 'nominee', 'nominees', 'nonetheless', 'nonexistent', 'nonpartisan', 'noon', 'nope', 'normal', 'norquist', 'north', 'northeast', 'northern', 'northup', 'northwest', 'notable', 'notably', 'note', 'noted', 'notes', 'notice', 'noticed', 'noting', 'notion', 'notorious', 'notwithstanding', 'nov', 'novak', 'november', 'npr', 'nprigo', 'nra', 'nrcc', 'nro', 'nrsc', 'nuclear', 'number', 'numbers', 'numerous', 'nussle', 'nuts', 'nyc', 'nyt', 'oath', 'obama', 'obamas', 'object', 'objective', 'objectively', 'objectives', 'obl', 'obligation', 'obligations', 'obscure', 'observation', 'observations', 'observed', 'observer', 'observers', 'obsession', 'obsolete', 'obtain', 'obtained', 'obvious', 'occasion', 'occasional', 'occasionally', 'occasions', 'occupation', 'occupied', 'occupiers', 'occupy', 'occupying', 'occur', 'occured', 'occurred', 'ocean', 'oceana', 'oconnor', 'oct', 'october', 'odd', 'odds', 'offended', 'offense', 'offensive', 'offer', 'offered', 'offering', 'offers', 'office', 'officer', 'officers', 'offices', 'official', 'officially', 'officials', 'offline', 'offset', 'oftentimes', 'ohio', 'ohios', 'ohpres', 'oil', 'oklahoma', 'oksen', 'olbermann', 'older', 'omb', 'oneill', 'onethird', 'onetime', 'ongoing', 'online', 'oops', 'oped', 'opened', 'openhttpwwwedwardsforprezcomdailykoshtml', 'opening', 'openly', 'opens', 'operate', 'operating', 'operation', 'operational', 'operations', 'operative', 'operatives', 'opinion', 'opinions', 'opponent', 'opponents', 'opportunities', 'opportunity', 'oppose', 'opposed', 'opposes', 'opposing', 'opposite', 'opposition', 'opted', 'optimism', 'optimist', 'optimistic', 'optimists', 'option', 'options', 'orange', 'orchestrated', 'order', 'ordered', 'orders', 'ordinary', 'oregon', 'oregonian', 'oreilly', 'organization', 'organizational', 'organizations', 'organize', 'organized', 'organizers', 'organizing', 'orientation', 'original', 'originally', 'orlando', 'orleans', 'orrin', 'osama', 'ouch', 'ourcongress', 'ourcongressorg', 'oust', 'outcome', 'outdated', 'outed', 'outfit', 'outfits', 'outgoing', 'outing', 'outlet', 'outlets', 'outlier', 'outnumbered', 'output', 'outrage', 'outraged', 'outrageous', 'outraised', 'outreach', 'outright', 'outsiders', 'outsourcing', 'outspent', 'outspoken', 'outstanding', 'oval', 'overcome', 'overhaul', 'overnight', 'overseas', 'oversight', 'overt', 'overtime', 'overturn', 'overview', 'overwhelming', 'overwhelmingly', 'owe', 'owens', 'owes', 'owned', 'owner', 'owners', 'ownership', 'owns', 'oxley', 'pac', 'pace', 'pacific', 'pack', 'package', 'packed', 'pacs', 'page', 'pages', 'paid', 'paige', 'pain', 'painful', 'paint', 'painted', 'pakistan', 'pakistani', 'palace', 'paleo', 'paleos', 'palestinian', 'palestinians', 'palm', 'pan', 'panel', 'panels', 'panic', 'paper', 'papers', 'paragraph', 'paragraphs', 'parecommend', 'parent', 'parentheses', 'parenthesis', 'parents', 'parish', 'parity', 'park', 'parliament', 'partial', 'participants', 'participate', 'participated', 'participating', 'participation', 'participatory', 'parties', 'partisan', 'partisans', 'partisanship', 'partly', 'partner', 'partners', 'partnership', 'parts', 'party', 'partys', 'pass', 'passage', 'passed', 'passes', 'passing', 'passion', 'passionate', 'password', 'past', 'pat', 'pataki', 'path', 'pathetic', 'patience', 'patient', 'patients', 'patrick', 'patriot', 'patriotism', 'patriots', 'patrol', 'patron', 'patsy', 'pattern', 'patterns', 'patty', 'paul', 'pause', 'pay', 'paying', 'payment', 'payments', 'payroll', 'pays', 'pdb', 'pdf', 'peace', 'peaceful', 'peak', 'peanut', 'pearl', 'pelosi', 'penalty', 'pending', 'penn', 'pennsylvania', 'pennsylvanias', 'penny', 'pentagon', 'pentagons', 'people', 'peoples', 'perceived', 'percent', 'percentage', 'percentages', 'perception', 'perceptions', 'perfect', 'perfectly', 'perform', 'performance', 'performances', 'performed', 'peril', 'period', 'perle', 'permanent', 'permanently', 'permission', 'permit', 'permitted', 'perpetrated', 'perry', 'persian', 'persistent', 'person', 'personal', 'personality', 'personally', 'personnel', 'persons', 'perspective', 'persuade', 'persuaded', 'persuasion', 'persuasive', 'pessimistic', 'pet', 'pete', 'peter', 'petition', 'petitions', 'petraeus', 'petroleum', 'pew', 'phase', 'phenomenon', 'phil', 'philadelphia', 'philip', 'philippines', 'philly', 'philosophical', 'phoenix', 'phone', 'phones', 'phony', 'photo', 'photograph', 'photographs', 'photos', 'phrase', 'physical', 'physically', 'physician', 'pick', 'picked', 'picket', 'picking', 'picks', 'pickup', 'pickups', 'pics', 'picture', 'pictures', 'piece', 'pieces', 'pile', 'pilot', 'pin', 'pinning', 'pissed', 'pitch', 'pittsburgh', 'place', 'placement', 'places', 'placing', 'plain', 'plame', 'plan', 'plane', 'planes', 'planet', 'planned', 'planners', 'planning', 'plans', 'plant', 'plants', 'plastic', 'plate', 'platform', 'plausible', 'play', 'playbook', 'played', 'player', 'players', 'playing', 'plays', 'plea', 'pleased', 'pleasure', 'pledge', 'pledged', 'plenty', 'plot', 'plug', 'pocket', 'pockets', 'podium', 'pointed', 'pointing', 'pol', 'poland', 'polarized', 'pole', 'police', 'policies', 'policy', 'polish', 'political', 'politically', 'politician', 'politicians', 'politics', 'poll', 'polled', 'polling', 'polls', 'pollster', 'pollsters', 'pollution', 'pool', 'poor', 'poorly', 'pop', 'pope', 'popular', 'popularity', 'population', 'populist', 'port', 'porter', 'portion', 'portland', 'portray', 'portrayed', 'ports', 'pose', 'posed', 'poses', 'position', 'positioned', 'positioning', 'positions', 'positive', 'possession', 'possibilities', 'possibility', 'possibly', 'postconvention', 'postdebate', 'posted', 'poster', 'posters', 'posting', 'postiowa', 'posts', 'postsaddam', 'postwar', 'pot', 'potent', 'potential', 'potentially', 'pound', 'poverty', 'powell', 'powells', 'power', 'powered', 'powerful', 'powers', 'practical', 'practically', 'practice', 'practices', 'practicing', 'pragmatic', 'praise', 'praised', 'praising', 'prayer', 'precedent', 'precinct', 'precincts', 'precious', 'precisely', 'predebate', 'predict', 'predicted', 'predicting', 'prediction', 'predictions', 'predictive', 'preelection', 'preemptive', 'prefer', 'preference', 'preferences', 'preferred', 'preliminary', 'premature', 'preparation', 'preparations', 'prepare', 'prepared', 'preparing', 'pres', 'prescription', 'presence', 'present', 'presentation', 'presented', 'presenting', 'presents', 'preserve', 'presided', 'presidency', 'president', 'presidential', 'presidents', 'press', 'pressed', 'presses', 'pressing', 'pressure', 'pressures', 'presumptive', 'pretend', 'pretending', 'pretty', 'prevail', 'prevent', 'prevented', 'preventing', 'preview', 'previous', 'previously', 'prewar', 'price', 'prices', 'pride', 'primaries', 'primarily', 'primary', 'primaryfree', 'prime', 'primetime', 'prince', 'principal', 'principle', 'principles', 'print', 'printed', 'prior', 'priorities', 'priority', 'prison', 'prisoner', 'prisoners', 'prisons', 'privacy', 'private', 'privately', 'prize', 'pro', 'probable', 'probe', 'problem', 'problems', 'probush', 'procedural', 'procedure', 'proceed', 'process', 'prochoice', 'produce', 'produced', 'producer', 'produces', 'producing', 'product', 'production', 'products', 'professional', 'professionals', 'professor', 'profile', 'profiles', 'profit', 'profits', 'program', 'programming', 'programs', 'progress', 'progressive', 'progressives', 'prohibited', 'project', 'projected', 'projection', 'projections', 'projects', 'prokerry', 'prolife', 'prominent', 'promise', 'promised', 'promises', 'promising', 'promote', 'promoted', 'promoting', 'promotion', 'prompted', 'prompting', 'proof', 'propaganda', 'proper', 'properly', 'property', 'proportions', 'proposal', 'proposals', 'propose', 'proposed', 'props', 'pros', 'prosecution', 'prosecutor', 'prosecutors', 'prospect', 'prospects', 'prostate', 'protect', 'protected', 'protecting', 'protection', 'protections', 'protest', 'protesters', 'protests', 'proud', 'proudly', 'prove', 'proved', 'proven', 'proves', 'provide', 'provided', 'providing', 'province', 'proving', 'provision', 'provisional', 'provisions', 'pst', 'public', 'publication', 'publications', 'publicity', 'publicly', 'publics', 'publish', 'published', 'publisher', 'publishing', 'pull', 'pulled', 'pulling', 'pulls', 'pummeled', 'pump', 'punch', 'pundit', 'pundits', 'punishment', 'punkmonk', 'puppet', 'pure', 'purely', 'purple', 'purpose', 'purposes', 'pursue', 'pursuing', 'pursuit', 'push', 'pushed', 'pushes', 'pushing', 'put', 'puts', 'putting', 'qadafi', 'qaeda', 'qaida', 'qaqaa', 'qpoll', 'quagmire', 'qualified', 'qualify', 'quality', 'quandry', 'quarter', 'quarters', 'queda', 'queen', 'quest', 'question', 'questionable', 'questioned', 'questioning', 'questions', 'quick', 'quickly', 'quiet', 'quietly', 'quinnipiac', 'quit', 'quote', 'quoted', 'quotes', 'quoting', 'race', 'races', 'racial', 'racicot', 'racine', 'racism', 'racist', 'rack', 'rad', 'radar', 'radical', 'radicals', 'radio', 'rage', 'rain', 'raise', 'raised', 'raises', 'raising', 'rallies', 'rally', 'ralph', 'ramadan', 'ramadi', 'ramp', 'rampant', 'ramsey', 'ran', 'ranch', 'random', 'randy', 'range', 'ranging', 'rank', 'ranked', 'ranking', 'rankings', 'ranks', 'rant', 'rants', 'rap', 'rape', 'rapid', 'rapidly', 'rapids', 'rare', 'rarely', 'rariz', 'rasmussen', 'rasmussens', 'rate', 'rates', 'rating', 'ratings', 'ratio', 'rational', 'rationale', 'rationales', 'rationing', 'raw', 'ray', 'rcalif', 'reach', 'reached', 'reaches', 'reaching', 'reaction', 'reactions', 'read', 'reader', 'readers', 'reading', 'reads', 'ready', 'reagan', 'reagans', 'real', 'realistic', 'realities', 'reality', 'realitybased', 'realization', 'realize', 'realized', 'reason', 'reasonable', 'reasons', 'rebel', 'rebellion', 'rebuild', 'rebuilding', 'recall', 'recap', 'receipts', 'receive', 'received', 'receives', 'receiving', 'recently', 'recession', 'reckless', 'recognition', 'recognize', 'recognized', 'recognizing', 'recommend', 'recommendation', 'recommendations', 'recommended', 'reconstruction', 'record', 'recorded', 'records', 'recount', 'recover', 'recovering', 'recovery', 'recruit', 'recruited', 'recruiting', 'recruits', 'red', 'redacted', 'redistricting', 'reduce', 'reduced', 'reducing', 'reed', 'reef', 'reelect', 'reelected', 'reelection', 'refer', 'reference', 'referendum', 'referred', 'referring', 'refers', 'reflect', 'reflected', 'reflecting', 'reflection', 'reflects', 'reform', 'reforms', 'refusal', 'refuse', 'refused', 'refuses', 'refusing', 'regain', 'regard', 'regarded', 'regime', 'regimes', 'region', 'regional', 'regions', 'register', 'registered', 'registering', 'registrants', 'registration', 'registrations', 'regula', 'regular', 'regularly', 'regulation', 'regulations', 'reid', 'reject', 'rejected', 'related', 'relations', 'relationship', 'relative', 'relatives', 'relax', 'release', 'released', 'releases', 'releasing', 'relentless', 'relevance', 'relevant', 'reliable', 'relied', 'relief', 'religion', 'religious', 'rell', 'reluctant', 'rely', 'relying', 'remain', 'remained', 'remaining', 'remains', 'remark', 'remarkable', 'remarkably', 'remarks', 'remember', 'remembered', 'remind', 'reminded', 'reminder', 'reminds', 'remorse', 'remove', 'removed', 'removing', 'rendell', 'renewed', 'reno', 'rep', 'repeat', 'repeated', 'repeatedly', 'repeating', 'repercussions', 'replace', 'replaced', 'replacement', 'replacing', 'replied', 'report', 'reported', 'reportedly', 'reporter', 'reporters', 'reporting', 'reports', 'represent', 'representation', 'representative', 'representatives', 'represented', 'representing', 'represents', 'reproductive', 'reps', 'repub', 'republic', 'republican', 'republicans', 'republicansforkerry', 'repubs', 'reputation', 'request', 'requested', 'requests', 'require', 'required', 'requirement', 'requirements', 'requires', 'requiring', 'rescue', 'research', 'researchers', 'reserve', 'reserved', 'reserves', 'reservists', 'resident', 'residents', 'resign', 'resignation', 'resigned', 'resigns', 'resist', 'resistance', 'resolution', 'resolve', 'resolved', 'resonate', 'resort', 'resource', 'resources', 'respect', 'respected', 'respective', 'respond', 'responded', 'respondents', 'responders', 'responding', 'responds', 'response', 'responses', 'responsibilities', 'responsibility', 'responsible', 'responsive', 'rest', 'restaurant', 'restore', 'restrict', 'restrictions', 'result', 'resulted', 'resulting', 'results', 'resume', 'retain', 'retake', 'retaking', 'retaliation', 'retention', 'retire', 'retired', 'retirement', 'retiring', 'retreat', 'return', 'returned', 'returning', 'returns', 'reuters', 'reveal', 'revealed', 'revealing', 'reveals', 'revelation', 'revelations', 'revenue', 'revenues', 'reverse', 'reversed', 'review', 'reviewing', 'reviews', 'revised', 'revolt', 'revolution', 'reward', 'rewards', 'reynolds', 'rhetoric', 'rhode', 'ribbons', 'rice', 'rices', 'rich', 'richard', 'richards', 'richardson', 'rick', 'rid', 'ridder', 'ride', 'ridge', 'ridiculous', 'ridiculously', 'riding', 'rifle', 'rightly', 'rights', 'rightwing', 'rimjob', 'rimjobs', 'ripped', 'rise', 'risen', 'rises', 'rising', 'risk', 'risks', 'rival', 'rivals', 'river', 'rkan', 'rnc', 'rncs', 'road', 'roads', 'roadside', 'rob', 'robert', 'roberts', 'robertson', 'robinson', 'robots', 'robust', 'rock', 'rockefeller', 'rocket', 'rocky', 'rod', 'rodgers', 'rodney', 'roger', 'rogers', 'rogue', 'role', 'roll', 'rolling', 'rolls', 'romero', 'romney', 'ron', 'ronald', 'ronk', 'ronnie', 'roof', 'room', 'rooms', 'roosevelt', 'roost', 'root', 'rooting', 'roots', 'rose', 'rosenberg', 'rotated', 'rotten', 'rough', 'roughly', 'round', 'rounds', 'roundup', 'route', 'routine', 'rove', 'roves', 'row', 'rowland', 'roy', 'royal', 'rtenn', 'rtexas', 'rubin', 'rude', 'rudy', 'rule', 'ruled', 'rules', 'ruling', 'rulings', 'rummy', 'rumor', 'rumors', 'rumsfeld', 'rumsfelds', 'running', 'runoff', 'runs', 'runup', 'rural', 'rush', 'russ', 'russell', 'russert', 'russia', 'russo', 'rusty', 'ruy', 'rva', 'ryan', 'ryans', 'sabato', 'sabotage', 'sacred', 'sacrifice', 'sacrifices', 'sad', 'saddam', 'saddams', 'sadr', 'sadrs', 'safe', 'safely', 'safer', 'safety', 'sahni', 'sailor', 'sake', 'salaries', 'salazar', 'sale', 'saleh', 'sales', 'salient', 'salon', 'salt', 'salvador', 'sam', 'samara', 'samarra', 'samesex', 'sample', 'samples', 'sampling', 'san', 'sanchez', 'sanctions', 'sand', 'sandy', 'sanity', 'santorum', 'sappy', 'satellite', 'satisfied', 'saturday', 'saudi', 'saudis', 'save', 'saved', 'saving', 'savings', 'sawyer', 'sbvt', 'scale', 'scalia', 'scan', 'scandal', 'scandals', 'scarborough', 'scare', 'scared', 'scary', 'scathing', 'scenario', 'scenarios', 'scene', 'scenes', 'schaffer', 'schaller', 'schedule', 'scheduled', 'scheme', 'schneider', 'school', 'schools', 'schrader', 'schrock', 'schumer', 'schwartz', 'schwarz', 'schwarzenegger', 'science', 'scientific', 'scientist', 'scientists', 'sclm', 'scoop', 'scooter', 'scope', 'score', 'scorecard', 'scored', 'scores', 'scoring', 'scott', 'scrambling', 'scratch', 'scream', 'screen', 'screening', 'screw', 'screwed', 'script', 'scroll', 'scrutiny', 'scsen', 'sdal', 'sea', 'seal', 'sealed', 'seamus', 'sean', 'search', 'searches', 'searching', 'season', 'seat', 'seats', 'seattle', 'secondplace', 'seconds', 'secrecy', 'secret', 'secretaries', 'secretary', 'secretly', 'secrets', 'section', 'sector', 'secular', 'secure', 'secured', 'securing', 'security', 'seek', 'seeking', 'seeks', 'seemann', 'seemanns', 'seemingly', 'sees', 'segment', 'seiu', 'seized', 'select', 'selected', 'selection', 'selective', 'sell', 'selling', 'sen', 'senate', 'senategovernors', 'senates', 'senator', 'senatorial', 'senators', 'send', 'sending', 'sends', 'senior', 'seniors', 'senor', 'sens', 'sense', 'sensitive', 'sentence', 'sentences', 'sentiment', 'sentiments', 'sep', 'separate', 'seperate', 'sept', 'september', 'series', 'serve', 'served', 'server', 'servers', 'serves', 'service', 'services', 'serving', 'session', 'sessions', 'set', 'sets', 'setting', 'settled', 'settlements', 'sex', 'sexual', 'seymour', 'shadow', 'shadowy', 'shake', 'shakes', 'shakeup', 'shame', 'shape', 'shaped', 'shaping', 'share', 'shared', 'shares', 'sharing', 'shark', 'sharks', 'sharon', 'sharp', 'sharply', 'sharpton', 'shattered', 'shaw', 'shays', 'shed', 'sheer', 'shelby', 'shell', 'shells', 'shes', 'shia', 'shift', 'shifted', 'shifting', 'shifts', 'shiite', 'shiites', 'ship', 'shit', 'shock', 'shocked', 'shocking', 'shockingly', 'shoes', 'shook', 'shoot', 'shooting', 'shop', 'shopping', 'shore', 'short', 'shortage', 'shorter', 'shortly', 'shortterm', 'shot', 'shots', 'shoulder', 'shouldnt', 'shouldve', 'shout', 'shouting', 'showdown', 'showed', 'showing', 'shown', 'shows', 'shrine', 'shrinking', 'shrum', 'shut', 'shy', 'sick', 'side', 'sides', 'sierra', 'sigh', 'sight', 'sign', 'signal', 'signals', 'signature', 'signatures', 'signed', 'significance', 'significant', 'significantly', 'signing', 'signs', 'silence', 'silent', 'silly', 'silver', 'similar', 'similarly', 'simmons', 'simon', 'simple', 'simply', 'simultaneously', 'sincerely', 'sinclair', 'single', 'sink', 'sir', 'sirota', 'sistani', 'sister', 'sisters', 'sit', 'sites', 'sits', 'sitting', 'situation', 'situations', 'size', 'skeptical', 'skepticism', 'skews', 'skilled', 'skills', 'skin', 'skip', 'skipped', 'sky', 'slack', 'slammed', 'slap', 'slate', 'sleep', 'slew', 'slide', 'slight', 'slightest', 'slightly', 'slim', 'slip', 'slipped', 'slipping', 'slogan', 'slogans', 'slot', 'slow', 'slowly', 'smackdown', 'small', 'smaller', 'smallest', 'smart', 'smarter', 'smear', 'smears', 'smile', 'smiling', 'smith', 'smitten', 'smoke', 'smoking', 'smooth', 'smoothly', 'snapshot', 'sneak', 'snip', 'snow', 'socalled', 'social', 'society', 'soft', 'software', 'soil', 'sold', 'soldier', 'soldiers', 'sole', 'solely', 'soliciting', 'solid', 'solidarity', 'solidify', 'solidly', 'solution', 'solutions', 'solve', 'son', 'song', 'sons', 'sooner', 'sophisticated', 'soros', 'sort', 'sorts', 'soto', 'sought', 'soul', 'sound', 'sounds', 'sour', 'source', 'sources', 'south', 'southeast', 'southern', 'southwest', 'sovereignty', 'soviet', 'sox', 'space', 'spain', 'spains', 'spanish', 'spanishlanguage', 'spare', 'speak', 'speaker', 'speakers', 'speaking', 'speaks', 'special', 'specialist', 'specializes', 'species', 'specific', 'specifically', 'specifics', 'spectacular', 'specter', 'specters', 'spectrum', 'speculate', 'speculation', 'speech', 'speeches', 'speechwriter', 'speed', 'spell', 'spend', 'spending', 'spends', 'spent', 'sphere', 'spill', 'spin', 'spindizzy', 'spine', 'spiral', 'spirit', 'splice', 'split', 'spoke', 'spoken', 'spokesman', 'spokesperson', 'spokeswoman', 'sponsor', 'sponsored', 'sporadic', 'sport', 'sports', 'spot', 'spotlight', 'spots', 'spread', 'spreading', 'spring', 'sproul', 'spun', 'spur', 'spurred', 'spy', 'squad', 'square', 'squeeze', 'stability', 'stable', 'staff', 'staffer', 'staffers', 'stage', 'staged', 'stages', 'stagflation', 'stake', 'stan', 'stance', 'stand', 'standard', 'standards', 'standing', 'stands', 'star', 'stark', 'stars', 'start', 'started', 'starting', 'startling', 'starts', 'startspan', 'state', 'statebystate', 'stated', 'statement', 'statements', 'states', 'statewide', 'static', 'stating', 'station', 'stationed', 'stations', 'statistical', 'statistically', 'statistics', 'stats', 'status', 'statute', 'stay', 'stayed', 'staying', 'stays', 'steady', 'steal', 'stealing', 'steam', 'steel', 'steinhardt', 'stella', 'stem', 'stemcell', 'stems', 'stenholm', 'step', 'stephanie', 'stephen', 'stepped', 'stepping', 'steps', 'stern', 'sterns', 'steve', 'steven', 'stevens', 'stevenson', 'stewart', 'stick', 'sticking', 'stir', 'stirling', 'stock', 'stockpiles', 'stocks', 'stolen', 'stoller', 'stomach', 'stomping', 'stone', 'stonewalling', 'stood', 'stop', 'stopped', 'stopping', 'stops', 'store', 'stories', 'stork', 'storks', 'storm', 'straight', 'strange', 'strategery', 'strategic', 'strategies', 'strategist', 'strategists', 'strategy', 'straw', 'stream', 'street', 'streets', 'strength', 'strengthen', 'strengthening', 'strengths', 'stretch', 'stretching', 'strict', 'strictly', 'strike', 'strikes', 'striking', 'string', 'strip', 'stripes', 'stripped', 'strong', 'stronger', 'strongest', 'stronghold', 'strongholds', 'strongly', 'struck', 'structure', 'struggle', 'struggling', 'stubborn', 'stuck', 'student', 'students', 'studies', 'studio', 'study', 'stuff', 'stump', 'stupid', 'style', 'subcommittee', 'subject', 'subjects', 'submit', 'submitted', 'subpoena', 'subpoenas', 'subscription', 'subscriptiononly', 'subsequent', 'subsequently', 'subsidies', 'substance', 'substantial', 'substantive', 'subtle', 'suburban', 'suburbs', 'subvert', 'succeed', 'succeeded', 'success', 'successes', 'successful', 'successfully', 'successor', 'suck', 'sucking', 'sucks', 'sudan', 'sudden', 'suddenly', 'sue', 'suffer', 'suffered', 'suffering', 'sufficient', 'suffolk', 'suggest', 'suggested', 'suggesting', 'suggestion', 'suggestions', 'suggests', 'suicide', 'suit', 'suits', 'sullivan', 'sum', 'summary', 'summer', 'summit', 'sums', 'sun', 'sunday', 'sundays', 'sunni', 'sunset', 'sunshine', 'sunzoo', 'super', 'superb', 'superdelegates', 'superior', 'superiors', 'supervisor', 'supervisors', 'supplemental', 'supplies', 'supply', 'support', 'supported', 'supporter', 'supporters', 'supporting', 'supports', 'suppose', 'supposed', 'supposedly', 'suppress', 'suppression', 'supreme', 'surely', 'surface', 'surfaced', 'surge', 'surgery', 'surges', 'surging', 'surplus', 'surprise', 'surprised', 'surprises', 'surprising', 'surprisingly', 'surrender', 'surrogates', 'surrounding', 'surveillance', 'survey', 'surveyed', 'surveys', 'surveyusa', 'survival', 'survive', 'survived', 'survives', 'susa', 'susan', 'susas', 'suskind', 'suspect', 'suspected', 'suspects', 'suspended', 'suspicion', 'suspicious', 'sustain', 'sustained', 'sway', 'sweat', 'sweating', 'sweep', 'sweeping', 'sweet', 'swept', 'swift', 'swing', 'switch', 'switched', 'sworn', 'sympathetic', 'sympathy', 'syria', 'system', 'systems', 'table', 'tables', 'tackle', 'tactic', 'tactics', 'tad', 'takes', 'taking', 'tale', 'talent', 'talented', 'taliban', 'talked', 'talking', 'talks', 'tall', 'tally', 'tampa', 'tancredo', 'tang', 'tank', 'tanks', 'tap', 'tape', 'tapes', 'tapped', 'target', 'targeted', 'targeting', 'targets', 'targetted', 'targetting', 'tariffs', 'task', 'tasks', 'taste', 'taught', 'tauzin', 'tax', 'taxes', 'taxpayer', 'taxpayers', 'taylor', 'teach', 'teacher', 'teachers', 'team', 'teams', 'teamsters', 'tear', 'technical', 'technique', 'techniques', 'technology', 'ted', 'teeth', 'telegraph', 'telephone', 'teleprompter', 'televised', 'television', 'telling', 'tells', 'temporarily', 'temporary', 'ten', 'tend', 'tenenbaum', 'tenet', 'tennessee', 'tens', 'tense', 'tensions', 'tenure', 'teresa', 'term', 'terms', 'terrible', 'territory', 'terror', 'terrorism', 'terrorist', 'terrorists', 'terry', 'test', 'testament', 'testified', 'testify', 'testimony', 'testing', 'tests', 'testy', 'texans', 'texas', 'text', 'thankfully', 'thatll', 'theater', 'theaters', 'theft', 'theme', 'themes', 'theoria', 'theories', 'theory', 'therell', 'theyd', 'theyll', 'theyre', 'theyve', 'thin', 'thinking', 'thinks', 'thirdparty', 'thirdplace', 'thomas', 'thompson', 'thought', 'thoughtful', 'thoughts', 'thousand', 'thousands', 'threat', 'threaten', 'threatened', 'threatening', 'threatens', 'threats', 'threeway', 'threshold', 'threw', 'thrilled', 'throw', 'throwing', 'thrown', 'thune', 'thunes', 'thurlow', 'thursday', 'thursdays', 'ticket', 'tickets', 'tide', 'tie', 'tied', 'tier', 'ties', 'tight', 'tighten', 'tightening', 'till', 'tim', 'time', 'timed', 'timely', 'times', 'timid', 'timing', 'timken', 'tiny', 'tip', 'tipp', 'tipping', 'tips', 'tired', 'titan', 'title', 'titled', 'tnr', 'toast', 'tobacco', 'todays', 'todd', 'token', 'toll', 'tom', 'tommy', 'tomorrow', 'tomorrows', 'ton', 'tone', 'tonight', 'tonights', 'tons', 'tony', 'tool', 'tools', 'toomey', 'toomeys', 'top', 'topic', 'topics', 'tops', 'toptier', 'torture', 'toss', 'tossed', 'tossup', 'tossups', 'total', 'totally', 'totals', 'touch', 'tough', 'tougher', 'toughest', 'tour', 'touting', 'town', 'towns', 'toxic', 'track', 'tracked', 'tracking', 'traction', 'trade', 'trades', 'tradesports', 'trading', 'tradition', 'traditional', 'traditionally', 'traditions', 'traffic', 'tragedy', 'tragic', 'trail', 'trailed', 'trailing', 'trails', 'train', 'trained', 'training', 'transcript', 'transfer', 'transferred', 'transfers', 'transform', 'transformation', 'transformed', 'transition', 'transportation', 'trap', 'trapper', 'travel', 'traveled', 'traveling', 'travels', 'travis', 'treason', 'treasurer', 'treasury', 'treat', 'treated', 'treaties', 'treatment', 'treaty', 'trees', 'tremendous', 'trend', 'trending', 'trends', 'trent', 'trial', 'tribal', 'tribune', 'trick', 'tricks', 'trigger', 'trillion', 'trip', 'triple', 'trippi', 'trippis', 'trix', 'trixs', 'troop', 'troops', 'trot', 'trouble', 'troubled', 'troubles', 'troubling', 'truck', 'trucks', 'true', 'truman', 'trump', 'trust', 'trusted', 'truth', 'tshirts', 'tubes', 'tucker', 'tuesday', 'tuesdays', 'tuition', 'tulsa', 'tune', 'tuned', 'tunesmith', 'turf', 'turkey', 'turmoil', 'turn', 'turnaround', 'turncoat', 'turned', 'turner', 'turning', 'turnout', 'turns', 'twenty', 'twin', 'twins', 'twist', 'twoparty', 'twothirds', 'tying', 'type', 'types', 'typical', 'typically', 'uaw', 'udall', 'ugly', 'ultimate', 'ultimately', 'unabated', 'unable', 'unacceptable', 'unaware', 'uncertain', 'uncertainty', 'unchanged', 'uncle', 'unclear', 'uncomfortable', 'uncommitted', 'unconstitutional', 'unconventional', 'uncovered', 'undecided', 'undecideds', 'undeclared', 'undercover', 'undercut', 'underdog', 'underestimate', 'undermine', 'undermined', 'undermining', 'understand', 'understandable', 'understanding', 'understands', 'understatement', 'understood', 'underway', 'undoubtedly', 'unecessary', 'unemployed', 'unemployment', 'unexpected', 'unexpectedly', 'unfair', 'unfavorable', 'unfit', 'unfortunate', 'unhappy', 'unified', 'uniform', 'unilateral', 'union', 'unions', 'unique', 'unit', 'united', 'units', 'unity', 'univ', 'universal', 'universe', 'university', 'unknown', 'unlike', 'unlimited', 'unnamed', 'unnecessary', 'unpopular', 'unprecedented', 'unrelated', 'unseat', 'unsuccessful', 'unsure', 'unusual', 'unusually', 'upbeat', 'upcoming', 'updated', 'updates', 'updating', 'upenn', 'uphill', 'uphold', 'upper', 'uprising', 'upset', 'upward', 'uranium', 'urban', 'urge', 'urged', 'urging', 'usa', 'usaid', 'useless', 'user', 'username', 'users', 'usled', 'uss', 'usual', 'utah', 'utility', 'utter', 'uttered', 'utterly', 'vaantirepublican', 'vacated', 'vacation', 'vaccine', 'vaccines', 'vague', 'valerie', 'valid', 'valuable', 'values', 'vance', 'vanity', 'var', 'variety', 'vast', 'vastly', 'vault', 'veep', 'veepstakes', 'vegas', 'vehicle', 'vehicles', 'venture', 'venue', 'verge', 'verification', 'verified', 'verify', 'vermont', 'version', 'versions', 'versus', 'vet', 'veteran', 'veterans', 'veto', 'vets', 'vetting', 'viability', 'viable', 'vibes', 'vice', 'vicious', 'victim', 'victims', 'victories', 'victory', 'video', 'videotape', 'vietnam', 'view', 'viewed', 'viewers', 'viewing', 'views', 'vilsack', 'violate', 'violated', 'violating', 'violation', 'violations', 'violence', 'violent', 'virginia', 'virginiadem', 'virtual', 'virtually', 'virtue', 'vis', 'visibility', 'visible', 'vision', 'visit', 'visited', 'visiting', 'visitors', 'visits', 'vital', 'vitter', 'voice', 'voices', 'voinovich', 'volatile', 'volleyball', 'volunteer', 'volunteered', 'volunteers', 'vote', 'voted', 'voter', 'voters', 'votes', 'voting', 'vowed', 'vulnerable', 'vying', 'wage', 'waged', 'wages', 'waging', 'wait', 'waited', 'waiting', 'wake', 'walk', 'walked', 'walker', 'walking', 'walks', 'wall', 'wallace', 'walls', 'walmart', 'walter', 'wanted', 'wanting', 'wapo', 'war', 'ward', 'warfare', 'warm', 'warming', 'warn', 'warned', 'warner', 'warning', 'warnings', 'warns', 'warren', 'wars', 'wartime', 'wary', 'wash', 'washington', 'washingtons', 'wasnt', 'waste', 'wasted', 'wasting', 'watch', 'watchdog', 'watched', 'watchers', 'watching', 'water', 'wave', 'waving', 'wayne', 'ways', 'wclathe', 'weak', 'weaken', 'weakened', 'weaker', 'weakest', 'weakness', 'weaknesses', 'wealth', 'wealthy', 'weapon', 'weapons', 'wear', 'wearing', 'weather', 'web', 'weber', 'website', 'websites', 'wedge', 'wednesday', 'weekend', 'weekends', 'weekly', 'weeks', 'weigh', 'weighing', 'weighs', 'weight', 'weird', 'weirdness', 'welfare', 'wellknown', 'werent', 'wes', 'wesley', 'west', 'western', 'wetterling', 'weve', 'whats', 'whatsoever', 'wheels', 'wheres', 'whine', 'whining', 'white', 'whites', 'whos', 'whove', 'wide', 'widely', 'widening', 'wider', 'widespread', 'wife', 'wiki', 'wild', 'wildlife', 'wildly', 'william', 'williams', 'willingness', 'wilson', 'win', 'wind', 'window', 'windows', 'winds', 'wing', 'wingers', 'wingnut', 'wingnuts', 'wink', 'winnable', 'winner', 'winners', 'winning', 'wins', 'wire', 'wired', 'wisconsin', 'wisdom', 'wise', 'wishes', 'withdraw', 'withdrawal', 'withdrawing', 'withdrew', 'withheld', 'witness', 'witnessed', 'witnesses', 'wives', 'wmd', 'wmds', 'woes', 'wolf', 'wolfowitz', 'woman', 'womans', 'women', 'womens', 'won', 'wonderful', 'wondering', 'wonders', 'wont', 'wood', 'woodward', 'word', 'wording', 'wore', 'worked', 'worker', 'workers', 'working', 'works', 'worlds', 'worldwide', 'worried', 'worries', 'worry', 'worse', 'worship', 'worst', 'worth', 'worthless', 'worthy', 'wot', 'wouldnt', 'wouldve', 'wound', 'wounded', 'wounding', 'wounds', 'wow', 'wrap', 'wrapped', 'wreck', 'write', 'writer', 'writers', 'writes', 'writing', 'written', 'wrong', 'wrongdoing', 'wrote', 'wsj', 'wtc', 'wyoming', 'yadda', 'yahoo', 'yale', 'yankees', 'yanks', 'yard', 'yeah', 'year', 'years', 'yell', 'yellin', 'yesterday', 'yesterdays', 'yield', 'york', 'yorker', 'yorkers', 'youd', 'youll', 'young', 'younger', 'youre', 'youth', 'youve', 'yucca', 'yup', 'zahn', 'zarqawi', 'zell', 'zimbabwe', 'zogby', 'zogbys', 'zone', 'zones']\n"
     ]
    }
   ],
   "source": [
    "#1\n",
    "a=open(\"vocab.kos.txt\")\n",
    "kos_vocab_list=[]\n",
    "kos_vocab_list=[s.strip() for s in a.readlines()]\n",
    "a.close()\n",
    "print(kos_vocab_list)"
   ]
  },
  {
   "cell_type": "raw",
   "metadata": {},
   "source": [
    "10分"
   ]
  },
  {
   "cell_type": "code",
   "execution_count": 2,
   "metadata": {
    "collapsed": true,
    "jupyter": {
     "outputs_hidden": true
    }
   },
   "outputs": [
    {
     "name": "stdout",
     "output_type": "stream",
     "text": [
      "{0: 'aarp', 1: 'abandon', 2: 'abandoned', 3: 'abandoning', 4: 'abb', 5: 'abc', 6: 'abcs', 7: 'abdullah', 8: 'ability', 9: 'aboard', 10: 'abortion', 11: 'abortions', 12: 'abraham', 13: 'abrams', 14: 'abroad', 15: 'absence', 16: 'absent', 17: 'absentee', 18: 'absolute', 19: 'absolutely', 20: 'abstain', 21: 'absurd', 22: 'abu', 23: 'abuse', 24: 'abuses', 25: 'academy', 26: 'accent', 27: 'accept', 28: 'acceptable', 29: 'acceptance', 30: 'accepted', 31: 'accepting', 32: 'access', 33: 'accident', 34: 'accidentally', 35: 'accidents', 36: 'accomplish', 37: 'accomplished', 38: 'accomplishment', 39: 'account', 40: 'accountability', 41: 'accountable', 42: 'accounting', 43: 'accounts', 44: 'accuracy', 45: 'accurate', 46: 'accurately', 47: 'accusations', 48: 'accused', 49: 'accusing', 50: 'achieve', 51: 'achieved', 52: 'achievements', 53: 'acknowledge', 54: 'acknowledged', 55: 'aclu', 56: 'act', 57: 'actblue', 58: 'acted', 59: 'acting', 60: 'action', 61: 'actions', 62: 'active', 63: 'actively', 64: 'activism', 65: 'activist', 66: 'activists', 67: 'activities', 68: 'activity', 69: 'actor', 70: 'acts', 71: 'actual', 72: 'adam', 73: 'adams', 74: 'add', 75: 'added', 76: 'adding', 77: 'addition', 78: 'additional', 79: 'address', 80: 'addressed', 81: 'addresses', 82: 'addressing', 83: 'adds', 84: 'adjust', 85: 'adjusted', 86: 'adjustments', 87: 'admin', 88: 'administration', 89: 'administrations', 90: 'administrative', 91: 'administrator', 92: 'admire', 93: 'admission', 94: 'admit', 95: 'admits', 96: 'admitted', 97: 'admitting', 98: 'ado', 99: 'adopt', 100: 'adopted', 101: 'adopting', 102: 'ads', 103: 'adult', 104: 'adults', 105: 'advance', 106: 'advanced', 107: 'advantage', 108: 'advantages', 109: 'adventure', 110: 'advertise', 111: 'advertisement', 112: 'advertisements', 113: 'advertiser', 114: 'advertisers', 115: 'advertising', 116: 'advice', 117: 'advised', 118: 'adviser', 119: 'advisers', 120: 'advisor', 121: 'advisory', 122: 'advocacy', 123: 'advocate', 124: 'advocates', 125: 'affair', 126: 'affairs', 127: 'affect', 128: 'affected', 129: 'affiliate', 130: 'affiliated', 131: 'affiliates', 132: 'affiliation', 133: 'afford', 134: 'afghan', 135: 'afghanistan', 136: 'aflcio', 137: 'afraid', 138: 'africa', 139: 'african', 140: 'africanamerican', 141: 'afscme', 142: 'aft', 143: 'aftermath', 144: 'afternoon', 145: 'afterward', 146: 'age', 147: 'aged', 148: 'agencies', 149: 'agency', 150: 'agenda', 151: 'agent', 152: 'agents', 153: 'ages', 154: 'aggressive', 155: 'aggressively', 156: 'agree', 157: 'agreed', 158: 'agreement', 159: 'agreements', 160: 'agrees', 161: 'agriculture', 162: 'ahead', 163: 'ahmad', 164: 'ahmed', 165: 'ahnold', 166: 'aid', 167: 'aide', 168: 'aided', 169: 'aides', 170: 'aim', 171: 'aimed', 172: 'aims', 173: 'aint', 174: 'air', 175: 'airborne', 176: 'aircraft', 177: 'aired', 178: 'airing', 179: 'airplane', 180: 'airport', 181: 'airwaves', 182: 'akin', 183: 'aksen', 184: 'alabama', 185: 'alan', 186: 'alarm', 187: 'alas', 188: 'alaska', 189: 'albuquerque', 190: 'alert', 191: 'alerts', 192: 'alex', 193: 'alexander', 194: 'alexanders', 195: 'alhusainy', 196: 'ali', 197: 'alice', 198: 'alienated', 199: 'alive', 200: 'allawi', 201: 'allday', 202: 'allegation', 203: 'allegations', 204: 'alleged', 205: 'allegedly', 206: 'allegiance', 207: 'allegory', 208: 'allen', 209: 'alliance', 210: 'alliances', 211: 'allied', 212: 'allies', 213: 'allimportant', 214: 'allowed', 215: 'allowing', 216: 'ally', 217: 'alongside', 218: 'alqaeda', 219: 'alqaida', 220: 'alsadr', 221: 'alternative', 222: 'alternatives', 223: 'altogether', 224: 'altsite', 225: 'alzheimers', 226: 'amazing', 227: 'amazingly', 228: 'amazon', 229: 'ambassador', 230: 'ambitions', 231: 'ambitious', 232: 'ambush', 233: 'amdt', 234: 'amendment', 235: 'amendments', 236: 'america', 237: 'american', 238: 'americanled', 239: 'americans', 240: 'americas', 241: 'amid', 242: 'amidst', 243: 'ammo', 244: 'ammunition', 245: 'amount', 246: 'amounts', 247: 'amp', 248: 'amphibians', 249: 'ample', 250: 'analogy', 251: 'analyses', 252: 'analysis', 253: 'analyst', 254: 'analysts', 255: 'analyze', 256: 'analyzed', 257: 'anchor', 258: 'ancient', 259: 'andor', 260: 'andrea', 261: 'andrew', 262: 'andy', 263: 'anecdotal', 264: 'anemic', 265: 'anew', 266: 'angeles', 267: 'anger', 268: 'angered', 269: 'angry', 270: 'angst', 271: 'ann', 272: 'annenberg', 273: 'anniversary', 274: 'announce', 275: 'announced', 276: 'announcement', 277: 'announces', 278: 'announcing', 279: 'annoying', 280: 'annual', 281: 'anonymity', 282: 'anonymous', 283: 'answer', 284: 'answered', 285: 'answering', 286: 'answers', 287: 'anthony', 288: 'antiabortion', 289: 'antiamerican', 290: 'antibush', 291: 'anticipated', 292: 'antidean', 293: 'antigay', 294: 'antikerry', 295: 'antiwar', 296: 'anxiety', 297: 'anymore', 298: 'anytime', 299: 'apologies', 300: 'apologists', 301: 'apologize', 302: 'apology', 303: 'appalling', 304: 'apparatus', 305: 'apparent', 306: 'apparently', 307: 'appeal', 308: 'appealed', 309: 'appealing', 310: 'appeals', 311: 'appearance', 312: 'appearances', 313: 'appeared', 314: 'appearing', 315: 'appears', 316: 'applause', 317: 'apple', 318: 'apples', 319: 'application', 320: 'applications', 321: 'applied', 322: 'applies', 323: 'apply', 324: 'appointed', 325: 'appointment', 326: 'appreciated', 327: 'appreciation', 328: 'approach', 329: 'approached', 330: 'approaches', 331: 'approaching', 332: 'appropriations', 333: 'approval', 334: 'approve', 335: 'approved', 336: 'approximately', 337: 'apr', 338: 'april', 339: 'aps', 340: 'apt', 341: 'arab', 342: 'arabia', 343: 'arabic', 344: 'arabs', 345: 'arafat', 346: 'architect', 347: 'archives', 348: 'archpundit', 349: 'arctic', 350: 'area', 351: 'areas', 352: 'arena', 353: 'arent', 354: 'arg', 355: 'argue', 356: 'argued', 357: 'argues', 358: 'arguing', 359: 'argument', 360: 'arguments', 361: 'ari', 362: 'aristide', 363: 'arizona', 364: 'arkansas', 365: 'arlen', 366: 'arlington', 367: 'arm', 368: 'armed', 369: 'armitage', 370: 'armor', 371: 'armored', 372: 'arms', 373: 'armstrong', 374: 'army', 375: 'armys', 376: 'arnold', 377: 'arrest', 378: 'arrested', 379: 'arrests', 380: 'arrive', 381: 'arrived', 382: 'arrives', 383: 'arrogance', 384: 'arrogant', 385: 'art', 386: 'article', 387: 'articles', 388: 'articulate', 389: 'artillery', 390: 'asap', 391: 'ashamed', 392: 'ashcroft', 393: 'ashcrofts', 394: 'asia', 395: 'asian', 396: 'asked', 397: 'asks', 398: 'aspect', 399: 'aspects', 400: 'aspirations', 401: 'ass', 402: 'assassination', 403: 'assault', 404: 'assembled', 405: 'assembly', 406: 'asserted', 407: 'assertion', 408: 'assertions', 409: 'asses', 410: 'assess', 411: 'assessment', 412: 'assessments', 413: 'asset', 414: 'assets', 415: 'asshole', 416: 'assholes', 417: 'assigned', 418: 'assignment', 419: 'assist', 420: 'assistance', 421: 'assistant', 422: 'associate', 423: 'associates', 424: 'association', 425: 'assume', 426: 'assumed', 427: 'assumes', 428: 'assuming', 429: 'assumption', 430: 'assumptions', 431: 'assure', 432: 'assured', 433: 'atlanta', 434: 'atlantic', 435: 'atlarge', 436: 'atomic', 437: 'atrios', 438: 'atrocities', 439: 'attached', 440: 'attack', 441: 'attacked', 442: 'attacking', 443: 'attacks', 444: 'attempt', 445: 'attempted', 446: 'attempting', 447: 'attempts', 448: 'attend', 449: 'attendance', 450: 'attended', 451: 'attending', 452: 'attention', 453: 'attitude', 454: 'attitudes', 455: 'attorney', 456: 'attorneys', 457: 'attract', 458: 'attractive', 459: 'attributed', 460: 'audience', 461: 'audio', 462: 'aug', 463: 'august', 464: 'austin', 465: 'australia', 466: 'australian', 467: 'author', 468: 'authorities', 469: 'authority', 470: 'authorization', 471: 'authorize', 472: 'authorized', 473: 'authors', 474: 'automated', 475: 'auxiliary', 476: 'average', 477: 'avoid', 478: 'avoided', 479: 'avoiding', 480: 'await', 481: 'awaiting', 482: 'award', 483: 'awarded', 484: 'awards', 485: 'aware', 486: 'awareness', 487: 'awesome', 488: 'awful', 489: 'awol', 490: 'axelrod', 491: 'ayatollah', 492: 'baathist', 493: 'baby', 494: 'backed', 495: 'backers', 496: 'background', 497: 'backing', 498: 'backs', 499: 'bad', 500: 'badly', 501: 'baer', 502: 'bag', 503: 'baghdad', 504: 'baghdads', 505: 'bags', 506: 'baker', 507: 'balance', 508: 'balanced', 509: 'bald', 510: 'ball', 511: 'ballot', 512: 'ballots', 513: 'ban', 514: 'band', 515: 'bandwagon', 516: 'bang', 517: 'bank', 518: 'banking', 519: 'banks', 520: 'banned', 521: 'banner', 522: 'banning', 523: 'bar', 524: 'barack', 525: 'barbara', 526: 'barbero', 527: 'barbour', 528: 'barely', 529: 'barend', 530: 'bargaining', 531: 'barnes', 532: 'barrage', 533: 'barrel', 534: 'barrels', 535: 'barrier', 536: 'barring', 537: 'barry', 538: 'bars', 539: 'bartlett', 540: 'base', 541: 'baseball', 542: 'based', 543: 'baseline', 544: 'bases', 545: 'bashing', 546: 'basic', 547: 'basically', 548: 'basis', 549: 'basketball', 550: 'basra', 551: 'bastion', 552: 'batch', 553: 'battalion', 554: 'battle', 555: 'battlefield', 556: 'battleground', 557: 'battlegrounds', 558: 'battles', 559: 'bay', 560: 'bayh', 561: 'bbc', 562: 'beach', 563: 'beacon', 564: 'bean', 565: 'bear', 566: 'bears', 567: 'beasley', 568: 'beat', 569: 'beaten', 570: 'beating', 571: 'beats', 572: 'beauprez', 573: 'beautiful', 574: 'beauty', 575: 'bed', 576: 'beef', 577: 'beer', 578: 'beers', 579: 'began', 580: 'begging', 581: 'begin', 582: 'beginning', 583: 'begins', 584: 'begun', 585: 'behalf', 586: 'behavior', 587: 'beheading', 588: 'beings', 589: 'belief', 590: 'beliefs', 591: 'believed', 592: 'believes', 593: 'believing', 594: 'bell', 595: 'belongs', 596: 'belt', 597: 'beltway', 598: 'ben', 599: 'bench', 600: 'beneath', 601: 'beneficiary', 602: 'benefit', 603: 'benefits', 604: 'bennett', 605: 'benson', 606: 'berg', 607: 'berger', 608: 'berkeley', 609: 'bet', 610: 'beth', 611: 'betrayal', 612: 'betrayed', 613: 'betting', 614: 'bias', 615: 'bible', 616: 'bid', 617: 'biden', 618: 'bigger', 619: 'biggest', 620: 'bill', 621: 'billion', 622: 'billions', 623: 'billmon', 624: 'bills', 625: 'bin', 626: 'bio', 627: 'biological', 628: 'bipartisan', 629: 'bird', 630: 'birth', 631: 'birthday', 632: 'bishops', 633: 'bit', 634: 'bitch', 635: 'bite', 636: 'bits', 637: 'bitter', 638: 'bizarre', 639: 'black', 640: 'blacks', 641: 'blackwater', 642: 'blackwell', 643: 'blades', 644: 'blair', 645: 'blame', 646: 'blamed', 647: 'blames', 648: 'blaming', 649: 'blanco', 650: 'blank', 651: 'blast', 652: 'blasted', 653: 'blasting', 654: 'blatant', 655: 'bleak', 656: 'bleeding', 657: 'blessed', 658: 'blew', 659: 'blind', 660: 'blitz', 661: 'blitzer', 662: 'bloc', 663: 'block', 664: 'blocked', 665: 'blocks', 666: 'blog', 667: 'blogads', 668: 'blogged', 669: 'blogger', 670: 'bloggers', 671: 'blogging', 672: 'blogosphere', 673: 'blogpac', 674: 'blogs', 675: 'blood', 676: 'bloody', 677: 'bloomfield', 678: 'blow', 679: 'blowing', 680: 'blown', 681: 'blows', 682: 'blue', 683: 'bluff', 684: 'blunder', 685: 'blunt', 686: 'board', 687: 'boards', 688: 'boat', 689: 'boats', 690: 'bob', 691: 'bobby', 692: 'bode', 693: 'bodies', 694: 'body', 695: 'bogus', 696: 'bold', 697: 'bolster', 698: 'bomb', 699: 'bombing', 700: 'bombings', 701: 'bombs', 702: 'bombshell', 703: 'bona', 704: 'bond', 705: 'bonus', 706: 'book', 707: 'books', 708: 'boost', 709: 'boosted', 710: 'booth', 711: 'boots', 712: 'bop', 713: 'border', 714: 'borders', 715: 'boring', 716: 'born', 717: 'borrow', 718: 'boss', 719: 'boston', 720: 'bother', 721: 'bothered', 722: 'bottom', 723: 'bought', 724: 'boulder', 725: 'bounce', 726: 'bound', 727: 'boundaries', 728: 'bounds', 729: 'bowers', 730: 'bowerss', 731: 'bowl', 732: 'bowles', 733: 'box', 734: 'boxblogroll', 735: 'boxer', 736: 'boxfeed_listing', 737: 'boxrdf_feeds', 738: 'boy', 739: 'boycott', 740: 'boys', 741: 'brad', 742: 'bradley', 743: 'bradnickel', 744: 'brahimi', 745: 'brain', 746: 'branch', 747: 'branches', 748: 'brand', 749: 'braun', 750: 'brave', 751: 'brazil', 752: 'break', 753: 'breakdown', 754: 'breakfast', 755: 'breaking', 756: 'breaks', 757: 'breath', 758: 'breathtaking', 759: 'breaux', 760: 'bremer', 761: 'brian', 762: 'bridge', 763: 'bridges', 764: 'briefed', 765: 'briefing', 766: 'briefly', 767: 'brigade', 768: 'brigades', 769: 'bright', 770: 'brilliant', 771: 'bring', 772: 'bringing', 773: 'brings', 774: 'brit', 775: 'britain', 776: 'british', 777: 'brits', 778: 'broad', 779: 'broadcast', 780: 'broadcasting', 781: 'broader', 782: 'brock', 783: 'broder', 784: 'brokaw', 785: 'broke', 786: 'broken', 787: 'brokered', 788: 'bronze', 789: 'brooks', 790: 'brother', 791: 'brothers', 792: 'brought', 793: 'broward', 794: 'brown', 795: 'brownstein', 796: 'browser', 797: 'bruce', 798: 'brush', 799: 'brutal', 800: 'btw', 801: 'bubble', 802: 'buchanan', 803: 'buck', 804: 'bucks', 805: 'buddy', 806: 'budget', 807: 'budgets', 808: 'bug', 809: 'bugs', 810: 'buh', 811: 'build', 812: 'building', 813: 'buildings', 814: 'built', 815: 'bulb', 816: 'bulk', 817: 'bullet', 818: 'bullets', 819: 'bullshit', 820: 'bully', 821: 'bumblebums', 822: 'bump', 823: 'bumped', 824: 'bumper', 825: 'bumpersticker', 826: 'bunch', 827: 'bunning', 828: 'bunnings', 829: 'burden', 830: 'bureau', 831: 'bureaucratic', 832: 'buried', 833: 'burn', 834: 'burned', 835: 'burning', 836: 'burns', 837: 'burr', 838: 'burt', 839: 'bus', 840: 'bush', 841: 'bushcheney', 842: 'bushes', 843: 'bushies', 844: 'bushkerry', 845: 'bushrove', 846: 'bushs', 847: 'bushsux', 848: 'business', 849: 'businesses', 850: 'businessman', 851: 'bust', 852: 'busy', 853: 'button', 854: 'buy', 855: 'buying', 856: 'buys', 857: 'buzz', 858: 'buzzing', 859: 'bypass', 860: 'cabinet', 861: 'cable', 862: 'caci', 863: 'calculate', 864: 'calculated', 865: 'calculator', 866: 'calendar', 867: 'california', 868: 'calistan', 869: 'call', 870: 'called', 871: 'calling', 872: 'calls', 873: 'calm', 874: 'camejo', 875: 'camera', 876: 'cameras', 877: 'camp', 878: 'campaign', 879: 'campaigned', 880: 'campaigner', 881: 'campaigning', 882: 'campaigns', 883: 'campbell', 884: 'camps', 885: 'campus', 886: 'canada', 887: 'canadian', 888: 'canadians', 889: 'cancelled', 890: 'cancer', 891: 'candidacy', 892: 'candidate', 893: 'candidates', 894: 'canton', 895: 'cap', 896: 'capabilities', 897: 'capability', 898: 'capable', 899: 'capacity', 900: 'capital', 901: 'capitol', 902: 'caps', 903: 'captain', 904: 'capture', 905: 'captured', 906: 'capturing', 907: 'car', 908: 'carbon', 909: 'card', 910: 'cards', 911: 'care', 912: 'career', 913: 'careful', 914: 'carefully', 915: 'cares', 916: 'cargo', 917: 'carl', 918: 'carlos', 919: 'carlson', 920: 'carol', 921: 'carolina', 922: 'carried', 923: 'carrier', 924: 'carries', 925: 'carry', 926: 'carrying', 927: 'cars', 928: 'carson', 929: 'carsons', 930: 'carter', 931: 'carville', 932: 'cases', 933: 'cash', 934: 'cast', 935: 'castor', 936: 'castro', 937: 'casts', 938: 'casualties', 939: 'casualty', 940: 'cat', 941: 'catch', 942: 'catching', 943: 'categories', 944: 'category', 945: 'catholic', 946: 'catholics', 947: 'cato', 948: 'cats', 949: 'cattle', 950: 'caucus', 951: 'caucuses', 952: 'caucusgoers', 953: 'caught', 954: 'caused', 955: 'causing', 956: 'caution', 957: 'cautious', 958: 'caveats', 959: 'cbs', 960: 'cegelis', 961: 'ceiling', 962: 'celebrate', 963: 'celebration', 964: 'celebrity', 965: 'cell', 966: 'cells', 967: 'censure', 968: 'census', 969: 'cent', 970: 'center', 971: 'centers', 972: 'central', 973: 'centrist', 974: 'cents', 975: 'century', 976: 'ceo', 977: 'ceremony', 978: 'cfr', 979: 'chafee', 980: 'chain', 981: 'chair', 982: 'chairman', 983: 'chairs', 984: 'chalabi', 985: 'chalabis', 986: 'challenge', 987: 'challenged', 988: 'challenger', 989: 'challengers', 990: 'challenges', 991: 'challenging', 992: 'chamber', 993: 'chambers', 994: 'chambliss', 995: 'chance', 996: 'chances', 997: 'chandler', 998: 'chandlers', 999: 'change', 1000: 'changed', 1001: 'changing', 1002: 'channel', 1003: 'channels', 1004: 'chaos', 1005: 'chapter', 1006: 'character', 1007: 'characterized', 1008: 'charge', 1009: 'charged', 1010: 'charges', 1011: 'charging', 1012: 'charismatic', 1013: 'charitable', 1014: 'charities', 1015: 'charles', 1016: 'charlie', 1017: 'chart', 1018: 'charts', 1019: 'chat', 1020: 'chatter', 1021: 'chavez', 1022: 'cheap', 1023: 'check', 1024: 'checked', 1025: 'checking', 1026: 'checks', 1027: 'chedrcheez', 1028: 'cheer', 1029: 'chemical', 1030: 'cheney', 1031: 'cheneys', 1032: 'chest', 1033: 'chew', 1034: 'chicago', 1035: 'chicken', 1036: 'chickenhawk', 1037: 'chief', 1038: 'chiefs', 1039: 'child', 1040: 'childhood', 1041: 'children', 1042: 'childrens', 1043: 'chilling', 1044: 'china', 1045: 'chinese', 1046: 'chip', 1047: 'chit', 1048: 'cho', 1049: 'chocola', 1050: 'choice', 1051: 'choices', 1052: 'choose', 1053: 'chooses', 1054: 'choosing', 1055: 'chose', 1056: 'chosen', 1057: 'chris', 1058: 'christ', 1059: 'christian', 1060: 'christians', 1061: 'christine', 1062: 'christmas', 1063: 'christopher', 1064: 'chronicle', 1065: 'chuck', 1066: 'chunk', 1067: 'church', 1068: 'cia', 1069: 'cias', 1070: 'cincinnati', 1071: 'circle', 1072: 'circles', 1073: 'circuit', 1074: 'circulation', 1075: 'circumstances', 1076: 'citation', 1077: 'cited', 1078: 'cities', 1079: 'citing', 1080: 'citizen', 1081: 'citizens', 1082: 'citizenship', 1083: 'city', 1084: 'civic', 1085: 'civil', 1086: 'civilian', 1087: 'civilians', 1088: 'civilized', 1089: 'claim', 1090: 'claimed', 1091: 'claiming', 1092: 'claims', 1093: 'claire', 1094: 'clarify', 1095: 'clark', 1096: 'clarke', 1097: 'clarkes', 1098: 'clarks', 1099: 'clashes', 1100: 'class', 1101: 'classic', 1102: 'classified', 1103: 'clean', 1104: 'cleaned', 1105: 'clear', 1106: 'cleared', 1107: 'clearer', 1108: 'clearing', 1109: 'cleland', 1110: 'cleric', 1111: 'clerk', 1112: 'clerks', 1113: 'cleveland', 1114: 'clever', 1115: 'click', 1116: 'client', 1117: 'clients', 1118: 'climate', 1119: 'clinton', 1120: 'clintons', 1121: 'clip', 1122: 'clock', 1123: 'close', 1124: 'closed', 1125: 'closely', 1126: 'closer', 1127: 'closest', 1128: 'closing', 1129: 'clothes', 1130: 'cloud', 1131: 'clout', 1132: 'club', 1133: 'clue', 1134: 'cnn', 1135: 'cnns', 1136: 'cnnusa', 1137: 'coach', 1138: 'coal', 1139: 'coalition', 1140: 'coast', 1141: 'coasters', 1142: 'coattails', 1143: 'coburn', 1144: 'coburns', 1145: 'code', 1146: 'coffee', 1147: 'coffins', 1148: 'cognitive', 1149: 'cohen', 1150: 'coin', 1151: 'col', 1152: 'cold', 1153: 'cole', 1154: 'colin', 1155: 'collapse', 1156: 'collapsed', 1157: 'collar', 1158: 'collateral', 1159: 'colleague', 1160: 'colleagues', 1161: 'collect', 1162: 'collected', 1163: 'collecting', 1164: 'collection', 1165: 'collective', 1166: 'collectively', 1167: 'college', 1168: 'colleges', 1169: 'collins', 1170: 'colmes', 1171: 'color', 1172: 'colorado', 1173: 'colorados', 1174: 'columbia', 1175: 'columbus', 1176: 'column', 1177: 'columnist', 1178: 'columns', 1179: 'combat', 1180: 'combination', 1181: 'combined', 1182: 'comeback', 1183: 'comfort', 1184: 'comfortable', 1185: 'coming', 1186: 'command', 1187: 'commander', 1188: 'commanderinchief', 1189: 'commanders', 1190: 'commanding', 1191: 'commentary', 1192: 'commentator', 1193: 'commented', 1194: 'commenting', 1195: 'commerce', 1196: 'commercial', 1197: 'commercials', 1198: 'commission', 1199: 'commissioner', 1200: 'commissioners', 1201: 'commissions', 1202: 'commit', 1203: 'commitment', 1204: 'committed', 1205: 'committee', 1206: 'committees', 1207: 'common', 1208: 'commonwealth', 1209: 'communicate', 1210: 'communication', 1211: 'communications', 1212: 'communion', 1213: 'communities', 1214: 'community', 1215: 'companies', 1216: 'company', 1217: 'compare', 1218: 'compared', 1219: 'comparing', 1220: 'comparison', 1221: 'comparisons', 1222: 'compassionate', 1223: 'compelled', 1224: 'compelling', 1225: 'compete', 1226: 'competence', 1227: 'competent', 1228: 'competing', 1229: 'competition', 1230: 'competitive', 1231: 'compiled', 1232: 'complacent', 1233: 'complain', 1234: 'complained', 1235: 'complaining', 1236: 'complaint', 1237: 'complaints', 1238: 'complete', 1239: 'completed', 1240: 'completely', 1241: 'complex', 1242: 'complicated', 1243: 'component', 1244: 'composite', 1245: 'comprehensive', 1246: 'compromise', 1247: 'computer', 1248: 'computers', 1249: 'con', 1250: 'concede', 1251: 'conceded', 1252: 'concedes', 1253: 'concentrate', 1254: 'concentrated', 1255: 'concept', 1256: 'concern', 1257: 'concerned', 1258: 'concerns', 1259: 'concert', 1260: 'concerted', 1261: 'concessions', 1262: 'conclude', 1263: 'concluded', 1264: 'concluding', 1265: 'conclusion', 1266: 'conclusions', 1267: 'concord', 1268: 'concrete', 1269: 'condemned', 1270: 'condi', 1271: 'condis', 1272: 'condition', 1273: 'conditions', 1274: 'condoleezza', 1275: 'conduct', 1276: 'conducted', 1277: 'conducting', 1278: 'confederate', 1279: 'conference', 1280: 'conferences', 1281: 'confidence', 1282: 'confident', 1283: 'confidential', 1284: 'confirm', 1285: 'confirmation', 1286: 'confirmed', 1287: 'confirming', 1288: 'confirms', 1289: 'conflict', 1290: 'conflicted', 1291: 'conflicts', 1292: 'confused', 1293: 'confusion', 1294: 'congrats', 1295: 'congress', 1296: 'congressional', 1297: 'congressman', 1298: 'congresswoman', 1299: 'connect', 1300: 'connected', 1301: 'connecticut', 1302: 'connection', 1303: 'connections', 1304: 'conscience', 1305: 'consensus', 1306: 'consequence', 1307: 'consequences', 1308: 'conservation', 1309: 'conservatism', 1310: 'conservative', 1311: 'conservatives', 1312: 'considerable', 1313: 'considerably', 1314: 'consideration', 1315: 'considered', 1316: 'consistent', 1317: 'consistently', 1318: 'conspiracy', 1319: 'constant', 1320: 'constituencies', 1321: 'constituency', 1322: 'constituents', 1323: 'constitution', 1324: 'constitutional', 1325: 'construction', 1326: 'constructive', 1327: 'consultant', 1328: 'consultants', 1329: 'consulting', 1330: 'consumer', 1331: 'consumers', 1332: 'consumption', 1333: 'contact', 1334: 'contacted', 1335: 'contacts', 1336: 'contained', 1337: 'contempt', 1338: 'contenders', 1339: 'content', 1340: 'contention', 1341: 'contest', 1342: 'contested', 1343: 'contests', 1344: 'context', 1345: 'conti', 1346: 'contingent', 1347: 'continue', 1348: 'continued', 1349: 'continues', 1350: 'continuing', 1351: 'contract', 1352: 'contractor', 1353: 'contractors', 1354: 'contracts', 1355: 'contradicted', 1356: 'contradictory', 1357: 'contrary', 1358: 'contrast', 1359: 'contrasts', 1360: 'contribute', 1361: 'contributed', 1362: 'contributing', 1363: 'contribution', 1364: 'contributions', 1365: 'contributors', 1366: 'control', 1367: 'controlled', 1368: 'controlling', 1369: 'controls', 1370: 'controversial', 1371: 'controversy', 1372: 'convenient', 1373: 'convention', 1374: 'conventional', 1375: 'conventions', 1376: 'conversation', 1377: 'conversations', 1378: 'converted', 1379: 'convicted', 1380: 'conviction', 1381: 'convictions', 1382: 'convince', 1383: 'convinced', 1384: 'convincing', 1385: 'convoy', 1386: 'conway', 1387: 'cook', 1388: 'cool', 1389: 'cooler', 1390: 'cooper', 1391: 'cooperation', 1392: 'coordinated', 1393: 'coordination', 1394: 'coors', 1395: 'cop', 1396: 'copies', 1397: 'cops', 1398: 'copy', 1399: 'core', 1400: 'corner', 1401: 'corp', 1402: 'corporate', 1403: 'corporation', 1404: 'corporations', 1405: 'corps', 1406: 'correct', 1407: 'correctly', 1408: 'correlation', 1409: 'correspondent', 1410: 'corrupt', 1411: 'corruption', 1412: 'cosen', 1413: 'cost', 1414: 'costly', 1415: 'costs', 1416: 'couldnt', 1417: 'couldve', 1418: 'coulter', 1419: 'council', 1420: 'counsel', 1421: 'count', 1422: 'countdown', 1423: 'counted', 1424: 'counter', 1425: 'counterinsurgency', 1426: 'counterparts', 1427: 'counterterrorism', 1428: 'counties', 1429: 'counting', 1430: 'countless', 1431: 'countries', 1432: 'country', 1433: 'countrys', 1434: 'counts', 1435: 'county', 1436: 'countylevel', 1437: 'coup', 1438: 'couple', 1439: 'coupled', 1440: 'couples', 1441: 'courage', 1442: 'court', 1443: 'courtesy', 1444: 'courts', 1445: 'cover', 1446: 'coverage', 1447: 'covered', 1448: 'covering', 1449: 'covers', 1450: 'covert', 1451: 'coverup', 1452: 'cow', 1453: 'cowardly', 1454: 'cowboy', 1455: 'cpa', 1456: 'crack', 1457: 'craft', 1458: 'craig', 1459: 'crane', 1460: 'crap', 1461: 'crash', 1462: 'crashed', 1463: 'crass', 1464: 'crawford', 1465: 'crazy', 1466: 'create', 1467: 'created', 1468: 'creates', 1469: 'creating', 1470: 'creation', 1471: 'creative', 1472: 'credence', 1473: 'credentials', 1474: 'credibility', 1475: 'credible', 1476: 'credit', 1477: 'credited', 1478: 'crew', 1479: 'crime', 1480: 'crimes', 1481: 'criminal', 1482: 'criminals', 1483: 'crisis', 1484: 'criteria', 1485: 'critic', 1486: 'critical', 1487: 'criticism', 1488: 'criticisms', 1489: 'criticize', 1490: 'criticized', 1491: 'criticizing', 1492: 'critics', 1493: 'critique', 1494: 'crooks', 1495: 'cross', 1496: 'crossed', 1497: 'crossfire', 1498: 'crossing', 1499: 'crow', 1500: 'crowd', 1501: 'crowded', 1502: 'crowds', 1503: 'crucial', 1504: 'crusade', 1505: 'crush', 1506: 'crushing', 1507: 'cry', 1508: 'crying', 1509: 'cspan', 1510: 'cuba', 1511: 'cuban', 1512: 'cubanamerican', 1513: 'cubs', 1514: 'cultural', 1515: 'culture', 1516: 'curious', 1517: 'current', 1518: 'custody', 1519: 'cut', 1520: 'cuts', 1521: 'cutter', 1522: 'cutting', 1523: 'cycle', 1524: 'cycles', 1525: 'cynical', 1526: 'dad', 1527: 'dailykos', 1528: 'dakota', 1529: 'dakotas', 1530: 'dallas', 1531: 'damage', 1532: 'damaged', 1533: 'damaging', 1534: 'damn', 1535: 'damned', 1536: 'damning', 1537: 'dan', 1538: 'dana', 1539: 'dance', 1540: 'danger', 1541: 'dangerous', 1542: 'dangers', 1543: 'daniel', 1544: 'daniels', 1545: 'danielua', 1546: 'dare', 1547: 'dark', 1548: 'darn', 1549: 'daschle', 1550: 'daschles', 1551: 'dash', 1552: 'data', 1553: 'database', 1554: 'date', 1555: 'dated', 1556: 'dates', 1557: 'daughter', 1558: 'daughters', 1559: 'dave', 1560: 'davenport', 1561: 'david', 1562: 'davis', 1563: 'daytoday', 1564: 'dayton', 1565: 'dcalif', 1566: 'dccc', 1567: 'dconn', 1568: 'dday', 1569: 'ddel', 1570: 'dead', 1571: 'deadline', 1572: 'deadlines', 1573: 'deadly', 1574: 'deal', 1575: 'dealer', 1576: 'dealing', 1577: 'deals', 1578: 'dealt', 1579: 'dean', 1580: 'deanclark', 1581: 'deans', 1582: 'dear', 1583: 'dearborn', 1584: 'death', 1585: 'deaths', 1586: 'debate', 1587: 'debated', 1588: 'debates', 1589: 'debating', 1590: 'debt', 1591: 'debunking', 1592: 'dec', 1593: 'decade', 1594: 'decades', 1595: 'deceits', 1596: 'december', 1597: 'decent', 1598: 'decentralized', 1599: 'decide', 1600: 'decided', 1601: 'decidedly', 1602: 'decides', 1603: 'deciding', 1604: 'decision', 1605: 'decisions', 1606: 'decisive', 1607: 'deck', 1608: 'declaration', 1609: 'declare', 1610: 'declared', 1611: 'declaring', 1612: 'declassified', 1613: 'decline', 1614: 'declined', 1615: 'decorated', 1616: 'dedicated', 1617: 'deemed', 1618: 'deep', 1619: 'deeper', 1620: 'deeply', 1621: 'defeat', 1622: 'defeated', 1623: 'defeating', 1624: 'defection', 1625: 'defence', 1626: 'defend', 1627: 'defended', 1628: 'defending', 1629: 'defense', 1630: 'defensive', 1631: 'deficit', 1632: 'deficits', 1633: 'define', 1634: 'defined', 1635: 'defining', 1636: 'definition', 1637: 'definitive', 1638: 'degree', 1639: 'degrees', 1640: 'delaware', 1641: 'delay', 1642: 'delays', 1643: 'delegate', 1644: 'delegates', 1645: 'delegation', 1646: 'deleted', 1647: 'deliberate', 1648: 'deliberately', 1649: 'delicious', 1650: 'deliver', 1651: 'delivered', 1652: 'delivering', 1653: 'delong', 1654: 'dem', 1655: 'demand', 1656: 'demanded', 1657: 'demanding', 1658: 'demands', 1659: 'demint', 1660: 'demise', 1661: 'democracy', 1662: 'democrat', 1663: 'democratic', 1664: 'democraticleaning', 1665: 'democrats', 1666: 'demographic', 1667: 'demographics', 1668: 'demonstrate', 1669: 'demonstrated', 1670: 'demonstrates', 1671: 'demonstration', 1672: 'demonstrations', 1673: 'dems', 1674: 'denied', 1675: 'denies', 1676: 'dennis', 1677: 'denver', 1678: 'deny', 1679: 'denying', 1680: 'department', 1681: 'departments', 1682: 'departure', 1683: 'depend', 1684: 'dependent', 1685: 'depending', 1686: 'depends', 1687: 'deploy', 1688: 'deployed', 1689: 'deployment', 1690: 'depression', 1691: 'dept', 1692: 'deputy', 1693: 'des', 1694: 'describe', 1695: 'describes', 1696: 'describing', 1697: 'description', 1698: 'desert', 1699: 'deserve', 1700: 'deserved', 1701: 'deserves', 1702: 'design', 1703: 'designed', 1704: 'desire', 1705: 'desk', 1706: 'desperate', 1707: 'desperately', 1708: 'desperation', 1709: 'destined', 1710: 'destiny', 1711: 'destroy', 1712: 'destroyed', 1713: 'destroying', 1714: 'destruction', 1715: 'detail', 1716: 'detailed', 1717: 'detailing', 1718: 'details', 1719: 'detained', 1720: 'detainees', 1721: 'detention', 1722: 'deteriorating', 1723: 'determination', 1724: 'determine', 1725: 'determined', 1726: 'determining', 1727: 'detroit', 1728: 'devastating', 1729: 'develop', 1730: 'developed', 1731: 'developing', 1732: 'development', 1733: 'developments', 1734: 'device', 1735: 'devine', 1736: 'devos', 1737: 'devoted', 1738: 'dfa', 1739: 'dhinmi', 1740: 'diane', 1741: 'diarists', 1742: 'dick', 1743: 'dictator', 1744: 'die', 1745: 'diebold', 1746: 'died', 1747: 'diedrich', 1748: 'diedrichs', 1749: 'dies', 1750: 'differ', 1751: 'difference', 1752: 'differences', 1753: 'differently', 1754: 'difficult', 1755: 'difficulty', 1756: 'dig', 1757: 'digging', 1758: 'dignity', 1759: 'dilemma', 1760: 'dime', 1761: 'dingell', 1762: 'dinner', 1763: 'dionne', 1764: 'diplomacy', 1765: 'diplomatic', 1766: 'diplomats', 1767: 'dire', 1768: 'direct', 1769: 'directed', 1770: 'directing', 1771: 'direction', 1772: 'directly', 1773: 'director', 1774: 'directors', 1775: 'direwolf', 1776: 'dirt', 1777: 'dirty', 1778: 'disadvantage', 1779: 'disagree', 1780: 'disagreement', 1781: 'disappear', 1782: 'disappeared', 1783: 'disappointed', 1784: 'disappointing', 1785: 'disapprove', 1786: 'disaster', 1787: 'disastrous', 1788: 'discharge', 1789: 'discipline', 1790: 'disclaimer', 1791: 'disclose', 1792: 'disclosed', 1793: 'disclosure', 1794: 'discourse', 1795: 'discover', 1796: 'discovered', 1797: 'discovery', 1798: 'discredit', 1799: 'discredited', 1800: 'discrimination', 1801: 'discussed', 1802: 'discusses', 1803: 'discussing', 1804: 'discussion', 1805: 'discussions', 1806: 'disease', 1807: 'disenfranchise', 1808: 'disgraced', 1809: 'disgruntled', 1810: 'disgusting', 1811: 'dish', 1812: 'dishonest', 1813: 'dislike', 1814: 'dismiss', 1815: 'dismissed', 1816: 'dispatch', 1817: 'display', 1818: 'disproportionate', 1819: 'disproportionately', 1820: 'dispute', 1821: 'disputed', 1822: 'disputes', 1823: 'disqualify', 1824: 'disregard', 1825: 'dissent', 1826: 'dissonance', 1827: 'distance', 1828: 'distinct', 1829: 'distinction', 1830: 'distorted', 1831: 'distract', 1832: 'distracted', 1833: 'distribute', 1834: 'distributed', 1835: 'distribution', 1836: 'district', 1837: 'districts', 1838: 'disturbing', 1839: 'ditka', 1840: 'diverse', 1841: 'diversity', 1842: 'divide', 1843: 'divided', 1844: 'division', 1845: 'divisions', 1846: 'divisive', 1847: 'divorce', 1848: 'dkos', 1849: 'dkosopedia', 1850: 'dlc', 1851: 'dmass', 1852: 'dna', 1853: 'dnc', 1854: 'dncc', 1855: 'dncs', 1856: 'dny', 1857: 'doctor', 1858: 'doctors', 1859: 'doctrine', 1860: 'document', 1861: 'documentary', 1862: 'documentation', 1863: 'documented', 1864: 'documents', 1865: 'dod', 1866: 'dodd', 1867: 'dodge', 1868: 'dog', 1869: 'dogs', 1870: 'doj', 1871: 'dole', 1872: 'dollar', 1873: 'dollars', 1874: 'domestic', 1875: 'dominance', 1876: 'dominant', 1877: 'dominate', 1878: 'dominated', 1879: 'don', 1880: 'donald', 1881: 'donate', 1882: 'donated', 1883: 'donating', 1884: 'donation', 1885: 'donations', 1886: 'donna', 1887: 'donnelly', 1888: 'donor', 1889: 'donors', 1890: 'doom', 1891: 'doomed', 1892: 'door', 1893: 'doors', 1894: 'dose', 1895: 'double', 1896: 'doubledigit', 1897: 'doubt', 1898: 'doubtful', 1899: 'doubts', 1900: 'doug', 1901: 'dough', 1902: 'douglas', 1903: 'dowd', 1904: 'downer', 1905: 'downing', 1906: 'download', 1907: 'downright', 1908: 'downtown', 1909: 'downward', 1910: 'dozen', 1911: 'dozens', 1912: 'draft', 1913: 'drafted', 1914: 'drag', 1915: 'dragged', 1916: 'drake', 1917: 'drama', 1918: 'dramatic', 1919: 'dramatically', 1920: 'draw', 1921: 'drawing', 1922: 'drawn', 1923: 'dream', 1924: 'dreaming', 1925: 'dreams', 1926: 'dreier', 1927: 'dress', 1928: 'drew', 1929: 'drfranklives', 1930: 'drilling', 1931: 'drills', 1932: 'drink', 1933: 'drinking', 1934: 'drive', 1935: 'driven', 1936: 'driver', 1937: 'drives', 1938: 'driving', 1939: 'drop', 1940: 'dropped', 1941: 'dropping', 1942: 'drops', 1943: 'drove', 1944: 'drudge', 1945: 'drug', 1946: 'drugs', 1947: 'drum', 1948: 'drunk', 1949: 'dry', 1950: 'dryfly', 1951: 'dscc', 1952: 'dtrip', 1953: 'dubuque', 1954: 'dubya', 1955: 'dubyanocchio', 1956: 'dude', 1957: 'duderino', 1958: 'due', 1959: 'dug', 1960: 'dukakis', 1961: 'duke', 1962: 'dumb', 1963: 'dump', 1964: 'dumping', 1965: 'dupage', 1966: 'duration', 1967: 'durbin', 1968: 'dust', 1969: 'duties', 1970: 'duty', 1971: 'dying', 1972: 'dynamic', 1973: 'dynamics', 1974: 'eager', 1975: 'eagle', 1976: 'earle', 1977: 'earlier', 1978: 'earliest', 1979: 'early', 1980: 'earn', 1981: 'earned', 1982: 'earning', 1983: 'ears', 1984: 'earth', 1985: 'ease', 1986: 'easier', 1987: 'easily', 1988: 'easley', 1989: 'east', 1990: 'eastern', 1991: 'easy', 1992: 'eat', 1993: 'echo', 1994: 'echoed', 1995: 'economic', 1996: 'economics', 1997: 'economist', 1998: 'economists', 1999: 'economy', 2000: 'edge', 2001: 'edit', 2002: 'edited', 2003: 'editing', 2004: 'edition', 2005: 'editor', 2006: 'editorial', 2007: 'editors', 2008: 'edt', 2009: 'educated', 2010: 'education', 2011: 'edward', 2012: 'edwards', 2013: 'eerily', 2014: 'effect', 2015: 'effective', 2016: 'effectively', 2017: 'effectiveness', 2018: 'effects', 2019: 'efficient', 2020: 'effort', 2021: 'efforts', 2022: 'egon', 2023: 'eisenhower', 2024: 'elaborate', 2025: 'elect', 2026: 'electability', 2027: 'elected', 2028: 'electing', 2029: 'election', 2030: 'elections', 2031: 'electoral', 2032: 'electorate', 2033: 'electric', 2034: 'electricity', 2035: 'electronic', 2036: 'element', 2037: 'elements', 2038: 'eligible', 2039: 'eliminate', 2040: 'eliminated', 2041: 'eliminating', 2042: 'elite', 2043: 'elizabeth', 2044: 'elliott', 2045: 'email', 2046: 'emailed', 2047: 'emails', 2048: 'embarrassing', 2049: 'embarrassment', 2050: 'embassy', 2051: 'embattled', 2052: 'embrace', 2053: 'embraced', 2054: 'emerge', 2055: 'emerged', 2056: 'emergency', 2057: 'emerges', 2058: 'emerging', 2059: 'emilys', 2060: 'eminem', 2061: 'emissions', 2062: 'emotional', 2063: 'emotions', 2064: 'emphasis', 2065: 'emphasize', 2066: 'empire', 2067: 'empirical', 2068: 'employ', 2069: 'employed', 2070: 'employee', 2071: 'employees', 2072: 'employers', 2073: 'employment', 2074: 'empty', 2075: 'enable', 2076: 'enacted', 2077: 'encountered', 2078: 'encourage', 2079: 'encouraged', 2080: 'encouraging', 2081: 'end', 2082: 'endangered', 2083: 'ended', 2084: 'ending', 2085: 'endorse', 2086: 'endorsed', 2087: 'endorsement', 2088: 'endorsements', 2089: 'endorses', 2090: 'endorsing', 2091: 'ends', 2092: 'endspan', 2093: 'enemies', 2094: 'enemy', 2095: 'energized', 2096: 'energy', 2097: 'enforce', 2098: 'enforcement', 2099: 'engage', 2100: 'engaged', 2101: 'engagement', 2102: 'engaging', 2103: 'engineers', 2104: 'england', 2105: 'english', 2106: 'enjoy', 2107: 'enjoyed', 2108: 'enjoying', 2109: 'enjoys', 2110: 'enlarge', 2111: 'enlisted', 2112: 'enormous', 2113: 'enron', 2114: 'enrons', 2115: 'ensure', 2116: 'ensuring', 2117: 'enter', 2118: 'entered', 2119: 'entering', 2120: 'enterprise', 2121: 'enters', 2122: 'enthusiasm', 2123: 'enthusiastic', 2124: 'entire', 2125: 'entitled', 2126: 'entries', 2127: 'entry', 2128: 'environment', 2129: 'environmental', 2130: 'envoy', 2131: 'epa', 2132: 'epatriots', 2133: 'episode', 2134: 'equal', 2135: 'equality', 2136: 'equally', 2137: 'equation', 2138: 'equipment', 2139: 'equivalent', 2140: 'era', 2141: 'eric', 2142: 'erode', 2143: 'error', 2144: 'errors', 2145: 'erupted', 2146: 'escape', 2147: 'essence', 2148: 'essential', 2149: 'essentially', 2150: 'est', 2151: 'establish', 2152: 'established', 2153: 'establishing', 2154: 'establishment', 2155: 'estimate', 2156: 'estimated', 2157: 'estimates', 2158: 'ethic', 2159: 'ethical', 2160: 'ethically', 2161: 'ethics', 2162: 'ethnic', 2163: 'europe', 2164: 'european', 2165: 'europeans', 2166: 'evaluation', 2167: 'evaluations', 2168: 'evangelical', 2169: 'evangelicals', 2170: 'evans', 2171: 'eve', 2172: 'evening', 2173: 'evenly', 2174: 'event', 2175: 'events', 2176: 'eventual', 2177: 'eventually', 2178: 'everyday', 2179: 'everyones', 2180: 'evidence', 2181: 'evident', 2182: 'evil', 2183: 'evs', 2184: 'exact', 2185: 'exam', 2186: 'examine', 2187: 'examples', 2188: 'exceed', 2189: 'exceeded', 2190: 'excellent', 2191: 'exception', 2192: 'exceptions', 2193: 'excerpt', 2194: 'excerpts', 2195: 'exchange', 2196: 'excited', 2197: 'excitement', 2198: 'exciting', 2199: 'exclusive', 2200: 'exclusively', 2201: 'excuse', 2202: 'executed', 2203: 'execution', 2204: 'executive', 2205: 'executives', 2206: 'exemplary', 2207: 'exercise', 2208: 'exhibit', 2209: 'exist', 2210: 'existed', 2211: 'existence', 2212: 'existing', 2213: 'exists', 2214: 'exit', 2215: 'expand', 2216: 'expanded', 2217: 'expect', 2218: 'expectations', 2219: 'expected', 2220: 'expecting', 2221: 'expects', 2222: 'expenditures', 2223: 'expense', 2224: 'expenses', 2225: 'expensive', 2226: 'experience', 2227: 'experienced', 2228: 'experiences', 2229: 'experiment', 2230: 'expert', 2231: 'experts', 2232: 'expire', 2233: 'explain', 2234: 'explained', 2235: 'explaining', 2236: 'explains', 2237: 'explanation', 2238: 'explicitly', 2239: 'exploded', 2240: 'exploit', 2241: 'exploiting', 2242: 'exploration', 2243: 'explosion', 2244: 'explosions', 2245: 'explosive', 2246: 'explosives', 2247: 'expose', 2248: 'exposed', 2249: 'exposure', 2250: 'express', 2251: 'expressed', 2252: 'expression', 2253: 'extend', 2254: 'extended', 2255: 'extending', 2256: 'extension', 2257: 'extensive', 2258: 'extent', 2259: 'extra', 2260: 'extraordinary', 2261: 'extreme', 2262: 'extremely', 2263: 'extremist', 2264: 'extremists', 2265: 'exwife', 2266: 'eye', 2267: 'eyes', 2268: 'face', 2269: 'faced', 2270: 'faces', 2271: 'facilities', 2272: 'facility', 2273: 'facing', 2274: 'fact', 2275: 'faction', 2276: 'factions', 2277: 'factor', 2278: 'factors', 2279: 'facts', 2280: 'fade', 2281: 'faded', 2282: 'fading', 2283: 'fahrenheit', 2284: 'fail', 2285: 'failed', 2286: 'failing', 2287: 'fails', 2288: 'failure', 2289: 'failures', 2290: 'fair', 2291: 'fairly', 2292: 'fairness', 2293: 'faith', 2294: 'faithbased', 2295: 'faithful', 2296: 'fake', 2297: 'fall', 2298: 'fallen', 2299: 'falling', 2300: 'fallout', 2301: 'falls', 2302: 'falluja', 2303: 'fallujah', 2304: 'false', 2305: 'falsely', 2306: 'familiar', 2307: 'families', 2308: 'family', 2309: 'familys', 2310: 'famous', 2311: 'fan', 2312: 'fanatics', 2313: 'fancy', 2314: 'fans', 2315: 'fantasies', 2316: 'fantasy', 2317: 'faq', 2318: 'fare', 2319: 'farm', 2320: 'farmer', 2321: 'farmers', 2322: 'fascinating', 2323: 'fashion', 2324: 'fast', 2325: 'faster', 2326: 'fat', 2327: 'fatal', 2328: 'fatalities', 2329: 'fate', 2330: 'father', 2331: 'fatherinlaw', 2332: 'fathers', 2333: 'fault', 2334: 'favor', 2335: 'favorability', 2336: 'favorable', 2337: 'favorableunfavorable', 2338: 'favored', 2339: 'favoring', 2340: 'favorite', 2341: 'favors', 2342: 'fax', 2343: 'fbi', 2344: 'fear', 2345: 'feared', 2346: 'fears', 2347: 'feature', 2348: 'featured', 2349: 'features', 2350: 'featuring', 2351: 'feb', 2352: 'february', 2353: 'fec', 2354: 'fed', 2355: 'federal', 2356: 'federation', 2357: 'feed', 2358: 'feedback', 2359: 'feeding', 2360: 'feeds', 2361: 'feel', 2362: 'feeling', 2363: 'feelings', 2364: 'feels', 2365: 'feet', 2366: 'feingold', 2367: 'feith', 2368: 'fell', 2369: 'fellow', 2370: 'felon', 2371: 'felt', 2372: 'female', 2373: 'fence', 2374: 'fewer', 2375: 'fiction', 2376: 'fide', 2377: 'field', 2378: 'fielding', 2379: 'fields', 2380: 'fierce', 2381: 'fiercely', 2382: 'fight', 2383: 'fighter', 2384: 'fighters', 2385: 'fighting', 2386: 'fights', 2387: 'figure', 2388: 'figured', 2389: 'figures', 2390: 'file', 2391: 'filed', 2392: 'files', 2393: 'filibuster', 2394: 'filing', 2395: 'fill', 2396: 'filled', 2397: 'filling', 2398: 'film', 2399: 'filmmaker', 2400: 'films', 2401: 'filter', 2402: 'final', 2403: 'finally', 2404: 'finance', 2405: 'financial', 2406: 'financially', 2407: 'financing', 2408: 'find', 2409: 'finding', 2410: 'findings', 2411: 'finds', 2412: 'fine', 2413: 'fineman', 2414: 'finest', 2415: 'finger', 2416: 'fingerhut', 2417: 'fingers', 2418: 'finish', 2419: 'finished', 2420: 'finishing', 2421: 'fire', 2422: 'fired', 2423: 'firefighters', 2424: 'fires', 2425: 'firing', 2426: 'firm', 2427: 'firmly', 2428: 'firms', 2429: 'firsthand', 2430: 'fiscal', 2431: 'fishing', 2432: 'fit', 2433: 'fitting', 2434: 'fitzgerald', 2435: 'fitzpatrick', 2436: 'fix', 2437: 'fixed', 2438: 'fla', 2439: 'flag', 2440: 'flame', 2441: 'flash', 2442: 'flat', 2443: 'flavor', 2444: 'flaws', 2445: 'fled', 2446: 'fleet', 2447: 'fletcher', 2448: 'flexibility', 2449: 'flight', 2450: 'flip', 2451: 'flipflop', 2452: 'flipflopper', 2453: 'floating', 2454: 'flood', 2455: 'floor', 2456: 'flop', 2457: 'flopper', 2458: 'flops', 2459: 'florida', 2460: 'floridas', 2461: 'flow', 2462: 'flowing', 2463: 'flu', 2464: 'fluid', 2465: 'fly', 2466: 'flying', 2467: 'flypaper', 2468: 'fma', 2469: 'focus', 2470: 'focused', 2471: 'focuses', 2472: 'focusing', 2473: 'fodder', 2474: 'foe', 2475: 'foes', 2476: 'fold', 2477: 'folks', 2478: 'follow', 2479: 'followers', 2480: 'followup', 2481: 'folly', 2482: 'fond', 2483: 'food', 2484: 'fool', 2485: 'foolish', 2486: 'fools', 2487: 'foot', 2488: 'footage', 2489: 'football', 2490: 'forbid', 2491: 'force', 2492: 'forced', 2493: 'forces', 2494: 'forcing', 2495: 'ford', 2496: 'forecast', 2497: 'foreign', 2498: 'foreigners', 2499: 'forever', 2500: 'forget', 2501: 'forgot', 2502: 'forgotten', 2503: 'form', 2504: 'formal', 2505: 'formally', 2506: 'format', 2507: 'formation', 2508: 'formed', 2509: 'forms', 2510: 'formula', 2511: 'fort', 2512: 'forthcoming', 2513: 'fortunately', 2514: 'fortune', 2515: 'forty', 2516: 'forum', 2517: 'forward', 2518: 'foster', 2519: 'fought', 2520: 'foul', 2521: 'found', 2522: 'foundation', 2523: 'foundations', 2524: 'founded', 2525: 'founding', 2526: 'fournier', 2527: 'fourth', 2528: 'fox', 2529: 'frame', 2530: 'framing', 2531: 'france', 2532: 'francisco', 2533: 'frank', 2534: 'franken', 2535: 'franklin', 2536: 'frankly', 2537: 'franks', 2538: 'fraud', 2539: 'fray', 2540: 'freakin', 2541: 'fred', 2542: 'free', 2543: 'freedom', 2544: 'freedoms', 2545: 'freeper', 2546: 'freepers', 2547: 'freeway', 2548: 'french', 2549: 'frequent', 2550: 'frequently', 2551: 'fresh', 2552: 'freshman', 2553: 'friday', 2554: 'fridays', 2555: 'friedman', 2556: 'friend', 2557: 'friendly', 2558: 'friends', 2559: 'fringe', 2560: 'frist', 2561: 'frists', 2562: 'front', 2563: 'frontrunner', 2564: 'frost', 2565: 'frozen', 2566: 'frustrating', 2567: 'frustration', 2568: 'fubar', 2569: 'fuck', 2570: 'fucking', 2571: 'fuel', 2572: 'fueled', 2573: 'fulfill', 2574: 'fulfilled', 2575: 'full', 2576: 'fuller', 2577: 'fullfledged', 2578: 'fulltime', 2579: 'fully', 2580: 'fun', 2581: 'function', 2582: 'functioning', 2583: 'fund', 2584: 'fundamental', 2585: 'fundamentalist', 2586: 'fundamentally', 2587: 'fundamentals', 2588: 'funded', 2589: 'funding', 2590: 'fundraise', 2591: 'fundraiser', 2592: 'fundraisers', 2593: 'fundraising', 2594: 'funds', 2595: 'funeral', 2596: 'funny', 2597: 'furious', 2598: 'furiousxgeorge', 2599: 'future', 2600: 'futures', 2601: 'gadflyer', 2602: 'gaffe', 2603: 'gag', 2604: 'gain', 2605: 'gained', 2606: 'gaining', 2607: 'gains', 2608: 'gallery', 2609: 'gallup', 2610: 'gallups', 2611: 'gambit', 2612: 'gamble', 2613: 'game', 2614: 'games', 2615: 'gang', 2616: 'gap', 2617: 'garden', 2618: 'garner', 2619: 'garnered', 2620: 'garnering', 2621: 'garofalo', 2622: 'gary', 2623: 'gas', 2624: 'gasoline', 2625: 'gasp', 2626: 'gatana', 2627: 'gather', 2628: 'gathered', 2629: 'gathering', 2630: 'gauge', 2631: 'gave', 2632: 'gay', 2633: 'gays', 2634: 'gdp', 2635: 'gear', 2636: 'gehlen', 2637: 'gen', 2638: 'gene', 2639: 'general', 2640: 'generally', 2641: 'generals', 2642: 'generate', 2643: 'generated', 2644: 'generating', 2645: 'generation', 2646: 'generations', 2647: 'generic', 2648: 'generous', 2649: 'genetic', 2650: 'geneva', 2651: 'genuine', 2652: 'genuinely', 2653: 'george', 2654: 'georgia', 2655: 'gep', 2656: 'gephardt', 2657: 'gephardts', 2658: 'geps', 2659: 'gerlach', 2660: 'german', 2661: 'germany', 2662: 'getoutthevote', 2663: 'gharib', 2664: 'ghraib', 2665: 'giago', 2666: 'giant', 2667: 'gift', 2668: 'gig', 2669: 'gillespie', 2670: 'gilliard', 2671: 'gingrich', 2672: 'ginny', 2673: 'girl', 2674: 'girls', 2675: 'girly', 2676: 'giuliani', 2677: 'giving', 2678: 'glad', 2679: 'glance', 2680: 'glass', 2681: 'glenn', 2682: 'global', 2683: 'globe', 2684: 'glory', 2685: 'goal', 2686: 'goals', 2687: 'gobbell', 2688: 'god', 2689: 'gods', 2690: 'gold', 2691: 'golden', 2692: 'goldwater', 2693: 'golf', 2694: 'gonna', 2695: 'gonzales', 2696: 'goodness', 2697: 'goods', 2698: 'google', 2699: 'googlebomb', 2700: 'gooper', 2701: 'goopers', 2702: 'gop', 2703: 'gops', 2704: 'gordon', 2705: 'gore', 2706: 'gores', 2707: 'goss', 2708: 'gotcha', 2709: 'gotta', 2710: 'gotv', 2711: 'gov', 2712: 'govern', 2713: 'governance', 2714: 'governing', 2715: 'government', 2716: 'governmental', 2717: 'governments', 2718: 'governor', 2719: 'governors', 2720: 'governorship', 2721: 'grab', 2722: 'grabs', 2723: 'grade', 2724: 'gradually', 2725: 'graham', 2726: 'grain', 2727: 'grand', 2728: 'granholm', 2729: 'granite', 2730: 'grant', 2731: 'granted', 2732: 'grants', 2733: 'graph', 2734: 'graphic', 2735: 'grasp', 2736: 'grass', 2737: 'grassroots', 2738: 'grave', 2739: 'graves', 2740: 'gray', 2741: 'greater', 2742: 'greatest', 2743: 'greatly', 2744: 'green', 2745: 'greenhouse', 2746: 'greens', 2747: 'greenwood', 2748: 'greeted', 2749: 'greg', 2750: 'grenade', 2751: 'grew', 2752: 'grief', 2753: 'grim', 2754: 'gross', 2755: 'ground', 2756: 'grounds', 2757: 'group', 2758: 'groups', 2759: 'grover', 2760: 'grow', 2761: 'growing', 2762: 'grown', 2763: 'growth', 2764: 'guantanamo', 2765: 'guarantee', 2766: 'guaranteed', 2767: 'guard', 2768: 'guardian', 2769: 'guards', 2770: 'guardsmen', 2771: 'guatemala', 2772: 'gubenatorial', 2773: 'gubernatorial', 2774: 'guerilla', 2775: 'guerillas', 2776: 'guerrilla', 2777: 'guerrillas', 2778: 'guess', 2779: 'guessed', 2780: 'guessing', 2781: 'guest', 2782: 'guests', 2783: 'guide', 2784: 'guidelines', 2785: 'guild', 2786: 'guilty', 2787: 'gulf', 2788: 'gun', 2789: 'gunning', 2790: 'guns', 2791: 'gut', 2792: 'guv', 2793: 'guy', 2794: 'guys', 2795: 'gwb', 2796: 'habit', 2797: 'habits', 2798: 'hack', 2799: 'hacks', 2800: 'hadnt', 2801: 'hagel', 2802: 'hail', 2803: 'hailed', 2804: 'hair', 2805: 'half', 2806: 'halfway', 2807: 'hall', 2808: 'halliburton', 2809: 'halt', 2810: 'hamilton', 2811: 'hammer', 2812: 'hammered', 2813: 'hampshire', 2814: 'hand', 2815: 'handed', 2816: 'handful', 2817: 'handily', 2818: 'handing', 2819: 'handle', 2820: 'handled', 2821: 'handling', 2822: 'handover', 2823: 'handpicked', 2824: 'hands', 2825: 'handy', 2826: 'hang', 2827: 'hanging', 2828: 'hangs', 2829: 'hannah', 2830: 'hannity', 2831: 'happen', 2832: 'happened', 2833: 'happening', 2834: 'happily', 2835: 'happy', 2836: 'harbor', 2837: 'hard', 2838: 'hardball', 2839: 'hardcore', 2840: 'harder', 2841: 'hardest', 2842: 'hardworking', 2843: 'harkin', 2844: 'harm', 2845: 'harman', 2846: 'harold', 2847: 'harris', 2848: 'harry', 2849: 'harsh', 2850: 'hart', 2851: 'harts', 2852: 'harvard', 2853: 'hasnt', 2854: 'hastert', 2855: 'hat', 2856: 'hatch', 2857: 'hate', 2858: 'hated', 2859: 'hates', 2860: 'hatred', 2861: 'hats', 2862: 'haul', 2863: 'haven', 2864: 'havent', 2865: 'hawaii', 2866: 'hawk', 2867: 'head', 2868: 'headed', 2869: 'heading', 2870: 'headline', 2871: 'headlines', 2872: 'headquarters', 2873: 'heads', 2874: 'headtohead', 2875: 'health', 2876: 'healthcare', 2877: 'healthy', 2878: 'hear', 2879: 'heard', 2880: 'hearing', 2881: 'hearings', 2882: 'hears', 2883: 'heart', 2884: 'heartland', 2885: 'hearts', 2886: 'heat', 2887: 'heather', 2888: 'heaven', 2889: 'heavily', 2890: 'heavy', 2891: 'hecht', 2892: 'heck', 2893: 'hed', 2894: 'heels', 2895: 'height', 2896: 'held', 2897: 'helicopter', 2898: 'helicopters', 2899: 'hell', 2900: 'helped', 2901: 'helpful', 2902: 'helping', 2903: 'helps', 2904: 'henry', 2905: 'herald', 2906: 'heres', 2907: 'heritage', 2908: 'hero', 2909: 'heroes', 2910: 'heroism', 2911: 'herseth', 2912: 'herseths', 2913: 'hersh', 2914: 'hey', 2915: 'hidden', 2916: 'hide', 2917: 'hiding', 2918: 'high', 2919: 'higher', 2920: 'highest', 2921: 'highlevel', 2922: 'highlight', 2923: 'highlighted', 2924: 'highlights', 2925: 'highly', 2926: 'highprofile', 2927: 'hijack', 2928: 'hijackers', 2929: 'hill', 2930: 'hillary', 2931: 'hint', 2932: 'hints', 2933: 'hip', 2934: 'hire', 2935: 'hired', 2936: 'hiring', 2937: 'hispanic', 2938: 'hispanics', 2939: 'historic', 2940: 'historical', 2941: 'historically', 2942: 'history', 2943: 'hit', 2944: 'hitler', 2945: 'hits', 2946: 'hitting', 2947: 'hmm', 2948: 'hmmm', 2949: 'hoax', 2950: 'hoeffel', 2951: 'hoeffels', 2952: 'hold', 2953: 'holden', 2954: 'holding', 2955: 'holds', 2956: 'hole', 2957: 'holes', 2958: 'holiday', 2959: 'holidays', 2960: 'hollow', 2961: 'hollywood', 2962: 'holy', 2963: 'homeland', 2964: 'homepage', 2965: 'homes', 2966: 'hometown', 2967: 'honest', 2968: 'honestly', 2969: 'honesty', 2970: 'honor', 2971: 'honorable', 2972: 'honorably', 2973: 'honored', 2974: 'hoodies', 2975: 'hook', 2976: 'hoover', 2977: 'hope', 2978: 'hoped', 2979: 'hopeful', 2980: 'hopefuls', 2981: 'hopeless', 2982: 'hopes', 2983: 'hoping', 2984: 'horrible', 2985: 'horrific', 2986: 'horse', 2987: 'horserace', 2988: 'hospital', 2989: 'hospitals', 2990: 'host', 2991: 'hostage', 2992: 'hostages', 2993: 'hostile', 2994: 'hostility', 2995: 'hosting', 2996: 'hosts', 2997: 'hot', 2998: 'hotel', 2999: 'hotels', 3000: 'hotline', 3001: 'hotshotxi', 3002: 'hour', 3003: 'hours', 3004: 'house', 3005: 'household', 3006: 'households', 3007: 'houses', 3008: 'housing', 3009: 'houston', 3010: 'howard', 3011: 'hstewart', 3012: 'html', 3013: 'hubris', 3014: 'huge', 3015: 'hughes', 3016: 'huh', 3017: 'human', 3018: 'humanitarian', 3019: 'humans', 3020: 'humiliation', 3021: 'humphrey', 3022: 'humphreys', 3023: 'hundred', 3024: 'hundreds', 3025: 'hung', 3026: 'hungry', 3027: 'hunt', 3028: 'hunting', 3029: 'hurry', 3030: 'hurt', 3031: 'hurting', 3032: 'hurts', 3033: 'husband', 3034: 'husbands', 3035: 'hussein', 3036: 'husseins', 3037: 'hyde', 3038: 'hypocrisy', 3039: 'hypocrite', 3040: 'hypocrites', 3041: 'hypocritical', 3042: 'iaea', 3043: 'ibm', 3044: 'ice', 3045: 'idaho', 3046: 'idea', 3047: 'ideal', 3048: 'ideals', 3049: 'ideas', 3050: 'identification', 3051: 'identified', 3052: 'identify', 3053: 'identifying', 3054: 'identity', 3055: 'ideological', 3056: 'ideologically', 3057: 'ideologues', 3058: 'ideology', 3059: 'idetestthispres', 3060: 'idiot', 3061: 'idiots', 3062: 'idle', 3063: 'ignorance', 3064: 'ignorant', 3065: 'ignore', 3066: 'ignores', 3067: 'ignoring', 3068: 'iii', 3069: 'ill', 3070: 'illegal', 3071: 'illegally', 3072: 'illinois', 3073: 'illness', 3074: 'illusion', 3075: 'illusions', 3076: 'ilsen', 3077: 'image', 3078: 'images', 3079: 'imaginary', 3080: 'imagination', 3081: 'imagine', 3082: 'imam', 3083: 'immediately', 3084: 'immigrants', 3085: 'immigration', 3086: 'imminent', 3087: 'impact', 3088: 'impeachment', 3089: 'imperial', 3090: 'implement', 3091: 'implication', 3092: 'implications', 3093: 'implied', 3094: 'importance', 3095: 'important', 3096: 'importantly', 3097: 'impose', 3098: 'imposed', 3099: 'impossible', 3100: 'impressed', 3101: 'impression', 3102: 'impressive', 3103: 'improbable', 3104: 'improperly', 3105: 'improve', 3106: 'improved', 3107: 'improvement', 3108: 'improving', 3109: 'inability', 3110: 'inactive', 3111: 'inadequate', 3112: 'inappropriate', 3113: 'incentive', 3114: 'inching', 3115: 'incident', 3116: 'incidentally', 3117: 'incidents', 3118: 'inclined', 3119: 'include', 3120: 'included', 3121: 'includes', 3122: 'including', 3123: 'income', 3124: 'incomes', 3125: 'incoming', 3126: 'incompetence', 3127: 'incompetent', 3128: 'increase', 3129: 'increased', 3130: 'increases', 3131: 'increasing', 3132: 'increasingly', 3133: 'incredible', 3134: 'incredibly', 3135: 'incumbency', 3136: 'incumbent', 3137: 'incumbents', 3138: 'ind', 3139: 'independence', 3140: 'independent', 3141: 'independents', 3142: 'index', 3143: 'india', 3144: 'indian', 3145: 'indiana', 3146: 'indicating', 3147: 'indication', 3148: 'indications', 3149: 'indicted', 3150: 'indictment', 3151: 'indictments', 3152: 'individual', 3153: 'individuals', 3154: 'industrial', 3155: 'industries', 3156: 'industry', 3157: 'indymedia', 3158: 'ineffective', 3159: 'inevitable', 3160: 'inevitably', 3161: 'inez', 3162: 'infamous', 3163: 'infantry', 3164: 'inflation', 3165: 'influence', 3166: 'influential', 3167: 'info', 3168: 'inform', 3169: 'information', 3170: 'informed', 3171: 'infrastructure', 3172: 'initial', 3173: 'initially', 3174: 'initiative', 3175: 'initiatives', 3176: 'injured', 3177: 'injuries', 3178: 'injury', 3179: 'ink', 3180: 'innocent', 3181: 'innovation', 3182: 'innovative', 3183: 'inquirer', 3184: 'inquiry', 3185: 'insane', 3186: 'inside', 3187: 'insider', 3188: 'insiders', 3189: 'insight', 3190: 'insist', 3191: 'insisted', 3192: 'insistence', 3193: 'insisting', 3194: 'insists', 3195: 'inspection', 3196: 'inspector', 3197: 'inspectors', 3198: 'inspire', 3199: 'inspired', 3200: 'installed', 3201: 'instance', 3202: 'instances', 3203: 'instant', 3204: 'institute', 3205: 'institution', 3206: 'institutional', 3207: 'institutions', 3208: 'instructions', 3209: 'insult', 3210: 'insurance', 3211: 'insurgency', 3212: 'insurgent', 3213: 'insurgents', 3214: 'intangibles', 3215: 'integrity', 3216: 'intel', 3217: 'intellectual', 3218: 'intelligence', 3219: 'intelligent', 3220: 'intend', 3221: 'intended', 3222: 'intense', 3223: 'intensity', 3224: 'intent', 3225: 'intention', 3226: 'intentions', 3227: 'interactive', 3228: 'interest', 3229: 'interested', 3230: 'interesting', 3231: 'interestingly', 3232: 'interests', 3233: 'interim', 3234: 'interior', 3235: 'internal', 3236: 'internals', 3237: 'international', 3238: 'internet', 3239: 'internets', 3240: 'interpretation', 3241: 'interrogation', 3242: 'interview', 3243: 'interviewed', 3244: 'interviews', 3245: 'intimidate', 3246: 'intimidated', 3247: 'intimidation', 3248: 'introduce', 3249: 'introduced', 3250: 'introducing', 3251: 'invade', 3252: 'invaded', 3253: 'invasion', 3254: 'invented', 3255: 'invest', 3256: 'investigate', 3257: 'investigated', 3258: 'investigating', 3259: 'investigation', 3260: 'investigations', 3261: 'investigative', 3262: 'investigator', 3263: 'investigators', 3264: 'investment', 3265: 'investors', 3266: 'invisible', 3267: 'invitation', 3268: 'invite', 3269: 'invited', 3270: 'involve', 3271: 'involved', 3272: 'involvement', 3273: 'involves', 3274: 'involving', 3275: 'iowa', 3276: 'iowans', 3277: 'iowas', 3278: 'iran', 3279: 'iranian', 3280: 'irans', 3281: 'iraq', 3282: 'iraqi', 3283: 'iraqis', 3284: 'iraqs', 3285: 'iron', 3286: 'ironic', 3287: 'ironically', 3288: 'irony', 3289: 'irrelevant', 3290: 'irresponsible', 3291: 'islam', 3292: 'islamic', 3293: 'island', 3294: 'isnt', 3295: 'isolated', 3296: 'israel', 3297: 'israeli', 3298: 'issue', 3299: 'issued', 3300: 'issues', 3301: 'issuing', 3302: 'italian', 3303: 'italy', 3304: 'itd', 3305: 'item', 3306: 'items', 3307: 'itll', 3308: 'ivan', 3309: 'ive', 3310: 'iyad', 3311: 'jabber', 3312: 'jack', 3313: 'jackson', 3314: 'jail', 3315: 'james', 3316: 'jan', 3317: 'jane', 3318: 'janeane', 3319: 'janklow', 3320: 'janklows', 3321: 'january', 3322: 'japan', 3323: 'japanese', 3324: 'jay', 3325: 'jeb', 3326: 'jeff', 3327: 'jefferson', 3328: 'jenna', 3329: 'jennifer', 3330: 'jennings', 3331: 'jerome', 3332: 'jerry', 3333: 'jersey', 3334: 'jesse', 3335: 'jesus', 3336: 'jewish', 3337: 'jfk', 3338: 'jiacinto', 3339: 'jibber', 3340: 'jim', 3341: 'jimmy', 3342: 'jindal', 3343: 'job', 3344: 'jobless', 3345: 'jobs', 3346: 'jodi', 3347: 'joe', 3348: 'joel', 3349: 'john', 3350: 'johnny', 3351: 'johns', 3352: 'johnson', 3353: 'join', 3354: 'joined', 3355: 'joining', 3356: 'joins', 3357: 'joint', 3358: 'joke', 3359: 'jokes', 3360: 'jon', 3361: 'jones', 3362: 'jordan', 3363: 'jose', 3364: 'joseph', 3365: 'josh', 3366: 'journal', 3367: 'journalism', 3368: 'journalist', 3369: 'journalists', 3370: 'journals', 3371: 'journey', 3372: 'joy', 3373: 'juan', 3374: 'judge', 3375: 'judged', 3376: 'judges', 3377: 'judgment', 3378: 'judicial', 3379: 'judiciary', 3380: 'judith', 3381: 'judy', 3382: 'juicy', 3383: 'jul', 3384: 'july', 3385: 'jump', 3386: 'jumped', 3387: 'jumping', 3388: 'jun', 3389: 'june', 3390: 'junior', 3391: 'junkie', 3392: 'junkies', 3393: 'juppon', 3394: 'jury', 3395: 'justice', 3396: 'justices', 3397: 'justification', 3398: 'justified', 3399: 'justify', 3400: 'kansas', 3401: 'karen', 3402: 'karl', 3403: 'karma', 3404: 'katerina', 3405: 'katherine', 3406: 'kathleen', 3407: 'kay', 3408: 'kean', 3409: 'keeping', 3410: 'keever', 3411: 'ken', 3412: 'kennedy', 3413: 'kenneth', 3414: 'kenny', 3415: 'kentucky', 3416: 'kernan', 3417: 'kerr', 3418: 'kerrey', 3419: 'kerry', 3420: 'kerryedwards', 3421: 'kerrys', 3422: 'kevin', 3423: 'key', 3424: 'keyes', 3425: 'keynote', 3426: 'keys', 3427: 'keystone', 3428: 'kick', 3429: 'kicked', 3430: 'kicking', 3431: 'kid', 3432: 'kids', 3433: 'kill', 3434: 'killed', 3435: 'killer', 3436: 'killing', 3437: 'killings', 3438: 'kills', 3439: 'kim', 3440: 'kimmitt', 3441: 'kind', 3442: 'kinds', 3443: 'king', 3444: 'kingdom', 3445: 'kingelection', 3446: 'kitty', 3447: 'knew', 3448: 'knight', 3449: 'knock', 3450: 'knocked', 3451: 'knowing', 3452: 'knowledge', 3453: 'knowles', 3454: 'konop', 3455: 'korea', 3456: 'korean', 3457: 'kossacks', 3458: 'kroll', 3459: 'krugman', 3460: 'kucinich', 3461: 'kudos', 3462: 'kufa', 3463: 'kuhl', 3464: 'kurdish', 3465: 'kurds', 3466: 'kurtz', 3467: 'kuwait', 3468: 'kyoto', 3469: 'kysen', 3470: 'label', 3471: 'labor', 3472: 'labors', 3473: 'lack', 3474: 'lacked', 3475: 'lacking', 3476: 'laden', 3477: 'ladens', 3478: 'ladies', 3479: 'lady', 3480: 'lag', 3481: 'lai', 3482: 'laid', 3483: 'lake', 3484: 'lakes', 3485: 'lakoff', 3486: 'lame', 3487: 'lament', 3488: 'land', 3489: 'landed', 3490: 'landing', 3491: 'landmines', 3492: 'landrieu', 3493: 'lands', 3494: 'landscape', 3495: 'landslide', 3496: 'language', 3497: 'large', 3498: 'largely', 3499: 'larger', 3500: 'largest', 3501: 'larouche', 3502: 'larry', 3503: 'las', 3504: 'lastminute', 3505: 'late', 3506: 'latest', 3507: 'latif', 3508: 'latin', 3509: 'latino', 3510: 'latinos', 3511: 'laugh', 3512: 'laughed', 3513: 'laughing', 3514: 'laughter', 3515: 'launch', 3516: 'launched', 3517: 'laura', 3518: 'law', 3519: 'lawmakers', 3520: 'lawn', 3521: 'lawnorder', 3522: 'laws', 3523: 'lawsuit', 3524: 'lawsuits', 3525: 'lawyer', 3526: 'lawyers', 3527: 'lay', 3528: 'laying', 3529: 'layoffs', 3530: 'lays', 3531: 'lazy', 3532: 'leach', 3533: 'lead', 3534: 'leader', 3535: 'leaders', 3536: 'leadership', 3537: 'leading', 3538: 'leads', 3539: 'league', 3540: 'leak', 3541: 'leaked', 3542: 'leaking', 3543: 'leaks', 3544: 'lean', 3545: 'leaners', 3546: 'leaning', 3547: 'leans', 3548: 'learn', 3549: 'learned', 3550: 'learning', 3551: 'leave', 3552: 'leaves', 3553: 'leaving', 3554: 'lebanon', 3555: 'led', 3556: 'lee', 3557: 'left', 3558: 'legacy', 3559: 'legal', 3560: 'legally', 3561: 'legislation', 3562: 'legislative', 3563: 'legislator', 3564: 'legislators', 3565: 'legislature', 3566: 'legislatures', 3567: 'legitimacy', 3568: 'legitimate', 3569: 'legs', 3570: 'lehane', 3571: 'lend', 3572: 'length', 3573: 'lengthy', 3574: 'lesbian', 3575: 'lesbians', 3576: 'lesser', 3577: 'lesson', 3578: 'lessons', 3579: 'lets', 3580: 'letter', 3581: 'letters', 3582: 'letting', 3583: 'level', 3584: 'levels', 3585: 'levin', 3586: 'liability', 3587: 'liar', 3588: 'liars', 3589: 'libby', 3590: 'liberal', 3591: 'liberalism', 3592: 'liberalrakkasan', 3593: 'liberals', 3594: 'liberated', 3595: 'liberation', 3596: 'libertarian', 3597: 'libertarians', 3598: 'liberties', 3599: 'liberty', 3600: 'library', 3601: 'libya', 3602: 'license', 3603: 'licenses', 3604: 'lie', 3605: 'lieb', 3606: 'liebeck', 3607: 'lieberman', 3608: 'liebermans', 3609: 'lied', 3610: 'lies', 3611: 'lieutenant', 3612: 'life', 3613: 'lifetime', 3614: 'lift', 3615: 'light', 3616: 'lightbulb', 3617: 'likeability', 3618: 'likelihood', 3619: 'likes', 3620: 'likewise', 3621: 'limb', 3622: 'limbaugh', 3623: 'limit', 3624: 'limited', 3625: 'limits', 3626: 'lincoln', 3627: 'lindauer', 3628: 'lindsey', 3629: 'line', 3630: 'lined', 3631: 'lines', 3632: 'lineup', 3633: 'linked', 3634: 'linking', 3635: 'links', 3636: 'lisa', 3637: 'listed', 3638: 'listen', 3639: 'listened', 3640: 'listeners', 3641: 'listening', 3642: 'listings', 3643: 'lists', 3644: 'literally', 3645: 'literature', 3646: 'litigation', 3647: 'litmus', 3648: 'live', 3649: 'lived', 3650: 'lives', 3651: 'living', 3652: 'load', 3653: 'loaded', 3654: 'loan', 3655: 'loans', 3656: 'lobbying', 3657: 'lobbyist', 3658: 'lobbyists', 3659: 'local', 3660: 'locally', 3661: 'locals', 3662: 'located', 3663: 'location', 3664: 'locations', 3665: 'lock', 3666: 'locked', 3667: 'log', 3668: 'logic', 3669: 'logical', 3670: 'login', 3671: 'lois', 3672: 'lol', 3673: 'london', 3674: 'lone', 3675: 'long', 3676: 'longer', 3677: 'longshot', 3678: 'longstanding', 3679: 'longterm', 3680: 'longtime', 3681: 'looked', 3682: 'loophole', 3683: 'loose', 3684: 'looting', 3685: 'lord', 3686: 'los', 3687: 'lose', 3688: 'loser', 3689: 'losers', 3690: 'loses', 3691: 'losing', 3692: 'loss', 3693: 'losses', 3694: 'lost', 3695: 'lot', 3696: 'lots', 3697: 'lott', 3698: 'loud', 3699: 'louis', 3700: 'louisiana', 3701: 'louisville', 3702: 'love', 3703: 'loved', 3704: 'loves', 3705: 'loving', 3706: 'low', 3707: 'lower', 3708: 'lowering', 3709: 'lowest', 3710: 'loyal', 3711: 'loyalists', 3712: 'loyalty', 3713: 'luaptifer', 3714: 'luck', 3715: 'lucky', 3716: 'lud', 3717: 'ludicrous', 3718: 'lugar', 3719: 'luis', 3720: 'luntz', 3721: 'luxury', 3722: 'lvs', 3723: 'lying', 3724: 'lynch', 3725: 'lynne', 3726: 'lzmd', 3727: 'mac', 3728: 'machinations', 3729: 'machine', 3730: 'machines', 3731: 'mad', 3732: 'madison', 3733: 'madrid', 3734: 'magazine', 3735: 'magazines', 3736: 'magic', 3737: 'mahdi', 3738: 'mail', 3739: 'mailing', 3740: 'main', 3741: 'maine', 3742: 'mainstream', 3743: 'maintain', 3744: 'maintained', 3745: 'maintaining', 3746: 'maintains', 3747: 'maj', 3748: 'majette', 3749: 'major', 3750: 'majorities', 3751: 'majority', 3752: 'makes', 3753: 'making', 3754: 'male', 3755: 'mall', 3756: 'man', 3757: 'manage', 3758: 'managed', 3759: 'management', 3760: 'manager', 3761: 'managing', 3762: 'manchester', 3763: 'mandate', 3764: 'manhattan', 3765: 'manner', 3766: 'mans', 3767: 'mansion', 3768: 'manslaughter', 3769: 'manufacturers', 3770: 'manufacturing', 3771: 'map', 3772: 'maps', 3773: 'mar', 3774: 'marc', 3775: 'march', 3776: 'margaret', 3777: 'margin', 3778: 'marginal', 3779: 'margins', 3780: 'marilyn', 3781: 'marine', 3782: 'marines', 3783: 'marisacat', 3784: 'marist', 3785: 'mark', 3786: 'marked', 3787: 'markedly', 3788: 'market', 3789: 'marketing', 3790: 'markets', 3791: 'markos', 3792: 'marks', 3793: 'marriage', 3794: 'marriages', 3795: 'married', 3796: 'marry', 3797: 'mars', 3798: 'marshall', 3799: 'martin', 3800: 'martinez', 3801: 'mary', 3802: 'maryland', 3803: 'mask', 3804: 'masondixon', 3805: 'mass', 3806: 'massachusetts', 3807: 'massacre', 3808: 'massive', 3809: 'master', 3810: 'masters', 3811: 'match', 3812: 'matched', 3813: 'matches', 3814: 'matching', 3815: 'matchup', 3816: 'matchups', 3817: 'mate', 3818: 'material', 3819: 'materials', 3820: 'materiel', 3821: 'math', 3822: 'matheson', 3823: 'matrix', 3824: 'matsunaka', 3825: 'matt', 3826: 'matter', 3827: 'matters', 3828: 'matthew', 3829: 'matthews', 3830: 'max', 3831: 'maximum', 3832: 'maximumken', 3833: 'maya', 3834: 'mayor', 3835: 'mcauliffe', 3836: 'mccain', 3837: 'mccainfeingold', 3838: 'mccains', 3839: 'mccaskill', 3840: 'mcclellan', 3841: 'mcdonalds', 3842: 'mcentee', 3843: 'mcgovern', 3844: 'mcgreevey', 3845: 'mcmahon', 3846: 'meaning', 3847: 'meaningful', 3848: 'means', 3849: 'meant', 3850: 'meantime', 3851: 'measure', 3852: 'measured', 3853: 'measures', 3854: 'meat', 3855: 'medal', 3856: 'medals', 3857: 'media', 3858: 'medias', 3859: 'medical', 3860: 'medicare', 3861: 'medicine', 3862: 'medium', 3863: 'meet', 3864: 'meeting', 3865: 'meetings', 3866: 'meetup', 3867: 'mehlman', 3868: 'mel', 3869: 'melanie', 3870: 'melissa', 3871: 'meltdown', 3872: 'member', 3873: 'members', 3874: 'membership', 3875: 'meme', 3876: 'memo', 3877: 'memorandum', 3878: 'memorial', 3879: 'memories', 3880: 'memory', 3881: 'memos', 3882: 'men', 3883: 'mental', 3884: 'mention', 3885: 'mentioned', 3886: 'mentioning', 3887: 'mentions', 3888: 'menu', 3889: 'mercenaries', 3890: 'mercenary', 3891: 'mercs', 3892: 'mere', 3893: 'merit', 3894: 'merits', 3895: 'mess', 3896: 'message', 3897: 'messages', 3898: 'messy', 3899: 'met', 3900: 'metaphor', 3901: 'meteor', 3902: 'meter', 3903: 'method', 3904: 'methodology', 3905: 'methods', 3906: 'metro', 3907: 'mexico', 3908: 'meyerson', 3909: 'miami', 3910: 'mice', 3911: 'mich', 3912: 'michael', 3913: 'michigan', 3914: 'michigans', 3915: 'midday', 3916: 'middle', 3917: 'middleclass', 3918: 'midnight', 3919: 'midwest', 3920: 'mightve', 3921: 'mighty', 3922: 'mike', 3923: 'milbank', 3924: 'miles', 3925: 'milestone', 3926: 'militant', 3927: 'militants', 3928: 'military', 3929: 'militarys', 3930: 'militia', 3931: 'militiamen', 3932: 'militias', 3933: 'miller', 3934: 'millers', 3935: 'million', 3936: 'millionaire', 3937: 'millions', 3938: 'mind', 3939: 'minds', 3940: 'mine', 3941: 'minimal', 3942: 'minimize', 3943: 'minimum', 3944: 'minions', 3945: 'minister', 3946: 'ministers', 3947: 'ministries', 3948: 'ministry', 3949: 'minneapolis', 3950: 'minnesota', 3951: 'minor', 3952: 'minority', 3953: 'minus', 3954: 'minute', 3955: 'minutes', 3956: 'miracle', 3957: 'mirror', 3958: 'misconduct', 3959: 'miserable', 3960: 'misleading', 3961: 'misled', 3962: 'miss', 3963: 'missed', 3964: 'missile', 3965: 'missiles', 3966: 'missing', 3967: 'mission', 3968: 'missions', 3969: 'mississippi', 3970: 'missouri', 3971: 'missouris', 3972: 'mistake', 3973: 'mistaken', 3974: 'mistakes', 3975: 'misterajc', 3976: 'mitakides', 3977: 'mitch', 3978: 'mix', 3979: 'mixed', 3980: 'mode', 3981: 'model', 3982: 'models', 3983: 'moderate', 3984: 'moderates', 3985: 'modern', 3986: 'modest', 3987: 'moines', 3988: 'mojo', 3989: 'mom', 3990: 'moment', 3991: 'moments', 3992: 'momentum', 3993: 'mondale', 3994: 'monday', 3995: 'mondays', 3996: 'monetary', 3997: 'money', 3998: 'mongiardo', 3999: 'monitor', 4000: 'monitoring', 4001: 'monkeys', 4002: 'montana', 4003: 'montclair', 4004: 'month', 4005: 'monthly', 4006: 'mood', 4007: 'moon', 4008: 'moore', 4009: 'moores', 4010: 'moqtada', 4011: 'moral', 4012: 'morale', 4013: 'morning', 4014: 'morris', 4015: 'morrison', 4016: 'mortar', 4017: 'moseley', 4018: 'mosen', 4019: 'mosh', 4020: 'mosque', 4021: 'mosul', 4022: 'mother', 4023: 'mothers', 4024: 'motion', 4025: 'motivated', 4026: 'motivation', 4027: 'motivations', 4028: 'motives', 4029: 'mount', 4030: 'mountain', 4031: 'mounting', 4032: 'mouse', 4033: 'mouth', 4034: 'move', 4035: 'moved', 4036: 'movement', 4037: 'movements', 4038: 'moveon', 4039: 'moveonorg', 4040: 'moves', 4041: 'movie', 4042: 'movies', 4043: 'moving', 4044: 'mps', 4045: 'mrliberal', 4046: 'mrs', 4047: 'msnbc', 4048: 'mtp', 4049: 'mulling', 4050: 'multinational', 4051: 'multiple', 4052: 'muqtada', 4053: 'murder', 4054: 'murdoch', 4055: 'murkowski', 4056: 'murkowskis', 4057: 'murphy', 4058: 'murphys', 4059: 'murray', 4060: 'musgrave', 4061: 'music', 4062: 'muslim', 4063: 'muslims', 4064: 'muster', 4065: 'mustve', 4066: 'mustwin', 4067: 'mydd', 4068: 'myers', 4069: 'mystery', 4070: 'myth', 4071: 'naacp', 4072: 'nader', 4073: 'naders', 4074: 'nag', 4075: 'nagging', 4076: 'nagourney', 4077: 'nail', 4078: 'nails', 4079: 'najaf', 4080: 'naked', 4081: 'named', 4082: 'names', 4083: 'nancy', 4084: 'narrative', 4085: 'narrow', 4086: 'narrowed', 4087: 'narrower', 4088: 'narrowly', 4089: 'nasty', 4090: 'nathan', 4091: 'nation', 4092: 'national', 4093: 'nationally', 4094: 'nations', 4095: 'nationwide', 4096: 'native', 4097: 'nato', 4098: 'natural', 4099: 'naturally', 4100: 'nature', 4101: 'naval', 4102: 'navy', 4103: 'nazi', 4104: 'nazis', 4105: 'nbc', 4106: 'nbcs', 4107: 'nbcwsj', 4108: 'ndn', 4109: 'ndns', 4110: 'ndp', 4111: 'nearby', 4112: 'nebraska', 4113: 'necessarily', 4114: 'neck', 4115: 'needed', 4116: 'negative', 4117: 'negatives', 4118: 'negotiate', 4119: 'negotiating', 4120: 'negotiations', 4121: 'neighbor', 4122: 'neighborhood', 4123: 'neighborhoods', 4124: 'neighboring', 4125: 'neighbors', 4126: 'nelson', 4127: 'neocon', 4128: 'neocons', 4129: 'neoconservative', 4130: 'nepotism', 4131: 'nervous', 4132: 'net', 4133: 'nethercutt', 4134: 'netroots', 4135: 'network', 4136: 'networks', 4137: 'neutral', 4138: 'nevada', 4139: 'newberry', 4140: 'newberrys', 4141: 'newly', 4142: 'news', 4143: 'newsday', 4144: 'newspaper', 4145: 'newspapers', 4146: 'newsweek', 4147: 'newt', 4148: 'newwindow', 4149: 'nice', 4150: 'nicely', 4151: 'niche', 4152: 'nick', 4153: 'nickles', 4154: 'night', 4155: 'nighthorse', 4156: 'nightly', 4157: 'nightmare', 4158: 'nights', 4159: 'nixon', 4160: 'nixons', 4161: 'noble', 4162: 'nod', 4163: 'noise', 4164: 'nominate', 4165: 'nominated', 4166: 'nominating', 4167: 'nomination', 4168: 'nominee', 4169: 'nominees', 4170: 'nonetheless', 4171: 'nonexistent', 4172: 'nonpartisan', 4173: 'noon', 4174: 'nope', 4175: 'normal', 4176: 'norquist', 4177: 'north', 4178: 'northeast', 4179: 'northern', 4180: 'northup', 4181: 'northwest', 4182: 'notable', 4183: 'notably', 4184: 'note', 4185: 'noted', 4186: 'notes', 4187: 'notice', 4188: 'noticed', 4189: 'noting', 4190: 'notion', 4191: 'notorious', 4192: 'notwithstanding', 4193: 'nov', 4194: 'novak', 4195: 'november', 4196: 'npr', 4197: 'nprigo', 4198: 'nra', 4199: 'nrcc', 4200: 'nro', 4201: 'nrsc', 4202: 'nuclear', 4203: 'number', 4204: 'numbers', 4205: 'numerous', 4206: 'nussle', 4207: 'nuts', 4208: 'nyc', 4209: 'nyt', 4210: 'oath', 4211: 'obama', 4212: 'obamas', 4213: 'object', 4214: 'objective', 4215: 'objectively', 4216: 'objectives', 4217: 'obl', 4218: 'obligation', 4219: 'obligations', 4220: 'obscure', 4221: 'observation', 4222: 'observations', 4223: 'observed', 4224: 'observer', 4225: 'observers', 4226: 'obsession', 4227: 'obsolete', 4228: 'obtain', 4229: 'obtained', 4230: 'obvious', 4231: 'occasion', 4232: 'occasional', 4233: 'occasionally', 4234: 'occasions', 4235: 'occupation', 4236: 'occupied', 4237: 'occupiers', 4238: 'occupy', 4239: 'occupying', 4240: 'occur', 4241: 'occured', 4242: 'occurred', 4243: 'ocean', 4244: 'oceana', 4245: 'oconnor', 4246: 'oct', 4247: 'october', 4248: 'odd', 4249: 'odds', 4250: 'offended', 4251: 'offense', 4252: 'offensive', 4253: 'offer', 4254: 'offered', 4255: 'offering', 4256: 'offers', 4257: 'office', 4258: 'officer', 4259: 'officers', 4260: 'offices', 4261: 'official', 4262: 'officially', 4263: 'officials', 4264: 'offline', 4265: 'offset', 4266: 'oftentimes', 4267: 'ohio', 4268: 'ohios', 4269: 'ohpres', 4270: 'oil', 4271: 'oklahoma', 4272: 'oksen', 4273: 'olbermann', 4274: 'older', 4275: 'omb', 4276: 'oneill', 4277: 'onethird', 4278: 'onetime', 4279: 'ongoing', 4280: 'online', 4281: 'oops', 4282: 'oped', 4283: 'opened', 4284: 'openhttpwwwedwardsforprezcomdailykoshtml', 4285: 'opening', 4286: 'openly', 4287: 'opens', 4288: 'operate', 4289: 'operating', 4290: 'operation', 4291: 'operational', 4292: 'operations', 4293: 'operative', 4294: 'operatives', 4295: 'opinion', 4296: 'opinions', 4297: 'opponent', 4298: 'opponents', 4299: 'opportunities', 4300: 'opportunity', 4301: 'oppose', 4302: 'opposed', 4303: 'opposes', 4304: 'opposing', 4305: 'opposite', 4306: 'opposition', 4307: 'opted', 4308: 'optimism', 4309: 'optimist', 4310: 'optimistic', 4311: 'optimists', 4312: 'option', 4313: 'options', 4314: 'orange', 4315: 'orchestrated', 4316: 'order', 4317: 'ordered', 4318: 'orders', 4319: 'ordinary', 4320: 'oregon', 4321: 'oregonian', 4322: 'oreilly', 4323: 'organization', 4324: 'organizational', 4325: 'organizations', 4326: 'organize', 4327: 'organized', 4328: 'organizers', 4329: 'organizing', 4330: 'orientation', 4331: 'original', 4332: 'originally', 4333: 'orlando', 4334: 'orleans', 4335: 'orrin', 4336: 'osama', 4337: 'ouch', 4338: 'ourcongress', 4339: 'ourcongressorg', 4340: 'oust', 4341: 'outcome', 4342: 'outdated', 4343: 'outed', 4344: 'outfit', 4345: 'outfits', 4346: 'outgoing', 4347: 'outing', 4348: 'outlet', 4349: 'outlets', 4350: 'outlier', 4351: 'outnumbered', 4352: 'output', 4353: 'outrage', 4354: 'outraged', 4355: 'outrageous', 4356: 'outraised', 4357: 'outreach', 4358: 'outright', 4359: 'outsiders', 4360: 'outsourcing', 4361: 'outspent', 4362: 'outspoken', 4363: 'outstanding', 4364: 'oval', 4365: 'overcome', 4366: 'overhaul', 4367: 'overnight', 4368: 'overseas', 4369: 'oversight', 4370: 'overt', 4371: 'overtime', 4372: 'overturn', 4373: 'overview', 4374: 'overwhelming', 4375: 'overwhelmingly', 4376: 'owe', 4377: 'owens', 4378: 'owes', 4379: 'owned', 4380: 'owner', 4381: 'owners', 4382: 'ownership', 4383: 'owns', 4384: 'oxley', 4385: 'pac', 4386: 'pace', 4387: 'pacific', 4388: 'pack', 4389: 'package', 4390: 'packed', 4391: 'pacs', 4392: 'page', 4393: 'pages', 4394: 'paid', 4395: 'paige', 4396: 'pain', 4397: 'painful', 4398: 'paint', 4399: 'painted', 4400: 'pakistan', 4401: 'pakistani', 4402: 'palace', 4403: 'paleo', 4404: 'paleos', 4405: 'palestinian', 4406: 'palestinians', 4407: 'palm', 4408: 'pan', 4409: 'panel', 4410: 'panels', 4411: 'panic', 4412: 'paper', 4413: 'papers', 4414: 'paragraph', 4415: 'paragraphs', 4416: 'parecommend', 4417: 'parent', 4418: 'parentheses', 4419: 'parenthesis', 4420: 'parents', 4421: 'parish', 4422: 'parity', 4423: 'park', 4424: 'parliament', 4425: 'partial', 4426: 'participants', 4427: 'participate', 4428: 'participated', 4429: 'participating', 4430: 'participation', 4431: 'participatory', 4432: 'parties', 4433: 'partisan', 4434: 'partisans', 4435: 'partisanship', 4436: 'partly', 4437: 'partner', 4438: 'partners', 4439: 'partnership', 4440: 'parts', 4441: 'party', 4442: 'partys', 4443: 'pass', 4444: 'passage', 4445: 'passed', 4446: 'passes', 4447: 'passing', 4448: 'passion', 4449: 'passionate', 4450: 'password', 4451: 'past', 4452: 'pat', 4453: 'pataki', 4454: 'path', 4455: 'pathetic', 4456: 'patience', 4457: 'patient', 4458: 'patients', 4459: 'patrick', 4460: 'patriot', 4461: 'patriotism', 4462: 'patriots', 4463: 'patrol', 4464: 'patron', 4465: 'patsy', 4466: 'pattern', 4467: 'patterns', 4468: 'patty', 4469: 'paul', 4470: 'pause', 4471: 'pay', 4472: 'paying', 4473: 'payment', 4474: 'payments', 4475: 'payroll', 4476: 'pays', 4477: 'pdb', 4478: 'pdf', 4479: 'peace', 4480: 'peaceful', 4481: 'peak', 4482: 'peanut', 4483: 'pearl', 4484: 'pelosi', 4485: 'penalty', 4486: 'pending', 4487: 'penn', 4488: 'pennsylvania', 4489: 'pennsylvanias', 4490: 'penny', 4491: 'pentagon', 4492: 'pentagons', 4493: 'people', 4494: 'peoples', 4495: 'perceived', 4496: 'percent', 4497: 'percentage', 4498: 'percentages', 4499: 'perception', 4500: 'perceptions', 4501: 'perfect', 4502: 'perfectly', 4503: 'perform', 4504: 'performance', 4505: 'performances', 4506: 'performed', 4507: 'peril', 4508: 'period', 4509: 'perle', 4510: 'permanent', 4511: 'permanently', 4512: 'permission', 4513: 'permit', 4514: 'permitted', 4515: 'perpetrated', 4516: 'perry', 4517: 'persian', 4518: 'persistent', 4519: 'person', 4520: 'personal', 4521: 'personality', 4522: 'personally', 4523: 'personnel', 4524: 'persons', 4525: 'perspective', 4526: 'persuade', 4527: 'persuaded', 4528: 'persuasion', 4529: 'persuasive', 4530: 'pessimistic', 4531: 'pet', 4532: 'pete', 4533: 'peter', 4534: 'petition', 4535: 'petitions', 4536: 'petraeus', 4537: 'petroleum', 4538: 'pew', 4539: 'phase', 4540: 'phenomenon', 4541: 'phil', 4542: 'philadelphia', 4543: 'philip', 4544: 'philippines', 4545: 'philly', 4546: 'philosophical', 4547: 'phoenix', 4548: 'phone', 4549: 'phones', 4550: 'phony', 4551: 'photo', 4552: 'photograph', 4553: 'photographs', 4554: 'photos', 4555: 'phrase', 4556: 'physical', 4557: 'physically', 4558: 'physician', 4559: 'pick', 4560: 'picked', 4561: 'picket', 4562: 'picking', 4563: 'picks', 4564: 'pickup', 4565: 'pickups', 4566: 'pics', 4567: 'picture', 4568: 'pictures', 4569: 'piece', 4570: 'pieces', 4571: 'pile', 4572: 'pilot', 4573: 'pin', 4574: 'pinning', 4575: 'pissed', 4576: 'pitch', 4577: 'pittsburgh', 4578: 'place', 4579: 'placement', 4580: 'places', 4581: 'placing', 4582: 'plain', 4583: 'plame', 4584: 'plan', 4585: 'plane', 4586: 'planes', 4587: 'planet', 4588: 'planned', 4589: 'planners', 4590: 'planning', 4591: 'plans', 4592: 'plant', 4593: 'plants', 4594: 'plastic', 4595: 'plate', 4596: 'platform', 4597: 'plausible', 4598: 'play', 4599: 'playbook', 4600: 'played', 4601: 'player', 4602: 'players', 4603: 'playing', 4604: 'plays', 4605: 'plea', 4606: 'pleased', 4607: 'pleasure', 4608: 'pledge', 4609: 'pledged', 4610: 'plenty', 4611: 'plot', 4612: 'plug', 4613: 'pocket', 4614: 'pockets', 4615: 'podium', 4616: 'pointed', 4617: 'pointing', 4618: 'pol', 4619: 'poland', 4620: 'polarized', 4621: 'pole', 4622: 'police', 4623: 'policies', 4624: 'policy', 4625: 'polish', 4626: 'political', 4627: 'politically', 4628: 'politician', 4629: 'politicians', 4630: 'politics', 4631: 'poll', 4632: 'polled', 4633: 'polling', 4634: 'polls', 4635: 'pollster', 4636: 'pollsters', 4637: 'pollution', 4638: 'pool', 4639: 'poor', 4640: 'poorly', 4641: 'pop', 4642: 'pope', 4643: 'popular', 4644: 'popularity', 4645: 'population', 4646: 'populist', 4647: 'port', 4648: 'porter', 4649: 'portion', 4650: 'portland', 4651: 'portray', 4652: 'portrayed', 4653: 'ports', 4654: 'pose', 4655: 'posed', 4656: 'poses', 4657: 'position', 4658: 'positioned', 4659: 'positioning', 4660: 'positions', 4661: 'positive', 4662: 'possession', 4663: 'possibilities', 4664: 'possibility', 4665: 'possibly', 4666: 'postconvention', 4667: 'postdebate', 4668: 'posted', 4669: 'poster', 4670: 'posters', 4671: 'posting', 4672: 'postiowa', 4673: 'posts', 4674: 'postsaddam', 4675: 'postwar', 4676: 'pot', 4677: 'potent', 4678: 'potential', 4679: 'potentially', 4680: 'pound', 4681: 'poverty', 4682: 'powell', 4683: 'powells', 4684: 'power', 4685: 'powered', 4686: 'powerful', 4687: 'powers', 4688: 'practical', 4689: 'practically', 4690: 'practice', 4691: 'practices', 4692: 'practicing', 4693: 'pragmatic', 4694: 'praise', 4695: 'praised', 4696: 'praising', 4697: 'prayer', 4698: 'precedent', 4699: 'precinct', 4700: 'precincts', 4701: 'precious', 4702: 'precisely', 4703: 'predebate', 4704: 'predict', 4705: 'predicted', 4706: 'predicting', 4707: 'prediction', 4708: 'predictions', 4709: 'predictive', 4710: 'preelection', 4711: 'preemptive', 4712: 'prefer', 4713: 'preference', 4714: 'preferences', 4715: 'preferred', 4716: 'preliminary', 4717: 'premature', 4718: 'preparation', 4719: 'preparations', 4720: 'prepare', 4721: 'prepared', 4722: 'preparing', 4723: 'pres', 4724: 'prescription', 4725: 'presence', 4726: 'present', 4727: 'presentation', 4728: 'presented', 4729: 'presenting', 4730: 'presents', 4731: 'preserve', 4732: 'presided', 4733: 'presidency', 4734: 'president', 4735: 'presidential', 4736: 'presidents', 4737: 'press', 4738: 'pressed', 4739: 'presses', 4740: 'pressing', 4741: 'pressure', 4742: 'pressures', 4743: 'presumptive', 4744: 'pretend', 4745: 'pretending', 4746: 'pretty', 4747: 'prevail', 4748: 'prevent', 4749: 'prevented', 4750: 'preventing', 4751: 'preview', 4752: 'previous', 4753: 'previously', 4754: 'prewar', 4755: 'price', 4756: 'prices', 4757: 'pride', 4758: 'primaries', 4759: 'primarily', 4760: 'primary', 4761: 'primaryfree', 4762: 'prime', 4763: 'primetime', 4764: 'prince', 4765: 'principal', 4766: 'principle', 4767: 'principles', 4768: 'print', 4769: 'printed', 4770: 'prior', 4771: 'priorities', 4772: 'priority', 4773: 'prison', 4774: 'prisoner', 4775: 'prisoners', 4776: 'prisons', 4777: 'privacy', 4778: 'private', 4779: 'privately', 4780: 'prize', 4781: 'pro', 4782: 'probable', 4783: 'probe', 4784: 'problem', 4785: 'problems', 4786: 'probush', 4787: 'procedural', 4788: 'procedure', 4789: 'proceed', 4790: 'process', 4791: 'prochoice', 4792: 'produce', 4793: 'produced', 4794: 'producer', 4795: 'produces', 4796: 'producing', 4797: 'product', 4798: 'production', 4799: 'products', 4800: 'professional', 4801: 'professionals', 4802: 'professor', 4803: 'profile', 4804: 'profiles', 4805: 'profit', 4806: 'profits', 4807: 'program', 4808: 'programming', 4809: 'programs', 4810: 'progress', 4811: 'progressive', 4812: 'progressives', 4813: 'prohibited', 4814: 'project', 4815: 'projected', 4816: 'projection', 4817: 'projections', 4818: 'projects', 4819: 'prokerry', 4820: 'prolife', 4821: 'prominent', 4822: 'promise', 4823: 'promised', 4824: 'promises', 4825: 'promising', 4826: 'promote', 4827: 'promoted', 4828: 'promoting', 4829: 'promotion', 4830: 'prompted', 4831: 'prompting', 4832: 'proof', 4833: 'propaganda', 4834: 'proper', 4835: 'properly', 4836: 'property', 4837: 'proportions', 4838: 'proposal', 4839: 'proposals', 4840: 'propose', 4841: 'proposed', 4842: 'props', 4843: 'pros', 4844: 'prosecution', 4845: 'prosecutor', 4846: 'prosecutors', 4847: 'prospect', 4848: 'prospects', 4849: 'prostate', 4850: 'protect', 4851: 'protected', 4852: 'protecting', 4853: 'protection', 4854: 'protections', 4855: 'protest', 4856: 'protesters', 4857: 'protests', 4858: 'proud', 4859: 'proudly', 4860: 'prove', 4861: 'proved', 4862: 'proven', 4863: 'proves', 4864: 'provide', 4865: 'provided', 4866: 'providing', 4867: 'province', 4868: 'proving', 4869: 'provision', 4870: 'provisional', 4871: 'provisions', 4872: 'pst', 4873: 'public', 4874: 'publication', 4875: 'publications', 4876: 'publicity', 4877: 'publicly', 4878: 'publics', 4879: 'publish', 4880: 'published', 4881: 'publisher', 4882: 'publishing', 4883: 'pull', 4884: 'pulled', 4885: 'pulling', 4886: 'pulls', 4887: 'pummeled', 4888: 'pump', 4889: 'punch', 4890: 'pundit', 4891: 'pundits', 4892: 'punishment', 4893: 'punkmonk', 4894: 'puppet', 4895: 'pure', 4896: 'purely', 4897: 'purple', 4898: 'purpose', 4899: 'purposes', 4900: 'pursue', 4901: 'pursuing', 4902: 'pursuit', 4903: 'push', 4904: 'pushed', 4905: 'pushes', 4906: 'pushing', 4907: 'put', 4908: 'puts', 4909: 'putting', 4910: 'qadafi', 4911: 'qaeda', 4912: 'qaida', 4913: 'qaqaa', 4914: 'qpoll', 4915: 'quagmire', 4916: 'qualified', 4917: 'qualify', 4918: 'quality', 4919: 'quandry', 4920: 'quarter', 4921: 'quarters', 4922: 'queda', 4923: 'queen', 4924: 'quest', 4925: 'question', 4926: 'questionable', 4927: 'questioned', 4928: 'questioning', 4929: 'questions', 4930: 'quick', 4931: 'quickly', 4932: 'quiet', 4933: 'quietly', 4934: 'quinnipiac', 4935: 'quit', 4936: 'quote', 4937: 'quoted', 4938: 'quotes', 4939: 'quoting', 4940: 'race', 4941: 'races', 4942: 'racial', 4943: 'racicot', 4944: 'racine', 4945: 'racism', 4946: 'racist', 4947: 'rack', 4948: 'rad', 4949: 'radar', 4950: 'radical', 4951: 'radicals', 4952: 'radio', 4953: 'rage', 4954: 'rain', 4955: 'raise', 4956: 'raised', 4957: 'raises', 4958: 'raising', 4959: 'rallies', 4960: 'rally', 4961: 'ralph', 4962: 'ramadan', 4963: 'ramadi', 4964: 'ramp', 4965: 'rampant', 4966: 'ramsey', 4967: 'ran', 4968: 'ranch', 4969: 'random', 4970: 'randy', 4971: 'range', 4972: 'ranging', 4973: 'rank', 4974: 'ranked', 4975: 'ranking', 4976: 'rankings', 4977: 'ranks', 4978: 'rant', 4979: 'rants', 4980: 'rap', 4981: 'rape', 4982: 'rapid', 4983: 'rapidly', 4984: 'rapids', 4985: 'rare', 4986: 'rarely', 4987: 'rariz', 4988: 'rasmussen', 4989: 'rasmussens', 4990: 'rate', 4991: 'rates', 4992: 'rating', 4993: 'ratings', 4994: 'ratio', 4995: 'rational', 4996: 'rationale', 4997: 'rationales', 4998: 'rationing', 4999: 'raw', 5000: 'ray', 5001: 'rcalif', 5002: 'reach', 5003: 'reached', 5004: 'reaches', 5005: 'reaching', 5006: 'reaction', 5007: 'reactions', 5008: 'read', 5009: 'reader', 5010: 'readers', 5011: 'reading', 5012: 'reads', 5013: 'ready', 5014: 'reagan', 5015: 'reagans', 5016: 'real', 5017: 'realistic', 5018: 'realities', 5019: 'reality', 5020: 'realitybased', 5021: 'realization', 5022: 'realize', 5023: 'realized', 5024: 'reason', 5025: 'reasonable', 5026: 'reasons', 5027: 'rebel', 5028: 'rebellion', 5029: 'rebuild', 5030: 'rebuilding', 5031: 'recall', 5032: 'recap', 5033: 'receipts', 5034: 'receive', 5035: 'received', 5036: 'receives', 5037: 'receiving', 5038: 'recently', 5039: 'recession', 5040: 'reckless', 5041: 'recognition', 5042: 'recognize', 5043: 'recognized', 5044: 'recognizing', 5045: 'recommend', 5046: 'recommendation', 5047: 'recommendations', 5048: 'recommended', 5049: 'reconstruction', 5050: 'record', 5051: 'recorded', 5052: 'records', 5053: 'recount', 5054: 'recover', 5055: 'recovering', 5056: 'recovery', 5057: 'recruit', 5058: 'recruited', 5059: 'recruiting', 5060: 'recruits', 5061: 'red', 5062: 'redacted', 5063: 'redistricting', 5064: 'reduce', 5065: 'reduced', 5066: 'reducing', 5067: 'reed', 5068: 'reef', 5069: 'reelect', 5070: 'reelected', 5071: 'reelection', 5072: 'refer', 5073: 'reference', 5074: 'referendum', 5075: 'referred', 5076: 'referring', 5077: 'refers', 5078: 'reflect', 5079: 'reflected', 5080: 'reflecting', 5081: 'reflection', 5082: 'reflects', 5083: 'reform', 5084: 'reforms', 5085: 'refusal', 5086: 'refuse', 5087: 'refused', 5088: 'refuses', 5089: 'refusing', 5090: 'regain', 5091: 'regard', 5092: 'regarded', 5093: 'regime', 5094: 'regimes', 5095: 'region', 5096: 'regional', 5097: 'regions', 5098: 'register', 5099: 'registered', 5100: 'registering', 5101: 'registrants', 5102: 'registration', 5103: 'registrations', 5104: 'regula', 5105: 'regular', 5106: 'regularly', 5107: 'regulation', 5108: 'regulations', 5109: 'reid', 5110: 'reject', 5111: 'rejected', 5112: 'related', 5113: 'relations', 5114: 'relationship', 5115: 'relative', 5116: 'relatives', 5117: 'relax', 5118: 'release', 5119: 'released', 5120: 'releases', 5121: 'releasing', 5122: 'relentless', 5123: 'relevance', 5124: 'relevant', 5125: 'reliable', 5126: 'relied', 5127: 'relief', 5128: 'religion', 5129: 'religious', 5130: 'rell', 5131: 'reluctant', 5132: 'rely', 5133: 'relying', 5134: 'remain', 5135: 'remained', 5136: 'remaining', 5137: 'remains', 5138: 'remark', 5139: 'remarkable', 5140: 'remarkably', 5141: 'remarks', 5142: 'remember', 5143: 'remembered', 5144: 'remind', 5145: 'reminded', 5146: 'reminder', 5147: 'reminds', 5148: 'remorse', 5149: 'remove', 5150: 'removed', 5151: 'removing', 5152: 'rendell', 5153: 'renewed', 5154: 'reno', 5155: 'rep', 5156: 'repeat', 5157: 'repeated', 5158: 'repeatedly', 5159: 'repeating', 5160: 'repercussions', 5161: 'replace', 5162: 'replaced', 5163: 'replacement', 5164: 'replacing', 5165: 'replied', 5166: 'report', 5167: 'reported', 5168: 'reportedly', 5169: 'reporter', 5170: 'reporters', 5171: 'reporting', 5172: 'reports', 5173: 'represent', 5174: 'representation', 5175: 'representative', 5176: 'representatives', 5177: 'represented', 5178: 'representing', 5179: 'represents', 5180: 'reproductive', 5181: 'reps', 5182: 'repub', 5183: 'republic', 5184: 'republican', 5185: 'republicans', 5186: 'republicansforkerry', 5187: 'repubs', 5188: 'reputation', 5189: 'request', 5190: 'requested', 5191: 'requests', 5192: 'require', 5193: 'required', 5194: 'requirement', 5195: 'requirements', 5196: 'requires', 5197: 'requiring', 5198: 'rescue', 5199: 'research', 5200: 'researchers', 5201: 'reserve', 5202: 'reserved', 5203: 'reserves', 5204: 'reservists', 5205: 'resident', 5206: 'residents', 5207: 'resign', 5208: 'resignation', 5209: 'resigned', 5210: 'resigns', 5211: 'resist', 5212: 'resistance', 5213: 'resolution', 5214: 'resolve', 5215: 'resolved', 5216: 'resonate', 5217: 'resort', 5218: 'resource', 5219: 'resources', 5220: 'respect', 5221: 'respected', 5222: 'respective', 5223: 'respond', 5224: 'responded', 5225: 'respondents', 5226: 'responders', 5227: 'responding', 5228: 'responds', 5229: 'response', 5230: 'responses', 5231: 'responsibilities', 5232: 'responsibility', 5233: 'responsible', 5234: 'responsive', 5235: 'rest', 5236: 'restaurant', 5237: 'restore', 5238: 'restrict', 5239: 'restrictions', 5240: 'result', 5241: 'resulted', 5242: 'resulting', 5243: 'results', 5244: 'resume', 5245: 'retain', 5246: 'retake', 5247: 'retaking', 5248: 'retaliation', 5249: 'retention', 5250: 'retire', 5251: 'retired', 5252: 'retirement', 5253: 'retiring', 5254: 'retreat', 5255: 'return', 5256: 'returned', 5257: 'returning', 5258: 'returns', 5259: 'reuters', 5260: 'reveal', 5261: 'revealed', 5262: 'revealing', 5263: 'reveals', 5264: 'revelation', 5265: 'revelations', 5266: 'revenue', 5267: 'revenues', 5268: 'reverse', 5269: 'reversed', 5270: 'review', 5271: 'reviewing', 5272: 'reviews', 5273: 'revised', 5274: 'revolt', 5275: 'revolution', 5276: 'reward', 5277: 'rewards', 5278: 'reynolds', 5279: 'rhetoric', 5280: 'rhode', 5281: 'ribbons', 5282: 'rice', 5283: 'rices', 5284: 'rich', 5285: 'richard', 5286: 'richards', 5287: 'richardson', 5288: 'rick', 5289: 'rid', 5290: 'ridder', 5291: 'ride', 5292: 'ridge', 5293: 'ridiculous', 5294: 'ridiculously', 5295: 'riding', 5296: 'rifle', 5297: 'rightly', 5298: 'rights', 5299: 'rightwing', 5300: 'rimjob', 5301: 'rimjobs', 5302: 'ripped', 5303: 'rise', 5304: 'risen', 5305: 'rises', 5306: 'rising', 5307: 'risk', 5308: 'risks', 5309: 'rival', 5310: 'rivals', 5311: 'river', 5312: 'rkan', 5313: 'rnc', 5314: 'rncs', 5315: 'road', 5316: 'roads', 5317: 'roadside', 5318: 'rob', 5319: 'robert', 5320: 'roberts', 5321: 'robertson', 5322: 'robinson', 5323: 'robots', 5324: 'robust', 5325: 'rock', 5326: 'rockefeller', 5327: 'rocket', 5328: 'rocky', 5329: 'rod', 5330: 'rodgers', 5331: 'rodney', 5332: 'roger', 5333: 'rogers', 5334: 'rogue', 5335: 'role', 5336: 'roll', 5337: 'rolling', 5338: 'rolls', 5339: 'romero', 5340: 'romney', 5341: 'ron', 5342: 'ronald', 5343: 'ronk', 5344: 'ronnie', 5345: 'roof', 5346: 'room', 5347: 'rooms', 5348: 'roosevelt', 5349: 'roost', 5350: 'root', 5351: 'rooting', 5352: 'roots', 5353: 'rose', 5354: 'rosenberg', 5355: 'rotated', 5356: 'rotten', 5357: 'rough', 5358: 'roughly', 5359: 'round', 5360: 'rounds', 5361: 'roundup', 5362: 'route', 5363: 'routine', 5364: 'rove', 5365: 'roves', 5366: 'row', 5367: 'rowland', 5368: 'roy', 5369: 'royal', 5370: 'rtenn', 5371: 'rtexas', 5372: 'rubin', 5373: 'rude', 5374: 'rudy', 5375: 'rule', 5376: 'ruled', 5377: 'rules', 5378: 'ruling', 5379: 'rulings', 5380: 'rummy', 5381: 'rumor', 5382: 'rumors', 5383: 'rumsfeld', 5384: 'rumsfelds', 5385: 'running', 5386: 'runoff', 5387: 'runs', 5388: 'runup', 5389: 'rural', 5390: 'rush', 5391: 'russ', 5392: 'russell', 5393: 'russert', 5394: 'russia', 5395: 'russo', 5396: 'rusty', 5397: 'ruy', 5398: 'rva', 5399: 'ryan', 5400: 'ryans', 5401: 'sabato', 5402: 'sabotage', 5403: 'sacred', 5404: 'sacrifice', 5405: 'sacrifices', 5406: 'sad', 5407: 'saddam', 5408: 'saddams', 5409: 'sadr', 5410: 'sadrs', 5411: 'safe', 5412: 'safely', 5413: 'safer', 5414: 'safety', 5415: 'sahni', 5416: 'sailor', 5417: 'sake', 5418: 'salaries', 5419: 'salazar', 5420: 'sale', 5421: 'saleh', 5422: 'sales', 5423: 'salient', 5424: 'salon', 5425: 'salt', 5426: 'salvador', 5427: 'sam', 5428: 'samara', 5429: 'samarra', 5430: 'samesex', 5431: 'sample', 5432: 'samples', 5433: 'sampling', 5434: 'san', 5435: 'sanchez', 5436: 'sanctions', 5437: 'sand', 5438: 'sandy', 5439: 'sanity', 5440: 'santorum', 5441: 'sappy', 5442: 'satellite', 5443: 'satisfied', 5444: 'saturday', 5445: 'saudi', 5446: 'saudis', 5447: 'save', 5448: 'saved', 5449: 'saving', 5450: 'savings', 5451: 'sawyer', 5452: 'sbvt', 5453: 'scale', 5454: 'scalia', 5455: 'scan', 5456: 'scandal', 5457: 'scandals', 5458: 'scarborough', 5459: 'scare', 5460: 'scared', 5461: 'scary', 5462: 'scathing', 5463: 'scenario', 5464: 'scenarios', 5465: 'scene', 5466: 'scenes', 5467: 'schaffer', 5468: 'schaller', 5469: 'schedule', 5470: 'scheduled', 5471: 'scheme', 5472: 'schneider', 5473: 'school', 5474: 'schools', 5475: 'schrader', 5476: 'schrock', 5477: 'schumer', 5478: 'schwartz', 5479: 'schwarz', 5480: 'schwarzenegger', 5481: 'science', 5482: 'scientific', 5483: 'scientist', 5484: 'scientists', 5485: 'sclm', 5486: 'scoop', 5487: 'scooter', 5488: 'scope', 5489: 'score', 5490: 'scorecard', 5491: 'scored', 5492: 'scores', 5493: 'scoring', 5494: 'scott', 5495: 'scrambling', 5496: 'scratch', 5497: 'scream', 5498: 'screen', 5499: 'screening', 5500: 'screw', 5501: 'screwed', 5502: 'script', 5503: 'scroll', 5504: 'scrutiny', 5505: 'scsen', 5506: 'sdal', 5507: 'sea', 5508: 'seal', 5509: 'sealed', 5510: 'seamus', 5511: 'sean', 5512: 'search', 5513: 'searches', 5514: 'searching', 5515: 'season', 5516: 'seat', 5517: 'seats', 5518: 'seattle', 5519: 'secondplace', 5520: 'seconds', 5521: 'secrecy', 5522: 'secret', 5523: 'secretaries', 5524: 'secretary', 5525: 'secretly', 5526: 'secrets', 5527: 'section', 5528: 'sector', 5529: 'secular', 5530: 'secure', 5531: 'secured', 5532: 'securing', 5533: 'security', 5534: 'seek', 5535: 'seeking', 5536: 'seeks', 5537: 'seemann', 5538: 'seemanns', 5539: 'seemingly', 5540: 'sees', 5541: 'segment', 5542: 'seiu', 5543: 'seized', 5544: 'select', 5545: 'selected', 5546: 'selection', 5547: 'selective', 5548: 'sell', 5549: 'selling', 5550: 'sen', 5551: 'senate', 5552: 'senategovernors', 5553: 'senates', 5554: 'senator', 5555: 'senatorial', 5556: 'senators', 5557: 'send', 5558: 'sending', 5559: 'sends', 5560: 'senior', 5561: 'seniors', 5562: 'senor', 5563: 'sens', 5564: 'sense', 5565: 'sensitive', 5566: 'sentence', 5567: 'sentences', 5568: 'sentiment', 5569: 'sentiments', 5570: 'sep', 5571: 'separate', 5572: 'seperate', 5573: 'sept', 5574: 'september', 5575: 'series', 5576: 'serve', 5577: 'served', 5578: 'server', 5579: 'servers', 5580: 'serves', 5581: 'service', 5582: 'services', 5583: 'serving', 5584: 'session', 5585: 'sessions', 5586: 'set', 5587: 'sets', 5588: 'setting', 5589: 'settled', 5590: 'settlements', 5591: 'sex', 5592: 'sexual', 5593: 'seymour', 5594: 'shadow', 5595: 'shadowy', 5596: 'shake', 5597: 'shakes', 5598: 'shakeup', 5599: 'shame', 5600: 'shape', 5601: 'shaped', 5602: 'shaping', 5603: 'share', 5604: 'shared', 5605: 'shares', 5606: 'sharing', 5607: 'shark', 5608: 'sharks', 5609: 'sharon', 5610: 'sharp', 5611: 'sharply', 5612: 'sharpton', 5613: 'shattered', 5614: 'shaw', 5615: 'shays', 5616: 'shed', 5617: 'sheer', 5618: 'shelby', 5619: 'shell', 5620: 'shells', 5621: 'shes', 5622: 'shia', 5623: 'shift', 5624: 'shifted', 5625: 'shifting', 5626: 'shifts', 5627: 'shiite', 5628: 'shiites', 5629: 'ship', 5630: 'shit', 5631: 'shock', 5632: 'shocked', 5633: 'shocking', 5634: 'shockingly', 5635: 'shoes', 5636: 'shook', 5637: 'shoot', 5638: 'shooting', 5639: 'shop', 5640: 'shopping', 5641: 'shore', 5642: 'short', 5643: 'shortage', 5644: 'shorter', 5645: 'shortly', 5646: 'shortterm', 5647: 'shot', 5648: 'shots', 5649: 'shoulder', 5650: 'shouldnt', 5651: 'shouldve', 5652: 'shout', 5653: 'shouting', 5654: 'showdown', 5655: 'showed', 5656: 'showing', 5657: 'shown', 5658: 'shows', 5659: 'shrine', 5660: 'shrinking', 5661: 'shrum', 5662: 'shut', 5663: 'shy', 5664: 'sick', 5665: 'side', 5666: 'sides', 5667: 'sierra', 5668: 'sigh', 5669: 'sight', 5670: 'sign', 5671: 'signal', 5672: 'signals', 5673: 'signature', 5674: 'signatures', 5675: 'signed', 5676: 'significance', 5677: 'significant', 5678: 'significantly', 5679: 'signing', 5680: 'signs', 5681: 'silence', 5682: 'silent', 5683: 'silly', 5684: 'silver', 5685: 'similar', 5686: 'similarly', 5687: 'simmons', 5688: 'simon', 5689: 'simple', 5690: 'simply', 5691: 'simultaneously', 5692: 'sincerely', 5693: 'sinclair', 5694: 'single', 5695: 'sink', 5696: 'sir', 5697: 'sirota', 5698: 'sistani', 5699: 'sister', 5700: 'sisters', 5701: 'sit', 5702: 'sites', 5703: 'sits', 5704: 'sitting', 5705: 'situation', 5706: 'situations', 5707: 'size', 5708: 'skeptical', 5709: 'skepticism', 5710: 'skews', 5711: 'skilled', 5712: 'skills', 5713: 'skin', 5714: 'skip', 5715: 'skipped', 5716: 'sky', 5717: 'slack', 5718: 'slammed', 5719: 'slap', 5720: 'slate', 5721: 'sleep', 5722: 'slew', 5723: 'slide', 5724: 'slight', 5725: 'slightest', 5726: 'slightly', 5727: 'slim', 5728: 'slip', 5729: 'slipped', 5730: 'slipping', 5731: 'slogan', 5732: 'slogans', 5733: 'slot', 5734: 'slow', 5735: 'slowly', 5736: 'smackdown', 5737: 'small', 5738: 'smaller', 5739: 'smallest', 5740: 'smart', 5741: 'smarter', 5742: 'smear', 5743: 'smears', 5744: 'smile', 5745: 'smiling', 5746: 'smith', 5747: 'smitten', 5748: 'smoke', 5749: 'smoking', 5750: 'smooth', 5751: 'smoothly', 5752: 'snapshot', 5753: 'sneak', 5754: 'snip', 5755: 'snow', 5756: 'socalled', 5757: 'social', 5758: 'society', 5759: 'soft', 5760: 'software', 5761: 'soil', 5762: 'sold', 5763: 'soldier', 5764: 'soldiers', 5765: 'sole', 5766: 'solely', 5767: 'soliciting', 5768: 'solid', 5769: 'solidarity', 5770: 'solidify', 5771: 'solidly', 5772: 'solution', 5773: 'solutions', 5774: 'solve', 5775: 'son', 5776: 'song', 5777: 'sons', 5778: 'sooner', 5779: 'sophisticated', 5780: 'soros', 5781: 'sort', 5782: 'sorts', 5783: 'soto', 5784: 'sought', 5785: 'soul', 5786: 'sound', 5787: 'sounds', 5788: 'sour', 5789: 'source', 5790: 'sources', 5791: 'south', 5792: 'southeast', 5793: 'southern', 5794: 'southwest', 5795: 'sovereignty', 5796: 'soviet', 5797: 'sox', 5798: 'space', 5799: 'spain', 5800: 'spains', 5801: 'spanish', 5802: 'spanishlanguage', 5803: 'spare', 5804: 'speak', 5805: 'speaker', 5806: 'speakers', 5807: 'speaking', 5808: 'speaks', 5809: 'special', 5810: 'specialist', 5811: 'specializes', 5812: 'species', 5813: 'specific', 5814: 'specifically', 5815: 'specifics', 5816: 'spectacular', 5817: 'specter', 5818: 'specters', 5819: 'spectrum', 5820: 'speculate', 5821: 'speculation', 5822: 'speech', 5823: 'speeches', 5824: 'speechwriter', 5825: 'speed', 5826: 'spell', 5827: 'spend', 5828: 'spending', 5829: 'spends', 5830: 'spent', 5831: 'sphere', 5832: 'spill', 5833: 'spin', 5834: 'spindizzy', 5835: 'spine', 5836: 'spiral', 5837: 'spirit', 5838: 'splice', 5839: 'split', 5840: 'spoke', 5841: 'spoken', 5842: 'spokesman', 5843: 'spokesperson', 5844: 'spokeswoman', 5845: 'sponsor', 5846: 'sponsored', 5847: 'sporadic', 5848: 'sport', 5849: 'sports', 5850: 'spot', 5851: 'spotlight', 5852: 'spots', 5853: 'spread', 5854: 'spreading', 5855: 'spring', 5856: 'sproul', 5857: 'spun', 5858: 'spur', 5859: 'spurred', 5860: 'spy', 5861: 'squad', 5862: 'square', 5863: 'squeeze', 5864: 'stability', 5865: 'stable', 5866: 'staff', 5867: 'staffer', 5868: 'staffers', 5869: 'stage', 5870: 'staged', 5871: 'stages', 5872: 'stagflation', 5873: 'stake', 5874: 'stan', 5875: 'stance', 5876: 'stand', 5877: 'standard', 5878: 'standards', 5879: 'standing', 5880: 'stands', 5881: 'star', 5882: 'stark', 5883: 'stars', 5884: 'start', 5885: 'started', 5886: 'starting', 5887: 'startling', 5888: 'starts', 5889: 'startspan', 5890: 'state', 5891: 'statebystate', 5892: 'stated', 5893: 'statement', 5894: 'statements', 5895: 'states', 5896: 'statewide', 5897: 'static', 5898: 'stating', 5899: 'station', 5900: 'stationed', 5901: 'stations', 5902: 'statistical', 5903: 'statistically', 5904: 'statistics', 5905: 'stats', 5906: 'status', 5907: 'statute', 5908: 'stay', 5909: 'stayed', 5910: 'staying', 5911: 'stays', 5912: 'steady', 5913: 'steal', 5914: 'stealing', 5915: 'steam', 5916: 'steel', 5917: 'steinhardt', 5918: 'stella', 5919: 'stem', 5920: 'stemcell', 5921: 'stems', 5922: 'stenholm', 5923: 'step', 5924: 'stephanie', 5925: 'stephen', 5926: 'stepped', 5927: 'stepping', 5928: 'steps', 5929: 'stern', 5930: 'sterns', 5931: 'steve', 5932: 'steven', 5933: 'stevens', 5934: 'stevenson', 5935: 'stewart', 5936: 'stick', 5937: 'sticking', 5938: 'stir', 5939: 'stirling', 5940: 'stock', 5941: 'stockpiles', 5942: 'stocks', 5943: 'stolen', 5944: 'stoller', 5945: 'stomach', 5946: 'stomping', 5947: 'stone', 5948: 'stonewalling', 5949: 'stood', 5950: 'stop', 5951: 'stopped', 5952: 'stopping', 5953: 'stops', 5954: 'store', 5955: 'stories', 5956: 'stork', 5957: 'storks', 5958: 'storm', 5959: 'straight', 5960: 'strange', 5961: 'strategery', 5962: 'strategic', 5963: 'strategies', 5964: 'strategist', 5965: 'strategists', 5966: 'strategy', 5967: 'straw', 5968: 'stream', 5969: 'street', 5970: 'streets', 5971: 'strength', 5972: 'strengthen', 5973: 'strengthening', 5974: 'strengths', 5975: 'stretch', 5976: 'stretching', 5977: 'strict', 5978: 'strictly', 5979: 'strike', 5980: 'strikes', 5981: 'striking', 5982: 'string', 5983: 'strip', 5984: 'stripes', 5985: 'stripped', 5986: 'strong', 5987: 'stronger', 5988: 'strongest', 5989: 'stronghold', 5990: 'strongholds', 5991: 'strongly', 5992: 'struck', 5993: 'structure', 5994: 'struggle', 5995: 'struggling', 5996: 'stubborn', 5997: 'stuck', 5998: 'student', 5999: 'students', 6000: 'studies', 6001: 'studio', 6002: 'study', 6003: 'stuff', 6004: 'stump', 6005: 'stupid', 6006: 'style', 6007: 'subcommittee', 6008: 'subject', 6009: 'subjects', 6010: 'submit', 6011: 'submitted', 6012: 'subpoena', 6013: 'subpoenas', 6014: 'subscription', 6015: 'subscriptiononly', 6016: 'subsequent', 6017: 'subsequently', 6018: 'subsidies', 6019: 'substance', 6020: 'substantial', 6021: 'substantive', 6022: 'subtle', 6023: 'suburban', 6024: 'suburbs', 6025: 'subvert', 6026: 'succeed', 6027: 'succeeded', 6028: 'success', 6029: 'successes', 6030: 'successful', 6031: 'successfully', 6032: 'successor', 6033: 'suck', 6034: 'sucking', 6035: 'sucks', 6036: 'sudan', 6037: 'sudden', 6038: 'suddenly', 6039: 'sue', 6040: 'suffer', 6041: 'suffered', 6042: 'suffering', 6043: 'sufficient', 6044: 'suffolk', 6045: 'suggest', 6046: 'suggested', 6047: 'suggesting', 6048: 'suggestion', 6049: 'suggestions', 6050: 'suggests', 6051: 'suicide', 6052: 'suit', 6053: 'suits', 6054: 'sullivan', 6055: 'sum', 6056: 'summary', 6057: 'summer', 6058: 'summit', 6059: 'sums', 6060: 'sun', 6061: 'sunday', 6062: 'sundays', 6063: 'sunni', 6064: 'sunset', 6065: 'sunshine', 6066: 'sunzoo', 6067: 'super', 6068: 'superb', 6069: 'superdelegates', 6070: 'superior', 6071: 'superiors', 6072: 'supervisor', 6073: 'supervisors', 6074: 'supplemental', 6075: 'supplies', 6076: 'supply', 6077: 'support', 6078: 'supported', 6079: 'supporter', 6080: 'supporters', 6081: 'supporting', 6082: 'supports', 6083: 'suppose', 6084: 'supposed', 6085: 'supposedly', 6086: 'suppress', 6087: 'suppression', 6088: 'supreme', 6089: 'surely', 6090: 'surface', 6091: 'surfaced', 6092: 'surge', 6093: 'surgery', 6094: 'surges', 6095: 'surging', 6096: 'surplus', 6097: 'surprise', 6098: 'surprised', 6099: 'surprises', 6100: 'surprising', 6101: 'surprisingly', 6102: 'surrender', 6103: 'surrogates', 6104: 'surrounding', 6105: 'surveillance', 6106: 'survey', 6107: 'surveyed', 6108: 'surveys', 6109: 'surveyusa', 6110: 'survival', 6111: 'survive', 6112: 'survived', 6113: 'survives', 6114: 'susa', 6115: 'susan', 6116: 'susas', 6117: 'suskind', 6118: 'suspect', 6119: 'suspected', 6120: 'suspects', 6121: 'suspended', 6122: 'suspicion', 6123: 'suspicious', 6124: 'sustain', 6125: 'sustained', 6126: 'sway', 6127: 'sweat', 6128: 'sweating', 6129: 'sweep', 6130: 'sweeping', 6131: 'sweet', 6132: 'swept', 6133: 'swift', 6134: 'swing', 6135: 'switch', 6136: 'switched', 6137: 'sworn', 6138: 'sympathetic', 6139: 'sympathy', 6140: 'syria', 6141: 'system', 6142: 'systems', 6143: 'table', 6144: 'tables', 6145: 'tackle', 6146: 'tactic', 6147: 'tactics', 6148: 'tad', 6149: 'takes', 6150: 'taking', 6151: 'tale', 6152: 'talent', 6153: 'talented', 6154: 'taliban', 6155: 'talked', 6156: 'talking', 6157: 'talks', 6158: 'tall', 6159: 'tally', 6160: 'tampa', 6161: 'tancredo', 6162: 'tang', 6163: 'tank', 6164: 'tanks', 6165: 'tap', 6166: 'tape', 6167: 'tapes', 6168: 'tapped', 6169: 'target', 6170: 'targeted', 6171: 'targeting', 6172: 'targets', 6173: 'targetted', 6174: 'targetting', 6175: 'tariffs', 6176: 'task', 6177: 'tasks', 6178: 'taste', 6179: 'taught', 6180: 'tauzin', 6181: 'tax', 6182: 'taxes', 6183: 'taxpayer', 6184: 'taxpayers', 6185: 'taylor', 6186: 'teach', 6187: 'teacher', 6188: 'teachers', 6189: 'team', 6190: 'teams', 6191: 'teamsters', 6192: 'tear', 6193: 'technical', 6194: 'technique', 6195: 'techniques', 6196: 'technology', 6197: 'ted', 6198: 'teeth', 6199: 'telegraph', 6200: 'telephone', 6201: 'teleprompter', 6202: 'televised', 6203: 'television', 6204: 'telling', 6205: 'tells', 6206: 'temporarily', 6207: 'temporary', 6208: 'ten', 6209: 'tend', 6210: 'tenenbaum', 6211: 'tenet', 6212: 'tennessee', 6213: 'tens', 6214: 'tense', 6215: 'tensions', 6216: 'tenure', 6217: 'teresa', 6218: 'term', 6219: 'terms', 6220: 'terrible', 6221: 'territory', 6222: 'terror', 6223: 'terrorism', 6224: 'terrorist', 6225: 'terrorists', 6226: 'terry', 6227: 'test', 6228: 'testament', 6229: 'testified', 6230: 'testify', 6231: 'testimony', 6232: 'testing', 6233: 'tests', 6234: 'testy', 6235: 'texans', 6236: 'texas', 6237: 'text', 6238: 'thankfully', 6239: 'thatll', 6240: 'theater', 6241: 'theaters', 6242: 'theft', 6243: 'theme', 6244: 'themes', 6245: 'theoria', 6246: 'theories', 6247: 'theory', 6248: 'therell', 6249: 'theyd', 6250: 'theyll', 6251: 'theyre', 6252: 'theyve', 6253: 'thin', 6254: 'thinking', 6255: 'thinks', 6256: 'thirdparty', 6257: 'thirdplace', 6258: 'thomas', 6259: 'thompson', 6260: 'thought', 6261: 'thoughtful', 6262: 'thoughts', 6263: 'thousand', 6264: 'thousands', 6265: 'threat', 6266: 'threaten', 6267: 'threatened', 6268: 'threatening', 6269: 'threatens', 6270: 'threats', 6271: 'threeway', 6272: 'threshold', 6273: 'threw', 6274: 'thrilled', 6275: 'throw', 6276: 'throwing', 6277: 'thrown', 6278: 'thune', 6279: 'thunes', 6280: 'thurlow', 6281: 'thursday', 6282: 'thursdays', 6283: 'ticket', 6284: 'tickets', 6285: 'tide', 6286: 'tie', 6287: 'tied', 6288: 'tier', 6289: 'ties', 6290: 'tight', 6291: 'tighten', 6292: 'tightening', 6293: 'till', 6294: 'tim', 6295: 'time', 6296: 'timed', 6297: 'timely', 6298: 'times', 6299: 'timid', 6300: 'timing', 6301: 'timken', 6302: 'tiny', 6303: 'tip', 6304: 'tipp', 6305: 'tipping', 6306: 'tips', 6307: 'tired', 6308: 'titan', 6309: 'title', 6310: 'titled', 6311: 'tnr', 6312: 'toast', 6313: 'tobacco', 6314: 'todays', 6315: 'todd', 6316: 'token', 6317: 'toll', 6318: 'tom', 6319: 'tommy', 6320: 'tomorrow', 6321: 'tomorrows', 6322: 'ton', 6323: 'tone', 6324: 'tonight', 6325: 'tonights', 6326: 'tons', 6327: 'tony', 6328: 'tool', 6329: 'tools', 6330: 'toomey', 6331: 'toomeys', 6332: 'top', 6333: 'topic', 6334: 'topics', 6335: 'tops', 6336: 'toptier', 6337: 'torture', 6338: 'toss', 6339: 'tossed', 6340: 'tossup', 6341: 'tossups', 6342: 'total', 6343: 'totally', 6344: 'totals', 6345: 'touch', 6346: 'tough', 6347: 'tougher', 6348: 'toughest', 6349: 'tour', 6350: 'touting', 6351: 'town', 6352: 'towns', 6353: 'toxic', 6354: 'track', 6355: 'tracked', 6356: 'tracking', 6357: 'traction', 6358: 'trade', 6359: 'trades', 6360: 'tradesports', 6361: 'trading', 6362: 'tradition', 6363: 'traditional', 6364: 'traditionally', 6365: 'traditions', 6366: 'traffic', 6367: 'tragedy', 6368: 'tragic', 6369: 'trail', 6370: 'trailed', 6371: 'trailing', 6372: 'trails', 6373: 'train', 6374: 'trained', 6375: 'training', 6376: 'transcript', 6377: 'transfer', 6378: 'transferred', 6379: 'transfers', 6380: 'transform', 6381: 'transformation', 6382: 'transformed', 6383: 'transition', 6384: 'transportation', 6385: 'trap', 6386: 'trapper', 6387: 'travel', 6388: 'traveled', 6389: 'traveling', 6390: 'travels', 6391: 'travis', 6392: 'treason', 6393: 'treasurer', 6394: 'treasury', 6395: 'treat', 6396: 'treated', 6397: 'treaties', 6398: 'treatment', 6399: 'treaty', 6400: 'trees', 6401: 'tremendous', 6402: 'trend', 6403: 'trending', 6404: 'trends', 6405: 'trent', 6406: 'trial', 6407: 'tribal', 6408: 'tribune', 6409: 'trick', 6410: 'tricks', 6411: 'trigger', 6412: 'trillion', 6413: 'trip', 6414: 'triple', 6415: 'trippi', 6416: 'trippis', 6417: 'trix', 6418: 'trixs', 6419: 'troop', 6420: 'troops', 6421: 'trot', 6422: 'trouble', 6423: 'troubled', 6424: 'troubles', 6425: 'troubling', 6426: 'truck', 6427: 'trucks', 6428: 'true', 6429: 'truman', 6430: 'trump', 6431: 'trust', 6432: 'trusted', 6433: 'truth', 6434: 'tshirts', 6435: 'tubes', 6436: 'tucker', 6437: 'tuesday', 6438: 'tuesdays', 6439: 'tuition', 6440: 'tulsa', 6441: 'tune', 6442: 'tuned', 6443: 'tunesmith', 6444: 'turf', 6445: 'turkey', 6446: 'turmoil', 6447: 'turn', 6448: 'turnaround', 6449: 'turncoat', 6450: 'turned', 6451: 'turner', 6452: 'turning', 6453: 'turnout', 6454: 'turns', 6455: 'twenty', 6456: 'twin', 6457: 'twins', 6458: 'twist', 6459: 'twoparty', 6460: 'twothirds', 6461: 'tying', 6462: 'type', 6463: 'types', 6464: 'typical', 6465: 'typically', 6466: 'uaw', 6467: 'udall', 6468: 'ugly', 6469: 'ultimate', 6470: 'ultimately', 6471: 'unabated', 6472: 'unable', 6473: 'unacceptable', 6474: 'unaware', 6475: 'uncertain', 6476: 'uncertainty', 6477: 'unchanged', 6478: 'uncle', 6479: 'unclear', 6480: 'uncomfortable', 6481: 'uncommitted', 6482: 'unconstitutional', 6483: 'unconventional', 6484: 'uncovered', 6485: 'undecided', 6486: 'undecideds', 6487: 'undeclared', 6488: 'undercover', 6489: 'undercut', 6490: 'underdog', 6491: 'underestimate', 6492: 'undermine', 6493: 'undermined', 6494: 'undermining', 6495: 'understand', 6496: 'understandable', 6497: 'understanding', 6498: 'understands', 6499: 'understatement', 6500: 'understood', 6501: 'underway', 6502: 'undoubtedly', 6503: 'unecessary', 6504: 'unemployed', 6505: 'unemployment', 6506: 'unexpected', 6507: 'unexpectedly', 6508: 'unfair', 6509: 'unfavorable', 6510: 'unfit', 6511: 'unfortunate', 6512: 'unhappy', 6513: 'unified', 6514: 'uniform', 6515: 'unilateral', 6516: 'union', 6517: 'unions', 6518: 'unique', 6519: 'unit', 6520: 'united', 6521: 'units', 6522: 'unity', 6523: 'univ', 6524: 'universal', 6525: 'universe', 6526: 'university', 6527: 'unknown', 6528: 'unlike', 6529: 'unlimited', 6530: 'unnamed', 6531: 'unnecessary', 6532: 'unpopular', 6533: 'unprecedented', 6534: 'unrelated', 6535: 'unseat', 6536: 'unsuccessful', 6537: 'unsure', 6538: 'unusual', 6539: 'unusually', 6540: 'upbeat', 6541: 'upcoming', 6542: 'updated', 6543: 'updates', 6544: 'updating', 6545: 'upenn', 6546: 'uphill', 6547: 'uphold', 6548: 'upper', 6549: 'uprising', 6550: 'upset', 6551: 'upward', 6552: 'uranium', 6553: 'urban', 6554: 'urge', 6555: 'urged', 6556: 'urging', 6557: 'usa', 6558: 'usaid', 6559: 'useless', 6560: 'user', 6561: 'username', 6562: 'users', 6563: 'usled', 6564: 'uss', 6565: 'usual', 6566: 'utah', 6567: 'utility', 6568: 'utter', 6569: 'uttered', 6570: 'utterly', 6571: 'vaantirepublican', 6572: 'vacated', 6573: 'vacation', 6574: 'vaccine', 6575: 'vaccines', 6576: 'vague', 6577: 'valerie', 6578: 'valid', 6579: 'valuable', 6580: 'values', 6581: 'vance', 6582: 'vanity', 6583: 'var', 6584: 'variety', 6585: 'vast', 6586: 'vastly', 6587: 'vault', 6588: 'veep', 6589: 'veepstakes', 6590: 'vegas', 6591: 'vehicle', 6592: 'vehicles', 6593: 'venture', 6594: 'venue', 6595: 'verge', 6596: 'verification', 6597: 'verified', 6598: 'verify', 6599: 'vermont', 6600: 'version', 6601: 'versions', 6602: 'versus', 6603: 'vet', 6604: 'veteran', 6605: 'veterans', 6606: 'veto', 6607: 'vets', 6608: 'vetting', 6609: 'viability', 6610: 'viable', 6611: 'vibes', 6612: 'vice', 6613: 'vicious', 6614: 'victim', 6615: 'victims', 6616: 'victories', 6617: 'victory', 6618: 'video', 6619: 'videotape', 6620: 'vietnam', 6621: 'view', 6622: 'viewed', 6623: 'viewers', 6624: 'viewing', 6625: 'views', 6626: 'vilsack', 6627: 'violate', 6628: 'violated', 6629: 'violating', 6630: 'violation', 6631: 'violations', 6632: 'violence', 6633: 'violent', 6634: 'virginia', 6635: 'virginiadem', 6636: 'virtual', 6637: 'virtually', 6638: 'virtue', 6639: 'vis', 6640: 'visibility', 6641: 'visible', 6642: 'vision', 6643: 'visit', 6644: 'visited', 6645: 'visiting', 6646: 'visitors', 6647: 'visits', 6648: 'vital', 6649: 'vitter', 6650: 'voice', 6651: 'voices', 6652: 'voinovich', 6653: 'volatile', 6654: 'volleyball', 6655: 'volunteer', 6656: 'volunteered', 6657: 'volunteers', 6658: 'vote', 6659: 'voted', 6660: 'voter', 6661: 'voters', 6662: 'votes', 6663: 'voting', 6664: 'vowed', 6665: 'vulnerable', 6666: 'vying', 6667: 'wage', 6668: 'waged', 6669: 'wages', 6670: 'waging', 6671: 'wait', 6672: 'waited', 6673: 'waiting', 6674: 'wake', 6675: 'walk', 6676: 'walked', 6677: 'walker', 6678: 'walking', 6679: 'walks', 6680: 'wall', 6681: 'wallace', 6682: 'walls', 6683: 'walmart', 6684: 'walter', 6685: 'wanted', 6686: 'wanting', 6687: 'wapo', 6688: 'war', 6689: 'ward', 6690: 'warfare', 6691: 'warm', 6692: 'warming', 6693: 'warn', 6694: 'warned', 6695: 'warner', 6696: 'warning', 6697: 'warnings', 6698: 'warns', 6699: 'warren', 6700: 'wars', 6701: 'wartime', 6702: 'wary', 6703: 'wash', 6704: 'washington', 6705: 'washingtons', 6706: 'wasnt', 6707: 'waste', 6708: 'wasted', 6709: 'wasting', 6710: 'watch', 6711: 'watchdog', 6712: 'watched', 6713: 'watchers', 6714: 'watching', 6715: 'water', 6716: 'wave', 6717: 'waving', 6718: 'wayne', 6719: 'ways', 6720: 'wclathe', 6721: 'weak', 6722: 'weaken', 6723: 'weakened', 6724: 'weaker', 6725: 'weakest', 6726: 'weakness', 6727: 'weaknesses', 6728: 'wealth', 6729: 'wealthy', 6730: 'weapon', 6731: 'weapons', 6732: 'wear', 6733: 'wearing', 6734: 'weather', 6735: 'web', 6736: 'weber', 6737: 'website', 6738: 'websites', 6739: 'wedge', 6740: 'wednesday', 6741: 'weekend', 6742: 'weekends', 6743: 'weekly', 6744: 'weeks', 6745: 'weigh', 6746: 'weighing', 6747: 'weighs', 6748: 'weight', 6749: 'weird', 6750: 'weirdness', 6751: 'welfare', 6752: 'wellknown', 6753: 'werent', 6754: 'wes', 6755: 'wesley', 6756: 'west', 6757: 'western', 6758: 'wetterling', 6759: 'weve', 6760: 'whats', 6761: 'whatsoever', 6762: 'wheels', 6763: 'wheres', 6764: 'whine', 6765: 'whining', 6766: 'white', 6767: 'whites', 6768: 'whos', 6769: 'whove', 6770: 'wide', 6771: 'widely', 6772: 'widening', 6773: 'wider', 6774: 'widespread', 6775: 'wife', 6776: 'wiki', 6777: 'wild', 6778: 'wildlife', 6779: 'wildly', 6780: 'william', 6781: 'williams', 6782: 'willingness', 6783: 'wilson', 6784: 'win', 6785: 'wind', 6786: 'window', 6787: 'windows', 6788: 'winds', 6789: 'wing', 6790: 'wingers', 6791: 'wingnut', 6792: 'wingnuts', 6793: 'wink', 6794: 'winnable', 6795: 'winner', 6796: 'winners', 6797: 'winning', 6798: 'wins', 6799: 'wire', 6800: 'wired', 6801: 'wisconsin', 6802: 'wisdom', 6803: 'wise', 6804: 'wishes', 6805: 'withdraw', 6806: 'withdrawal', 6807: 'withdrawing', 6808: 'withdrew', 6809: 'withheld', 6810: 'witness', 6811: 'witnessed', 6812: 'witnesses', 6813: 'wives', 6814: 'wmd', 6815: 'wmds', 6816: 'woes', 6817: 'wolf', 6818: 'wolfowitz', 6819: 'woman', 6820: 'womans', 6821: 'women', 6822: 'womens', 6823: 'won', 6824: 'wonderful', 6825: 'wondering', 6826: 'wonders', 6827: 'wont', 6828: 'wood', 6829: 'woodward', 6830: 'word', 6831: 'wording', 6832: 'wore', 6833: 'worked', 6834: 'worker', 6835: 'workers', 6836: 'working', 6837: 'works', 6838: 'worlds', 6839: 'worldwide', 6840: 'worried', 6841: 'worries', 6842: 'worry', 6843: 'worse', 6844: 'worship', 6845: 'worst', 6846: 'worth', 6847: 'worthless', 6848: 'worthy', 6849: 'wot', 6850: 'wouldnt', 6851: 'wouldve', 6852: 'wound', 6853: 'wounded', 6854: 'wounding', 6855: 'wounds', 6856: 'wow', 6857: 'wrap', 6858: 'wrapped', 6859: 'wreck', 6860: 'write', 6861: 'writer', 6862: 'writers', 6863: 'writes', 6864: 'writing', 6865: 'written', 6866: 'wrong', 6867: 'wrongdoing', 6868: 'wrote', 6869: 'wsj', 6870: 'wtc', 6871: 'wyoming', 6872: 'yadda', 6873: 'yahoo', 6874: 'yale', 6875: 'yankees', 6876: 'yanks', 6877: 'yard', 6878: 'yeah', 6879: 'year', 6880: 'years', 6881: 'yell', 6882: 'yellin', 6883: 'yesterday', 6884: 'yesterdays', 6885: 'yield', 6886: 'york', 6887: 'yorker', 6888: 'yorkers', 6889: 'youd', 6890: 'youll', 6891: 'young', 6892: 'younger', 6893: 'youre', 6894: 'youth', 6895: 'youve', 6896: 'yucca', 6897: 'yup', 6898: 'zahn', 6899: 'zarqawi', 6900: 'zell', 6901: 'zimbabwe', 6902: 'zogby', 6903: 'zogbys', 6904: 'zone', 6905: 'zones'}\n"
     ]
    }
   ],
   "source": [
    "#2\n",
    "kos_id2word={}\n",
    "for i,word in enumerate(kos_vocab_list):\n",
    "    kos_id2word[i]=word\n",
    "print(kos_id2word)\n"
   ]
  },
  {
   "cell_type": "raw",
   "metadata": {},
   "source": [
    "5分"
   ]
  },
  {
   "cell_type": "code",
   "execution_count": 3,
   "metadata": {
    "collapsed": true,
    "jupyter": {
     "outputs_hidden": true
    }
   },
   "outputs": [
    {
     "data": {
      "text/plain": [
       "{'aarp': 0,\n",
       " 'abandon': 1,\n",
       " 'abandoned': 2,\n",
       " 'abandoning': 3,\n",
       " 'abb': 4,\n",
       " 'abc': 5,\n",
       " 'abcs': 6,\n",
       " 'abdullah': 7,\n",
       " 'ability': 8,\n",
       " 'aboard': 9,\n",
       " 'abortion': 10,\n",
       " 'abortions': 11,\n",
       " 'abraham': 12,\n",
       " 'abrams': 13,\n",
       " 'abroad': 14,\n",
       " 'absence': 15,\n",
       " 'absent': 16,\n",
       " 'absentee': 17,\n",
       " 'absolute': 18,\n",
       " 'absolutely': 19,\n",
       " 'abstain': 20,\n",
       " 'absurd': 21,\n",
       " 'abu': 22,\n",
       " 'abuse': 23,\n",
       " 'abuses': 24,\n",
       " 'academy': 25,\n",
       " 'accent': 26,\n",
       " 'accept': 27,\n",
       " 'acceptable': 28,\n",
       " 'acceptance': 29,\n",
       " 'accepted': 30,\n",
       " 'accepting': 31,\n",
       " 'access': 32,\n",
       " 'accident': 33,\n",
       " 'accidentally': 34,\n",
       " 'accidents': 35,\n",
       " 'accomplish': 36,\n",
       " 'accomplished': 37,\n",
       " 'accomplishment': 38,\n",
       " 'account': 39,\n",
       " 'accountability': 40,\n",
       " 'accountable': 41,\n",
       " 'accounting': 42,\n",
       " 'accounts': 43,\n",
       " 'accuracy': 44,\n",
       " 'accurate': 45,\n",
       " 'accurately': 46,\n",
       " 'accusations': 47,\n",
       " 'accused': 48,\n",
       " 'accusing': 49,\n",
       " 'achieve': 50,\n",
       " 'achieved': 51,\n",
       " 'achievements': 52,\n",
       " 'acknowledge': 53,\n",
       " 'acknowledged': 54,\n",
       " 'aclu': 55,\n",
       " 'act': 56,\n",
       " 'actblue': 57,\n",
       " 'acted': 58,\n",
       " 'acting': 59,\n",
       " 'action': 60,\n",
       " 'actions': 61,\n",
       " 'active': 62,\n",
       " 'actively': 63,\n",
       " 'activism': 64,\n",
       " 'activist': 65,\n",
       " 'activists': 66,\n",
       " 'activities': 67,\n",
       " 'activity': 68,\n",
       " 'actor': 69,\n",
       " 'acts': 70,\n",
       " 'actual': 71,\n",
       " 'adam': 72,\n",
       " 'adams': 73,\n",
       " 'add': 74,\n",
       " 'added': 75,\n",
       " 'adding': 76,\n",
       " 'addition': 77,\n",
       " 'additional': 78,\n",
       " 'address': 79,\n",
       " 'addressed': 80,\n",
       " 'addresses': 81,\n",
       " 'addressing': 82,\n",
       " 'adds': 83,\n",
       " 'adjust': 84,\n",
       " 'adjusted': 85,\n",
       " 'adjustments': 86,\n",
       " 'admin': 87,\n",
       " 'administration': 88,\n",
       " 'administrations': 89,\n",
       " 'administrative': 90,\n",
       " 'administrator': 91,\n",
       " 'admire': 92,\n",
       " 'admission': 93,\n",
       " 'admit': 94,\n",
       " 'admits': 95,\n",
       " 'admitted': 96,\n",
       " 'admitting': 97,\n",
       " 'ado': 98,\n",
       " 'adopt': 99,\n",
       " 'adopted': 100,\n",
       " 'adopting': 101,\n",
       " 'ads': 102,\n",
       " 'adult': 103,\n",
       " 'adults': 104,\n",
       " 'advance': 105,\n",
       " 'advanced': 106,\n",
       " 'advantage': 107,\n",
       " 'advantages': 108,\n",
       " 'adventure': 109,\n",
       " 'advertise': 110,\n",
       " 'advertisement': 111,\n",
       " 'advertisements': 112,\n",
       " 'advertiser': 113,\n",
       " 'advertisers': 114,\n",
       " 'advertising': 115,\n",
       " 'advice': 116,\n",
       " 'advised': 117,\n",
       " 'adviser': 118,\n",
       " 'advisers': 119,\n",
       " 'advisor': 120,\n",
       " 'advisory': 121,\n",
       " 'advocacy': 122,\n",
       " 'advocate': 123,\n",
       " 'advocates': 124,\n",
       " 'affair': 125,\n",
       " 'affairs': 126,\n",
       " 'affect': 127,\n",
       " 'affected': 128,\n",
       " 'affiliate': 129,\n",
       " 'affiliated': 130,\n",
       " 'affiliates': 131,\n",
       " 'affiliation': 132,\n",
       " 'afford': 133,\n",
       " 'afghan': 134,\n",
       " 'afghanistan': 135,\n",
       " 'aflcio': 136,\n",
       " 'afraid': 137,\n",
       " 'africa': 138,\n",
       " 'african': 139,\n",
       " 'africanamerican': 140,\n",
       " 'afscme': 141,\n",
       " 'aft': 142,\n",
       " 'aftermath': 143,\n",
       " 'afternoon': 144,\n",
       " 'afterward': 145,\n",
       " 'age': 146,\n",
       " 'aged': 147,\n",
       " 'agencies': 148,\n",
       " 'agency': 149,\n",
       " 'agenda': 150,\n",
       " 'agent': 151,\n",
       " 'agents': 152,\n",
       " 'ages': 153,\n",
       " 'aggressive': 154,\n",
       " 'aggressively': 155,\n",
       " 'agree': 156,\n",
       " 'agreed': 157,\n",
       " 'agreement': 158,\n",
       " 'agreements': 159,\n",
       " 'agrees': 160,\n",
       " 'agriculture': 161,\n",
       " 'ahead': 162,\n",
       " 'ahmad': 163,\n",
       " 'ahmed': 164,\n",
       " 'ahnold': 165,\n",
       " 'aid': 166,\n",
       " 'aide': 167,\n",
       " 'aided': 168,\n",
       " 'aides': 169,\n",
       " 'aim': 170,\n",
       " 'aimed': 171,\n",
       " 'aims': 172,\n",
       " 'aint': 173,\n",
       " 'air': 174,\n",
       " 'airborne': 175,\n",
       " 'aircraft': 176,\n",
       " 'aired': 177,\n",
       " 'airing': 178,\n",
       " 'airplane': 179,\n",
       " 'airport': 180,\n",
       " 'airwaves': 181,\n",
       " 'akin': 182,\n",
       " 'aksen': 183,\n",
       " 'alabama': 184,\n",
       " 'alan': 185,\n",
       " 'alarm': 186,\n",
       " 'alas': 187,\n",
       " 'alaska': 188,\n",
       " 'albuquerque': 189,\n",
       " 'alert': 190,\n",
       " 'alerts': 191,\n",
       " 'alex': 192,\n",
       " 'alexander': 193,\n",
       " 'alexanders': 194,\n",
       " 'alhusainy': 195,\n",
       " 'ali': 196,\n",
       " 'alice': 197,\n",
       " 'alienated': 198,\n",
       " 'alive': 199,\n",
       " 'allawi': 200,\n",
       " 'allday': 201,\n",
       " 'allegation': 202,\n",
       " 'allegations': 203,\n",
       " 'alleged': 204,\n",
       " 'allegedly': 205,\n",
       " 'allegiance': 206,\n",
       " 'allegory': 207,\n",
       " 'allen': 208,\n",
       " 'alliance': 209,\n",
       " 'alliances': 210,\n",
       " 'allied': 211,\n",
       " 'allies': 212,\n",
       " 'allimportant': 213,\n",
       " 'allowed': 214,\n",
       " 'allowing': 215,\n",
       " 'ally': 216,\n",
       " 'alongside': 217,\n",
       " 'alqaeda': 218,\n",
       " 'alqaida': 219,\n",
       " 'alsadr': 220,\n",
       " 'alternative': 221,\n",
       " 'alternatives': 222,\n",
       " 'altogether': 223,\n",
       " 'altsite': 224,\n",
       " 'alzheimers': 225,\n",
       " 'amazing': 226,\n",
       " 'amazingly': 227,\n",
       " 'amazon': 228,\n",
       " 'ambassador': 229,\n",
       " 'ambitions': 230,\n",
       " 'ambitious': 231,\n",
       " 'ambush': 232,\n",
       " 'amdt': 233,\n",
       " 'amendment': 234,\n",
       " 'amendments': 235,\n",
       " 'america': 236,\n",
       " 'american': 237,\n",
       " 'americanled': 238,\n",
       " 'americans': 239,\n",
       " 'americas': 240,\n",
       " 'amid': 241,\n",
       " 'amidst': 242,\n",
       " 'ammo': 243,\n",
       " 'ammunition': 244,\n",
       " 'amount': 245,\n",
       " 'amounts': 246,\n",
       " 'amp': 247,\n",
       " 'amphibians': 248,\n",
       " 'ample': 249,\n",
       " 'analogy': 250,\n",
       " 'analyses': 251,\n",
       " 'analysis': 252,\n",
       " 'analyst': 253,\n",
       " 'analysts': 254,\n",
       " 'analyze': 255,\n",
       " 'analyzed': 256,\n",
       " 'anchor': 257,\n",
       " 'ancient': 258,\n",
       " 'andor': 259,\n",
       " 'andrea': 260,\n",
       " 'andrew': 261,\n",
       " 'andy': 262,\n",
       " 'anecdotal': 263,\n",
       " 'anemic': 264,\n",
       " 'anew': 265,\n",
       " 'angeles': 266,\n",
       " 'anger': 267,\n",
       " 'angered': 268,\n",
       " 'angry': 269,\n",
       " 'angst': 270,\n",
       " 'ann': 271,\n",
       " 'annenberg': 272,\n",
       " 'anniversary': 273,\n",
       " 'announce': 274,\n",
       " 'announced': 275,\n",
       " 'announcement': 276,\n",
       " 'announces': 277,\n",
       " 'announcing': 278,\n",
       " 'annoying': 279,\n",
       " 'annual': 280,\n",
       " 'anonymity': 281,\n",
       " 'anonymous': 282,\n",
       " 'answer': 283,\n",
       " 'answered': 284,\n",
       " 'answering': 285,\n",
       " 'answers': 286,\n",
       " 'anthony': 287,\n",
       " 'antiabortion': 288,\n",
       " 'antiamerican': 289,\n",
       " 'antibush': 290,\n",
       " 'anticipated': 291,\n",
       " 'antidean': 292,\n",
       " 'antigay': 293,\n",
       " 'antikerry': 294,\n",
       " 'antiwar': 295,\n",
       " 'anxiety': 296,\n",
       " 'anymore': 297,\n",
       " 'anytime': 298,\n",
       " 'apologies': 299,\n",
       " 'apologists': 300,\n",
       " 'apologize': 301,\n",
       " 'apology': 302,\n",
       " 'appalling': 303,\n",
       " 'apparatus': 304,\n",
       " 'apparent': 305,\n",
       " 'apparently': 306,\n",
       " 'appeal': 307,\n",
       " 'appealed': 308,\n",
       " 'appealing': 309,\n",
       " 'appeals': 310,\n",
       " 'appearance': 311,\n",
       " 'appearances': 312,\n",
       " 'appeared': 313,\n",
       " 'appearing': 314,\n",
       " 'appears': 315,\n",
       " 'applause': 316,\n",
       " 'apple': 317,\n",
       " 'apples': 318,\n",
       " 'application': 319,\n",
       " 'applications': 320,\n",
       " 'applied': 321,\n",
       " 'applies': 322,\n",
       " 'apply': 323,\n",
       " 'appointed': 324,\n",
       " 'appointment': 325,\n",
       " 'appreciated': 326,\n",
       " 'appreciation': 327,\n",
       " 'approach': 328,\n",
       " 'approached': 329,\n",
       " 'approaches': 330,\n",
       " 'approaching': 331,\n",
       " 'appropriations': 332,\n",
       " 'approval': 333,\n",
       " 'approve': 334,\n",
       " 'approved': 335,\n",
       " 'approximately': 336,\n",
       " 'apr': 337,\n",
       " 'april': 338,\n",
       " 'aps': 339,\n",
       " 'apt': 340,\n",
       " 'arab': 341,\n",
       " 'arabia': 342,\n",
       " 'arabic': 343,\n",
       " 'arabs': 344,\n",
       " 'arafat': 345,\n",
       " 'architect': 346,\n",
       " 'archives': 347,\n",
       " 'archpundit': 348,\n",
       " 'arctic': 349,\n",
       " 'area': 350,\n",
       " 'areas': 351,\n",
       " 'arena': 352,\n",
       " 'arent': 353,\n",
       " 'arg': 354,\n",
       " 'argue': 355,\n",
       " 'argued': 356,\n",
       " 'argues': 357,\n",
       " 'arguing': 358,\n",
       " 'argument': 359,\n",
       " 'arguments': 360,\n",
       " 'ari': 361,\n",
       " 'aristide': 362,\n",
       " 'arizona': 363,\n",
       " 'arkansas': 364,\n",
       " 'arlen': 365,\n",
       " 'arlington': 366,\n",
       " 'arm': 367,\n",
       " 'armed': 368,\n",
       " 'armitage': 369,\n",
       " 'armor': 370,\n",
       " 'armored': 371,\n",
       " 'arms': 372,\n",
       " 'armstrong': 373,\n",
       " 'army': 374,\n",
       " 'armys': 375,\n",
       " 'arnold': 376,\n",
       " 'arrest': 377,\n",
       " 'arrested': 378,\n",
       " 'arrests': 379,\n",
       " 'arrive': 380,\n",
       " 'arrived': 381,\n",
       " 'arrives': 382,\n",
       " 'arrogance': 383,\n",
       " 'arrogant': 384,\n",
       " 'art': 385,\n",
       " 'article': 386,\n",
       " 'articles': 387,\n",
       " 'articulate': 388,\n",
       " 'artillery': 389,\n",
       " 'asap': 390,\n",
       " 'ashamed': 391,\n",
       " 'ashcroft': 392,\n",
       " 'ashcrofts': 393,\n",
       " 'asia': 394,\n",
       " 'asian': 395,\n",
       " 'asked': 396,\n",
       " 'asks': 397,\n",
       " 'aspect': 398,\n",
       " 'aspects': 399,\n",
       " 'aspirations': 400,\n",
       " 'ass': 401,\n",
       " 'assassination': 402,\n",
       " 'assault': 403,\n",
       " 'assembled': 404,\n",
       " 'assembly': 405,\n",
       " 'asserted': 406,\n",
       " 'assertion': 407,\n",
       " 'assertions': 408,\n",
       " 'asses': 409,\n",
       " 'assess': 410,\n",
       " 'assessment': 411,\n",
       " 'assessments': 412,\n",
       " 'asset': 413,\n",
       " 'assets': 414,\n",
       " 'asshole': 415,\n",
       " 'assholes': 416,\n",
       " 'assigned': 417,\n",
       " 'assignment': 418,\n",
       " 'assist': 419,\n",
       " 'assistance': 420,\n",
       " 'assistant': 421,\n",
       " 'associate': 422,\n",
       " 'associates': 423,\n",
       " 'association': 424,\n",
       " 'assume': 425,\n",
       " 'assumed': 426,\n",
       " 'assumes': 427,\n",
       " 'assuming': 428,\n",
       " 'assumption': 429,\n",
       " 'assumptions': 430,\n",
       " 'assure': 431,\n",
       " 'assured': 432,\n",
       " 'atlanta': 433,\n",
       " 'atlantic': 434,\n",
       " 'atlarge': 435,\n",
       " 'atomic': 436,\n",
       " 'atrios': 437,\n",
       " 'atrocities': 438,\n",
       " 'attached': 439,\n",
       " 'attack': 440,\n",
       " 'attacked': 441,\n",
       " 'attacking': 442,\n",
       " 'attacks': 443,\n",
       " 'attempt': 444,\n",
       " 'attempted': 445,\n",
       " 'attempting': 446,\n",
       " 'attempts': 447,\n",
       " 'attend': 448,\n",
       " 'attendance': 449,\n",
       " 'attended': 450,\n",
       " 'attending': 451,\n",
       " 'attention': 452,\n",
       " 'attitude': 453,\n",
       " 'attitudes': 454,\n",
       " 'attorney': 455,\n",
       " 'attorneys': 456,\n",
       " 'attract': 457,\n",
       " 'attractive': 458,\n",
       " 'attributed': 459,\n",
       " 'audience': 460,\n",
       " 'audio': 461,\n",
       " 'aug': 462,\n",
       " 'august': 463,\n",
       " 'austin': 464,\n",
       " 'australia': 465,\n",
       " 'australian': 466,\n",
       " 'author': 467,\n",
       " 'authorities': 468,\n",
       " 'authority': 469,\n",
       " 'authorization': 470,\n",
       " 'authorize': 471,\n",
       " 'authorized': 472,\n",
       " 'authors': 473,\n",
       " 'automated': 474,\n",
       " 'auxiliary': 475,\n",
       " 'average': 476,\n",
       " 'avoid': 477,\n",
       " 'avoided': 478,\n",
       " 'avoiding': 479,\n",
       " 'await': 480,\n",
       " 'awaiting': 481,\n",
       " 'award': 482,\n",
       " 'awarded': 483,\n",
       " 'awards': 484,\n",
       " 'aware': 485,\n",
       " 'awareness': 486,\n",
       " 'awesome': 487,\n",
       " 'awful': 488,\n",
       " 'awol': 489,\n",
       " 'axelrod': 490,\n",
       " 'ayatollah': 491,\n",
       " 'baathist': 492,\n",
       " 'baby': 493,\n",
       " 'backed': 494,\n",
       " 'backers': 495,\n",
       " 'background': 496,\n",
       " 'backing': 497,\n",
       " 'backs': 498,\n",
       " 'bad': 499,\n",
       " 'badly': 500,\n",
       " 'baer': 501,\n",
       " 'bag': 502,\n",
       " 'baghdad': 503,\n",
       " 'baghdads': 504,\n",
       " 'bags': 505,\n",
       " 'baker': 506,\n",
       " 'balance': 507,\n",
       " 'balanced': 508,\n",
       " 'bald': 509,\n",
       " 'ball': 510,\n",
       " 'ballot': 511,\n",
       " 'ballots': 512,\n",
       " 'ban': 513,\n",
       " 'band': 514,\n",
       " 'bandwagon': 515,\n",
       " 'bang': 516,\n",
       " 'bank': 517,\n",
       " 'banking': 518,\n",
       " 'banks': 519,\n",
       " 'banned': 520,\n",
       " 'banner': 521,\n",
       " 'banning': 522,\n",
       " 'bar': 523,\n",
       " 'barack': 524,\n",
       " 'barbara': 525,\n",
       " 'barbero': 526,\n",
       " 'barbour': 527,\n",
       " 'barely': 528,\n",
       " 'barend': 529,\n",
       " 'bargaining': 530,\n",
       " 'barnes': 531,\n",
       " 'barrage': 532,\n",
       " 'barrel': 533,\n",
       " 'barrels': 534,\n",
       " 'barrier': 535,\n",
       " 'barring': 536,\n",
       " 'barry': 537,\n",
       " 'bars': 538,\n",
       " 'bartlett': 539,\n",
       " 'base': 540,\n",
       " 'baseball': 541,\n",
       " 'based': 542,\n",
       " 'baseline': 543,\n",
       " 'bases': 544,\n",
       " 'bashing': 545,\n",
       " 'basic': 546,\n",
       " 'basically': 547,\n",
       " 'basis': 548,\n",
       " 'basketball': 549,\n",
       " 'basra': 550,\n",
       " 'bastion': 551,\n",
       " 'batch': 552,\n",
       " 'battalion': 553,\n",
       " 'battle': 554,\n",
       " 'battlefield': 555,\n",
       " 'battleground': 556,\n",
       " 'battlegrounds': 557,\n",
       " 'battles': 558,\n",
       " 'bay': 559,\n",
       " 'bayh': 560,\n",
       " 'bbc': 561,\n",
       " 'beach': 562,\n",
       " 'beacon': 563,\n",
       " 'bean': 564,\n",
       " 'bear': 565,\n",
       " 'bears': 566,\n",
       " 'beasley': 567,\n",
       " 'beat': 568,\n",
       " 'beaten': 569,\n",
       " 'beating': 570,\n",
       " 'beats': 571,\n",
       " 'beauprez': 572,\n",
       " 'beautiful': 573,\n",
       " 'beauty': 574,\n",
       " 'bed': 575,\n",
       " 'beef': 576,\n",
       " 'beer': 577,\n",
       " 'beers': 578,\n",
       " 'began': 579,\n",
       " 'begging': 580,\n",
       " 'begin': 581,\n",
       " 'beginning': 582,\n",
       " 'begins': 583,\n",
       " 'begun': 584,\n",
       " 'behalf': 585,\n",
       " 'behavior': 586,\n",
       " 'beheading': 587,\n",
       " 'beings': 588,\n",
       " 'belief': 589,\n",
       " 'beliefs': 590,\n",
       " 'believed': 591,\n",
       " 'believes': 592,\n",
       " 'believing': 593,\n",
       " 'bell': 594,\n",
       " 'belongs': 595,\n",
       " 'belt': 596,\n",
       " 'beltway': 597,\n",
       " 'ben': 598,\n",
       " 'bench': 599,\n",
       " 'beneath': 600,\n",
       " 'beneficiary': 601,\n",
       " 'benefit': 602,\n",
       " 'benefits': 603,\n",
       " 'bennett': 604,\n",
       " 'benson': 605,\n",
       " 'berg': 606,\n",
       " 'berger': 607,\n",
       " 'berkeley': 608,\n",
       " 'bet': 609,\n",
       " 'beth': 610,\n",
       " 'betrayal': 611,\n",
       " 'betrayed': 612,\n",
       " 'betting': 613,\n",
       " 'bias': 614,\n",
       " 'bible': 615,\n",
       " 'bid': 616,\n",
       " 'biden': 617,\n",
       " 'bigger': 618,\n",
       " 'biggest': 619,\n",
       " 'bill': 620,\n",
       " 'billion': 621,\n",
       " 'billions': 622,\n",
       " 'billmon': 623,\n",
       " 'bills': 624,\n",
       " 'bin': 625,\n",
       " 'bio': 626,\n",
       " 'biological': 627,\n",
       " 'bipartisan': 628,\n",
       " 'bird': 629,\n",
       " 'birth': 630,\n",
       " 'birthday': 631,\n",
       " 'bishops': 632,\n",
       " 'bit': 633,\n",
       " 'bitch': 634,\n",
       " 'bite': 635,\n",
       " 'bits': 636,\n",
       " 'bitter': 637,\n",
       " 'bizarre': 638,\n",
       " 'black': 639,\n",
       " 'blacks': 640,\n",
       " 'blackwater': 641,\n",
       " 'blackwell': 642,\n",
       " 'blades': 643,\n",
       " 'blair': 644,\n",
       " 'blame': 645,\n",
       " 'blamed': 646,\n",
       " 'blames': 647,\n",
       " 'blaming': 648,\n",
       " 'blanco': 649,\n",
       " 'blank': 650,\n",
       " 'blast': 651,\n",
       " 'blasted': 652,\n",
       " 'blasting': 653,\n",
       " 'blatant': 654,\n",
       " 'bleak': 655,\n",
       " 'bleeding': 656,\n",
       " 'blessed': 657,\n",
       " 'blew': 658,\n",
       " 'blind': 659,\n",
       " 'blitz': 660,\n",
       " 'blitzer': 661,\n",
       " 'bloc': 662,\n",
       " 'block': 663,\n",
       " 'blocked': 664,\n",
       " 'blocks': 665,\n",
       " 'blog': 666,\n",
       " 'blogads': 667,\n",
       " 'blogged': 668,\n",
       " 'blogger': 669,\n",
       " 'bloggers': 670,\n",
       " 'blogging': 671,\n",
       " 'blogosphere': 672,\n",
       " 'blogpac': 673,\n",
       " 'blogs': 674,\n",
       " 'blood': 675,\n",
       " 'bloody': 676,\n",
       " 'bloomfield': 677,\n",
       " 'blow': 678,\n",
       " 'blowing': 679,\n",
       " 'blown': 680,\n",
       " 'blows': 681,\n",
       " 'blue': 682,\n",
       " 'bluff': 683,\n",
       " 'blunder': 684,\n",
       " 'blunt': 685,\n",
       " 'board': 686,\n",
       " 'boards': 687,\n",
       " 'boat': 688,\n",
       " 'boats': 689,\n",
       " 'bob': 690,\n",
       " 'bobby': 691,\n",
       " 'bode': 692,\n",
       " 'bodies': 693,\n",
       " 'body': 694,\n",
       " 'bogus': 695,\n",
       " 'bold': 696,\n",
       " 'bolster': 697,\n",
       " 'bomb': 698,\n",
       " 'bombing': 699,\n",
       " 'bombings': 700,\n",
       " 'bombs': 701,\n",
       " 'bombshell': 702,\n",
       " 'bona': 703,\n",
       " 'bond': 704,\n",
       " 'bonus': 705,\n",
       " 'book': 706,\n",
       " 'books': 707,\n",
       " 'boost': 708,\n",
       " 'boosted': 709,\n",
       " 'booth': 710,\n",
       " 'boots': 711,\n",
       " 'bop': 712,\n",
       " 'border': 713,\n",
       " 'borders': 714,\n",
       " 'boring': 715,\n",
       " 'born': 716,\n",
       " 'borrow': 717,\n",
       " 'boss': 718,\n",
       " 'boston': 719,\n",
       " 'bother': 720,\n",
       " 'bothered': 721,\n",
       " 'bottom': 722,\n",
       " 'bought': 723,\n",
       " 'boulder': 724,\n",
       " 'bounce': 725,\n",
       " 'bound': 726,\n",
       " 'boundaries': 727,\n",
       " 'bounds': 728,\n",
       " 'bowers': 729,\n",
       " 'bowerss': 730,\n",
       " 'bowl': 731,\n",
       " 'bowles': 732,\n",
       " 'box': 733,\n",
       " 'boxblogroll': 734,\n",
       " 'boxer': 735,\n",
       " 'boxfeed_listing': 736,\n",
       " 'boxrdf_feeds': 737,\n",
       " 'boy': 738,\n",
       " 'boycott': 739,\n",
       " 'boys': 740,\n",
       " 'brad': 741,\n",
       " 'bradley': 742,\n",
       " 'bradnickel': 743,\n",
       " 'brahimi': 744,\n",
       " 'brain': 745,\n",
       " 'branch': 746,\n",
       " 'branches': 747,\n",
       " 'brand': 748,\n",
       " 'braun': 749,\n",
       " 'brave': 750,\n",
       " 'brazil': 751,\n",
       " 'break': 752,\n",
       " 'breakdown': 753,\n",
       " 'breakfast': 754,\n",
       " 'breaking': 755,\n",
       " 'breaks': 756,\n",
       " 'breath': 757,\n",
       " 'breathtaking': 758,\n",
       " 'breaux': 759,\n",
       " 'bremer': 760,\n",
       " 'brian': 761,\n",
       " 'bridge': 762,\n",
       " 'bridges': 763,\n",
       " 'briefed': 764,\n",
       " 'briefing': 765,\n",
       " 'briefly': 766,\n",
       " 'brigade': 767,\n",
       " 'brigades': 768,\n",
       " 'bright': 769,\n",
       " 'brilliant': 770,\n",
       " 'bring': 771,\n",
       " 'bringing': 772,\n",
       " 'brings': 773,\n",
       " 'brit': 774,\n",
       " 'britain': 775,\n",
       " 'british': 776,\n",
       " 'brits': 777,\n",
       " 'broad': 778,\n",
       " 'broadcast': 779,\n",
       " 'broadcasting': 780,\n",
       " 'broader': 781,\n",
       " 'brock': 782,\n",
       " 'broder': 783,\n",
       " 'brokaw': 784,\n",
       " 'broke': 785,\n",
       " 'broken': 786,\n",
       " 'brokered': 787,\n",
       " 'bronze': 788,\n",
       " 'brooks': 789,\n",
       " 'brother': 790,\n",
       " 'brothers': 791,\n",
       " 'brought': 792,\n",
       " 'broward': 793,\n",
       " 'brown': 794,\n",
       " 'brownstein': 795,\n",
       " 'browser': 796,\n",
       " 'bruce': 797,\n",
       " 'brush': 798,\n",
       " 'brutal': 799,\n",
       " 'btw': 800,\n",
       " 'bubble': 801,\n",
       " 'buchanan': 802,\n",
       " 'buck': 803,\n",
       " 'bucks': 804,\n",
       " 'buddy': 805,\n",
       " 'budget': 806,\n",
       " 'budgets': 807,\n",
       " 'bug': 808,\n",
       " 'bugs': 809,\n",
       " 'buh': 810,\n",
       " 'build': 811,\n",
       " 'building': 812,\n",
       " 'buildings': 813,\n",
       " 'built': 814,\n",
       " 'bulb': 815,\n",
       " 'bulk': 816,\n",
       " 'bullet': 817,\n",
       " 'bullets': 818,\n",
       " 'bullshit': 819,\n",
       " 'bully': 820,\n",
       " 'bumblebums': 821,\n",
       " 'bump': 822,\n",
       " 'bumped': 823,\n",
       " 'bumper': 824,\n",
       " 'bumpersticker': 825,\n",
       " 'bunch': 826,\n",
       " 'bunning': 827,\n",
       " 'bunnings': 828,\n",
       " 'burden': 829,\n",
       " 'bureau': 830,\n",
       " 'bureaucratic': 831,\n",
       " 'buried': 832,\n",
       " 'burn': 833,\n",
       " 'burned': 834,\n",
       " 'burning': 835,\n",
       " 'burns': 836,\n",
       " 'burr': 837,\n",
       " 'burt': 838,\n",
       " 'bus': 839,\n",
       " 'bush': 840,\n",
       " 'bushcheney': 841,\n",
       " 'bushes': 842,\n",
       " 'bushies': 843,\n",
       " 'bushkerry': 844,\n",
       " 'bushrove': 845,\n",
       " 'bushs': 846,\n",
       " 'bushsux': 847,\n",
       " 'business': 848,\n",
       " 'businesses': 849,\n",
       " 'businessman': 850,\n",
       " 'bust': 851,\n",
       " 'busy': 852,\n",
       " 'button': 853,\n",
       " 'buy': 854,\n",
       " 'buying': 855,\n",
       " 'buys': 856,\n",
       " 'buzz': 857,\n",
       " 'buzzing': 858,\n",
       " 'bypass': 859,\n",
       " 'cabinet': 860,\n",
       " 'cable': 861,\n",
       " 'caci': 862,\n",
       " 'calculate': 863,\n",
       " 'calculated': 864,\n",
       " 'calculator': 865,\n",
       " 'calendar': 866,\n",
       " 'california': 867,\n",
       " 'calistan': 868,\n",
       " 'call': 869,\n",
       " 'called': 870,\n",
       " 'calling': 871,\n",
       " 'calls': 872,\n",
       " 'calm': 873,\n",
       " 'camejo': 874,\n",
       " 'camera': 875,\n",
       " 'cameras': 876,\n",
       " 'camp': 877,\n",
       " 'campaign': 878,\n",
       " 'campaigned': 879,\n",
       " 'campaigner': 880,\n",
       " 'campaigning': 881,\n",
       " 'campaigns': 882,\n",
       " 'campbell': 883,\n",
       " 'camps': 884,\n",
       " 'campus': 885,\n",
       " 'canada': 886,\n",
       " 'canadian': 887,\n",
       " 'canadians': 888,\n",
       " 'cancelled': 889,\n",
       " 'cancer': 890,\n",
       " 'candidacy': 891,\n",
       " 'candidate': 892,\n",
       " 'candidates': 893,\n",
       " 'canton': 894,\n",
       " 'cap': 895,\n",
       " 'capabilities': 896,\n",
       " 'capability': 897,\n",
       " 'capable': 898,\n",
       " 'capacity': 899,\n",
       " 'capital': 900,\n",
       " 'capitol': 901,\n",
       " 'caps': 902,\n",
       " 'captain': 903,\n",
       " 'capture': 904,\n",
       " 'captured': 905,\n",
       " 'capturing': 906,\n",
       " 'car': 907,\n",
       " 'carbon': 908,\n",
       " 'card': 909,\n",
       " 'cards': 910,\n",
       " 'care': 911,\n",
       " 'career': 912,\n",
       " 'careful': 913,\n",
       " 'carefully': 914,\n",
       " 'cares': 915,\n",
       " 'cargo': 916,\n",
       " 'carl': 917,\n",
       " 'carlos': 918,\n",
       " 'carlson': 919,\n",
       " 'carol': 920,\n",
       " 'carolina': 921,\n",
       " 'carried': 922,\n",
       " 'carrier': 923,\n",
       " 'carries': 924,\n",
       " 'carry': 925,\n",
       " 'carrying': 926,\n",
       " 'cars': 927,\n",
       " 'carson': 928,\n",
       " 'carsons': 929,\n",
       " 'carter': 930,\n",
       " 'carville': 931,\n",
       " 'cases': 932,\n",
       " 'cash': 933,\n",
       " 'cast': 934,\n",
       " 'castor': 935,\n",
       " 'castro': 936,\n",
       " 'casts': 937,\n",
       " 'casualties': 938,\n",
       " 'casualty': 939,\n",
       " 'cat': 940,\n",
       " 'catch': 941,\n",
       " 'catching': 942,\n",
       " 'categories': 943,\n",
       " 'category': 944,\n",
       " 'catholic': 945,\n",
       " 'catholics': 946,\n",
       " 'cato': 947,\n",
       " 'cats': 948,\n",
       " 'cattle': 949,\n",
       " 'caucus': 950,\n",
       " 'caucuses': 951,\n",
       " 'caucusgoers': 952,\n",
       " 'caught': 953,\n",
       " 'caused': 954,\n",
       " 'causing': 955,\n",
       " 'caution': 956,\n",
       " 'cautious': 957,\n",
       " 'caveats': 958,\n",
       " 'cbs': 959,\n",
       " 'cegelis': 960,\n",
       " 'ceiling': 961,\n",
       " 'celebrate': 962,\n",
       " 'celebration': 963,\n",
       " 'celebrity': 964,\n",
       " 'cell': 965,\n",
       " 'cells': 966,\n",
       " 'censure': 967,\n",
       " 'census': 968,\n",
       " 'cent': 969,\n",
       " 'center': 970,\n",
       " 'centers': 971,\n",
       " 'central': 972,\n",
       " 'centrist': 973,\n",
       " 'cents': 974,\n",
       " 'century': 975,\n",
       " 'ceo': 976,\n",
       " 'ceremony': 977,\n",
       " 'cfr': 978,\n",
       " 'chafee': 979,\n",
       " 'chain': 980,\n",
       " 'chair': 981,\n",
       " 'chairman': 982,\n",
       " 'chairs': 983,\n",
       " 'chalabi': 984,\n",
       " 'chalabis': 985,\n",
       " 'challenge': 986,\n",
       " 'challenged': 987,\n",
       " 'challenger': 988,\n",
       " 'challengers': 989,\n",
       " 'challenges': 990,\n",
       " 'challenging': 991,\n",
       " 'chamber': 992,\n",
       " 'chambers': 993,\n",
       " 'chambliss': 994,\n",
       " 'chance': 995,\n",
       " 'chances': 996,\n",
       " 'chandler': 997,\n",
       " 'chandlers': 998,\n",
       " 'change': 999,\n",
       " ...}"
      ]
     },
     "execution_count": 3,
     "metadata": {},
     "output_type": "execute_result"
    }
   ],
   "source": [
    "#3\n",
    "kos_word2id={}\n",
    "for x in kos_id2word:\n",
    "    kos_word2id[kos_id2word[x]]=x\n",
    "kos_word2id"
   ]
  },
  {
   "cell_type": "raw",
   "metadata": {},
   "source": [
    "15分"
   ]
  },
  {
   "cell_type": "code",
   "execution_count": null,
   "metadata": {},
   "outputs": [],
   "source": []
  },
  {
   "cell_type": "code",
   "execution_count": 4,
   "metadata": {},
   "outputs": [],
   "source": [
    "#4\n",
    "class Vocab:\n",
    "    def __init__(self,id2word):\n",
    "        self.id2word=id2word\n",
    "        self.word2id={}\n",
    "        for x in id2word:\n",
    "            self.word2id[id2word[x]]=x\n",
    "    \n",
    "    def __len__(self):\n",
    "        length=len(id2word)\n",
    "        return length"
   ]
  },
  {
   "cell_type": "raw",
   "metadata": {},
   "source": [
    "5分"
   ]
  },
  {
   "cell_type": "markdown",
   "metadata": {},
   "source": [
    "問題5:  \n",
    "このディレクトリにvocab.kos.txtというファイルが有る。\n",
    "\n",
    "vocab.kos.txtの先頭10行：\n",
    "```\n",
    "3430\n",
    "6906\n",
    "353160\n",
    "1 61 2\n",
    "1 76 1\n",
    "1 89 1\n",
    "1 211 1\n",
    "1 296 1\n",
    "1 335 1\n",
    "1 404 1\n",
    "```\n",
    "\n",
    "このファイルの1行目は文書数、2行目は語彙数、3行目は総単語数を示す数字になっており、4行目以降は「文書番号 単語id 出現回数」を表す数字が並んでいる。このファイルをPythonのopen関数で読み込んで、（文書数 x 語彙数）の行列bowを作成せよ。bowの各要素はそれぞれの単語の出現回数である。"
   ]
  },
  {
   "cell_type": "code",
   "execution_count": 5,
   "metadata": {},
   "outputs": [
    {
     "data": {
      "text/plain": [
       "23687580"
      ]
     },
     "execution_count": 5,
     "metadata": {},
     "output_type": "execute_result"
    }
   ],
   "source": [
    "3430*6906"
   ]
  },
  {
   "cell_type": "code",
   "execution_count": 6,
   "metadata": {},
   "outputs": [
    {
     "name": "stdout",
     "output_type": "stream",
     "text": [
      "3430\n"
     ]
    },
    {
     "data": {
      "text/plain": [
       "array([[0., 0., 0., ..., 0., 1., 0.],\n",
       "       [0., 0., 0., ..., 0., 0., 0.],\n",
       "       [0., 0., 0., ..., 0., 0., 0.],\n",
       "       ...,\n",
       "       [0., 0., 0., ..., 0., 0., 0.],\n",
       "       [0., 0., 0., ..., 0., 0., 0.],\n",
       "       [0., 0., 0., ..., 0., 0., 0.]])"
      ]
     },
     "execution_count": 6,
     "metadata": {},
     "output_type": "execute_result"
    }
   ],
   "source": [
    "#5\n",
    "import numpy as np\n",
    "f=open('docword.kos.txt')\n",
    "readed=[s.strip() for s in f.readlines()]\n",
    "print(readed[0])\n",
    "bow=np.zeros([int(readed[0]),int(readed[1])])\n",
    "for i,x in enumerate(readed):\n",
    "    if i==0 or i==1 or i==2:\n",
    "        continue\n",
    "    splited=x.split()\n",
    "    bow[int(splited[0])-1,int(splited[1])-1]=int(splited[2])\n",
    "f.close()\n",
    "bow"
   ]
  },
  {
   "cell_type": "raw",
   "metadata": {},
   "source": [
    "30分"
   ]
  },
  {
   "cell_type": "markdown",
   "metadata": {},
   "source": [
    "## ② ベクトル（≒一次元配列）に対する計算の実装\n",
    "\n",
    "ちなみにここでいうベクトルとは…\n",
    "\n",
    "![](etc/0.PNG)\n",
    "\n",
    "（上の資料のベクトルの説明は非常に雑なので、これが本当のベクトルの定義だ！とは思わないでください。しかし、こういうものをベクトルとして扱う、と割り切ってしまえば機械学習を理解するのが楽になります。実用には問題がないので、割り切ってしまいましょう。）\n",
    "\n",
    "この章ではベクトルを引数にとって何かの値を返すような関数を実装していきます。問題の内容は皆さんのコードを見たときに思いついた、というものが多いです。なので方向性がバラバラで、出題者の伝えたいことが理解できないかもしれません（ごめん）。"
   ]
  },
  {
   "cell_type": "code",
   "execution_count": null,
   "metadata": {},
   "outputs": [],
   "source": []
  },
  {
   "cell_type": "markdown",
   "metadata": {
    "colab_type": "text",
    "id": "rMkMCXqwHmVW"
   },
   "source": [
    "### 1. filter関数実装の準備問題\n",
    "\n",
    "以下の作りかけの関数mod_filterを元に、関数の第一引数Xから第二引数yで割り切れる値だけを抽出してリストとして返す関数を完成させよ。\n",
    "\n",
    "条件：\n",
    "1. 引数Xは一次元配列。各要素には数字が入っている。\n",
    "2. yは数字。intでもfloatでもいいがここではintにしておく。\n",
    "\n",
    "実装のヒント\n",
    "1. forループでXの中身を取り出していき、それぞれyで割り切れるか確認していく。\n",
    "2. mod_filterの返り値resultはlist型でなければならない。\n",
    "\n"
   ]
  },
  {
   "cell_type": "code",
   "execution_count": 7,
   "metadata": {
    "colab": {},
    "colab_type": "code",
    "id": "rNcaVtNhHk1c"
   },
   "outputs": [],
   "source": [
    "def mod_filter(X:list, y:int):\n",
    "    result=[]\n",
    "    for x in X:\n",
    "        if x%y == 0:\n",
    "            result.append(x)\n",
    "\n",
    "    return result"
   ]
  },
  {
   "cell_type": "code",
   "execution_count": 8,
   "metadata": {
    "colab": {},
    "colab_type": "code",
    "id": "Lcp-eZb2J1Yy"
   },
   "outputs": [
    {
     "data": {
      "text/plain": [
       "[0, 7, 14, 21, 28, 35, 42, 49, 56, 63, 70, 77, 84, 91, 98]"
      ]
     },
     "execution_count": 8,
     "metadata": {},
     "output_type": "execute_result"
    }
   ],
   "source": [
    "# *** test ***\n",
    "sample_vector = list(range(100)) \n",
    "y = 7\n",
    "a=mod_filter(sample_vector,y)\n",
    "a"
   ]
  },
  {
   "cell_type": "raw",
   "metadata": {},
   "source": [
    "5分"
   ]
  },
  {
   "cell_type": "markdown",
   "metadata": {
    "colab_type": "text",
    "id": "9FmZo3a5LDWB"
   },
   "source": [
    "### 2. filter関数の実装\n",
    "\n",
    "以下に示す未完成の関数_filterを元に、関数の第__2__引数Xの中から第__1__引数で指定された関数の返り値がTrueになるものだけを抽出してリストとして返す関数を完成させよ。\n",
    "\n",
    "条件：\n",
    "- 引数Xは一次元配列。要素はすべて文字列。\n",
    "- funcは関数。lamdba式などで定義される。\n",
    "\n",
    "実装のヒント：\n",
    "1. 基本はmod_filterと同じ。\n",
    "2. 引数funcに渡される関数は、値を一つ受け取ったら、それが何かの条件にあっていればTrue,それ以外ならFalseを返すような関数。例えば以下の関数eval_fnならば、単語の文字数が3以上のものだけを取り出すフィルターになる。\n",
    "```python\n",
    "eval_fn = lambda token: len(token)>=3\n",
    "```"
   ]
  },
  {
   "cell_type": "code",
   "execution_count": 9,
   "metadata": {
    "colab": {},
    "colab_type": "code",
    "id": "u0rh4LEiLCeU"
   },
   "outputs": [],
   "source": [
    "def _filter(func, X:list):\n",
    "    result=[]\n",
    "    for x in X:\n",
    "        if func(x)==True:\n",
    "            result.append(x)\n",
    "    return result"
   ]
  },
  {
   "cell_type": "code",
   "execution_count": 10,
   "metadata": {
    "colab": {
     "base_uri": "https://localhost:8080/",
     "height": 222
    },
    "colab_type": "code",
    "id": "0nGb7o_ONysF",
    "outputId": "2b6fc05d-0749-4021-848b-b3842bbb6019"
   },
   "outputs": [
    {
     "data": {
      "text/plain": [
       "['k-means',\n",
       " 'clustering',\n",
       " 'method',\n",
       " 'vector',\n",
       " 'quantization,',\n",
       " 'originally',\n",
       " 'from',\n",
       " 'signal',\n",
       " 'processing,',\n",
       " 'that',\n",
       " 'aims',\n",
       " 'partition',\n",
       " 'observations',\n",
       " 'into',\n",
       " 'clusters',\n",
       " 'which',\n",
       " 'each',\n",
       " 'observation',\n",
       " 'belongs',\n",
       " 'the',\n",
       " 'cluster',\n",
       " 'with',\n",
       " 'the',\n",
       " 'nearest',\n",
       " 'mean',\n",
       " '(cluster',\n",
       " 'centers',\n",
       " 'cluster',\n",
       " 'centroid),',\n",
       " 'serving',\n",
       " 'prototype',\n",
       " 'the',\n",
       " 'cluster.']"
      ]
     },
     "execution_count": 10,
     "metadata": {},
     "output_type": "execute_result"
    }
   ],
   "source": [
    "# *** test ***\n",
    "sample_text = \"k-means clustering is a method of vector quantization, originally from signal processing, that aims to partition n observations into k clusters in which each observation belongs to the cluster with the nearest mean (cluster centers or cluster centroid), serving as a prototype of the cluster.\"\n",
    "sample_words = sample_text.split(\" \")\n",
    "_filter(lambda token: len(token)>=3, sample_words)"
   ]
  },
  {
   "cell_type": "raw",
   "metadata": {},
   "source": [
    "10分"
   ]
  },
  {
   "cell_type": "markdown",
   "metadata": {
    "colab_type": "text",
    "id": "14h9B6HVWIcy"
   },
   "source": [
    "### 3. 統計的代表値計算の再現 － 中央値 np.median\n",
    "\n",
    "以下に示すnp.medianに習い、ベクトルAの中央値を求めるpure python関数_medianを作成せよ。"
   ]
  },
  {
   "cell_type": "code",
   "execution_count": 11,
   "metadata": {
    "colab": {},
    "colab_type": "code",
    "id": "tuaHaehMPA5_"
   },
   "outputs": [],
   "source": [
    "import numpy as np"
   ]
  },
  {
   "cell_type": "code",
   "execution_count": 12,
   "metadata": {
    "colab": {
     "base_uri": "https://localhost:8080/",
     "height": 34
    },
    "colab_type": "code",
    "id": "TiS6l-U_Wi11",
    "outputId": "47d1f097-7555-4088-f6a4-a08339419f1a"
   },
   "outputs": [
    {
     "data": {
      "text/plain": [
       "6.0"
      ]
     },
     "execution_count": 12,
     "metadata": {},
     "output_type": "execute_result"
    }
   ],
   "source": [
    "A = [10, 1, 11, 3, 7, 1, 6, 15, 2]\n",
    "np.median(A)"
   ]
  },
  {
   "cell_type": "code",
   "execution_count": 13,
   "metadata": {
    "colab": {},
    "colab_type": "code",
    "id": "i3vSe-5SWlW4"
   },
   "outputs": [],
   "source": [
    "def _median(X:list):\n",
    "    X.sort()\n",
    "    length=len(X)\n",
    "    _sum=0\n",
    "    if length%2==0:\n",
    "        median_index=int(length/2)\n",
    "        _sum+=X[median_index-1]\n",
    "        \n",
    "        _sum+=X[median_index]\n",
    "        return float(_sum/2)\n",
    "    else:\n",
    "        median_index=int(length/2)\n",
    "        return float(X[median_index])"
   ]
  },
  {
   "cell_type": "code",
   "execution_count": 14,
   "metadata": {},
   "outputs": [
    {
     "data": {
      "text/plain": [
       "6.0"
      ]
     },
     "execution_count": 14,
     "metadata": {},
     "output_type": "execute_result"
    }
   ],
   "source": [
    "_median(A)"
   ]
  },
  {
   "cell_type": "raw",
   "metadata": {},
   "source": [
    "20分"
   ]
  },
  {
   "cell_type": "markdown",
   "metadata": {
    "colab_type": "text",
    "id": "TXWB93-1XPVy"
   },
   "source": [
    "### 4. 統計的代表値計算の再現 － 最頻値: statistics.mode\n",
    "\n",
    "statistics.modeに習い、ベクトルAの最頻値を求めるpure python関数_modeを作成せよ。"
   ]
  },
  {
   "cell_type": "code",
   "execution_count": 15,
   "metadata": {
    "colab": {},
    "colab_type": "code",
    "id": "8hMjlQ-aXdEl"
   },
   "outputs": [],
   "source": [
    "import statistics"
   ]
  },
  {
   "cell_type": "code",
   "execution_count": 16,
   "metadata": {
    "colab": {
     "base_uri": "https://localhost:8080/",
     "height": 34
    },
    "colab_type": "code",
    "id": "igRSWaSuXdeT",
    "outputId": "35a720a7-4bcb-401b-dcf4-548983ed182f"
   },
   "outputs": [
    {
     "data": {
      "text/plain": [
       "1"
      ]
     },
     "execution_count": 16,
     "metadata": {},
     "output_type": "execute_result"
    }
   ],
   "source": [
    "statistics.mode(A)"
   ]
  },
  {
   "cell_type": "code",
   "execution_count": 17,
   "metadata": {},
   "outputs": [],
   "source": [
    "def _mode(X:list):\n",
    "    num_table={}\n",
    "    for x in X:\n",
    "        if x not in num_table:\n",
    "            num_table[x]=1\n",
    "        else:\n",
    "            num_table[x]+=1\n",
    "    num_table=sorted(num_table.items(), key=lambda x:x[1],reverse=True)\n",
    "    return num_table[0][0]"
   ]
  },
  {
   "cell_type": "code",
   "execution_count": 18,
   "metadata": {},
   "outputs": [
    {
     "data": {
      "text/plain": [
       "1"
      ]
     },
     "execution_count": 18,
     "metadata": {},
     "output_type": "execute_result"
    }
   ],
   "source": [
    "_mode(A)"
   ]
  },
  {
   "cell_type": "markdown",
   "metadata": {
    "colab": {},
    "colab_type": "code",
    "id": "J6P6WunVXiJW"
   },
   "source": [
    "### 5. ベクトルのノルムの計算\n",
    "\n",
    "以下の資料を参考にベクトルを受け取ってL1ノルムを返す_l1norm関数と、L2ノルムを返す_l2norm関数を作成せよ。また、Aを使って実装したそれらを実行せよ。\n",
    "![](etc/1.PNG)\n",
    "![](etc/2.PNG)"
   ]
  },
  {
   "cell_type": "code",
   "execution_count": 24,
   "metadata": {},
   "outputs": [],
   "source": [
    "import math as ma"
   ]
  },
  {
   "cell_type": "code",
   "execution_count": 25,
   "metadata": {
    "colab": {},
    "colab_type": "code",
    "id": "FDJ8OB0iX58c"
   },
   "outputs": [],
   "source": [
    "def _l1norm(X:list):\n",
    "    result=0\n",
    "    for x in X:\n",
    "        result+=abs(x)\n",
    "    return result"
   ]
  },
  {
   "cell_type": "code",
   "execution_count": 26,
   "metadata": {},
   "outputs": [],
   "source": [
    "def _l2norm(X:list):\n",
    "    _sum=0\n",
    "    for x in X:\n",
    "        _sum+=x**2\n",
    "    return ma.sqrt(_sum)\n",
    "        "
   ]
  },
  {
   "cell_type": "code",
   "execution_count": 27,
   "metadata": {},
   "outputs": [
    {
     "data": {
      "text/plain": [
       "56"
      ]
     },
     "execution_count": 27,
     "metadata": {},
     "output_type": "execute_result"
    }
   ],
   "source": [
    "_l1norm(A)"
   ]
  },
  {
   "cell_type": "code",
   "execution_count": 28,
   "metadata": {},
   "outputs": [
    {
     "data": {
      "text/plain": [
       "5.0"
      ]
     },
     "execution_count": 28,
     "metadata": {},
     "output_type": "execute_result"
    }
   ],
   "source": [
    "_l2norm([3,4])"
   ]
  },
  {
   "cell_type": "markdown",
   "metadata": {
    "colab_type": "text",
    "id": "VmyHyPi_X6fi"
   },
   "source": [
    "### 6. コサイン類似度\n",
    "\n",
    "以下の資料を参考に、この資料内の演習問題3-8を自作のコサイン関数\\_cosを使って回答せよ。\n",
    "![](etc/3.PNG)\n",
    "![](etc/4.PNG)"
   ]
  },
  {
   "cell_type": "code",
   "execution_count": 29,
   "metadata": {},
   "outputs": [],
   "source": [
    "import math as ma"
   ]
  },
  {
   "cell_type": "code",
   "execution_count": 43,
   "metadata": {},
   "outputs": [],
   "source": [
    "def _cos(a:list,b:list):\n",
    "    above=0\n",
    "    below1=0\n",
    "    below2=0\n",
    "    for length in range(len(a)):\n",
    "        above+=a[length]*b[length]\n",
    "        below1+=a[length]**2\n",
    "        below2+=b[length]**2\n",
    "    return above/((ma.sqrt(below1))*(ma.sqrt(below2)))"
   ]
  },
  {
   "cell_type": "code",
   "execution_count": 44,
   "metadata": {},
   "outputs": [
    {
     "data": {
      "text/plain": [
       "0.8528028654224418"
      ]
     },
     "execution_count": 44,
     "metadata": {},
     "output_type": "execute_result"
    }
   ],
   "source": [
    "_cos([1,2,3],[6,5,4])"
   ]
  },
  {
   "cell_type": "markdown",
   "metadata": {},
   "source": [
    "## ③ 行列に対する計算の実装\n",
    "\n",
    "準備作業:  \n",
    "①で作った行列bowの先頭から20行分のみを取り出してbow20という変数に代入しておこう。 \n",
    "\n",
    "hint:  \n",
    "行列bowの先頭から20行分のみ→\n",
    "```\n",
    "bow20 = bow[:20]\n",
    "```\n",
    "\n",
    "これ以降はbow20とVocabクラスを利用して問題に回答せよ。またこの章ではnumpyを利用して良い。分からない事があると思うので、その際は各自調査せよ。\n",
    "\n",
    "\n",
    "問題1:  \n",
    "bow20の各行（文書ごと）の合計、平均を求めよ。また、各行で最大の出現回数を持つ単語idとそのidに対応した単語を表示せよ。\n",
    "\n",
    "問題2:  \n",
    "bow20の各列（単語ごと）の合計、平均を求めよ。\n",
    "\n",
    "問題3:  \n",
    "bow20の要素の合計値、平均値を求めよ。\n",
    "\n",
    "問題4:  \n",
    "bow20のnonzeroな値の個数、またnonzero rate（nonzeroな値の個数 ÷ この配列の要素数）を求めよ。\n",
    "\n",
    "問題5:  \n",
    "bow20の行ごとにL2ノルムを求めよ。また、これを使って行ベクトルごとに正規化せよ。\n",
    "\n",
    "問題6:  \n",
    "bow20[0]とbow20[0]～bow20[19]との内積を求めよ。\n",
    "\n",
    "\n",
    "問題7:  \n",
    "bow20[0]とbow20[0]～bow20[19]とのコサイン類似度を求めよ。\n",
    "\n",
    "\n",
    "問題8:  \n",
    "bow20[0]とbow20[0]～bow20[19]とのユークリッド距離を求めよ。\n",
    "\n",
    "\n",
    "問題9:  \n",
    "問題8で求めたユークリッド距離を使い、最もbow20[0]に近い距離にあるものをbow20[1]～bow20[19]の間から求めよ。\n",
    "\n",
    "問題10:  \n",
    "問題8で求めたユークリッド距離を使いもbow20[0]に近い順に並べた文書のindexをリストにして表示せよ。"
   ]
  },
  {
   "cell_type": "code",
   "execution_count": 32,
   "metadata": {},
   "outputs": [],
   "source": [
    "a=Vocab(kos_id2word)"
   ]
  },
  {
   "cell_type": "code",
   "execution_count": 33,
   "metadata": {},
   "outputs": [],
   "source": [
    "\n",
    "bow20=bow[:20]\n",
    "class Vocab:\n",
    "    def __init__(self,id2word):\n",
    "        self.id2word=id2word\n",
    "        self.word2id={}\n",
    "        for x in id2word:\n",
    "            self.word2id[id2word[x]]=x\n",
    "    \n",
    "    def __len__(self):\n",
    "        length=len(id2word)\n",
    "        return length"
   ]
  },
  {
   "cell_type": "code",
   "execution_count": 34,
   "metadata": {},
   "outputs": [
    {
     "name": "stdout",
     "output_type": "stream",
     "text": [
      "[137.  77. 157. 156. 176.  46.  92.  50.  84.  39.  93. 322. 193.  32.\n",
      " 126. 395.  59.  61. 140. 129.]\n",
      "[0.01983782 0.01114972 0.02273385 0.02258905 0.02548509 0.00666087\n",
      " 0.01332175 0.00724008 0.01216334 0.00564726 0.01346655 0.04662612\n",
      " 0.02794671 0.00463365 0.018245   0.05719664 0.0085433  0.0088329\n",
      " 0.02027223 0.01867941]\n",
      "{3929: 'militarys', 3420: 'kerryedwards', 4196: 'npr', 5586: 'set', 841: 'bushcheney', 6662: 'votes', 4497: 'percentage', 5273: 'revised', 2839: 'hardcore', 500: 'badly', 1890: 'doom', 894: 'canton', 3346: 'jodi', 2549: 'frequent', 879: 'campaigned'}\n"
     ]
    }
   ],
   "source": [
    "#1\n",
    "_sum_axis1=np.sum(bow20,axis=1)\n",
    "_mean_axis1=np.mean(bow20,axis=1)\n",
    "result={}\n",
    "for x in range(len(bow20)):\n",
    "    max_index=np.argmax(bow20[x])+1\n",
    "    result[max_index]=a.id2word[max_index]\n",
    "print(_sum_axis1)\n",
    "print(_mean_axis1)\n",
    "print(result)"
   ]
  },
  {
   "cell_type": "code",
   "execution_count": 35,
   "metadata": {},
   "outputs": [
    {
     "name": "stdout",
     "output_type": "stream",
     "text": [
      "[0. 0. 0. ... 0. 1. 0.]\n",
      "[0.   0.   0.   ... 0.   0.05 0.  ]\n"
     ]
    }
   ],
   "source": [
    "#2\n",
    "_sum_axis0=np.sum(bow20,axis=0)\n",
    "_mean_axis0=np.mean(bow20,axis=0)\n",
    "print(_sum_axis0)\n",
    "print(_mean_axis0)"
   ]
  },
  {
   "cell_type": "code",
   "execution_count": 36,
   "metadata": {},
   "outputs": [
    {
     "name": "stdout",
     "output_type": "stream",
     "text": [
      "2564.0 0.018563567911960614\n"
     ]
    }
   ],
   "source": [
    "#3\n",
    "_sum=np.sum(bow20)\n",
    "_mean=np.mean(bow20)\n",
    "print(_sum,_mean)"
   ]
  },
  {
   "cell_type": "code",
   "execution_count": 37,
   "metadata": {},
   "outputs": [
    {
     "data": {
      "text/plain": [
       "0.9862221256878076"
      ]
     },
     "execution_count": 37,
     "metadata": {},
     "output_type": "execute_result"
    }
   ],
   "source": [
    "#4\n",
    "a=np.count_nonzero(bow20==0)\n",
    "b=bow20.shape\n",
    "b=b[0]*b[1]\n",
    "c=a/b\n",
    "c"
   ]
  },
  {
   "cell_type": "code",
   "execution_count": 38,
   "metadata": {},
   "outputs": [
    {
     "name": "stdout",
     "output_type": "stream",
     "text": [
      "[15.198684153570664, 11.874342087037917, 17.05872210923198, 26.076809620810597, 18.439088914585774, 10.392304845413264, 13.638181696985855, 9.273618495495704, 12.489995996796797, 7.810249675906654, 12.922847983320086, 26.870057685088806, 18.138357147217054, 6.0, 15.165750888103101, 32.357379374726875, 8.54400374531753, 8.660254037844387, 17.26267650163207, 16.522711641858304]\n"
     ]
    }
   ],
   "source": [
    "#5\n",
    "result=[]\n",
    "for x in range(len(bow20)):\n",
    "    result.append(_l2norm(bow20[x]))\n",
    "print(result)"
   ]
  },
  {
   "cell_type": "code",
   "execution_count": 39,
   "metadata": {},
   "outputs": [
    {
     "data": {
      "text/plain": [
       "array([[0.        , 0.        , 0.        , ..., 0.        , 0.06579517,\n",
       "        0.        ],\n",
       "       [0.        , 0.        , 0.        , ..., 0.        , 0.        ,\n",
       "        0.        ],\n",
       "       [0.        , 0.        , 0.        , ..., 0.        , 0.        ,\n",
       "        0.        ],\n",
       "       ...,\n",
       "       [0.        , 0.        , 0.        , ..., 0.        , 0.        ,\n",
       "        0.        ],\n",
       "       [0.        , 0.        , 0.        , ..., 0.        , 0.        ,\n",
       "        0.        ],\n",
       "       [0.        , 0.        , 0.        , ..., 0.        , 0.        ,\n",
       "        0.        ]])"
      ]
     },
     "execution_count": 39,
     "metadata": {},
     "output_type": "execute_result"
    }
   ],
   "source": [
    "\n",
    "bow20_normalization=bow20\n",
    "for i,length in enumerate(result):\n",
    "    bow20_normalization[i]=bow20[i]/result[0]\n",
    "bow20_normalization"
   ]
  },
  {
   "cell_type": "code",
   "execution_count": 46,
   "metadata": {},
   "outputs": [],
   "source": [
    "#6\n",
    "nai=[]\n",
    "for i,x in enumerate(result):\n",
    "    n=result[0]*x*_cos(bow20[0],bow20[i])\n",
    "    nai.append(n)"
   ]
  },
  {
   "cell_type": "code",
   "execution_count": 55,
   "metadata": {},
   "outputs": [
    {
     "data": {
      "text/plain": [
       "[1.0000000000000002,\n",
       " 0.21055620787414997,\n",
       " 0.14270830228447576,\n",
       " 0.03532381400708495,\n",
       " 0.26048181639858536,\n",
       " 0.15194743527951735,\n",
       " 0.20744644346190838,\n",
       " 0.12061288503240501,\n",
       " 0.5267829510341789,\n",
       " 0.04212104108460468,\n",
       " 0.12219319378682,\n",
       " 0.15181584485448724,\n",
       " 0.11970436879948478,\n",
       " 0.06579516949597695,\n",
       " 0.047722455010354714,\n",
       " 0.07320203760707558,\n",
       " 0.061605936942183956,\n",
       " 0.11396057645963796,\n",
       " 0.15245647333947665,\n",
       " 0.0955705154293819]"
      ]
     },
     "execution_count": 55,
     "metadata": {},
     "output_type": "execute_result"
    }
   ],
   "source": [
    "#7\n",
    "cosrui=[]\n",
    "for i,x in enumerate(result):\n",
    "    n=_cos(bow20[0],bow20[i])\n",
    "    cosrui.append(n)\n",
    "cosrui"
   ]
  },
  {
   "cell_type": "code",
   "execution_count": 77,
   "metadata": {},
   "outputs": [],
   "source": [
    "#8\n",
    "Euclid_dist=[]\n",
    "for i,x in enumerate(result):\n",
    "    before_dist=bow20[0]-bow20[i]\n",
    "    before_dist=before_dist**2\n",
    "    a=np.sum(before_dist)\n",
    "    Euclid_dist.append(np.linalg.norm(a))"
   ]
  },
  {
   "cell_type": "code",
   "execution_count": 89,
   "metadata": {},
   "outputs": [
    {
     "name": "stdout",
     "output_type": "stream",
     "text": [
      "8\n"
     ]
    }
   ],
   "source": [
    "#9\n",
    "A=np.array(Euclid_dist)\n",
    "print(A.argsort()[1])\n"
   ]
  },
  {
   "cell_type": "code",
   "execution_count": 90,
   "metadata": {},
   "outputs": [
    {
     "data": {
      "text/plain": [
       "array([ 0,  8, 13, 17,  9,  7, 16,  5,  1,  6, 10,  4, 14,  2, 18, 19, 12,\n",
       "       11,  3, 15])"
      ]
     },
     "execution_count": 90,
     "metadata": {},
     "output_type": "execute_result"
    }
   ],
   "source": [
    "#10\n",
    "A.argsort()"
   ]
  },
  {
   "cell_type": "code",
   "execution_count": null,
   "metadata": {},
   "outputs": [],
   "source": []
  }
 ],
 "metadata": {
  "colab": {
   "collapsed_sections": [],
   "name": "Pythonの復習.ipynb",
   "provenance": []
  },
  "kernelspec": {
   "display_name": "Python 3",
   "language": "python",
   "name": "python3"
  },
  "language_info": {
   "codemirror_mode": {
    "name": "ipython",
    "version": 3
   },
   "file_extension": ".py",
   "mimetype": "text/x-python",
   "name": "python",
   "nbconvert_exporter": "python",
   "pygments_lexer": "ipython3",
   "version": "3.7.6"
  }
 },
 "nbformat": 4,
 "nbformat_minor": 4
}
