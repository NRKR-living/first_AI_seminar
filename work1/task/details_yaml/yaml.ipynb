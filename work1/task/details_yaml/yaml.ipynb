{
 "cells": [
  {
   "cell_type": "raw",
   "metadata": {},
   "source": [
    "YAMLとは、Ain't a Markup Language の略式で、Markup Language と書かれているものの、マークアップ言語ではない。\n",
    "なんだそれ。\n",
    "データ構造を示すもの。jsonと同じ感じ？？\n",
    "ハッシュ形式で書かれるらしい。"
   ]
  },
  {
   "cell_type": "code",
   "execution_count": 7,
   "metadata": {},
   "outputs": [
    {
     "name": "stdout",
     "output_type": "stream",
     "text": [
      "{'test1': 'test', 'test2': 'test'}\n"
     ]
    }
   ],
   "source": [
    "import yaml\n",
    "with open('/Users/isonoyuma/Workspace/work1/task/details_yaml/test.yaml','r+') as f:\n",
    "    data=yaml.safe_load(f)\n",
    "    print(data)"
   ]
  },
  {
   "cell_type": "raw",
   "metadata": {},
   "source": [
    "yaml.loadを使うと、エラーっていうか注意文が出た。調べたら、yaml.safe_loadをした方が安全だよって感じだった。\n",
    "なんか危険なんだとさ。"
   ]
  },
  {
   "cell_type": "markdown",
   "metadata": {},
   "source": [
    "[わかりやすいページ](https://qiita.com/TakamiChie/items/fbdbfc1dc659efb24998)"
   ]
  },
  {
   "cell_type": "raw",
   "metadata": {},
   "source": [
    "次は書き込み。"
   ]
  },
  {
   "cell_type": "code",
   "execution_count": 11,
   "metadata": {},
   "outputs": [],
   "source": [
    "import yaml\n",
    "with open('/Users/isonoyuma/Workspace/work1/task/details_yaml/test.yaml','a') as f:\n",
    "    f.write(yaml.dump(data, default_flow_style=False))"
   ]
  },
  {
   "cell_type": "raw",
   "metadata": {},
   "source": [
    "default_flow_style調べる〜\n",
    "どうやら必要な形式（フロースタイル）を生成するために必要なようです。\n",
    "いろいろ試して調べたところ、辞書型とYAML型を行ったり来たりしてるみたい。\n",
    "jsonと比べると、yamlはコメントが欠ける点で、良いって言ってる人がいた。"
   ]
  },
  {
   "cell_type": "markdown",
   "metadata": {},
   "source": [
    "[その人](https://www.yoheim.net/blog.php?q=20170702)"
   ]
  },
  {
   "cell_type": "code",
   "execution_count": 13,
   "metadata": {},
   "outputs": [],
   "source": [
    "data2={'a':1,'b':{'aa':11,'bb':22}}\n",
    "with open('/Users/isonoyuma/Workspace/work1/task/details_yaml/test2.yaml','a') as f:\n",
    "    f.write(yaml.dump(data2, default_flow_style=False))"
   ]
  },
  {
   "cell_type": "raw",
   "metadata": {},
   "source": [
    "辞書型のvaluesに辞書型入れたら、インデントがずれて、視覚的に見えやすくしてくれた。おそらく、default_flow_style=Falseがないとできない。"
   ]
  },
  {
   "cell_type": "code",
   "execution_count": 14,
   "metadata": {},
   "outputs": [
    {
     "name": "stdout",
     "output_type": "stream",
     "text": [
      "{'a': 1, 'b': {'aa': 11, 'bb': 22}}\n"
     ]
    }
   ],
   "source": [
    "import yaml\n",
    "with open('/Users/isonoyuma/Workspace/work1/task/details_yaml/test2.yaml','r+') as f:\n",
    "    data=yaml.safe_load(f)\n",
    "    print(data)"
   ]
  },
  {
   "cell_type": "markdown",
   "metadata": {},
   "source": [
    "まあjsonと同じく、どこで使うのかわかんないんですけどね"
   ]
  }
 ],
 "metadata": {
  "kernelspec": {
   "display_name": "Python 3",
   "language": "python",
   "name": "python3"
  },
  "language_info": {
   "codemirror_mode": {
    "name": "ipython",
    "version": 3
   },
   "file_extension": ".py",
   "mimetype": "text/x-python",
   "name": "python",
   "nbconvert_exporter": "python",
   "pygments_lexer": "ipython3",
   "version": "3.7.6"
  }
 },
 "nbformat": 4,
 "nbformat_minor": 4
}
