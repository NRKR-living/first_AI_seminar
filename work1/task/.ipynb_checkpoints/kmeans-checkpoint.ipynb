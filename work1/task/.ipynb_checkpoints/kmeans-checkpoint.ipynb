{
 "cells": [
  {
   "cell_type": "code",
   "execution_count": 1,
   "metadata": {
    "colab": {},
    "colab_type": "code",
    "id": "_t2_8P3_RYcd"
   },
   "outputs": [],
   "source": [
    "import numpy as np\n",
    "\n",
    "from sklearn.datasets import load_iris\n",
    "\n",
    "import matplotlib.pyplot as plt\n",
    "\n",
    "%matplotlib inline"
   ]
  },
  {
   "cell_type": "code",
   "execution_count": 2,
   "metadata": {
    "colab": {
     "base_uri": "https://localhost:8080/",
     "height": 282
    },
    "colab_type": "code",
    "id": "54iQBpINRgbV",
    "outputId": "26c05158-0040-4a18-b766-9deff4fd2966"
   },
   "outputs": [],
   "source": [
    "iris=load_iris()\n",
    "data=iris.data\n",
    "label=iris.target"
   ]
  },
  {
   "cell_type": "code",
   "execution_count": 4,
   "metadata": {
    "colab": {},
    "colab_type": "code",
    "id": "tRa3rzd6R0bw"
   },
   "outputs": [],
   "source": [
    "def culc_dist(target_data,centroid):#距離の計算\n",
    "    dist_holder=(target_data-centroid)**2\n",
    "    distance=np.sqrt(np.sum(dist_holder,axis=1))\n",
    "    n_cluster=np.argmin(distance)\n",
    "    dist=distance[n_cluster]\n",
    "    return n_cluster,dist\n",
    "    \n",
    "class kmeans:\n",
    "    def __init__(self,K,max_iter=100):#クラスターの数と、最大学習回数の初期化関数\n",
    "        if K < 2 or not(isinstance(K,int)):#Kは、学習回数2以上でかつ整数\n",
    "            raise ValueError(\"クラスター数に不適切な値が入力されています\")\n",
    "        else:\n",
    "            self.K=K\n",
    "\n",
    "        if not(isinstance(max_iter,int)):#学習回数は、整数\n",
    "            raise ValueError(\"学習回数に不適切な値が入力されています。\")\n",
    "        else:\n",
    "            self.max_iter=max_iter\n",
    "    \n",
    "    def fit(self, X, y=None):#学習データのセット関数\n",
    "        self.X=X\n",
    "        self.y=np.zeros(self.X.shape[0])\n",
    "        self.n_feature=X.shape[1]\n",
    "        self.centroids=np.zeros([self.K , self.n_feature])\n",
    "        for feature_index in range(self.n_feature):\n",
    "            data_range=np.max(data[:,feature_index])-np.min(data[:,feature_index])\n",
    "            data_width=data_range/self.K\n",
    "            data_min=np.min(data[:,feature_index])\n",
    "            data_max=data_width+data_min\n",
    "            \n",
    "            for cent_index in range(len(self.centroids)):\n",
    "                self.centroids[cent_index,feature_index]=np.random.uniform(data_min,data_max)\n",
    "                data_min+=data_width\n",
    "                data_max+=data_width\n",
    "        self.new_centroids=np.zeros([self.K , self.n_feature])\n",
    "        self.SSE=0\n",
    "\n",
    "    def cluster_learn(self):#学習開始関数\n",
    "        for iter in range(self.max_iter):#学習回数分ループ\n",
    "            for data_index in range(self.X.shape[0]):#データの個数分ループ\n",
    "                n_cluster,dist=culc_dist(self.X[data_index],self.centroids)\n",
    "                self.y[data_index]=n_cluster\n",
    "                self.SSE+=dist\n",
    "            for label_num in range(self.K):#クラスター数分ループ\n",
    "                k_mask=(self.y==label_num)\n",
    "                masking_data=self.X[k_mask]\n",
    "                for feature in range(masking_data.shape[1]):#データの数分ループ\n",
    "                    self.new_centroids[label_num][feature]=np.average(masking_data[:,feature])\n",
    "            if (self.centroids==self.new_centroids).any():\n",
    "                return self.centroids , self.y , self.SSE\n",
    "            else:\n",
    "                self.centroids=self.new_centroids\n",
    "        return  self.centroids , self.y , self.SSE"
   ]
  },
  {
   "cell_type": "code",
   "execution_count": 5,
   "metadata": {},
   "outputs": [
    {
     "data": {
      "text/plain": [
       "(array([[4.79655172, 3.2137931 , 1.39655172, 0.20344828],\n",
       "        [5.2952381 , 3.72380952, 1.55238095, 0.3047619 ],\n",
       "        [5.53214286, 2.63571429, 3.96071429, 1.22857143],\n",
       "        [6.23513514, 2.84594595, 4.78378378, 1.5972973 ],\n",
       "        [6.608     , 3.064     , 5.552     , 2.128     ],\n",
       "        [7.54      , 3.15      , 6.39      , 2.09      ]]),\n",
       " array([0., 0., 0., 0., 0., 1., 0., 0., 0., 0., 1., 0., 0., 0., 1., 1., 1.,\n",
       "        0., 1., 1., 1., 1., 0., 1., 1., 0., 1., 1., 0., 0., 0., 1., 1., 1.,\n",
       "        0., 0., 1., 0., 0., 0., 0., 0., 0., 1., 1., 0., 1., 0., 1., 0., 3.,\n",
       "        3., 3., 2., 3., 2., 3., 2., 3., 2., 2., 2., 2., 3., 2., 3., 2., 2.,\n",
       "        3., 2., 3., 2., 3., 3., 3., 3., 3., 3., 3., 2., 2., 2., 2., 3., 2.,\n",
       "        3., 3., 3., 2., 2., 2., 3., 2., 2., 2., 2., 2., 3., 2., 2., 4., 3.,\n",
       "        4., 4., 4., 5., 2., 5., 4., 5., 4., 4., 4., 3., 3., 4., 4., 5., 5.,\n",
       "        3., 4., 3., 5., 3., 4., 5., 3., 3., 4., 4., 5., 5., 4., 3., 3., 5.,\n",
       "        4., 4., 3., 4., 4., 4., 3., 4., 4., 4., 3., 4., 4., 3.]),\n",
       " 245.2400733741409)"
      ]
     },
     "execution_count": 5,
     "metadata": {},
     "output_type": "execute_result"
    }
   ],
   "source": [
    "a=kmeans(6)\n",
    "a.fit(iris.data)\n",
    "a.cluster_learn()"
   ]
  },
  {
   "cell_type": "code",
   "execution_count": null,
   "metadata": {},
   "outputs": [],
   "source": []
  }
 ],
 "metadata": {
  "colab": {
   "collapsed_sections": [],
   "name": "kmeans.ipynb",
   "provenance": []
  },
  "kernelspec": {
   "display_name": "Python 3",
   "language": "python",
   "name": "python3"
  },
  "language_info": {
   "codemirror_mode": {
    "name": "ipython",
    "version": 3
   },
   "file_extension": ".py",
   "mimetype": "text/x-python",
   "name": "python",
   "nbconvert_exporter": "python",
   "pygments_lexer": "ipython3",
   "version": "3.7.6"
  }
 },
 "nbformat": 4,
 "nbformat_minor": 4
}
