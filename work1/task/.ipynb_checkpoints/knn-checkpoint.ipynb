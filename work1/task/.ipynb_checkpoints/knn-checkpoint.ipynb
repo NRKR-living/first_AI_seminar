{
 "cells": [
  {
   "cell_type": "code",
   "execution_count": 2,
   "metadata": {},
   "outputs": [],
   "source": [
    "import numpy as np\n",
    "import collections as colle\n",
    "\n",
    "def accuracy(y_pred,y_true):#正答確率を出す\n",
    "    ans=(y_pred==y_true)\n",
    "    ans=y_pred[ans]\n",
    "    ans_num=np.shape(ans)[0]\n",
    "    num=np.shape(y_pred)[0]\n",
    "    accuracy=ans_num/num\n",
    "    return accuracy\n",
    "class Knn:\n",
    "    def __init__(self,K):#initの中でデータを保持しないのが定石\n",
    "        self.K=K\n",
    "    def fit(self,X,y):#初期化(先頭40個が教師、あとの10がtest)\n",
    "        self.X=X\n",
    "        self.y=y\n",
    "        return self\n",
    "    def predict(self,X):#クラスタリングされたデータを元に、予想したクラスのリストを返す\n",
    "        pred_label=np.zeros([X.shape[0]])\n",
    "        for i,x in enumerate(X):#テストデータ分for回す\n",
    "            _sample_data=[]\n",
    "            before_dist=self.X-x#差を求める\n",
    "            before_dist=before_dist**2#二乗する\n",
    "            _sum=np.sum(before_dist,axis=1)#行ごとタス\n",
    "            dist=np.sqrt(_sum)#ルートとる\n",
    "            dist=np.argsort(dist)#index値でソート\n",
    "            for y in range(self.K):\n",
    "                _sample_data.append(self.y[dist[y]])\n",
    "            label=colle.Counter(_sample_data).most_common()[0][0]\n",
    "            pred_label[i]=label\n",
    "        return pred_label"
   ]
  },
  {
   "cell_type": "code",
   "execution_count": 83,
   "metadata": {},
   "outputs": [],
   "source": [
    "from sklearn.datasets import load_wine\n",
    "from sklearn.cluster import KMeans\n",
    "import pandas as pd\n",
    "import matplotlib.pyplot as plt\n",
    "%matplotlib inline\n",
    "iris=load_wine()\n",
    "data=iris.data\n",
    "label=iris.target"
   ]
  },
  {
   "cell_type": "code",
   "execution_count": 84,
   "metadata": {},
   "outputs": [],
   "source": [
    "index=np.zeros([150])"
   ]
  },
  {
   "cell_type": "code",
   "execution_count": 85,
   "metadata": {},
   "outputs": [],
   "source": [
    "for i,x in enumerate(index):\n",
    "    if 0 <=i and i<40:#1が教師\n",
    "        index[i]=1\n",
    "    elif 40 <=i and i<50:#0がテスト\n",
    "        index[i]=0\n",
    "    elif 50 <=i and i<90:\n",
    "        index[i]=1\n",
    "    elif 90 <=i and i<100:\n",
    "        index[i]=0\n",
    "    elif 100 <=i and i<140:\n",
    "        index[i]=1\n",
    "    elif 140 <=i and i<150:\n",
    "        index[i]=0"
   ]
  },
  {
   "cell_type": "code",
   "execution_count": 86,
   "metadata": {},
   "outputs": [
    {
     "ename": "IndexError",
     "evalue": "boolean index did not match indexed array along dimension 0; dimension is 178 but corresponding boolean dimension is 150",
     "output_type": "error",
     "traceback": [
      "\u001b[0;31m---------------------------------------------------------------------------\u001b[0m",
      "\u001b[0;31mIndexError\u001b[0m                                Traceback (most recent call last)",
      "\u001b[0;32m<ipython-input-86-12d592bcbc57>\u001b[0m in \u001b[0;36m<module>\u001b[0;34m\u001b[0m\n\u001b[0;32m----> 1\u001b[0;31m \u001b[0msample_data\u001b[0m\u001b[0;34m=\u001b[0m\u001b[0mdata\u001b[0m\u001b[0;34m[\u001b[0m\u001b[0mindex\u001b[0m\u001b[0;34m==\u001b[0m\u001b[0;36m1\u001b[0m\u001b[0;34m]\u001b[0m\u001b[0;34m\u001b[0m\u001b[0;34m\u001b[0m\u001b[0m\n\u001b[0m\u001b[1;32m      2\u001b[0m \u001b[0msample_label\u001b[0m\u001b[0;34m=\u001b[0m\u001b[0mlabel\u001b[0m\u001b[0;34m[\u001b[0m\u001b[0mindex\u001b[0m\u001b[0;34m==\u001b[0m\u001b[0;36m1\u001b[0m\u001b[0;34m]\u001b[0m\u001b[0;34m\u001b[0m\u001b[0;34m\u001b[0m\u001b[0m\n",
      "\u001b[0;31mIndexError\u001b[0m: boolean index did not match indexed array along dimension 0; dimension is 178 but corresponding boolean dimension is 150"
     ]
    }
   ],
   "source": [
    "sample_data=data[index==1]\n",
    "sample_label=label[index==1]"
   ]
  },
  {
   "cell_type": "code",
   "execution_count": 87,
   "metadata": {},
   "outputs": [
    {
     "ename": "IndexError",
     "evalue": "boolean index did not match indexed array along dimension 0; dimension is 178 but corresponding boolean dimension is 150",
     "output_type": "error",
     "traceback": [
      "\u001b[0;31m---------------------------------------------------------------------------\u001b[0m",
      "\u001b[0;31mIndexError\u001b[0m                                Traceback (most recent call last)",
      "\u001b[0;32m<ipython-input-87-39cbaf2c4265>\u001b[0m in \u001b[0;36m<module>\u001b[0;34m\u001b[0m\n\u001b[0;32m----> 1\u001b[0;31m \u001b[0mans_data\u001b[0m\u001b[0;34m=\u001b[0m\u001b[0mdata\u001b[0m\u001b[0;34m[\u001b[0m\u001b[0mindex\u001b[0m\u001b[0;34m==\u001b[0m\u001b[0;36m0\u001b[0m\u001b[0;34m]\u001b[0m\u001b[0;34m\u001b[0m\u001b[0;34m\u001b[0m\u001b[0m\n\u001b[0m\u001b[1;32m      2\u001b[0m \u001b[0mans_label\u001b[0m\u001b[0;34m=\u001b[0m\u001b[0mlabel\u001b[0m\u001b[0;34m[\u001b[0m\u001b[0mindex\u001b[0m\u001b[0;34m==\u001b[0m\u001b[0;36m0\u001b[0m\u001b[0;34m]\u001b[0m\u001b[0;34m\u001b[0m\u001b[0;34m\u001b[0m\u001b[0m\n",
      "\u001b[0;31mIndexError\u001b[0m: boolean index did not match indexed array along dimension 0; dimension is 178 but corresponding boolean dimension is 150"
     ]
    }
   ],
   "source": [
    "ans_data=data[index==0]\n",
    "ans_label=label[index==0]"
   ]
  },
  {
   "cell_type": "code",
   "execution_count": 88,
   "metadata": {},
   "outputs": [],
   "source": [
    "height=[]\n",
    "left=[]\n",
    "for x in range(5):\n",
    "    a=Knn(x+1)\n",
    "    a.fit(sample_data,sample_label)\n",
    "    ans=a.predict(ans_data)\n",
    "    accu=accuracy(ans,ans_label)\n",
    "    height.append(accu)\n",
    "    left.append(x+1)"
   ]
  },
  {
   "cell_type": "code",
   "execution_count": 79,
   "metadata": {},
   "outputs": [
    {
     "data": {
      "text/plain": [
       "[<matplotlib.lines.Line2D at 0x7fbf851f1b10>]"
      ]
     },
     "execution_count": 79,
     "metadata": {},
     "output_type": "execute_result"
    },
    {
     "data": {
      "image/png": "[encoded data removed]",
      "text/plain": [
       "<Figure size 432x288 with 1 Axes>"
      ]
     },
     "metadata": {
      "needs_background": "light"
     },
     "output_type": "display_data"
    }
   ],
   "source": [
    "plt.plot(left,height)"
   ]
  },
  {
   "cell_type": "code",
   "execution_count": 80,
   "metadata": {},
   "outputs": [],
   "source": [
    "new_index=np.random.permutation(label.argsort())\n",
    "new_sample_data=np.empty((120,4))\n",
    "new_sample_label=np.empty((120))\n",
    "new_ans_data=np.empty((30,4))\n",
    "new_ans_label=np.empty((30))\n",
    "#リストにしちゃうと、shapeが使えないからエラー出る\n",
    "j=0\n",
    "for i,x in enumerate(new_index):\n",
    "    if i <120:\n",
    "        new_sample_data[i]=data[x]#ここ\n",
    "        new_sample_label[i]=label[x]#ここ\n",
    "    elif i>=120:\n",
    "        new_ans_data[j]=data[x]\n",
    "        new_ans_label[j]=label[x]\n",
    "        j+=1"
   ]
  },
  {
   "cell_type": "code",
   "execution_count": 91,
   "metadata": {},
   "outputs": [],
   "source": [
    "height=[]\n",
    "left=[]\n",
    "new_accu_list=[]\n",
    "for x in range(120):#Kの数の遷移\n",
    "    for y in range(1000):#何回か繰り返して、正答率の平均を出したい\n",
    "        np.random.seed(y)\n",
    "        new_index=np.random.permutation(label.argsort())\n",
    "        new_sample_data=np.empty((120,13))\n",
    "        new_sample_label=np.empty((120))\n",
    "        new_ans_data=np.empty((58,13))\n",
    "        new_ans_label=np.empty((58))\n",
    "        j=0\n",
    "        for i,z in enumerate(new_index):\n",
    "            if i <120:\n",
    "                new_sample_data[i]=data[z]#ここ\n",
    "                new_sample_label[i]=label[z]#ここ\n",
    "            elif i>=120:\n",
    "                new_ans_data[j]=data[z]\n",
    "                new_ans_label[j]=label[z]\n",
    "                j+=1\n",
    "        b=Knn(x+1)\n",
    "        b.fit(new_sample_data,new_sample_label)\n",
    "        new_ans=b.predict(new_ans_data)\n",
    "        new_accu_list.append(accuracy(new_ans,new_ans_label))\n",
    "    new_accu=np.average(new_accu_list)\n",
    "    height.append(new_accu)\n",
    "    left.append(x+1)"
   ]
  },
  {
   "cell_type": "code",
   "execution_count": 92,
   "metadata": {},
   "outputs": [
    {
     "name": "stdout",
     "output_type": "stream",
     "text": [
      "[1. 1. 1. 1. 1. 1. 1. 1. 1. 1. 1. 1. 1. 1. 1. 1. 1. 1. 1. 1. 1. 1. 1. 1.\n",
      " 1. 1. 1. 1. 1. 1. 1. 1. 1. 1. 1. 1. 1. 1. 1. 1. 1. 1. 1. 1. 1. 1. 1. 1.\n",
      " 1. 1. 1. 1. 1. 1. 1. 1. 1. 1.]\n",
      "[0.7354655172413793, 0.7354655172413793, 0.7251781609195401, 0.7218965517241379, 0.7178965517241379, 0.7173132183908046, 0.7151945812807882, 0.714021551724138, 0.7118984674329502, 0.7102620689655172, 0.7089169278996866, 0.7079468390804599, 0.7072161803713528, 0.7069753694581281, 0.7065195402298851, 0.7064008620689656, 0.7060425963488843, 0.7060105363984673, 0.705790381125227, 0.705793103448276, 0.7056559934318555, 0.7057163009404389, 0.7056821589205396, 0.7058218390804598, 0.705863448275862, 0.7060411140583553, 0.7061104725415069, 0.706213054187192, 0.7062669441141498, 0.7063810344827586, 0.7064315906562847, 0.7065183189655172, 0.7065219435736677, 0.706579107505071, 0.7065940886699508, 0.7066345785440613, 0.706636533084809, 0.7067137023593467, 0.7067391688771, 0.7068288793103449, 0.7068826745164003, 0.7069753694581281, 0.7070152365677627, 0.707083855799373, 0.7071153256704981, 0.7071570464767617, 0.7071610418195159, 0.7071469109195403, 0.7070932441942295, 0.7070193103448277, 0.7069384719405004, 0.7068348806366048, 0.7067306441119063, 0.7066187739463602, 0.7065094043887148, 0.7063888546798031, 0.7062586206896552, 0.7061087990487517, 0.7059552893045004, 0.705794827586207, 0.7056156020350483, 0.7054213014460513, 0.7052118226600987, 0.7050005387931036, 0.7047700265251992, 0.7045229885057472, 0.7042609366958312, 0.7039929006085194, 0.7037031484257872, 0.7033997536945814, 0.7030876639145217, 0.7027660440613027, 0.702451346244686, 0.702134203168686, 0.7018068965517242, 0.7014818511796734, 0.7011497984773848, 0.7008118921308578, 0.7004709733740726, 0.7001308189655174, 0.6997901234567903, 0.6994447014297731, 0.6990947237224763, 0.6987430213464697, 0.6983957403651117, 0.6980380914194068, 0.6976682520808563, 0.6972889890282132, 0.6969023634250292, 0.6965059386973181, 0.6961004168245548, 0.6956774737631185, 0.6952454579162033, 0.6948046588407925, 0.694347549909256, 0.693873742816092, 0.6933871311766798, 0.6928910978184377, 0.6923679902473007, 0.691833275862069, 0.6912736428815296, 0.6906751183231914, 0.6900436893203884, 0.6893512931034483, 0.6886055829228243, 0.687792127521145, 0.6869158878504673, 0.6859372605363984, 0.6848234735843087, 0.6835799373040752, 0.6822277104690897, 0.680701354679803, 0.6790732377174243, 0.6773272837265577, 0.675468815592204, 0.673497175980975, 0.6714260241674035, 0.6692521917007598, 0.6669991306867575, 0.6646606321839081]\n"
     ]
    },
    {
     "data": {
      "image/png": "[encoded data removed]",
      "text/plain": [
       "<Figure size 432x288 with 1 Axes>"
      ]
     },
     "metadata": {
      "needs_background": "light"
     },
     "output_type": "display_data"
    }
   ],
   "source": [
    "plt.plot(left,height)\n",
    "print(new_ans)\n",
    "print(height)"
   ]
  },
  {
   "cell_type": "code",
   "execution_count": null,
   "metadata": {},
   "outputs": [],
   "source": [
    "print(height[20])"
   ]
  },
  {
   "cell_type": "code",
   "execution_count": 93,
   "metadata": {},
   "outputs": [],
   "source": [
    "height=[]\n",
    "left=[]\n",
    "new_accu_list=[]\n",
    "for x in range(90):#Kの数の遷移\n",
    "    for y in range(1000):#何回か繰り返して、正答率の平均を出したい\n",
    "        np.random.seed(y)\n",
    "        new_index=np.random.permutation(label.argsort())\n",
    "        new_sample_data=np.empty((90,13))\n",
    "        new_sample_label=np.empty((90))\n",
    "        new_ans_data=np.empty((88,13))\n",
    "        new_ans_label=np.empty((88))\n",
    "        j=0\n",
    "        for i,z in enumerate(new_index):\n",
    "            if i <90:\n",
    "                new_sample_data[i]=data[z]#ここ\n",
    "                new_sample_label[i]=label[z]#ここ\n",
    "            elif i>=90:\n",
    "                new_ans_data[j]=data[z]\n",
    "                new_ans_label[j]=label[z]\n",
    "                j+=1\n",
    "        b=Knn(x+1)\n",
    "        b.fit(new_sample_data,new_sample_label)\n",
    "        new_ans=b.predict(new_ans_data)\n",
    "        new_accu_list.append(accuracy(new_ans,new_ans_label))\n",
    "    new_accu=np.average(new_accu_list)\n",
    "    height.append(new_accu)\n",
    "    left.append(x+1)"
   ]
  },
  {
   "cell_type": "code",
   "execution_count": 94,
   "metadata": {},
   "outputs": [
    {
     "name": "stdout",
     "output_type": "stream",
     "text": [
      "[1. 1. 1. 1. 1. 1. 1. 1. 1. 1. 1. 1. 1. 1. 1. 1. 1. 1. 1. 1. 1. 1. 1. 1.\n",
      " 1. 1. 1. 1. 1. 1. 1. 1. 1. 1. 1. 1. 1. 1. 1. 1. 1. 1. 1. 1. 1. 1. 1. 1.\n",
      " 1. 1. 1. 1. 1. 1. 1. 1. 1. 1. 1. 1. 1. 1. 1. 1. 1. 1. 1. 1. 1. 1. 1. 1.\n",
      " 1. 1. 1. 1. 1. 1. 1. 1. 1. 1. 1. 1. 1. 1. 1. 1.]\n",
      "[0.7161818181818181, 0.7161818181818181, 0.7093371212121212, 0.7086647727272728, 0.7064477272727273, 0.7057443181818182, 0.7039415584415585, 0.703140625, 0.7019583333333334, 0.7016795454545454, 0.7011487603305785, 0.7012121212121213, 0.7008924825174825, 0.701073051948052, 0.700934090909091, 0.7011640625, 0.701173128342246, 0.7014236111111111, 0.7015005980861244, 0.7017619318181818, 0.7018944805194806, 0.7021048553719009, 0.7022218379446641, 0.7023910984848485, 0.7024563636363637, 0.7025996503496504, 0.7027028619528619, 0.7028628246753247, 0.7029184952978057, 0.7030446969696971, 0.7031121700879766, 0.7032198153409092, 0.7032651515151516, 0.7033536096256685, 0.7034025974025974, 0.7034258207070707, 0.7033952702702703, 0.7033654306220096, 0.703282634032634, 0.7031758522727273, 0.7030587583148559, 0.7029180194805195, 0.7027589852008457, 0.7025981404958678, 0.702425, 0.702215909090909, 0.702, 0.7017476325757575, 0.7014761131725418, 0.7011874999999999, 0.7008631907308377, 0.7005277534965034, 0.7001734562607204, 0.6998183922558922, 0.6994349173553718, 0.6990263798701297, 0.6986046650717702, 0.698155368338558, 0.697673343605547, 0.6971742424242424, 0.696649776453055, 0.6961013563049853, 0.695523088023088, 0.6949112215909091, 0.6942842657342657, 0.6936558195592287, 0.6930117028493895, 0.6923430815508023, 0.6916338932806324, 0.6908821428571429, 0.6901027528809219, 0.6892791982323233, 0.6884070672478207, 0.6875105958230959, 0.686545303030303, 0.6855134569377991, 0.6844185360094451, 0.6832510198135198, 0.6819765535097814, 0.6806508522727273, 0.6791409932659933, 0.6775031873614191, 0.6757352135815992, 0.673771645021645, 0.671618449197861, 0.6693364164904863, 0.6668491379310345, 0.6641618026859505, 0.6613100102145046, 0.658290909090909]\n"
     ]
    },
    {
     "data": {
      "image/png": "[encoded data removed]",
      "text/plain": [
       "<Figure size 432x288 with 1 Axes>"
      ]
     },
     "metadata": {
      "needs_background": "light"
     },
     "output_type": "display_data"
    }
   ],
   "source": [
    "plt.plot(left,height)\n",
    "print(new_ans)\n",
    "print(height)"
   ]
  },
  {
   "cell_type": "code",
   "execution_count": 71,
   "metadata": {},
   "outputs": [
    {
     "data": {
      "text/plain": [
       "90.0"
      ]
     },
     "execution_count": 71,
     "metadata": {},
     "output_type": "execute_result"
    }
   ],
   "source": [
    "120*3/4"
   ]
  },
  {
   "cell_type": "code",
   "execution_count": 72,
   "metadata": {},
   "outputs": [
    {
     "data": {
      "text/plain": [
       "67.5"
      ]
     },
     "execution_count": 72,
     "metadata": {},
     "output_type": "execute_result"
    }
   ],
   "source": [
    "90*3/4"
   ]
  },
  {
   "cell_type": "code",
   "execution_count": null,
   "metadata": {},
   "outputs": [],
   "source": []
  }
 ],
 "metadata": {
  "kernelspec": {
   "display_name": "Python 3",
   "language": "python",
   "name": "python3"
  },
  "language_info": {
   "codemirror_mode": {
    "name": "ipython",
    "version": 3
   },
   "file_extension": ".py",
   "mimetype": "text/x-python",
   "name": "python",
   "nbconvert_exporter": "python",
   "pygments_lexer": "ipython3",
   "version": "3.7.6"
  }
 },
 "nbformat": 4,
 "nbformat_minor": 4
}
