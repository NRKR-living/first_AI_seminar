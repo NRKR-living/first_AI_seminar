{
 "cells": [
  {
   "cell_type": "markdown",
   "metadata": {},
   "source": [
    "# ２値GA\n",
    "- SVMでクラス分類\n",
    "    - dataset wine trainが80% testが20%\n",
    "    - errorを最小に\n",
    "    - かつ特徴を減らす\n"
   ]
  },
  {
   "cell_type": "code",
   "execution_count": 1,
   "metadata": {},
   "outputs": [
    {
     "data": {
      "text/plain": [
       "(178, 13)"
      ]
     },
     "execution_count": 1,
     "metadata": {},
     "output_type": "execute_result"
    }
   ],
   "source": [
    "import random\n",
    "import numpy as np\n",
    "import copy\n",
    "from sklearn.model_selection import train_test_split\n",
    "from sklearn.preprocessing import StandardScaler \n",
    "from sklearn.svm import SVC\n",
    "from sklearn.metrics import accuracy_score\n",
    "from sklearn.datasets import load_wine\n",
    "\n",
    "wine = load_wine()\n",
    "data = wine.data\n",
    "label = wine.target\n",
    "data.shape"
   ]
  },
  {
   "cell_type": "markdown",
   "metadata": {},
   "source": [
    "# 初期化"
   ]
  },
  {
   "cell_type": "code",
   "execution_count": 242,
   "metadata": {},
   "outputs": [],
   "source": [
    "\n",
    "def init(num_features = 10, num_instances = 100):\n",
    "    '''\n",
    "    num_instances X num_featuresの配列を用意する。0か1を持つ\n",
    "    '''\n",
    "    proba = np.random.uniform(size=(num_instances, num_features))\n",
    "    threshold = np.random.uniform(size=(num_instances, num_features))\n",
    "    return proba >= 0.5"
   ]
  },
  {
   "cell_type": "markdown",
   "metadata": {},
   "source": [
    "# 評価"
   ]
  },
  {
   "cell_type": "code",
   "execution_count": 243,
   "metadata": {},
   "outputs": [],
   "source": [
    "\n",
    "def eval(X, X_train,X_valid,y_train,y_valid) -> np.ndarray:\n",
    "    '''\n",
    "    Xの評価をする関数。評価値は小さいほどよい。\n",
    "    return :\n",
    "        np.ndarray, shape = (1, X.shape[0])\n",
    "    '''\n",
    "    error = np.zeros((X.shape[0],1))\n",
    "    for i,x in enumerate(X):\n",
    "        \n",
    "        X_train_new = X_train[:,x]\n",
    "        X_test_new = X_valid[:,x]\n",
    "        m = SVC()\n",
    "        m.fit(X_train_new, y_train)\n",
    "        predict = m.predict(X_test_new)\n",
    "        accu = accuracy_score(y_valid, predict)\n",
    "        error[i] = accu\n",
    "    return error"
   ]
  },
  {
   "cell_type": "markdown",
   "metadata": {},
   "source": [
    "# 選択"
   ]
  },
  {
   "cell_type": "code",
   "execution_count": 234,
   "metadata": {},
   "outputs": [],
   "source": [
    "\n",
    "def election(X, accu_array):\n",
    "    accu_array = accu_array.ravel()\n",
    "    p_sum = np.sum(accu_array)\n",
    "    accu_array = accu_array/p_sum\n",
    "    choice1,choice2 = np.random.choice(list(range(accu_array.size)), 2,replace = False, p = accu_array)\n",
    "    return choice1,choice2"
   ]
  },
  {
   "cell_type": "markdown",
   "metadata": {},
   "source": [
    "# 交叉"
   ]
  },
  {
   "cell_type": "code",
   "execution_count": 235,
   "metadata": {},
   "outputs": [],
   "source": [
    "\n",
    "def closs_over(x,y):\n",
    "    num_features = x.size\n",
    "    point = np.random.choice(num_features)\n",
    "    \n",
    "    _x = copy.deepcopy(x)\n",
    "    _y = copy.deepcopy(y)\n",
    "    _y[point:] = x[point:]\n",
    "    _x[point:] = y[point:]\n",
    "    # 普通にhstackしてもいいよね\n",
    "    \n",
    "    return _x, _y"
   ]
  },
  {
   "cell_type": "markdown",
   "metadata": {},
   "source": [
    "## 突然変異\n",
    "mutation rate にしたがって個体群から選び、反転させる"
   ]
  },
  {
   "cell_type": "code",
   "execution_count": 236,
   "metadata": {},
   "outputs": [],
   "source": [
    "\n",
    "def mutation_(X, mutation_rate = 0.01):\n",
    "    '''\n",
    "    mutation rate にしたがって個体群から選び、反転させる\n",
    "    '''\n",
    "    num_instances, num_features = X.shape\n",
    "    proba = np.random.random(size = num_instances)\n",
    "    palette = np.array(range(X.shape[0]))\n",
    "    mask = proba <= mutation_rate\n",
    "    mutations = palette[mask]\n",
    "    for x in mutations:\n",
    "        point = np.random.choice(num_features)\n",
    "        X[x,point] = not(X[x,point])\n",
    "    return X"
   ]
  },
  {
   "cell_type": "code",
   "execution_count": 244,
   "metadata": {},
   "outputs": [],
   "source": [
    "\n",
    "def svm_ga(data ,label ,init_num_features = 10 , init_num_instances = 100):\n",
    "    X_train, X_test, y_train, y_test = train_test_split(data, label, test_size=0.6, random_state=None )\n",
    "    X_train, X_valid, y_train, y_valid = train_test_split(X_train,y_train,test_size=0.2, random_state = None)\n",
    "    sc = StandardScaler()\n",
    "    sc.fit(X_train)\n",
    "    X_train = sc.transform(X_train)\n",
    "    X_valid = sc.transform(X_valid)\n",
    "    X_test = sc.transform(X_test)\n",
    "    X = init(init_num_features, init_num_instances)\n",
    "    for x in range(100):\n",
    "        error = eval(X, X_train, X_valid, y_train, y_valid)\n",
    "        ele1,ele2 = election(X, error)\n",
    "        X[[ele1,ele2]]=closs_over(X[ele1], X[ele2])\n",
    "        mutation_(X)\n",
    "        if np.sum(error >= 0.95) >=1 :\n",
    "            break\n",
    "    pena_list = np.zeros(X.shape[0])\n",
    "    for i in range(pena_list.size):\n",
    "        pena_list[i] = error[i]-((1-error[i])*(np.sum(X[i])/X.shape[1]))\n",
    "    selected = pena_list.argmax()\n",
    "    return X,error,selected,X_test,y_test,pena_list,X_train,y_train\n"
   ]
  },
  {
   "cell_type": "code",
   "execution_count": 245,
   "metadata": {},
   "outputs": [],
   "source": [
    "X,error,selected,X_test,y_test,pena_list,X_train,y_train = svm_ga(data, label,13,50)"
   ]
  },
  {
   "cell_type": "code",
   "execution_count": 247,
   "metadata": {},
   "outputs": [
    {
     "data": {
      "text/plain": [
       "1"
      ]
     },
     "execution_count": 247,
     "metadata": {},
     "output_type": "execute_result"
    }
   ],
   "source": [
    "selected"
   ]
  },
  {
   "cell_type": "code",
   "execution_count": 255,
   "metadata": {},
   "outputs": [
    {
     "name": "stdout",
     "output_type": "stream",
     "text": [
      "7\n",
      "7\n",
      "8\n",
      "6\n",
      "9\n",
      "10\n",
      "10\n",
      "8\n",
      "8\n",
      "8\n",
      "8\n",
      "6\n",
      "9\n",
      "8\n",
      "6\n",
      "7\n",
      "9\n",
      "9\n",
      "6\n",
      "10\n",
      "6\n",
      "6\n",
      "5\n",
      "9\n",
      "7\n",
      "7\n",
      "7\n",
      "8\n",
      "7\n",
      "6\n",
      "7\n"
     ]
    }
   ],
   "source": [
    "for x in X[pena_list==1]:\n",
    "    print(x.sum())"
   ]
  },
  {
   "cell_type": "code",
   "execution_count": 249,
   "metadata": {},
   "outputs": [
    {
     "data": {
      "text/plain": [
       "array([ True, False, False,  True, False, False, False, False,  True,\n",
       "        True,  True,  True,  True])"
      ]
     },
     "execution_count": 249,
     "metadata": {},
     "output_type": "execute_result"
    }
   ],
   "source": [
    "X[1]"
   ]
  },
  {
   "cell_type": "code",
   "execution_count": null,
   "metadata": {},
   "outputs": [],
   "source": []
  }
 ],
 "metadata": {
  "kernelspec": {
   "display_name": "Python 3",
   "language": "python",
   "name": "python3"
  },
  "language_info": {
   "codemirror_mode": {
    "name": "ipython",
    "version": 3
   },
   "file_extension": ".py",
   "mimetype": "text/x-python",
   "name": "python",
   "nbconvert_exporter": "python",
   "pygments_lexer": "ipython3",
   "version": "3.7.6"
  }
 },
 "nbformat": 4,
 "nbformat_minor": 4
}
