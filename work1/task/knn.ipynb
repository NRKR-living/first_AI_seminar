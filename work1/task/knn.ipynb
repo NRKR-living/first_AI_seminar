{
 "cells": [
  {
   "cell_type": "code",
   "execution_count": 292,
   "metadata": {},
   "outputs": [],
   "source": [
    "import numpy as np\n",
    "import collections as colle\n",
    "\n",
    "def accuracy(y_pred,y_true):#正答確率を出す\n",
    "    ans=(y_pred==y_true)\n",
    "    ans=y_pred[ans]\n",
    "    ans_num=np.shape(ans)[0]\n",
    "    num=np.shape(y_pred)[0]\n",
    "    accuracy=ans_num/num\n",
    "    return accuracy\n",
    "class Knn:\n",
    "    def __init__(self,K):#initの中でデータを保持しないのが定石\n",
    "        self.K=K\n",
    "    def fit(self,X,y):#初期化(先頭40個が教師、あとの10がtest)\n",
    "        self.X=X\n",
    "        self.y=y\n",
    "        return self\n",
    "    def predict(self,X):#クラスタリングされたデータを元に、予想したクラスのリストを返す\n",
    "        pred_label=np.zeros([X.shape[0]])\n",
    "        for i,x in enumerate(X):#テストデータ分for回す\n",
    "            _sample_data=[]\n",
    "            before_dist=self.X-x#差を求める\n",
    "            before_dist=before_dist**2#二乗する\n",
    "            _sum=np.sum(before_dist,axis=1)#行ごとタス\n",
    "            dist=np.sqrt(_sum)#ルートとる\n",
    "            dist=np.argsort(dist)#index値でソート\n",
    "            for y in range(self.K):\n",
    "                _sample_data.append(self.y[dist[y]])\n",
    "            label=colle.Counter(_sample_data).most_common()[0][0]\n",
    "            pred_label[i]=label\n",
    "        return pred_label"
   ]
  },
  {
   "cell_type": "code",
   "execution_count": 289,
   "metadata": {},
   "outputs": [],
   "source": [
    "from sklearn.datasets import load_iris\n",
    "from sklearn.cluster import KMeans\n",
    "import pandas as pd\n",
    "import matplotlib.pyplot as plt\n",
    "%matplotlib inline\n",
    "iris=load_iris()\n",
    "data=iris.data\n",
    "label=iris.target"
   ]
  },
  {
   "cell_type": "code",
   "execution_count": 254,
   "metadata": {},
   "outputs": [],
   "source": [
    "index=np.zeros([150])"
   ]
  },
  {
   "cell_type": "code",
   "execution_count": 255,
   "metadata": {},
   "outputs": [],
   "source": [
    "for i,x in enumerate(index):\n",
    "    if 0 <=i and i<40:#1が教師\n",
    "        index[i]=1\n",
    "    elif 40 <=i and i<50:#0がテスト\n",
    "        index[i]=0\n",
    "    elif 50 <=i and i<90:\n",
    "        index[i]=1\n",
    "    elif 90 <=i and i<100:\n",
    "        index[i]=0\n",
    "    elif 100 <=i and i<140:\n",
    "        index[i]=1\n",
    "    elif 140 <=i and i<150:\n",
    "        index[i]=0"
   ]
  },
  {
   "cell_type": "code",
   "execution_count": 257,
   "metadata": {},
   "outputs": [],
   "source": [
    "sample_data=data[index==1]\n",
    "sample_label=label[index==1]"
   ]
  },
  {
   "cell_type": "code",
   "execution_count": 258,
   "metadata": {},
   "outputs": [],
   "source": [
    "ans_data=data[index==0]\n",
    "ans_label=label[index==0]"
   ]
  },
  {
   "cell_type": "code",
   "execution_count": 295,
   "metadata": {},
   "outputs": [
    {
     "name": "stdout",
     "output_type": "stream",
     "text": [
      "[0. 0. 0. 0. 0. 0. 0. 0. 0. 0. 1. 1. 1. 1. 1. 1. 1. 1. 1. 1. 2. 2. 2. 2.\n",
      " 2. 2. 2. 2. 2. 2.] 1.0\n"
     ]
    }
   ],
   "source": [
    "a=Knn(40)\n",
    "a.fit(sample_data,sample_label)\n",
    "ans=a.predict(ans_data)\n",
    "accu=accuracy(ans,ans_label)\n",
    "print(ans,accu)"
   ]
  },
  {
   "cell_type": "code",
   "execution_count": 319,
   "metadata": {},
   "outputs": [],
   "source": [
    "new_index=np.random.permutation(label.argsort())\n",
    "new_index\n",
    "new_sample_data=np.empty((10,4))\n",
    "new_sample_label=np.empty((10))\n",
    "new_ans_data=np.empty((140,4))\n",
    "new_ans_label=np.empty((140))\n",
    "#リストにしちゃうと、shapeが使えないからエラー出る\n",
    "j=0\n",
    "for i,x in enumerate(new_index):\n",
    "    if i <10:\n",
    "        new_sample_data[i]=data[x]#ここ\n",
    "        new_sample_label[i]=label[x]#ここ\n",
    "    elif i>=10:\n",
    "        new_ans_data[j]=data[x]\n",
    "        new_ans_label[j]=label[x]\n",
    "        j+=1"
   ]
  },
  {
   "cell_type": "code",
   "execution_count": 320,
   "metadata": {},
   "outputs": [
    {
     "data": {
      "text/plain": [
       "0.9428571428571428"
      ]
     },
     "execution_count": 320,
     "metadata": {},
     "output_type": "execute_result"
    }
   ],
   "source": [
    "b=Knn(3)\n",
    "b.fit(new_sample_data,new_sample_label)\n",
    "new_ans=b.predict(new_ans_data)\n",
    "new_accu=accuracy(new_ans,new_ans_label)\n",
    "new_accu"
   ]
  },
  {
   "cell_type": "code",
   "execution_count": 307,
   "metadata": {},
   "outputs": [
    {
     "data": {
      "text/plain": [
       "'B'"
      ]
     },
     "execution_count": 307,
     "metadata": {},
     "output_type": "execute_result"
    }
   ],
   "source": [
    "import collections\n",
    "\n",
    "x = ['A', 'A', 'B', 'B', 'C']\n",
    "\n",
    "collections.Counter(x).most_common()[1][0]"
   ]
  },
  {
   "cell_type": "code",
   "execution_count": null,
   "metadata": {},
   "outputs": [],
   "source": []
  }
 ],
 "metadata": {
  "kernelspec": {
   "display_name": "Python 3",
   "language": "python",
   "name": "python3"
  },
  "language_info": {
   "codemirror_mode": {
    "name": "ipython",
    "version": 3
   },
   "file_extension": ".py",
   "mimetype": "text/x-python",
   "name": "python",
   "nbconvert_exporter": "python",
   "pygments_lexer": "ipython3",
   "version": "3.7.6"
  }
 },
 "nbformat": 4,
 "nbformat_minor": 4
}
