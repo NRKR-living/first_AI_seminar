{
 "cells": [
  {
   "cell_type": "raw",
   "metadata": {},
   "source": [
    "JSONとはJavaScript Object Notationの略式で、軽量のデータ交換用フォーマット。\n",
    "よくわかんないのでとりあえずやってみる。"
   ]
  },
  {
   "cell_type": "code",
   "execution_count": 2,
   "metadata": {},
   "outputs": [
    {
     "name": "stdout",
     "output_type": "stream",
     "text": [
      "\"\\\"foo\\bar\"\n",
      "\"\\u1234\"\n",
      "\"\\\\\"\n",
      "{\"a\": 0, \"b\": 0, \"c\": 0}\n"
     ]
    },
    {
     "data": {
      "text/plain": [
       "'[\"streaming API\"]'"
      ]
     },
     "execution_count": 2,
     "metadata": {},
     "output_type": "execute_result"
    }
   ],
   "source": [
    "import json\n",
    "json.dumps(['foo', {'bar': ('baz', None, 1.0, 2)}])\n",
    "\n",
    "print(json.dumps(\"\\\"foo\\bar\"))\n",
    "\n",
    "print(json.dumps('\\u1234'))\n",
    "\n",
    "print(json.dumps('\\\\'))\n",
    "\n",
    "print(json.dumps({\"c\": 0, \"b\": 0, \"a\": 0}, sort_keys=True))\n",
    "\n",
    "from io import StringIO\n",
    "io = StringIO()\n",
    "json.dump(['streaming API'], io)\n",
    "io.getvalue()\n"
   ]
  },
  {
   "cell_type": "raw",
   "metadata": {},
   "source": [
    "うーんわからん。\n",
    "簡単にデータの形式とか構造を変えれるよってことなんだろうか。\n",
    "JavaScriptとの関係もよくわからん。\n",
    "わかりやすそうなページ発見"
   ]
  },
  {
   "cell_type": "markdown",
   "metadata": {},
   "source": [
    "[Think ITのページ](https://thinkit.co.jp/article/70/1)"
   ]
  },
  {
   "cell_type": "raw",
   "metadata": {},
   "source": [
    "XMLみたいなデータフォーマットって書いてある\n",
    "そもそもXMLってなんだよ\n",
    "調べます。"
   ]
  },
  {
   "cell_type": "markdown",
   "metadata": {},
   "source": [
    "[分かった気になれるやつ](https://wa3.i-3-i.info/word1577.html)"
   ]
  },
  {
   "cell_type": "raw",
   "metadata": {},
   "source": [
    "どうやらマークアップ言語の一つみたいで、ファイルの書き方のルールのひとつのようなことが書いてあった。\n",
    "つまりjsonって、XMLより簡単なこんな感じのことをするやつかな？\n",
    "で、python上でjsonを読み込むのにjsonをimportするって感じか"
   ]
  },
  {
   "cell_type": "code",
   "execution_count": 1,
   "metadata": {},
   "outputs": [
    {
     "name": "stdout",
     "output_type": "stream",
     "text": [
      "{\"C\": \"\\u3042\", \"A\": {\"i\": 1, \"j\": 2}, \"B\": [{\"X\": 1, \"Y\": 10}, {\"X\": 2, \"Y\": 20}]}\n",
      "{'A': {'i': 1, 'j': 2},\n",
      " 'B': [{'X': 1, 'Y': 10},\n",
      "       {'X': 2, 'Y': 20}],\n",
      " 'C': 'あ'}\n",
      "<class 'dict'>\n",
      "{\"C\": \"\\u3042\", \"A\": {\"i\": 1, \"j\": 2}, \"B\": [{\"X\": 1, \"Y\": 10}, {\"X\": 2, \"Y\": 20}]}\n",
      "<class 'str'>\n"
     ]
    }
   ],
   "source": [
    "import json\n",
    "import pprint\n",
    "s = r'{\"C\": \"\\u3042\", \"A\": {\"i\": 1, \"j\": 2}, \"B\": [{\"X\": 1, \"Y\": 10}, {\"X\": 2, \"Y\": 20}]}'\n",
    "print(s)\n",
    "load = json.loads(s)\n",
    "pprint.pprint(load, width=40)\n",
    "print(type(load))\n",
    "\n",
    "dump=json.dumps(load)\n",
    "print(dump)\n",
    "print(type(dump))"
   ]
  },
  {
   "cell_type": "raw",
   "metadata": {},
   "source": [
    "いろいろやってみたが、XML書いてことないから正直どうやって使うのかわからない。\n",
    "loadsで、辞書型に\n",
    "dumpsで、辞書型からJSON形式意戻した文字列が帰ってくることがわかった。\n",
    "dumpで書き込みができる"
   ]
  },
  {
   "cell_type": "code",
   "execution_count": null,
   "metadata": {},
   "outputs": [],
   "source": [
    "with open('/Users/isonoyuma/Workspace/work1/task/details_json/task_json.json','w') as f:\n",
    "    "
   ]
  }
 ],
 "metadata": {
  "kernelspec": {
   "display_name": "Python 3",
   "language": "python",
   "name": "python3"
  },
  "language_info": {
   "codemirror_mode": {
    "name": "ipython",
    "version": 3
   },
   "file_extension": ".py",
   "mimetype": "text/x-python",
   "name": "python",
   "nbconvert_exporter": "python",
   "pygments_lexer": "ipython3",
   "version": "3.7.6"
  }
 },
 "nbformat": 4,
 "nbformat_minor": 4
}
