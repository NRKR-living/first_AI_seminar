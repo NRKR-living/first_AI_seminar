{
 "cells": [
  {
   "cell_type": "markdown",
   "metadata": {},
   "source": [
    "# ２値GA\n",
    "- SVMでクラス分類\n",
    "    - dataset wine trainが80% testが20%\n",
    "    - errorを最小に\n",
    "    - かつ特徴を減らす\n"
   ]
  },
  {
   "cell_type": "code",
   "execution_count": 1,
   "metadata": {},
   "outputs": [
    {
     "data": {
      "text/plain": [
       "(178, 13)"
      ]
     },
     "execution_count": 1,
     "metadata": {},
     "output_type": "execute_result"
    }
   ],
   "source": [
    "import random\n",
    "import numpy as np\n",
    "import copy\n",
    "from sklearn.model_selection import train_test_split\n",
    "from sklearn.preprocessing import StandardScaler \n",
    "from sklearn.svm import SVC\n",
    "from sklearn.metrics import accuracy_score\n",
    "from sklearn.datasets import load_wine\n",
    "\n",
    "wine = load_wine()\n",
    "data = wine.data\n",
    "label = wine.target\n",
    "data.shape"
   ]
  },
  {
   "cell_type": "markdown",
   "metadata": {},
   "source": [
    "# 初期化"
   ]
  },
  {
   "cell_type": "code",
   "execution_count": 242,
   "metadata": {},
   "outputs": [],
   "source": [
    "\n",
    "def init(num_features = 10, num_instances = 100):\n",
    "    '''\n",
    "    num_instances X num_featuresの配列を用意する。0か1を持つ\n",
    "    '''\n",
    "    proba = np.random.uniform(size=(num_instances, num_features))\n",
    "    threshold = np.random.uniform(size=(num_instances, num_features))\n",
    "    return proba >= 0.5"
   ]
  },
  {
   "cell_type": "markdown",
   "metadata": {},
   "source": [
    "# 評価"
   ]
  },
  {
   "cell_type": "code",
   "execution_count": 276,
   "metadata": {},
   "outputs": [],
   "source": [
    "\n",
    "def eval(X, X_train,X_valid,y_train,y_valid) -> np.ndarray:\n",
    "    '''\n",
    "    Xの評価をする関数。評価値は小さいほどよい。\n",
    "    return :\n",
    "        np.ndarray, shape = (1, X.shape[0])\n",
    "    '''\n",
    "    accu_list = np.zeros((X.shape[0],1))\n",
    "    for i,x in enumerate(X):\n",
    "        \n",
    "        X_train_new = X_train[:,x]\n",
    "        X_test_new = X_valid[:,x]\n",
    "        m = SVC()\n",
    "        m.fit(X_train_new, y_train)\n",
    "        predict = m.predict(X_test_new)\n",
    "        accu = accuracy_score(y_valid, predict)\n",
    "        accu_list[i] = accu\n",
    "    return accu_list"
   ]
  },
  {
   "cell_type": "markdown",
   "metadata": {},
   "source": [
    "# 選択"
   ]
  },
  {
   "cell_type": "code",
   "execution_count": 234,
   "metadata": {},
   "outputs": [],
   "source": [
    "\n",
    "def election(X, accu_array):\n",
    "    accu_array = accu_array.ravel()\n",
    "    p_sum = np.sum(accu_array)\n",
    "    accu_array = accu_array/p_sum\n",
    "    choice1,choice2 = np.random.choice(list(range(accu_array.size)), 2,replace = False, p = accu_array)\n",
    "    return choice1,choice2"
   ]
  },
  {
   "cell_type": "markdown",
   "metadata": {},
   "source": [
    "# 交叉"
   ]
  },
  {
   "cell_type": "code",
   "execution_count": 235,
   "metadata": {},
   "outputs": [],
   "source": [
    "\n",
    "def closs_over(x,y):\n",
    "    num_features = x.size\n",
    "    point = np.random.choice(num_features)\n",
    "    \n",
    "    _x = copy.deepcopy(x)\n",
    "    _y = copy.deepcopy(y)\n",
    "    _y[point:] = x[point:]\n",
    "    _x[point:] = y[point:]\n",
    "    # 普通にhstackしてもいいよね\n",
    "    \n",
    "    return _x, _y"
   ]
  },
  {
   "cell_type": "markdown",
   "metadata": {},
   "source": [
    "## 突然変異\n",
    "mutation rate にしたがって個体群から選び、反転させる"
   ]
  },
  {
   "cell_type": "code",
   "execution_count": 236,
   "metadata": {},
   "outputs": [],
   "source": [
    "\n",
    "def mutation_(X, mutation_rate = 0.01):\n",
    "    '''\n",
    "    mutation rate にしたがって個体群から選び、反転させる\n",
    "    '''\n",
    "    num_instances, num_features = X.shape\n",
    "    proba = np.random.random(size = num_instances)\n",
    "    palette = np.array(range(X.shape[0]))\n",
    "    mask = proba <= mutation_rate\n",
    "    mutations = palette[mask]\n",
    "    for x in mutations:\n",
    "        point = np.random.choice(num_features)\n",
    "        X[x,point] = not(X[x,point])\n",
    "    return X"
   ]
  },
  {
   "cell_type": "code",
   "execution_count": 376,
   "metadata": {},
   "outputs": [],
   "source": [
    "\n",
    "def svm_ga(X_train,y_train,X_valid,y_valid,X_test,y_test ,init_num_features = 10 , init_num_instances = 100):\n",
    "    \n",
    "    sc = StandardScaler()\n",
    "    sc.fit(X_train)\n",
    "    X_train = sc.transform(X_train)\n",
    "    X_valid = sc.transform(X_valid)\n",
    "    X_test = sc.transform(X_test)\n",
    "    X = init(init_num_features, init_num_instances)\n",
    "    for x in range(100):\n",
    "        accu = eval(X, X_train, X_valid, y_train, y_valid)\n",
    "        ele1,ele2 = election(X, error)\n",
    "        X[[ele1,ele2]]=closs_over(X[ele1], X[ele2])\n",
    "        mutation_(X)\n",
    "    accu_test = eval(X,X_train,X_test,y_train,y_test)\n",
    "    pena_list = np.zeros(X.shape[0])\n",
    "    for i in range(pena_list.shape[0]):\n",
    "        pena_list[i] = accu[i]-((1-accu[i])*np.sum(X[i])/X.shape[1])\n",
    "    return X,accu,accu_test,pena_list"
   ]
  },
  {
   "cell_type": "code",
   "execution_count": 377,
   "metadata": {},
   "outputs": [],
   "source": [
    "X_train, X_test, y_train, y_test = train_test_split(data, label, test_size=0.6, random_state=None )\n",
    "X_train, X_valid, y_train, y_valid = train_test_split(X_train,y_train,test_size=0.2, random_state = None)"
   ]
  },
  {
   "cell_type": "code",
   "execution_count": 383,
   "metadata": {},
   "outputs": [],
   "source": [
    "\n",
    "X,accu,accu_test,pena_list = svm_ga(X_train,y_train,X_valid,y_valid,X_test,y_test,13,100)"
   ]
  },
  {
   "cell_type": "code",
   "execution_count": 384,
   "metadata": {},
   "outputs": [
    {
     "name": "stdout",
     "output_type": "stream",
     "text": [
      "feature = 6\n",
      "index = 3\n",
      "feature = 6\n",
      "index = 20\n",
      "feature = 6\n",
      "index = 54\n"
     ]
    }
   ],
   "source": [
    "for x in np.array(list(range(X.shape[0])))[pena_list==1]:\n",
    "    print(\"feature = %d\" %X[x].sum())\n",
    "    print(\"index = %d\"%x)\n",
    "    "
   ]
  },
  {
   "cell_type": "code",
   "execution_count": 380,
   "metadata": {},
   "outputs": [
    {
     "name": "stdout",
     "output_type": "stream",
     "text": [
      "[ True False False False  True False  True False False False  True  True\n",
      "  True]\n",
      "[0.96261682]\n"
     ]
    }
   ],
   "source": [
    "print(X[12])\n",
    "print(accu_test[12])"
   ]
  },
  {
   "cell_type": "code",
   "execution_count": 385,
   "metadata": {},
   "outputs": [
    {
     "name": "stdout",
     "output_type": "stream",
     "text": [
      "[ True False  True  True False False  True  True False False  True False\n",
      " False]\n",
      "[0.97196262]\n"
     ]
    }
   ],
   "source": [
    "print(X[3])\n",
    "print(accu_test[3])"
   ]
  },
  {
   "cell_type": "code",
   "execution_count": 386,
   "metadata": {},
   "outputs": [
    {
     "name": "stdout",
     "output_type": "stream",
     "text": [
      "[ True False  True False False  True  True  True False False  True False\n",
      " False]\n",
      "[0.94392523]\n"
     ]
    }
   ],
   "source": [
    "print(X[20])\n",
    "print(accu_test[20])"
   ]
  },
  {
   "cell_type": "code",
   "execution_count": 387,
   "metadata": {},
   "outputs": [
    {
     "name": "stdout",
     "output_type": "stream",
     "text": [
      "[False  True False False  True False  True False  True  True False False\n",
      "  True]\n",
      "[0.92523364]\n"
     ]
    }
   ],
   "source": [
    "print(X[54])\n",
    "print(accu_test[54])"
   ]
  },
  {
   "cell_type": "code",
   "execution_count": 391,
   "metadata": {},
   "outputs": [],
   "source": [
    "from sklearn.datasets import load_breast_cancer\n",
    "cancer = load_breast_cancer()\n",
    "data_new = cancer.data\n",
    "label_new = cancer.target\n",
    "\n",
    "X_train, X_test, y_train, y_test = train_test_split(data_new, label_new, test_size=0.6, random_state=None )\n",
    "X_train, X_valid, y_train, y_valid = train_test_split(X_train,y_train,test_size=0.2, random_state = None)"
   ]
  },
  {
   "cell_type": "code",
   "execution_count": 393,
   "metadata": {},
   "outputs": [],
   "source": [
    "X,accu,accu_test,pena_list = svm_ga(X_train,y_train,X_valid,y_valid,X_test,y_test,30,100)"
   ]
  },
  {
   "cell_type": "code",
   "execution_count": 394,
   "metadata": {},
   "outputs": [
    {
     "name": "stdout",
     "output_type": "stream",
     "text": [
      "feature = 17\n",
      "index = 5\n",
      "feature = 14\n",
      "index = 10\n",
      "feature = 12\n",
      "index = 20\n",
      "feature = 20\n",
      "index = 21\n",
      "feature = 10\n",
      "index = 33\n",
      "feature = 10\n",
      "index = 37\n",
      "feature = 17\n",
      "index = 60\n",
      "feature = 15\n",
      "index = 69\n",
      "feature = 13\n",
      "index = 79\n"
     ]
    }
   ],
   "source": [
    "for x in np.array(list(range(X.shape[0])))[pena_list==1]:\n",
    "    print(\"feature = %d\" %X[x].sum())\n",
    "    print(\"index = %d\"%x)\n",
    "    "
   ]
  },
  {
   "cell_type": "code",
   "execution_count": 395,
   "metadata": {},
   "outputs": [
    {
     "name": "stdout",
     "output_type": "stream",
     "text": [
      "[False False  True False False False  True  True False  True False False\n",
      " False False False  True False  True False False  True  True  True False\n",
      "  True  True False  True  True  True]\n",
      "[0.95614035]\n"
     ]
    }
   ],
   "source": [
    "print(X[10])\n",
    "print(accu_test[10])"
   ]
  },
  {
   "cell_type": "code",
   "execution_count": 396,
   "metadata": {},
   "outputs": [
    {
     "name": "stdout",
     "output_type": "stream",
     "text": [
      "[False False False  True  True  True  True  True  True  True  True False\n",
      "  True  True False  True  True False False False False  True False False\n",
      "  True False  True  True  True False]\n",
      "[0.9502924]\n"
     ]
    }
   ],
   "source": [
    "print(X[5])\n",
    "print(accu_test[5])"
   ]
  },
  {
   "cell_type": "code",
   "execution_count": 404,
   "metadata": {},
   "outputs": [],
   "source": [
    "wine = load_wine()\n",
    "X= wine.data\n",
    "y = wine.target"
   ]
  },
  {
   "cell_type": "code",
   "execution_count": 405,
   "metadata": {},
   "outputs": [
    {
     "name": "stderr",
     "output_type": "stream",
     "text": [
      "[Parallel(n_jobs=1)]: Using backend SequentialBackend with 1 concurrent workers.\n",
      "[Parallel(n_jobs=1)]: Done   1 out of   1 | elapsed:    0.0s remaining:    0.0s\n",
      "[Parallel(n_jobs=1)]: Done  13 out of  13 | elapsed:    0.0s finished\n",
      "\n",
      "[2020-08-29 18:51:23] Features: 1/6 -- score: 0.8146067415730337[Parallel(n_jobs=1)]: Using backend SequentialBackend with 1 concurrent workers.\n",
      "[Parallel(n_jobs=1)]: Done   1 out of   1 | elapsed:    0.0s remaining:    0.0s\n",
      "[Parallel(n_jobs=1)]: Done  12 out of  12 | elapsed:    0.0s finished\n",
      "\n",
      "[2020-08-29 18:51:23] Features: 2/6 -- score: 0.949438202247191[Parallel(n_jobs=1)]: Using backend SequentialBackend with 1 concurrent workers.\n",
      "[Parallel(n_jobs=1)]: Done   1 out of   1 | elapsed:    0.0s remaining:    0.0s\n",
      "[Parallel(n_jobs=1)]: Done  11 out of  11 | elapsed:    0.0s finished\n",
      "\n",
      "[2020-08-29 18:51:23] Features: 3/6 -- score: 0.9775280898876404[Parallel(n_jobs=1)]: Using backend SequentialBackend with 1 concurrent workers.\n",
      "[Parallel(n_jobs=1)]: Done   1 out of   1 | elapsed:    0.0s remaining:    0.0s\n",
      "[Parallel(n_jobs=1)]: Done  10 out of  10 | elapsed:    0.0s finished\n",
      "\n",
      "[2020-08-29 18:51:23] Features: 4/6 -- score: 0.9887640449438202[Parallel(n_jobs=1)]: Using backend SequentialBackend with 1 concurrent workers.\n",
      "[Parallel(n_jobs=1)]: Done   1 out of   1 | elapsed:    0.0s remaining:    0.0s\n",
      "[Parallel(n_jobs=1)]: Done   9 out of   9 | elapsed:    0.0s finished\n",
      "\n",
      "[2020-08-29 18:51:23] Features: 5/6 -- score: 1.0[Parallel(n_jobs=1)]: Using backend SequentialBackend with 1 concurrent workers.\n",
      "[Parallel(n_jobs=1)]: Done   1 out of   1 | elapsed:    0.0s remaining:    0.0s\n",
      "[Parallel(n_jobs=1)]: Done   8 out of   8 | elapsed:    0.0s finished\n",
      "\n",
      "[2020-08-29 18:51:23] Features: 6/6 -- score: 1.0"
     ]
    }
   ],
   "source": [
    "from mlxtend.feature_selection import SequentialFeatureSelector as SFS\n",
    "\n",
    "svm = SVC()\n",
    "\n",
    "sfs1 = SFS(svm, \n",
    "           k_features=6, \n",
    "           forward=True, \n",
    "           floating=False, \n",
    "           verbose=2,\n",
    "           scoring='accuracy',\n",
    "           cv=0)\n",
    "feature_names = (\"Alcohol\",\"Malic acid\",\"Ash\",\"Alcalinity of ash\",\"Magnesium\",\n",
    "                 \"Total phenols\",\"Flavanoids\",\"Nonflavanoid phenols\",\"Proanthocyanins\",\n",
    "                 \"Color intensity\",\"Hue\",\"OD280/OD315 of diluted wines\",\"Proline\")\n",
    "sc = StandardScaler()\n",
    "sc.fit(X)\n",
    "X = sc.transform(X)\n",
    "    \n",
    "\n",
    "sfs1 = sfs1.fit(X, y, custom_feature_names=feature_names)\n",
    "\n"
   ]
  },
  {
   "cell_type": "code",
   "execution_count": 406,
   "metadata": {},
   "outputs": [
    {
     "data": {
      "text/plain": [
       "('Alcohol',\n",
       " 'Ash',\n",
       " 'Alcalinity of ash',\n",
       " 'Flavanoids',\n",
       " 'Nonflavanoid phenols',\n",
       " 'Hue')"
      ]
     },
     "execution_count": 406,
     "metadata": {},
     "output_type": "execute_result"
    }
   ],
   "source": [
    "sfs1.k_feature_names_\n"
   ]
  },
  {
   "cell_type": "code",
   "execution_count": 407,
   "metadata": {},
   "outputs": [
    {
     "data": {
      "text/plain": [
       "1.0"
      ]
     },
     "execution_count": 407,
     "metadata": {},
     "output_type": "execute_result"
    }
   ],
   "source": [
    "sfs1.k_score_"
   ]
  },
  {
   "cell_type": "code",
   "execution_count": 408,
   "metadata": {},
   "outputs": [
    {
     "name": "stderr",
     "output_type": "stream",
     "text": [
      "[Parallel(n_jobs=1)]: Using backend SequentialBackend with 1 concurrent workers.\n",
      "[Parallel(n_jobs=1)]: Done   1 out of   1 | elapsed:    0.0s remaining:    0.0s\n",
      "[Parallel(n_jobs=1)]: Done  13 out of  13 | elapsed:    0.0s finished\n",
      "\n",
      "[2020-08-29 18:57:22] Features: 12/6 -- score: 1.0[Parallel(n_jobs=1)]: Using backend SequentialBackend with 1 concurrent workers.\n",
      "[Parallel(n_jobs=1)]: Done   1 out of   1 | elapsed:    0.0s remaining:    0.0s\n",
      "[Parallel(n_jobs=1)]: Done  12 out of  12 | elapsed:    0.0s finished\n",
      "\n",
      "[2020-08-29 18:57:22] Features: 11/6 -- score: 1.0[Parallel(n_jobs=1)]: Using backend SequentialBackend with 1 concurrent workers.\n",
      "[Parallel(n_jobs=1)]: Done   1 out of   1 | elapsed:    0.0s remaining:    0.0s\n",
      "[Parallel(n_jobs=1)]: Done  11 out of  11 | elapsed:    0.0s finished\n",
      "\n",
      "[2020-08-29 18:57:22] Features: 10/6 -- score: 1.0[Parallel(n_jobs=1)]: Using backend SequentialBackend with 1 concurrent workers.\n",
      "[Parallel(n_jobs=1)]: Done   1 out of   1 | elapsed:    0.0s remaining:    0.0s\n",
      "[Parallel(n_jobs=1)]: Done  10 out of  10 | elapsed:    0.0s finished\n",
      "\n",
      "[2020-08-29 18:57:22] Features: 9/6 -- score: 1.0[Parallel(n_jobs=1)]: Using backend SequentialBackend with 1 concurrent workers.\n",
      "[Parallel(n_jobs=1)]: Done   1 out of   1 | elapsed:    0.0s remaining:    0.0s\n",
      "[Parallel(n_jobs=1)]: Done   9 out of   9 | elapsed:    0.0s finished\n",
      "\n",
      "[2020-08-29 18:57:22] Features: 8/6 -- score: 1.0[Parallel(n_jobs=1)]: Using backend SequentialBackend with 1 concurrent workers.\n",
      "[Parallel(n_jobs=1)]: Done   1 out of   1 | elapsed:    0.0s remaining:    0.0s\n",
      "[Parallel(n_jobs=1)]: Done   8 out of   8 | elapsed:    0.0s finished\n",
      "\n",
      "[2020-08-29 18:57:22] Features: 7/6 -- score: 1.0[Parallel(n_jobs=1)]: Using backend SequentialBackend with 1 concurrent workers.\n",
      "[Parallel(n_jobs=1)]: Done   1 out of   1 | elapsed:    0.0s remaining:    0.0s\n",
      "[Parallel(n_jobs=1)]: Done   7 out of   7 | elapsed:    0.0s finished\n",
      "\n",
      "[2020-08-29 18:57:23] Features: 6/6 -- score: 1.0"
     ]
    }
   ],
   "source": [
    "sbs1 = SFS(svm, \n",
    "           k_features=6, \n",
    "           forward=False, \n",
    "           floating=False, \n",
    "           verbose=2,\n",
    "           scoring='accuracy',\n",
    "           cv=0)\n",
    "feature_names = (\"Alcohol\",\"Malic acid\",\"Ash\",\"Alcalinity of ash\",\"Magnesium\",\n",
    "                 \"Total phenols\",\"Flavanoids\",\"Nonflavanoid phenols\",\"Proanthocyanins\",\n",
    "                 \"Color intensity\",\"Hue\",\"OD280/OD315 of diluted wines\",\"Proline\")\n",
    "sfs1 = sbs1.fit(X, y, custom_feature_names=feature_names)"
   ]
  },
  {
   "cell_type": "code",
   "execution_count": 409,
   "metadata": {},
   "outputs": [
    {
     "data": {
      "text/plain": [
       "('Alcohol',\n",
       " 'Ash',\n",
       " 'Alcalinity of ash',\n",
       " 'Flavanoids',\n",
       " 'Nonflavanoid phenols',\n",
       " 'Color intensity')"
      ]
     },
     "execution_count": 409,
     "metadata": {},
     "output_type": "execute_result"
    }
   ],
   "source": [
    "sbs1.k_feature_names_"
   ]
  },
  {
   "cell_type": "code",
   "execution_count": 410,
   "metadata": {},
   "outputs": [
    {
     "data": {
      "text/plain": [
       "1.0"
      ]
     },
     "execution_count": 410,
     "metadata": {},
     "output_type": "execute_result"
    }
   ],
   "source": [
    "sbs1.k_score_"
   ]
  },
  {
   "cell_type": "code",
   "execution_count": null,
   "metadata": {},
   "outputs": [],
   "source": []
  }
 ],
 "metadata": {
  "kernelspec": {
   "display_name": "Python 3",
   "language": "python",
   "name": "python3"
  },
  "language_info": {
   "codemirror_mode": {
    "name": "ipython",
    "version": 3
   },
   "file_extension": ".py",
   "mimetype": "text/x-python",
   "name": "python",
   "nbconvert_exporter": "python",
   "pygments_lexer": "ipython3",
   "version": "3.7.6"
  }
 },
 "nbformat": 4,
 "nbformat_minor": 4
}
