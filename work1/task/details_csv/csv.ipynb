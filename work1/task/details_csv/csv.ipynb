{
 "cells": [
  {
   "cell_type": "raw",
   "metadata": {},
   "source": [
    "csvモジュール\n",
    "    CSV形式で書かれたテーブル上のデータを読み書きするためのクラスが整っている\n",
    "    このモジュールを使うことで、CSV形式の詳しい知識がなくても、CSVファイルの操作ができ、\n",
    "    また別のアプリケーションが識別できるようなCSV形式のファイルを記述したり、\n",
    "    独自の特殊な目的を持ったCSV形式で読み書きできるようになる。\n",
    "\n",
    "    csvモジュールのreaderおよびwriterオブジェクトはシーケンス型を読み書きする\n",
    "    シーケンス型とは？？\n",
    "        複数要素をまとめて扱える型のこと。list,tuple,range,stringなどがそう。\n",
    "    DictReader や DictWriter クラスを使うことで、データを辞書形式で読み書きすることもできる\n",
    "    "
   ]
  },
  {
   "cell_type": "code",
   "execution_count": 36,
   "metadata": {},
   "outputs": [
    {
     "name": "stdout",
     "output_type": "stream",
     "text": [
      "Spam,Spam,Spam,Spam,Spam,Baked Beans\n",
      "Spam,Lovely Spam,Wonderful Spam\n"
     ]
    }
   ],
   "source": [
    "import csv\n",
    "with open('/Users/isonoyuma/workspace/work1/task/details_csv/eggs.csv', newline='') as f:\n",
    "    reader = csv.reader(f, delimiter=',')\n",
    "    for row in reader:\n",
    "        print(','.join(row))"
   ]
  },
  {
   "cell_type": "raw",
   "metadata": {},
   "source": [
    "delimiterは、データの区切りが何でなされているかを指定するもの\n",
    "delimiterを' 'にすると、先のCSVファイルのBaked Beansの空白が区切りとみなされて、Baked,Beansになり、\n",
    "逆に、Spam,Spam,Spam,Spam,Spam,Bakedまでが一つの要素とみなされると予測する。(for文のrowの中を見てみる)↓"
   ]
  },
  {
   "cell_type": "code",
   "execution_count": 48,
   "metadata": {},
   "outputs": [
    {
     "name": "stdout",
     "output_type": "stream",
     "text": [
      "['Spam,Spam,Spam,Spam,Spam,Baked', 'Beans']\n",
      "['Spam,Lovely', 'Spam,Wonderful', 'Spam']\n"
     ]
    }
   ],
   "source": [
    "with open('/Users/isonoyuma/workspace/work1/task/details_csv/eggs.csv', newline='') as csvfile:\n",
    "    reader = csv.reader(csvfile, delimiter=' ')\n",
    "    for row in reader:\n",
    "        print(row)"
   ]
  },
  {
   "cell_type": "raw",
   "metadata": {},
   "source": [
    "予想通りの結果\n",
    "open()のnewline=''は、改行コードをそのまま読み込むよというオプションらしい。\n",
    "これをつけないと、OSやシステムごとに違う改行コードを、全てLFで統一されてしまうらしい。\n",
    "特にcsvファイルを開くときはnewline=''をつけることを推奨している。"
   ]
  },
  {
   "cell_type": "raw",
   "metadata": {},
   "source": [
    "quotecharは、要素を囲む記号に指定ができる。\n",
    "読み込みではうまく反映できなかった。書き込みで、ファイル内に記述されるものだろうか"
   ]
  },
  {
   "cell_type": "code",
   "execution_count": 49,
   "metadata": {},
   "outputs": [
    {
     "name": "stdout",
     "output_type": "stream",
     "text": [
      "['Spam', 'Spam', 'Spam', 'Spam', 'Spam', 'Baked Beans']\n",
      "['Spam', 'Lovely Spam', 'Wonderful Spam']\n"
     ]
    }
   ],
   "source": [
    "with open('/Users/isonoyuma/workspace/work1/task/details_csv/eggs.csv') as f:\n",
    "    reader = csv.reader(f, delimiter=',', quotechar='\"')\n",
    "    for row in reader:\n",
    "        print(row)"
   ]
  },
  {
   "cell_type": "raw",
   "metadata": {},
   "source": [
    "code内のreaderは、csvファイルを反復処理するリーダーオブジェクトが入っている。\n",
    "直接みても、オブジェクトの場所が帰ってくるだけだった。\n",
    "list()で囲んであげると全部出てきた"
   ]
  },
  {
   "cell_type": "code",
   "execution_count": 28,
   "metadata": {},
   "outputs": [
    {
     "name": "stdout",
     "output_type": "stream",
     "text": [
      "<_csv.reader object at 0x10408da50>\n",
      "[['Spam', 'Spam', 'Spam', 'Spam', 'Spam', 'Baked Beans'], ['Spam', 'Lovely Spam', 'Wonderful Spam']]\n"
     ]
    }
   ],
   "source": [
    "with open('/Users/isonoyuma/workspace/work1/task/details_csv/eggs.csv') as f:\n",
    "    reader = csv.reader(f, delimiter=',')\n",
    "    print(reader)\n",
    "    print(list(reader))"
   ]
  },
  {
   "cell_type": "code",
   "execution_count": null,
   "metadata": {},
   "outputs": [],
   "source": [
    "どうやら辞書型で読み込むことができるらしい。DictReaderを使う\n",
    "pythonで言う辞書型とは少し違う印象を受けた。\n",
    "ヘッダー付きのcsvファイルなら便利。"
   ]
  },
  {
   "cell_type": "code",
   "execution_count": 50,
   "metadata": {},
   "outputs": [
    {
     "name": "stdout",
     "output_type": "stream",
     "text": [
      "OrderedDict([('id', '0'), ('name', 'A')])\n",
      "A\n",
      "OrderedDict([('id', '1'), ('name', 'B')])\n",
      "B\n",
      "OrderedDict([('id', '2'), ('name', 'C')])\n",
      "C\n"
     ]
    }
   ],
   "source": [
    "with open('/Users/isonoyuma/workspace/work1/task/details_csv/sample_DictReader.csv', newline='') as f:\n",
    "        reader = csv.DictReader(f, delimiter=\",\")\n",
    "        for row in reader:\n",
    "            print(row)\n",
    "            print(row['name'])"
   ]
  },
  {
   "cell_type": "raw",
   "metadata": {},
   "source": [
    "同じ感じで書き込みもやっていく。\n",
    "書き込みは、writerとDictWriterを使っていく。"
   ]
  },
  {
   "cell_type": "code",
   "execution_count": 41,
   "metadata": {},
   "outputs": [],
   "source": [
    "import csv\n",
    "with open('/Users/isonoyuma/workspace/work1/task/details_csv/eggs2.csv', 'w', newline='') as f:\n",
    "    spamwriter = csv.writer(f, delimiter=',',quotechar='\"', quoting=csv.QUOTE_MINIMAL)\n",
    "    spamwriter.writerow(['Spam'] * 5 + ['Baked Beans'])\n",
    "    spamwriter.writerow(['Spam', 'Lovely Spam', 'Wonderful Spam'])"
   ]
  },
  {
   "cell_type": "raw",
   "metadata": {},
   "source": [
    "期待する書き込みはできたのだが、quotingだけうまくいかない。\n",
    "ファイルも参照して見たが、先のeggs.csvと全く同じになってしまった。\n",
    "調べて分かったのだが、ファイルを開くときのモードだが、'w'ではなく、'a'にすると、追記できるらしい。"
   ]
  },
  {
   "cell_type": "code",
   "execution_count": 29,
   "metadata": {},
   "outputs": [],
   "source": [
    "with open('/Users/isonoyuma/workspace/work1/task/details_csv/names.csv', 'w', newline='') as f:\n",
    "    fieldnames = ['first_name', 'last_name']\n",
    "    writer = csv.DictWriter(f, fieldnames=fieldnames)\n",
    "\n",
    "    writer.writeheader()\n",
    "    writer.writerow({'first_name': 'Baked', 'last_name': 'Beans'})\n",
    "    writer.writerow({'first_name': 'Lovely', 'last_name': 'Spam'})\n",
    "    writer.writerow({'first_name': 'Wonderful', 'last_name': 'Spam'})"
   ]
  },
  {
   "cell_type": "raw",
   "metadata": {},
   "source": [
    "一応出力確認。"
   ]
  },
  {
   "cell_type": "code",
   "execution_count": 51,
   "metadata": {},
   "outputs": [
    {
     "name": "stdout",
     "output_type": "stream",
     "text": [
      "OrderedDict([('first_name', 'Baked'), ('last_name', 'Beans')])\n",
      "OrderedDict([('first_name', 'Lovely'), ('last_name', 'Spam')])\n",
      "OrderedDict([('first_name', 'Wonderful'), ('last_name', 'Spam')])\n"
     ]
    }
   ],
   "source": [
    "with open('/Users/isonoyuma/workspace/work1/task/details_csv/names.csv', newline='') as f:\n",
    "        reader = csv.DictReader(f, delimiter=\",\")\n",
    "        for row in reader:\n",
    "            print(row)"
   ]
  },
  {
   "cell_type": "raw",
   "metadata": {},
   "source": [
    "期待通りの結果。\n",
    "writer.writeheader()は、言葉の通り、ヘッダーを書いているのだと思うが、これを無くしたらどうなるのだろうか\n",
    "実験してみる"
   ]
  },
  {
   "cell_type": "code",
   "execution_count": 43,
   "metadata": {},
   "outputs": [],
   "source": [
    "with open('/Users/isonoyuma/workspace/work1/task/details_csv/test.csv', 'w', newline='') as f:\n",
    "    fieldnames = ['first_name', 'last_name']\n",
    "    writer = csv.DictWriter(f, fieldnames=fieldnames)\n",
    "    writer.writerow({'first_name': 'Baked', 'last_name': 'Beans'})\n",
    "    writer.writerow({'first_name': 'Lovely', 'last_name': 'Spam'})\n",
    "    writer.writerow({'first_name': 'Wonderful', 'last_name': 'Spam'})"
   ]
  },
  {
   "cell_type": "code",
   "execution_count": 44,
   "metadata": {},
   "outputs": [
    {
     "name": "stdout",
     "output_type": "stream",
     "text": [
      "OrderedDict([('Baked', 'Lovely'), ('Beans', 'Spam')])\n",
      "OrderedDict([('Baked', 'Wonderful'), ('Beans', 'Spam')])\n"
     ]
    }
   ],
   "source": [
    "with open('/Users/isonoyuma/workspace/work1/task/details_csv/test.csv', newline='') as f:\n",
    "        reader = csv.DictReader(f, delimiter=\",\")\n",
    "        for row in reader:\n",
    "            print(row)"
   ]
  },
  {
   "cell_type": "raw",
   "metadata": {},
   "source": [
    "なるほど。一行上にずれて入力され、一番上がヘッダーなので、勝手に判断されておかしくなるわけだ。\n",
    "fieldnamesについても実験。予想は、fieldnamesに入っているものが、writer.writeheader()で半自動的に一番上に描かれるのだろう。（一番上とは限らないか？順番変えてやってみるか）"
   ]
  },
  {
   "cell_type": "code",
   "execution_count": 52,
   "metadata": {
    "collapsed": true,
    "jupyter": {
     "outputs_hidden": true
    }
   },
   "outputs": [
    {
     "ename": "ValueError",
     "evalue": "dict contains fields not in fieldnames: 'last_name', 'first_name'",
     "output_type": "error",
     "traceback": [
      "\u001b[0;31m---------------------------------------------------------------------------\u001b[0m",
      "\u001b[0;31mValueError\u001b[0m                                Traceback (most recent call last)",
      "\u001b[0;32m<ipython-input-52-0a8df3db95bf>\u001b[0m in \u001b[0;36m<module>\u001b[0;34m\u001b[0m\n\u001b[1;32m      5\u001b[0m \u001b[0;34m\u001b[0m\u001b[0m\n\u001b[1;32m      6\u001b[0m \u001b[0;34m\u001b[0m\u001b[0m\n\u001b[0;32m----> 7\u001b[0;31m     \u001b[0mwriter\u001b[0m\u001b[0;34m.\u001b[0m\u001b[0mwriterow\u001b[0m\u001b[0;34m(\u001b[0m\u001b[0;34m{\u001b[0m\u001b[0;34m'first_name'\u001b[0m\u001b[0;34m:\u001b[0m \u001b[0;34m'Baked'\u001b[0m\u001b[0;34m,\u001b[0m \u001b[0;34m'last_name'\u001b[0m\u001b[0;34m:\u001b[0m \u001b[0;34m'Beans'\u001b[0m\u001b[0;34m}\u001b[0m\u001b[0;34m)\u001b[0m\u001b[0;34m\u001b[0m\u001b[0;34m\u001b[0m\u001b[0m\n\u001b[0m\u001b[1;32m      8\u001b[0m     \u001b[0mwriter\u001b[0m\u001b[0;34m.\u001b[0m\u001b[0mwriteheader\u001b[0m\u001b[0;34m(\u001b[0m\u001b[0;34m)\u001b[0m\u001b[0;34m\u001b[0m\u001b[0;34m\u001b[0m\u001b[0m\n\u001b[1;32m      9\u001b[0m     \u001b[0mwriter\u001b[0m\u001b[0;34m.\u001b[0m\u001b[0mwriterow\u001b[0m\u001b[0;34m(\u001b[0m\u001b[0;34m{\u001b[0m\u001b[0;34m'first_name'\u001b[0m\u001b[0;34m:\u001b[0m \u001b[0;34m'Lovely'\u001b[0m\u001b[0;34m,\u001b[0m \u001b[0;34m'last_name'\u001b[0m\u001b[0;34m:\u001b[0m \u001b[0;34m'Spam'\u001b[0m\u001b[0;34m}\u001b[0m\u001b[0;34m)\u001b[0m\u001b[0;34m\u001b[0m\u001b[0;34m\u001b[0m\u001b[0m\n",
      "\u001b[0;32m~/opt/anaconda3/lib/python3.7/csv.py\u001b[0m in \u001b[0;36mwriterow\u001b[0;34m(self, rowdict)\u001b[0m\n\u001b[1;32m    153\u001b[0m \u001b[0;34m\u001b[0m\u001b[0m\n\u001b[1;32m    154\u001b[0m     \u001b[0;32mdef\u001b[0m \u001b[0mwriterow\u001b[0m\u001b[0;34m(\u001b[0m\u001b[0mself\u001b[0m\u001b[0;34m,\u001b[0m \u001b[0mrowdict\u001b[0m\u001b[0;34m)\u001b[0m\u001b[0;34m:\u001b[0m\u001b[0;34m\u001b[0m\u001b[0;34m\u001b[0m\u001b[0m\n\u001b[0;32m--> 155\u001b[0;31m         \u001b[0;32mreturn\u001b[0m \u001b[0mself\u001b[0m\u001b[0;34m.\u001b[0m\u001b[0mwriter\u001b[0m\u001b[0;34m.\u001b[0m\u001b[0mwriterow\u001b[0m\u001b[0;34m(\u001b[0m\u001b[0mself\u001b[0m\u001b[0;34m.\u001b[0m\u001b[0m_dict_to_list\u001b[0m\u001b[0;34m(\u001b[0m\u001b[0mrowdict\u001b[0m\u001b[0;34m)\u001b[0m\u001b[0;34m)\u001b[0m\u001b[0;34m\u001b[0m\u001b[0;34m\u001b[0m\u001b[0m\n\u001b[0m\u001b[1;32m    156\u001b[0m \u001b[0;34m\u001b[0m\u001b[0m\n\u001b[1;32m    157\u001b[0m     \u001b[0;32mdef\u001b[0m \u001b[0mwriterows\u001b[0m\u001b[0;34m(\u001b[0m\u001b[0mself\u001b[0m\u001b[0;34m,\u001b[0m \u001b[0mrowdicts\u001b[0m\u001b[0;34m)\u001b[0m\u001b[0;34m:\u001b[0m\u001b[0;34m\u001b[0m\u001b[0;34m\u001b[0m\u001b[0m\n",
      "\u001b[0;32m~/opt/anaconda3/lib/python3.7/csv.py\u001b[0m in \u001b[0;36m_dict_to_list\u001b[0;34m(self, rowdict)\u001b[0m\n\u001b[1;32m    149\u001b[0m             \u001b[0;32mif\u001b[0m \u001b[0mwrong_fields\u001b[0m\u001b[0;34m:\u001b[0m\u001b[0;34m\u001b[0m\u001b[0;34m\u001b[0m\u001b[0m\n\u001b[1;32m    150\u001b[0m                 raise ValueError(\"dict contains fields not in fieldnames: \"\n\u001b[0;32m--> 151\u001b[0;31m                                  + \", \".join([repr(x) for x in wrong_fields]))\n\u001b[0m\u001b[1;32m    152\u001b[0m         \u001b[0;32mreturn\u001b[0m \u001b[0;34m(\u001b[0m\u001b[0mrowdict\u001b[0m\u001b[0;34m.\u001b[0m\u001b[0mget\u001b[0m\u001b[0;34m(\u001b[0m\u001b[0mkey\u001b[0m\u001b[0;34m,\u001b[0m \u001b[0mself\u001b[0m\u001b[0;34m.\u001b[0m\u001b[0mrestval\u001b[0m\u001b[0;34m)\u001b[0m \u001b[0;32mfor\u001b[0m \u001b[0mkey\u001b[0m \u001b[0;32min\u001b[0m \u001b[0mself\u001b[0m\u001b[0;34m.\u001b[0m\u001b[0mfieldnames\u001b[0m\u001b[0;34m)\u001b[0m\u001b[0;34m\u001b[0m\u001b[0;34m\u001b[0m\u001b[0m\n\u001b[1;32m    153\u001b[0m \u001b[0;34m\u001b[0m\u001b[0m\n",
      "\u001b[0;31mValueError\u001b[0m: dict contains fields not in fieldnames: 'last_name', 'first_name'"
     ]
    }
   ],
   "source": [
    "#エラーコード\n",
    "with open('/Users/isonoyuma/workspace/work1/task/details_csv/test2.csv', 'w', newline='') as f:\n",
    "    fieldnames = ['first', 'last']\n",
    "    writer = csv.DictWriter(f, fieldnames=fieldnames)\n",
    "\n",
    "    \n",
    "    writer.writerow({'first_name': 'Baked', 'last_name': 'Beans'})\n",
    "    writer.writeheader()\n",
    "    writer.writerow({'first_name': 'Lovely', 'last_name': 'Spam'})\n",
    "    writer.writerow({'first_name': 'Wonderful', 'last_name': 'Spam'})\n",
    "\n",
    "# ValueError: dict contains fields not in fieldnames: 'last_name', 'first_name'"
   ]
  },
  {
   "cell_type": "code",
   "execution_count": null,
   "metadata": {},
   "outputs": [],
   "source": [
    "ヘッダーの名前と、書き込む時のヘッダーの名前を変えたらさすがに怒られた。\n",
    "fieldnamesにある値と同じもので書き込まれることが絶対条件のようだ。"
   ]
  },
  {
   "cell_type": "code",
   "execution_count": 46,
   "metadata": {},
   "outputs": [],
   "source": [
    "with open('/Users/isonoyuma/workspace/work1/task/details_csv/test2.csv', 'w', newline='') as f:\n",
    "    fieldnames = ['first_name', 'last_name']\n",
    "    writer = csv.DictWriter(f, fieldnames=fieldnames)\n",
    "    writer.writerow({'first_name': 'Baked', 'last_name': 'Beans'})\n",
    "    writer.writeheader()\n",
    "    writer.writerow({'first_name': 'Lovely', 'last_name': 'Spam'})\n",
    "    writer.writerow({'first_name': 'Wonderful', 'last_name': 'Spam'})"
   ]
  },
  {
   "cell_type": "code",
   "execution_count": 47,
   "metadata": {},
   "outputs": [
    {
     "name": "stdout",
     "output_type": "stream",
     "text": [
      "OrderedDict([('Baked', 'first_name'), ('Beans', 'last_name')])\n",
      "OrderedDict([('Baked', 'Lovely'), ('Beans', 'Spam')])\n",
      "OrderedDict([('Baked', 'Wonderful'), ('Beans', 'Spam')])\n"
     ]
    }
   ],
   "source": [
    "with open('/Users/isonoyuma/workspace/work1/task/details_csv/est2.csv', newline='') as f:\n",
    "        reader = csv.DictReader(f, delimiter=\",\")\n",
    "        for row in reader:\n",
    "            print(row)"
   ]
  },
  {
   "cell_type": "raw",
   "metadata": {},
   "source": [
    "順番は変えても怒られないんだ・・・\n",
    "なんか不完全な機能な気がする。\n",
    "一番最初に書き込まれた時に自動的にheader書き込んでくれれば楽だよなぁ\n",
    "磯野の課題csv編　以上。"
   ]
  },
  {
   "cell_type": "markdown",
   "metadata": {},
   "source": [
    "[pythonのCSVの説明のとこ](https://docs.python.org/ja/3/library/csv.html)\n",
    "\n",
    "[CSVが詳しく説明されてるページ](https://rinatz.github.io/python-book/ch05-03-csv/)"
   ]
  }
 ],
 "metadata": {
  "kernelspec": {
   "display_name": "Python 3",
   "language": "python",
   "name": "python3"
  },
  "language_info": {
   "codemirror_mode": {
    "name": "ipython",
    "version": 3
   },
   "file_extension": ".py",
   "mimetype": "text/x-python",
   "name": "python",
   "nbconvert_exporter": "python",
   "pygments_lexer": "ipython3",
   "version": "3.7.6"
  }
 },
 "nbformat": 4,
 "nbformat_minor": 4
}
