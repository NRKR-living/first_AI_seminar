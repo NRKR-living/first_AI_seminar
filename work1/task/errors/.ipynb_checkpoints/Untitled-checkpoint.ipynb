{
 "cells": [
  {
   "cell_type": "raw",
   "metadata": {},
   "source": [
    "いろんなエラーを見ていく。"
   ]
  },
  {
   "cell_type": "markdown",
   "metadata": {},
   "source": [
    "[参考](https://note.nkmk.me/python-error-message/#_1)\n",
    "\n",
    "ここのサイトよくみる"
   ]
  },
  {
   "cell_type": "code",
   "execution_count": 2,
   "metadata": {
    "collapsed": true,
    "jupyter": {
     "outputs_hidden": true
    }
   },
   "outputs": [
    {
     "ename": "SyntaxError",
     "evalue": "unexpected EOF while parsing (<ipython-input-2-61b7038ca3f3>, line 2)",
     "output_type": "error",
     "traceback": [
      "\u001b[0;36m  File \u001b[0;32m\"<ipython-input-2-61b7038ca3f3>\"\u001b[0;36m, line \u001b[0;32m2\u001b[0m\n\u001b[0;31m    print('Hello'\u001b[0m\n\u001b[0m                 ^\u001b[0m\n\u001b[0;31mSyntaxError\u001b[0m\u001b[0;31m:\u001b[0m unexpected EOF while parsing\n"
     ]
    }
   ],
   "source": [
    "#SyntaxError\n",
    "print('Hello'\n",
    "#SyntaxError: unexpected EOF while parsing"
   ]
  },
  {
   "cell_type": "raw",
   "metadata": {},
   "source": [
    "単純に構文のエラー\n",
    "高機能なIDEとか使ってれば出ないんじゃね？\n",
    "メソッドとか関数とかのコロンは無理か\n",
    "自分がよくやるのはwith openの最後のコロン\n",
    "(){}[]ちゃんと書く。"
   ]
  },
  {
   "cell_type": "code",
   "execution_count": 4,
   "metadata": {
    "collapsed": true,
    "jupyter": {
     "outputs_hidden": true
    }
   },
   "outputs": [
    {
     "ename": "IndentationError",
     "evalue": "unindent does not match any outer indentation level (<tokenize>, line 5)",
     "output_type": "error",
     "traceback": [
      "\u001b[0;36m  File \u001b[0;32m\"<tokenize>\"\u001b[0;36m, line \u001b[0;32m5\u001b[0m\n\u001b[0;31m    else:\u001b[0m\n\u001b[0m    ^\u001b[0m\n\u001b[0;31mIndentationError\u001b[0m\u001b[0;31m:\u001b[0m unindent does not match any outer indentation level\n"
     ]
    }
   ],
   "source": [
    "#IndentationError\n",
    "n=100\n",
    "if n == 100:\n",
    "    print('n is 100')\n",
    "  else:\n",
    "    print('n is not 100')\n",
    "#IndentationError: unindent does not match any outer indentation level"
   ]
  },
  {
   "cell_type": "raw",
   "metadata": {},
   "source": [
    "まあ気をつけていればわかるよね\n",
    "コロンつけ忘れるとインデントずらしてくんないからね\n",
    "コロンつけ忘れ→インデント忘れのダブルエラー"
   ]
  },
  {
   "cell_type": "code",
   "execution_count": 5,
   "metadata": {
    "collapsed": true,
    "jupyter": {
     "outputs_hidden": true
    }
   },
   "outputs": [
    {
     "ename": "ModuleNotFoundError",
     "evalue": "No module named 'tititit'",
     "output_type": "error",
     "traceback": [
      "\u001b[0;31m---------------------------------------------------------------------------\u001b[0m",
      "\u001b[0;31mModuleNotFoundError\u001b[0m                       Traceback (most recent call last)",
      "\u001b[0;32m<ipython-input-5-bc9f739ff9f3>\u001b[0m in \u001b[0;36m<module>\u001b[0;34m\u001b[0m\n\u001b[1;32m      1\u001b[0m \u001b[0;31m#ModuleNotFoundError\u001b[0m\u001b[0;34m\u001b[0m\u001b[0;34m\u001b[0m\u001b[0;34m\u001b[0m\u001b[0m\n\u001b[0;32m----> 2\u001b[0;31m \u001b[0;32mimport\u001b[0m \u001b[0mtititit\u001b[0m\u001b[0;34m\u001b[0m\u001b[0;34m\u001b[0m\u001b[0m\n\u001b[0m",
      "\u001b[0;31mModuleNotFoundError\u001b[0m: No module named 'tititit'"
     ]
    }
   ],
   "source": [
    "#ModuleNotFoundError\n",
    "import tititit\n",
    "#ModuleNotFoundError: No module named 'tititit'"
   ]
  },
  {
   "cell_type": "raw",
   "metadata": {},
   "source": [
    "滅多に起きません。\n",
    "まあ今はライブラリとかわかんないから調べてコピーしてくるけど、慣れてくると増えそう。\n",
    "「あれ、こんな感じのライブラリなかったっけ」みたいな？笑\n",
    "あと単純にタイプミスか"
   ]
  },
  {
   "cell_type": "code",
   "execution_count": null,
   "metadata": {},
   "outputs": [],
   "source": []
  }
 ],
 "metadata": {
  "kernelspec": {
   "display_name": "Python 3",
   "language": "python",
   "name": "python3"
  },
  "language_info": {
   "codemirror_mode": {
    "name": "ipython",
    "version": 3
   },
   "file_extension": ".py",
   "mimetype": "text/x-python",
   "name": "python",
   "nbconvert_exporter": "python",
   "pygments_lexer": "ipython3",
   "version": "3.7.6"
  }
 },
 "nbformat": 4,
 "nbformat_minor": 4
}
