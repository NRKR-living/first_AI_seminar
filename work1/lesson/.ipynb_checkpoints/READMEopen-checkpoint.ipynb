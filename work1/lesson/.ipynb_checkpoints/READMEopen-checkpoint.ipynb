{
 "cells": [
  {
   "cell_type": "code",
   "execution_count": 3,
   "metadata": {},
   "outputs": [
    {
     "name": "stdout",
     "output_type": "stream",
     "text": [
      "--2020-06-05 17:03:04--  https://raw.githubusercontent.com/google/flax/master/README.md\n",
      "raw.githubusercontent.com (raw.githubusercontent.com) をDNSに問いあわせています... 151.101.108.133\n",
      "raw.githubusercontent.com (raw.githubusercontent.com)|151.101.108.133|:443 に接続しています... 接続しました。\n",
      "HTTP による接続要求を送信しました、応答を待っています... 200 OK\n",
      "長さ: 9495 (9.3K) [text/plain]\n",
      "`README.md' に保存中\n",
      "\n",
      "README.md           100%[===================>]   9.27K  --.-KB/s 時間 0s         \n",
      "\n",
      "2020-06-05 17:03:04 (21.5 MB/s) - `README.md' へ保存完了 [9495/9495]\n",
      "\n"
     ]
    }
   ],
   "source": [
    "!wget https://raw.githubusercontent.com/google/flax/master/README.md"
   ]
  },
  {
   "cell_type": "code",
   "execution_count": 4,
   "metadata": {},
   "outputs": [
    {
     "name": "stdout",
     "output_type": "stream",
     "text": [
      "README.md      Untitled.ipynb\n"
     ]
    }
   ],
   "source": [
    "!ls"
   ]
  },
  {
   "cell_type": "code",
   "execution_count": 6,
   "metadata": {},
   "outputs": [],
   "source": [
    "f = open('README.md', 'r')"
   ]
  },
  {
   "cell_type": "code",
   "execution_count": 7,
   "metadata": {},
   "outputs": [
    {
     "data": {
      "text/plain": [
       "_io.TextIOWrapper"
      ]
     },
     "execution_count": 7,
     "metadata": {},
     "output_type": "execute_result"
    }
   ],
   "source": [
    "type(f)"
   ]
  },
  {
   "cell_type": "code",
   "execution_count": 8,
   "metadata": {},
   "outputs": [
    {
     "data": {
      "text/plain": [
       "str"
      ]
     },
     "execution_count": 8,
     "metadata": {},
     "output_type": "execute_result"
    }
   ],
   "source": [
    "raw_text = f.read()\n",
    "type(raw_text)"
   ]
  },
  {
   "cell_type": "code",
   "execution_count": 10,
   "metadata": {},
   "outputs": [],
   "source": [
    "f.close()"
   ]
  },
  {
   "cell_type": "code",
   "execution_count": 11,
   "metadata": {},
   "outputs": [
    {
     "data": {
      "text/plain": [
       "_io.TextIOWrapper"
      ]
     },
     "execution_count": 11,
     "metadata": {},
     "output_type": "execute_result"
    }
   ],
   "source": [
    "type(f)"
   ]
  },
  {
   "cell_type": "code",
   "execution_count": null,
   "metadata": {},
   "outputs": [],
   "source": [
    "#一気に取る場合\n",
    "with open('README.md','r')as f:\n",
    "    raw_text = f.read()"
   ]
  },
  {
   "cell_type": "code",
   "execution_count": 16,
   "metadata": {},
   "outputs": [],
   "source": [
    "#一行ずつ取る場合\n",
    "with open('README.md','r')as f:\n",
    "    raw_text = []\n",
    "    for line in f:\n",
    "        raw_text.append(line)"
   ]
  },
  {
   "cell_type": "code",
   "execution_count": 18,
   "metadata": {
    "collapsed": true,
    "jupyter": {
     "outputs_hidden": true
    }
   },
   "outputs": [
    {
     "name": "stdout",
     "output_type": "stream",
     "text": [
      "[66, 1, 1, 102, 1, 70, 70, 74, 44, 55, 37, 78, 62, 48, 1, 69, 1, 1, 14, 1, 75, 1, 108, 1, 139, 1, 19, 1, 67, 1, 61, 26, 60, 1, 71, 1, 75, 74, 86, 136, 1, 17, 1, 54, 42, 78, 45, 1, 70, 66, 1, 117, 1, 59, 1, 115, 1, 114, 1, 81, 1, 97, 1, 55, 1, 228, 1, 25, 117, 1, 92, 1, 44, 1, 23, 65, 1, 179, 1, 34, 1, 9, 49, 1, 54, 1, 1, 22, 28, 1, 26, 81, 1, 45, 1, 247, 1, 203, 1, 36, 1, 92, 1, 120, 1, 118, 130, 127, 1, 147, 1, 123, 1, 71, 1, 6, 20, 24, 1, 25, 52, 33, 72, 25, 4, 1, 80, 74, 1, 6, 11, 29, 33, 22, 11, 4, 1, 170, 1, 32, 1, 66, 1, 6, 32, 78, 71, 39, 80, 52, 1, 17, 25, 80, 54, 1, 47, 34, 19, 56, 34, 19, 51, 1, 68, 30, 13, 1, 1, 25, 65, 44, 46, 66, 50, 17, 66, 51, 22, 56, 51, 63, 49, 34, 57, 27, 54, 38, 33, 33, 26, 13, 4, 1, 16, 1, 35, 1, 59, 25, 71, 52, 56, 54, 1, 31, 4, 19, 4, 1, 15, 1, 192, 54, 1, 115, 1, 175, 1, 50, 1, 20, 272, 1, 8, 1, 40]\n"
     ]
    }
   ],
   "source": [
    "with open('README.md','r')as f:\n",
    "    counter = []\n",
    "    for line in f:\n",
    "        n=len(line)\n",
    "        counter.append(n)\n",
    "\n",
    "print(counter)"
   ]
  },
  {
   "cell_type": "code",
   "execution_count": 15,
   "metadata": {
    "collapsed": true,
    "jupyter": {
     "outputs_hidden": true
    }
   },
   "outputs": [
    {
     "name": "stdout",
     "output_type": "stream",
     "text": [
      "<_io.TextIOWrapper name='./my_file.txt' mode='w' encoding='UTF-8'>\n"
     ]
    }
   ],
   "source": [
    "docs = \"\"\"test0 test1 test2\"\"\"\n",
    "\n",
    "with open(\"./my_file.txt\",\"w\")as f:\n",
    "    f.write(docs)\n",
    "    print"
   ]
  },
  {
   "cell_type": "code",
   "execution_count": null,
   "metadata": {},
   "outputs": [],
   "source": []
  }
 ],
 "metadata": {
  "kernelspec": {
   "display_name": "Python 3",
   "language": "python",
   "name": "python3"
  },
  "language_info": {
   "codemirror_mode": {
    "name": "ipython",
    "version": 3
   },
   "file_extension": ".py",
   "mimetype": "text/x-python",
   "name": "python",
   "nbconvert_exporter": "python",
   "pygments_lexer": "ipython3",
   "version": "3.7.6"
  }
 },
 "nbformat": 4,
 "nbformat_minor": 4
}
